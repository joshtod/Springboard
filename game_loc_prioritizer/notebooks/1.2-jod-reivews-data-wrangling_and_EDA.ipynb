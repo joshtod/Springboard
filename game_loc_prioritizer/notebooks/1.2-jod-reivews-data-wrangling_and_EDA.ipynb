{
 "cells": [
  {
   "cell_type": "markdown",
   "metadata": {},
   "source": [
    "## EDA and Wrangling\n",
    "\n",
    "Since this dataset has relatively few columns, there's not much to explore.  \n",
    "  \n",
    "However, I did identify the following avenues for improvement:  \n",
    "  \n",
    "1. We've only scraped a maximum of 10 reviews per user. Re-visiting those users' pages and looking for more reivews might make for a quick increase in our overall review count, since these are our proven high-review-count users.\n",
    "\n",
    "2. There's a slight issue with our \"helpful\" counts: when there is no helpful count but there IS a \"funny\" count (funny counts went unnoticed in my scraper design), the funny count is recorded as the helpful count. Fortunately this doesn't seem to have happened too much, and the funny count may also be a reasonable indicator of the utility of the review."
   ]
  },
  {
   "cell_type": "code",
   "execution_count": 28,
   "metadata": {},
   "outputs": [],
   "source": [
    "import pandas as pd\n",
    "import numpy as np\n",
    "\n",
    "import pyarrow.parquet as pq\n",
    "import pickle\n",
    "\n",
    "import matplotlib.pyplot as plt\n",
    "import seaborn as sns"
   ]
  },
  {
   "cell_type": "markdown",
   "metadata": {},
   "source": [
    "### EDA: Reviews"
   ]
  },
  {
   "cell_type": "code",
   "execution_count": 17,
   "metadata": {},
   "outputs": [
    {
     "name": "stdout",
     "output_type": "stream",
     "text": [
      "<class 'pandas.core.frame.DataFrame'>\n",
      "RangeIndex: 315083 entries, 0 to 315082\n",
      "Data columns (total 10 columns):\n",
      " #   Column           Non-Null Count   Dtype  \n",
      "---  ------           --------------   -----  \n",
      " 0   user             315083 non-null  object \n",
      " 1   app_id           315083 non-null  int64  \n",
      " 2   positive         315083 non-null  int64  \n",
      " 3   total_playtime   315083 non-null  float64\n",
      " 4   review_playtime  315083 non-null  float64\n",
      " 5   text             315083 non-null  object \n",
      " 6   helpful_count    315083 non-null  int64  \n",
      " 7   review_date      315083 non-null  object \n",
      " 8   edit_date        315083 non-null  object \n",
      " 9   date_scraped     315083 non-null  object \n",
      "dtypes: float64(2), int64(3), object(5)\n",
      "memory usage: 24.0+ MB\n"
     ]
    }
   ],
   "source": [
    "review_table = pq.read_table('../data/raw/review_table.parquet')\n",
    "review_df = review_table.to_pandas()\n",
    "review_table = None\n",
    "review_df.info()"
   ]
  },
  {
   "cell_type": "code",
   "execution_count": 18,
   "metadata": {},
   "outputs": [
    {
     "name": "stdout",
     "output_type": "stream",
     "text": [
      "-----user-----\n",
      "count                315083\n",
      "unique                84310\n",
      "top       76561198046553420\n",
      "freq                     10\n",
      "Name: user, dtype: object\n",
      "\n",
      "-----app_id-----\n",
      "count    3.150830e+05\n",
      "mean     6.471635e+05\n",
      "std      5.873518e+05\n",
      "min      1.000000e+01\n",
      "25%      2.346500e+05\n",
      "50%      4.312500e+05\n",
      "75%      1.063730e+06\n",
      "max      2.900190e+06\n",
      "Name: app_id, dtype: float64\n",
      "\n",
      "-----positive-----\n",
      "count    315083.000000\n",
      "mean          0.847872\n",
      "std           0.359146\n",
      "min           0.000000\n",
      "25%           1.000000\n",
      "50%           1.000000\n",
      "75%           1.000000\n",
      "max           1.000000\n",
      "Name: positive, dtype: float64\n",
      "\n",
      "-----total_playtime-----\n",
      "count    315083.000000\n",
      "mean        436.878629\n",
      "std        1371.562472\n",
      "min           0.000000\n",
      "25%           9.600000\n",
      "50%          43.400000\n",
      "75%         214.700000\n",
      "max       71930.600000\n",
      "Name: total_playtime, dtype: float64\n",
      "\n",
      "-----review_playtime-----\n",
      "count    315083.000000\n",
      "mean        207.992592\n",
      "std         746.624910\n",
      "min           0.000000\n",
      "25%           4.800000\n",
      "50%          18.900000\n",
      "75%          86.900000\n",
      "max       38893.700000\n",
      "Name: review_playtime, dtype: float64\n",
      "\n",
      "-----text-----\n",
      "count     315083\n",
      "unique    280152\n",
      "top         good\n",
      "freq        1255\n",
      "Name: text, dtype: object\n",
      "\n",
      "-----helpful_count-----\n",
      "count    315083.000000\n",
      "mean          3.625489\n",
      "std          23.579357\n",
      "min           0.000000\n",
      "25%           0.000000\n",
      "50%           0.000000\n",
      "75%           1.000000\n",
      "max         991.000000\n",
      "Name: helpful_count, dtype: float64\n",
      "\n",
      "-----review_date-----\n",
      "count         315083\n",
      "unique          4758\n",
      "top       2019-06-29\n",
      "freq            2147\n",
      "Name: review_date, dtype: object\n",
      "\n",
      "-----edit_date-----\n",
      "count         315083\n",
      "unique          4723\n",
      "top       2019-06-29\n",
      "freq            2047\n",
      "Name: edit_date, dtype: object\n",
      "\n",
      "-----date_scraped-----\n",
      "count         315083\n",
      "unique             4\n",
      "top       2024-03-23\n",
      "freq          102023\n",
      "Name: date_scraped, dtype: object\n",
      "\n"
     ]
    }
   ],
   "source": [
    "for col in review_df.columns :\n",
    "    print(f'-----{col}-----')\n",
    "    print(review_df[col].describe())\n",
    "    print('')"
   ]
  },
  {
   "cell_type": "code",
   "execution_count": 19,
   "metadata": {},
   "outputs": [
    {
     "data": {
      "image/png": "[encoded data removed]",
      "text/plain": [
       "<Figure size 1000x500 with 2 Axes>"
      ]
     },
     "metadata": {},
     "output_type": "display_data"
    }
   ],
   "source": [
    "helpful_counts = review_df['helpful_count'].value_counts()\n",
    "helpful_counts.sort_index(inplace=True)\n",
    "low_review = helpful_counts[:11]\n",
    "high_review = helpful_counts[10:100]\n",
    "\n",
    "fig, ax = plt.subplots(1, 2, figsize=(10, 5))\n",
    "sns.barplot(x=low_review.index, y=low_review.values, ax=ax[0])\n",
    "ax[0].set_title('Low-review-count games')\n",
    "ax[0].set_xlabel('Times marked helpful')\n",
    "ax[0].set_ylabel('Number of games')\n",
    "sns.barplot(x=high_review.index, y=high_review.values, ax=ax[1])\n",
    "ax[1].set_title('High-review-count games')\n",
    "ax[1].set_xlabel('Times marked helpful')\n",
    "ax[1].set_xticks([20, 40, 60, 80])\n",
    "\n",
    "plt.tight_layout()\n",
    "plt.show()"
   ]
  },
  {
   "cell_type": "code",
   "execution_count": 20,
   "metadata": {},
   "outputs": [
    {
     "name": "stdout",
     "output_type": "stream",
     "text": [
      "5020 games were reviewed without being played.\n"
     ]
    }
   ],
   "source": [
    "unplayed_reviews = review_df[review_df['review_playtime']<0.0001]\n",
    "\n",
    "print(f\"{len(unplayed_reviews)} games were reviewed without being played.\")"
   ]
  },
  {
   "cell_type": "code",
   "execution_count": 21,
   "metadata": {},
   "outputs": [
    {
     "name": "stdout",
     "output_type": "stream",
     "text": [
      "Positive review percent of played games: 0.85\n",
      "Positive review percent of unplayed games: 0.72\n"
     ]
    }
   ],
   "source": [
    "played_reviews = review_df[review_df['review_playtime']>0.0001]\n",
    "\n",
    "pos_unplayed_review_percent = unplayed_reviews['positive'].sum()/len(unplayed_reviews)\n",
    "pos_played_review_percent = played_reviews['positive'].sum()/len(played_reviews)\n",
    "\n",
    "print(f'Positive review percent of played games: {pos_played_review_percent:.2f}')\n",
    "print(f'Positive review percent of unplayed games: {pos_unplayed_review_percent:.2f}')"
   ]
  },
  {
   "cell_type": "code",
   "execution_count": 22,
   "metadata": {},
   "outputs": [
    {
     "data": {
      "text/plain": [
       "Text(0, 0.5, 'Count')"
      ]
     },
     "execution_count": 22,
     "metadata": {},
     "output_type": "execute_result"
    },
    {
     "data": {
      "image/png": "[encoded data removed]",
      "text/plain": [
       "<Figure size 640x480 with 1 Axes>"
      ]
     },
     "metadata": {},
     "output_type": "display_data"
    }
   ],
   "source": [
    "positives = review_df['positive'].sum()\n",
    "negatives = len(review_df) - positives\n",
    "ratio = positives/negatives\n",
    "sns.barplot(x=['Positive', 'Negative'], y=[positives, negatives])\n",
    "plt.title(f'Ratio of positive to negative reviews (x{round(ratio, 2)})')\n",
    "plt.ylabel('Count')"
   ]
  },
  {
   "cell_type": "code",
   "execution_count": 23,
   "metadata": {},
   "outputs": [
    {
     "data": {
      "text/plain": [
       "<Axes: >"
      ]
     },
     "execution_count": 23,
     "metadata": {},
     "output_type": "execute_result"
    },
    {
     "data": {
      "image/png": "[encoded data removed]",
      "text/plain": [
       "<Figure size 640x480 with 1 Axes>"
      ]
     },
     "metadata": {},
     "output_type": "display_data"
    }
   ],
   "source": [
    "review_df['review_date'].hist()"
   ]
  },
  {
   "cell_type": "code",
   "execution_count": 24,
   "metadata": {},
   "outputs": [
    {
     "data": {
      "text/plain": [
       "count                          29903\n",
       "mean     533 days 11:24:31.999464944\n",
       "std      705 days 06:15:14.530201272\n",
       "min                  1 days 00:00:00\n",
       "25%                 25 days 00:00:00\n",
       "50%                250 days 00:00:00\n",
       "75%                750 days 00:00:00\n",
       "max               4756 days 00:00:00\n",
       "dtype: object"
      ]
     },
     "execution_count": 24,
     "metadata": {},
     "output_type": "execute_result"
    }
   ],
   "source": [
    "late_edits = review_df[review_df['review_date'] != review_df['edit_date']]\n",
    "review_lags = late_edits['edit_date'] - late_edits['review_date']\n",
    "review_lags.describe()"
   ]
  },
  {
   "cell_type": "code",
   "execution_count": 25,
   "metadata": {},
   "outputs": [
    {
     "data": {
      "text/plain": [
       "count     315083\n",
       "unique    280152\n",
       "top         good\n",
       "freq        1255\n",
       "Name: text, dtype: object"
      ]
     },
     "execution_count": 25,
     "metadata": {},
     "output_type": "execute_result"
    }
   ],
   "source": [
    "review_texts = review_df['text']\n",
    "review_texts.describe()"
   ]
  },
  {
   "cell_type": "code",
   "execution_count": 26,
   "metadata": {},
   "outputs": [
    {
     "data": {
      "text/plain": [
       "Text(0, 0.5, 'Number of users with that many reviews')"
      ]
     },
     "execution_count": 26,
     "metadata": {},
     "output_type": "execute_result"
    },
    {
     "data": {
      "image/png": "[encoded data removed]",
      "text/plain": [
       "<Figure size 640x480 with 1 Axes>"
      ]
     },
     "metadata": {},
     "output_type": "display_data"
    }
   ],
   "source": [
    "review_counts = review_df['user'].value_counts()\n",
    "grouped_counts = review_counts.groupby(review_counts).agg('count')\n",
    "\n",
    "sns.barplot(x=grouped_counts.index, y=grouped_counts.values)\n",
    "plt.title('Number of reviews per user')\n",
    "plt.xlabel('Reviews (max is 10)')\n",
    "plt.ylabel('Number of users with that many reviews')"
   ]
  },
  {
   "cell_type": "markdown",
   "metadata": {},
   "source": [
    "### EDA: Recently Played\n",
    "\n",
    "The above data was scraped from the webpage. The following data was collected from the API. That's the reason for the different size of the dataset, as well as the overlapping data (specifically, a player's lifetime playtime for a game).\n",
    "\n",
    "Ideally, we could combine these datasets into one table, as it would have no repeated information, though there would be quite a few nulls where one dataset was smaller than the other. However, this task may not be within the scope of the current modeling project.\n",
    "\n",
    "The data for recently played games is stored in a tuple with the following schema:  \n",
    "  \n",
    "  -- user id (str)  \n",
    "  -- app id (int)  \n",
    "  -- time played in last 2 weeks (int, minutes)  \n",
    "  -- time played in forever (int, minutes)\n"
   ]
  },
  {
   "cell_type": "code",
   "execution_count": 46,
   "metadata": {},
   "outputs": [
    {
     "name": "stdout",
     "output_type": "stream",
     "text": [
      "<class 'pandas.core.frame.DataFrame'>\n",
      "RangeIndex: 1683058 entries, 0 to 1683057\n",
      "Data columns (total 4 columns):\n",
      " #   Column       Non-Null Count    Dtype \n",
      "---  ------       --------------    ----- \n",
      " 0   user         1683058 non-null  object\n",
      " 1   app_id       1683058 non-null  int64 \n",
      " 2   playtime_2w  1683058 non-null  int64 \n",
      " 3   playtime_f   1683058 non-null  int64 \n",
      "dtypes: int64(3), object(1)\n",
      "memory usage: 51.4+ MB\n"
     ]
    }
   ],
   "source": [
    "with open('../data/raw/recently_played.pkl', 'rb+') as file:\n",
    "    recently_played_tuples = pickle.load(file)\n",
    "\n",
    "recently_played_df = pd.DataFrame(recently_played_tuples, columns=['user', 'app_id', 'playtime_2w', 'playtime_f'])\n",
    "recently_played_df.info()"
   ]
  },
  {
   "cell_type": "code",
   "execution_count": 55,
   "metadata": {},
   "outputs": [
    {
     "data": {
      "text/html": [
       "<div>\n",
       "<style scoped>\n",
       "    .dataframe tbody tr th:only-of-type {\n",
       "        vertical-align: middle;\n",
       "    }\n",
       "\n",
       "    .dataframe tbody tr th {\n",
       "        vertical-align: top;\n",
       "    }\n",
       "\n",
       "    .dataframe thead th {\n",
       "        text-align: right;\n",
       "    }\n",
       "</style>\n",
       "<table border=\"1\" class=\"dataframe\">\n",
       "  <thead>\n",
       "    <tr style=\"text-align: right;\">\n",
       "      <th></th>\n",
       "      <th>app_id</th>\n",
       "      <th>playtime_2w</th>\n",
       "      <th>playtime_f</th>\n",
       "    </tr>\n",
       "  </thead>\n",
       "  <tbody>\n",
       "    <tr>\n",
       "      <th>count</th>\n",
       "      <td>1.683058e+06</td>\n",
       "      <td>1.683058e+06</td>\n",
       "      <td>1.683058e+06</td>\n",
       "    </tr>\n",
       "    <tr>\n",
       "      <th>mean</th>\n",
       "      <td>8.871855e+05</td>\n",
       "      <td>5.800291e+02</td>\n",
       "      <td>3.516038e+04</td>\n",
       "    </tr>\n",
       "    <tr>\n",
       "      <th>std</th>\n",
       "      <td>7.538794e+05</td>\n",
       "      <td>1.510151e+03</td>\n",
       "      <td>1.237312e+05</td>\n",
       "    </tr>\n",
       "    <tr>\n",
       "      <th>min</th>\n",
       "      <td>7.000000e+00</td>\n",
       "      <td>1.000000e+00</td>\n",
       "      <td>0.000000e+00</td>\n",
       "    </tr>\n",
       "    <tr>\n",
       "      <th>25%</th>\n",
       "      <td>2.841600e+05</td>\n",
       "      <td>2.900000e+01</td>\n",
       "      <td>3.510000e+02</td>\n",
       "    </tr>\n",
       "    <tr>\n",
       "      <th>50%</th>\n",
       "      <td>5.946500e+05</td>\n",
       "      <td>1.260000e+02</td>\n",
       "      <td>2.437000e+03</td>\n",
       "    </tr>\n",
       "    <tr>\n",
       "      <th>75%</th>\n",
       "      <td>1.328670e+06</td>\n",
       "      <td>5.100000e+02</td>\n",
       "      <td>1.582300e+04</td>\n",
       "    </tr>\n",
       "    <tr>\n",
       "      <th>max</th>\n",
       "      <td>2.902410e+06</td>\n",
       "      <td>2.015900e+04</td>\n",
       "      <td>5.574135e+06</td>\n",
       "    </tr>\n",
       "  </tbody>\n",
       "</table>\n",
       "</div>"
      ],
      "text/plain": [
       "             app_id   playtime_2w    playtime_f\n",
       "count  1.683058e+06  1.683058e+06  1.683058e+06\n",
       "mean   8.871855e+05  5.800291e+02  3.516038e+04\n",
       "std    7.538794e+05  1.510151e+03  1.237312e+05\n",
       "min    7.000000e+00  1.000000e+00  0.000000e+00\n",
       "25%    2.841600e+05  2.900000e+01  3.510000e+02\n",
       "50%    5.946500e+05  1.260000e+02  2.437000e+03\n",
       "75%    1.328670e+06  5.100000e+02  1.582300e+04\n",
       "max    2.902410e+06  2.015900e+04  5.574135e+06"
      ]
     },
     "execution_count": 55,
     "metadata": {},
     "output_type": "execute_result"
    }
   ],
   "source": [
    "recently_played_df.describe()"
   ]
  },
  {
   "cell_type": "code",
   "execution_count": 59,
   "metadata": {},
   "outputs": [
    {
     "name": "stderr",
     "output_type": "stream",
     "text": [
      "C:\\Users\\Josh\\AppData\\Local\\Temp\\ipykernel_38620\\3816339695.py:1: FutureWarning: The default value of numeric_only in DataFrameGroupBy.mean is deprecated. In a future version, numeric_only will default to False. Either specify numeric_only or select only columns which should be valid for the function.\n",
      "  groupby_apps = recently_played_df.groupby('app_id').agg('mean') \\\n"
     ]
    },
    {
     "data": {
      "text/plain": [
       "array([[<Axes: title={'center': 'playtime_2w'}>,\n",
       "        <Axes: title={'center': 'playtime_f'}>]], dtype=object)"
      ]
     },
     "execution_count": 59,
     "metadata": {},
     "output_type": "execute_result"
    },
    {
     "data": {
      "image/png": "[encoded data removed]",
      "text/plain": [
       "<Figure size 640x480 with 2 Axes>"
      ]
     },
     "metadata": {},
     "output_type": "display_data"
    }
   ],
   "source": [
    "groupby_apps = recently_played_df.groupby('app_id').agg('mean') \\\n",
    "                                 .sort_values(by='playtime_f', ascending=False)\n",
    "groupby_apps[:1000].hist()"
   ]
  },
  {
   "cell_type": "code",
   "execution_count": 60,
   "metadata": {},
   "outputs": [
    {
     "data": {
      "text/html": [
       "<div>\n",
       "<style scoped>\n",
       "    .dataframe tbody tr th:only-of-type {\n",
       "        vertical-align: middle;\n",
       "    }\n",
       "\n",
       "    .dataframe tbody tr th {\n",
       "        vertical-align: top;\n",
       "    }\n",
       "\n",
       "    .dataframe thead th {\n",
       "        text-align: right;\n",
       "    }\n",
       "</style>\n",
       "<table border=\"1\" class=\"dataframe\">\n",
       "  <thead>\n",
       "    <tr style=\"text-align: right;\">\n",
       "      <th></th>\n",
       "      <th>app_id</th>\n",
       "      <th>playtime_2w</th>\n",
       "      <th>playtime_f</th>\n",
       "    </tr>\n",
       "  </thead>\n",
       "  <tbody>\n",
       "    <tr>\n",
       "      <th>count</th>\n",
       "      <td>8.350000e+02</td>\n",
       "      <td>835.000000</td>\n",
       "      <td>8.350000e+02</td>\n",
       "    </tr>\n",
       "    <tr>\n",
       "      <th>mean</th>\n",
       "      <td>5.893876e+05</td>\n",
       "      <td>20064.898204</td>\n",
       "      <td>1.927071e+06</td>\n",
       "    </tr>\n",
       "    <tr>\n",
       "      <th>std</th>\n",
       "      <td>5.985079e+05</td>\n",
       "      <td>31.927683</td>\n",
       "      <td>1.399451e+06</td>\n",
       "    </tr>\n",
       "    <tr>\n",
       "      <th>min</th>\n",
       "      <td>1.000000e+01</td>\n",
       "      <td>20001.000000</td>\n",
       "      <td>2.245800e+04</td>\n",
       "    </tr>\n",
       "    <tr>\n",
       "      <th>25%</th>\n",
       "      <td>2.168600e+05</td>\n",
       "      <td>20040.000000</td>\n",
       "      <td>5.073370e+05</td>\n",
       "    </tr>\n",
       "    <tr>\n",
       "      <th>50%</th>\n",
       "      <td>4.035700e+05</td>\n",
       "      <td>20061.000000</td>\n",
       "      <td>2.020583e+06</td>\n",
       "    </tr>\n",
       "    <tr>\n",
       "      <th>75%</th>\n",
       "      <td>8.148750e+05</td>\n",
       "      <td>20089.000000</td>\n",
       "      <td>3.268261e+06</td>\n",
       "    </tr>\n",
       "    <tr>\n",
       "      <th>max</th>\n",
       "      <td>2.784840e+06</td>\n",
       "      <td>20159.000000</td>\n",
       "      <td>5.574135e+06</td>\n",
       "    </tr>\n",
       "  </tbody>\n",
       "</table>\n",
       "</div>"
      ],
      "text/plain": [
       "             app_id   playtime_2w    playtime_f\n",
       "count  8.350000e+02    835.000000  8.350000e+02\n",
       "mean   5.893876e+05  20064.898204  1.927071e+06\n",
       "std    5.985079e+05     31.927683  1.399451e+06\n",
       "min    1.000000e+01  20001.000000  2.245800e+04\n",
       "25%    2.168600e+05  20040.000000  5.073370e+05\n",
       "50%    4.035700e+05  20061.000000  2.020583e+06\n",
       "75%    8.148750e+05  20089.000000  3.268261e+06\n",
       "max    2.784840e+06  20159.000000  5.574135e+06"
      ]
     },
     "execution_count": 60,
     "metadata": {},
     "output_type": "execute_result"
    }
   ],
   "source": [
    "# The playtime_2w column is very instructive in that there's a huge amount\n",
    "# of records with about 20k minutes of playtime, which is also roughly\n",
    "# the amount of minutes in 2 weeks.\n",
    "\n",
    "# This suggests that some people may just leave games running.\n",
    "\n",
    "max_playtime = recently_played_df[recently_played_df['playtime_2w'] > 20000]\n",
    "max_playtime.describe()\n"
   ]
  },
  {
   "cell_type": "markdown",
   "metadata": {},
   "source": [
    "---------------"
   ]
  },
  {
   "cell_type": "code",
   "execution_count": 57,
   "metadata": {},
   "outputs": [],
   "source": [
    "with open('../data/raw/0 - Scraped Games DF.pkl', 'rb+') as file:\n",
    "    games_df = pickle.load(file)"
   ]
  },
  {
   "cell_type": "code",
   "execution_count": 58,
   "metadata": {},
   "outputs": [
    {
     "data": {
      "text/html": [
       "<div>\n",
       "<style scoped>\n",
       "    .dataframe tbody tr th:only-of-type {\n",
       "        vertical-align: middle;\n",
       "    }\n",
       "\n",
       "    .dataframe tbody tr th {\n",
       "        vertical-align: top;\n",
       "    }\n",
       "\n",
       "    .dataframe thead th {\n",
       "        text-align: right;\n",
       "    }\n",
       "</style>\n",
       "<table border=\"1\" class=\"dataframe\">\n",
       "  <thead>\n",
       "    <tr style=\"text-align: right;\">\n",
       "      <th></th>\n",
       "      <th>app_id</th>\n",
       "      <th>title</th>\n",
       "      <th>release_date</th>\n",
       "      <th>positive_review_percent</th>\n",
       "      <th>number_of_reviews</th>\n",
       "      <th>price</th>\n",
       "      <th>game_page_link</th>\n",
       "      <th>tags</th>\n",
       "      <th>date_scraped</th>\n",
       "      <th>developer</th>\n",
       "      <th>...</th>\n",
       "      <th>norwegian</th>\n",
       "      <th>polish</th>\n",
       "      <th>brazilian</th>\n",
       "      <th>romanian</th>\n",
       "      <th>russian</th>\n",
       "      <th>finnish</th>\n",
       "      <th>swedish</th>\n",
       "      <th>turkish</th>\n",
       "      <th>vietnamese</th>\n",
       "      <th>tag_list</th>\n",
       "    </tr>\n",
       "  </thead>\n",
       "  <tbody>\n",
       "    <tr>\n",
       "      <th>1</th>\n",
       "      <td>553850</td>\n",
       "      <td>HELLDIVERS™ 2</td>\n",
       "      <td>2022-08-22 00:00:00</td>\n",
       "      <td>0.72</td>\n",
       "      <td>124161.0</td>\n",
       "      <td>3999.0</td>\n",
       "      <td>https://store.steampowered.com/app/553850/HELL...</td>\n",
       "      <td>[19, 3843, 3859, 3814, 1685, 1774, 6730]</td>\n",
       "      <td>2024-02-23</td>\n",
       "      <td>[Arrowhead Game Studios]</td>\n",
       "      <td>...</td>\n",
       "      <td>118995.0</td>\n",
       "      <td>1020.0</td>\n",
       "      <td>1349.0</td>\n",
       "      <td>27.0</td>\n",
       "      <td>2268.0</td>\n",
       "      <td>118689.0</td>\n",
       "      <td>119026.0</td>\n",
       "      <td>317.0</td>\n",
       "      <td>12.0</td>\n",
       "      <td>[Action, Online Co-Op, Third-Person Shooter, M...</td>\n",
       "    </tr>\n",
       "  </tbody>\n",
       "</table>\n",
       "<p>1 rows × 43 columns</p>\n",
       "</div>"
      ],
      "text/plain": [
       "   app_id          title         release_date  positive_review_percent  \\\n",
       "1  553850  HELLDIVERS™ 2  2022-08-22 00:00:00                     0.72   \n",
       "\n",
       "   number_of_reviews   price  \\\n",
       "1           124161.0  3999.0   \n",
       "\n",
       "                                      game_page_link  \\\n",
       "1  https://store.steampowered.com/app/553850/HELL...   \n",
       "\n",
       "                                       tags date_scraped  \\\n",
       "1  [19, 3843, 3859, 3814, 1685, 1774, 6730]   2024-02-23   \n",
       "\n",
       "                  developer  ... norwegian  polish brazilian romanian russian  \\\n",
       "1  [Arrowhead Game Studios]  ...  118995.0  1020.0    1349.0     27.0  2268.0   \n",
       "\n",
       "    finnish   swedish  turkish  vietnamese  \\\n",
       "1  118689.0  119026.0    317.0        12.0   \n",
       "\n",
       "                                            tag_list  \n",
       "1  [Action, Online Co-Op, Third-Person Shooter, M...  \n",
       "\n",
       "[1 rows x 43 columns]"
      ]
     },
     "execution_count": 58,
     "metadata": {},
     "output_type": "execute_result"
    }
   ],
   "source": [
    "games_df[games_df['app_id']==553850]"
   ]
  },
  {
   "cell_type": "code",
   "execution_count": null,
   "metadata": {},
   "outputs": [],
   "source": [
    "553850"
   ]
  }
 ],
 "metadata": {
  "kernelspec": {
   "display_name": "base",
   "language": "python",
   "name": "python3"
  },
  "language_info": {
   "codemirror_mode": {
    "name": "ipython",
    "version": 3
   },
   "file_extension": ".py",
   "mimetype": "text/x-python",
   "name": "python",
   "nbconvert_exporter": "python",
   "pygments_lexer": "ipython3",
   "version": "3.10.13"
  }
 },
 "nbformat": 4,
 "nbformat_minor": 2
}
