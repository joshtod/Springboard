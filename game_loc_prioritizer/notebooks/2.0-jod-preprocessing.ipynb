{
 "cells": [
  {
   "cell_type": "code",
   "execution_count": 1,
   "metadata": {},
   "outputs": [],
   "source": [
    "import pandas as pd\n",
    "import numpy as np\n",
    "import pickle\n",
    "\n",
    "from datetime import datetime, timedelta\n",
    "\n",
    "%store -r tags_dict\n",
    "%store -r all_languages"
   ]
  },
  {
   "cell_type": "code",
   "execution_count": 2,
   "metadata": {},
   "outputs": [
    {
     "name": "stdout",
     "output_type": "stream",
     "text": [
      "<class 'pandas.core.frame.DataFrame'>\n",
      "RangeIndex: 17008 entries, 0 to 17007\n",
      "Data columns (total 56 columns):\n",
      " #   Column                       Non-Null Count  Dtype         \n",
      "---  ------                       --------------  -----         \n",
      " 0   app_id                       17008 non-null  int64         \n",
      " 1   title                        17008 non-null  object        \n",
      " 2   developer                    17008 non-null  object        \n",
      " 3   publisher                    17008 non-null  object        \n",
      " 4   description                  17008 non-null  object        \n",
      " 5   release_date                 17000 non-null  datetime64[ns]\n",
      " 6   price                        16980 non-null  float64       \n",
      " 7   price_category               16980 non-null  category      \n",
      " 8   number_of_reviews            17002 non-null  float64       \n",
      " 9   positive_review_percent      17002 non-null  float64       \n",
      " 10  relevant_langs_comments_sum  17008 non-null  int32         \n",
      " 11  tags                         17008 non-null  object        \n",
      " 12  interface_languages          17008 non-null  object        \n",
      " 13  mod_interface_languages      17008 non-null  object        \n",
      " 14  full_audio_languages         17008 non-null  object        \n",
      " 15  mod_full_audio_languages     17008 non-null  object        \n",
      " 16  subtitles_languages          17008 non-null  object        \n",
      " 17  mod_subtitles_languages      17008 non-null  object        \n",
      " 18  language_comment_counts      17008 non-null  object        \n",
      " 19  comment_ratios               17008 non-null  object        \n",
      " 20  comment_diff_agnostic        17008 non-null  object        \n",
      " 21  comment_diff_any             17008 non-null  object        \n",
      " 22  comment_diff_interface       17008 non-null  object        \n",
      " 23  comment_diff_audio           17008 non-null  object        \n",
      " 24  comment_diff_subtitles       17008 non-null  object        \n",
      " 25  game_page_link               17008 non-null  object        \n",
      " 26  date_scraped                 17008 non-null  object        \n",
      " 27  schinese                     17008 non-null  int32         \n",
      " 28  tchinese                     2148 non-null   float64       \n",
      " 29  japanese                     17008 non-null  int32         \n",
      " 30  koreana                      17008 non-null  int32         \n",
      " 31  thai                         2148 non-null   float64       \n",
      " 32  bulgarian                    2148 non-null   float64       \n",
      " 33  czech                        2148 non-null   float64       \n",
      " 34  danish                       2148 non-null   float64       \n",
      " 35  german                       17008 non-null  int32         \n",
      " 36  english                      17008 non-null  int32         \n",
      " 37  spanish                      17008 non-null  int32         \n",
      " 38  latam                        2148 non-null   float64       \n",
      " 39  greek                        2148 non-null   float64       \n",
      " 40  french                       17008 non-null  int32         \n",
      " 41  italian                      17008 non-null  int32         \n",
      " 42  indonesian                   2148 non-null   float64       \n",
      " 43  hungarian                    2148 non-null   float64       \n",
      " 44  dutch                        2148 non-null   float64       \n",
      " 45  norwegian                    2148 non-null   float64       \n",
      " 46  polish                       17008 non-null  int32         \n",
      " 47  portugese                    0 non-null      float64       \n",
      " 48  brazilian                    17008 non-null  int32         \n",
      " 49  romanian                     2148 non-null   float64       \n",
      " 50  russian                      17008 non-null  int32         \n",
      " 51  finnish                      2148 non-null   float64       \n",
      " 52  swedish                      2148 non-null   float64       \n",
      " 53  turkish                      2148 non-null   float64       \n",
      " 54  vietnamese                   2148 non-null   float64       \n",
      " 55  ukranian                     0 non-null      float64       \n",
      "dtypes: category(1), datetime64[ns](1), float64(21), int32(12), int64(1), object(20)\n",
      "memory usage: 6.4+ MB\n"
     ]
    }
   ],
   "source": [
    "with open('../data/interim/1 - Games DF - Wrangled', 'rb') as file :\n",
    "    games_df = pickle.load(file)\n",
    "\n",
    "games_df.info()"
   ]
  },
  {
   "cell_type": "markdown",
   "metadata": {},
   "source": [
    "Step 1: Pare Down the Columns\n",
    "---"
   ]
  },
  {
   "cell_type": "code",
   "execution_count": 3,
   "metadata": {},
   "outputs": [
    {
     "data": {
      "text/plain": [
       "Index(['app_id', 'release_date', 'price', 'price_category',\n",
       "       'positive_review_percent', 'relevant_langs_comments_sum', 'tags',\n",
       "       'mod_interface_languages', 'mod_full_audio_languages',\n",
       "       'mod_subtitles_languages', 'language_comment_counts', 'comment_ratios',\n",
       "       'comment_diff_agnostic', 'comment_diff_any', 'comment_diff_interface',\n",
       "       'comment_diff_audio', 'comment_diff_subtitles', 'date_scraped'],\n",
       "      dtype='object')"
      ]
     },
     "execution_count": 3,
     "metadata": {},
     "output_type": "execute_result"
    }
   ],
   "source": [
    "# Now we'll make a list of columns we really don't need and take them out.\n",
    "\n",
    "columns_to_drop = ['title', 'game_page_link', 'developer', 'publisher', \\\n",
    "                   'description', \"number_of_reviews\", \"interface_languages\", \"full_audio_languages\", \\\n",
    "                    \"subtitles_languages\"]\n",
    "\n",
    "# We don't need the language count columns any more, either.\n",
    "columns_to_drop += all_languages\n",
    "\n",
    "for col in columns_to_drop :\n",
    "    if col in games_df.columns :\n",
    "        games_df.drop(col, axis=1, inplace=True)\n",
    "\n",
    "games_df.columns"
   ]
  },
  {
   "cell_type": "markdown",
   "metadata": {},
   "source": [
    "Step 2: Remove Unusable Rows\n",
    "---\n",
    "\n",
    "Let's start by removing records that are unsuitable for our purposes sue to reasons unrelated to feature engineering.\n",
    "\n",
    "This includes:\n",
    "\n",
    "- Games that are too recently published to have had time to be localized and/or representative comment counts\n",
    "- Games with no price info\n"
   ]
  },
  {
   "cell_type": "code",
   "execution_count": 6,
   "metadata": {},
   "outputs": [
    {
     "name": "stdout",
     "output_type": "stream",
     "text": [
      "Removed games released less than 1 year ago.\n",
      "Games remaining: 13780\n"
     ]
    }
   ],
   "source": [
    "# Arbitrarily set a cutoff date of 1 year ago\n",
    "today = datetime.today()\n",
    "cutoff_date = today - timedelta(weeks=(52))\n",
    "\n",
    "# Remove \n",
    "games_df = games_df[games_df['release_date'] < cutoff_date]\n",
    "print(\"Removed games released less than 1 year ago.\")\n",
    "print(f\"Games remaining: {len(games_df)}\")"
   ]
  },
  {
   "cell_type": "code",
   "execution_count": 7,
   "metadata": {},
   "outputs": [
    {
     "name": "stdout",
     "output_type": "stream",
     "text": [
      "Removed games with no price info.\n",
      "Games remaining: 13757\n"
     ]
    }
   ],
   "source": [
    "# Remove games with no price info\n",
    "games_df = games_df[~games_df['price'].isnull()]\n",
    "\n",
    "print(\"Removed games with no price info.\")\n",
    "print(f\"Games remaining: {len(games_df)}\")"
   ]
  },
  {
   "cell_type": "markdown",
   "metadata": {},
   "source": [
    "----------------------\n",
    "\n",
    "Now let's look at what we have left, and preserve only records that are useful for ML.\n",
    "\n",
    "Since tags are our main feature, let's remove any games without enough tags. This process must be somewhat arbitrary."
   ]
  },
  {
   "cell_type": "code",
   "execution_count": 8,
   "metadata": {},
   "outputs": [
    {
     "name": "stdout",
     "output_type": "stream",
     "text": [
      "7    12257\n",
      "5      417\n",
      "6      407\n",
      "4      303\n",
      "3      270\n",
      "2       87\n",
      "1       16\n",
      "Name: tag_count, dtype: int64\n"
     ]
    }
   ],
   "source": [
    "# Identify games with too few tags to be useful.\n",
    "def refresh_tag_count(df) :\n",
    "    \"\"\"\n",
    "    Looks for a \"tags\" row in {df} containing lists\n",
    "    Creates a \"tag_count\" row in {df} returning the len of that row's list\n",
    "    Returns {df}\n",
    "    \"\"\"\n",
    "\n",
    "    df['tag_count'] = 0\n",
    "\n",
    "    for index, row in df.iterrows() :\n",
    "        df.loc[index, 'tag_count'] = len(row['tags'])\n",
    "\n",
    "    print(df['tag_count'].value_counts())\n",
    "\n",
    "    return df\n",
    "\n",
    "games_df = refresh_tag_count(games_df)"
   ]
  },
  {
   "cell_type": "code",
   "execution_count": 9,
   "metadata": {},
   "outputs": [
    {
     "name": "stdout",
     "output_type": "stream",
     "text": [
      "Len before: 13757\n",
      "Removed games with fewer than 7 tags.\n",
      "Games remaining: 12257\n"
     ]
    }
   ],
   "source": [
    "# I'll arbitrarily decide that games need to have the maximum of 7 tags to be considered, and drop the rest of the rows.\n",
    "\n",
    "indices_to_drop = games_df['tag_count'] < 7\n",
    "\n",
    "games_df = games_df[~indices_to_drop]\n",
    "\n",
    "print(\"Removed games with fewer than 7 tags.\")\n",
    "print(f\"Games remaining: {len(games_df)}\")"
   ]
  },
  {
   "cell_type": "markdown",
   "metadata": {},
   "source": [
    "By the same token, tags which are used too infrequently would also lack predictive power."
   ]
  },
  {
   "cell_type": "code",
   "execution_count": 10,
   "metadata": {},
   "outputs": [
    {
     "name": "stdout",
     "output_type": "stream",
     "text": [
      "# of tags used more than 50 times: 232\n",
      "# of tags used more than 100 times: 172\n",
      "# of tags used more than 150 times: 136\n",
      "# of tags used more than 200 times: 101\n",
      "# of tags used more than 250 times: 84\n",
      "# of tags used more than 300 times: 71\n",
      "# of tags used more than 350 times: 59\n",
      "# of tags used more than 400 times: 51\n",
      "# of tags used more than 450 times: 42\n",
      "# of tags used more than 500 times: 38\n",
      "# of tags used more than 550 times: 30\n",
      "# of tags used more than 600 times: 28\n",
      "# of tags used more than 650 times: 26\n",
      "# of tags used more than 700 times: 26\n",
      "# of tags used more than 750 times: 24\n",
      "# of tags used more than 800 times: 21\n",
      "# of tags used more than 850 times: 18\n",
      "# of tags used more than 900 times: 17\n",
      "# of tags used more than 950 times: 15\n",
      "# of tags used more than 1000 times: 14\n"
     ]
    }
   ],
   "source": [
    "# First, see how often the tags are used in general.\n",
    "\n",
    "def get_sorted_tag_frequency(df) :\n",
    "    \"\"\"\n",
    "    Counts the frequency of items in lists of a 'tags' row of {df}.\n",
    "    Returnes a sorted high-low Series with the items as keys and frequency counts as values.\n",
    "    Prints the number of tags by frequency at thresholds of 50.\n",
    "    \"\"\"\n",
    "    exploded_tags = df.explode('tags')\n",
    "    tag_counts = exploded_tags['tags'].value_counts()\n",
    "    sorted_tag_frequency = tag_counts.sort_values(ascending=False)\n",
    "\n",
    "    cutoffs = [x for x in range(50, 1001, 50)]\n",
    "\n",
    "    for cutoff in cutoffs :\n",
    "        print(f\"# of tags used more than {cutoff} times: {len(sorted_tag_frequency[sorted_tag_frequency > cutoff])}\")\n",
    "\n",
    "    return sorted_tag_frequency\n",
    "\n",
    "sorted_tag_frequency = get_sorted_tag_frequency(games_df)"
   ]
  },
  {
   "cell_type": "code",
   "execution_count": 11,
   "metadata": {},
   "outputs": [
    {
     "name": "stdout",
     "output_type": "stream",
     "text": [
      "Tags must occur 612 times to be considered.\n",
      "There are 26 such tags.\n"
     ]
    }
   ],
   "source": [
    "# I'll arbitrarily peg the number of times a tag must be used in order\n",
    "# to be considered in our analysis to 5% of the number of records.\n",
    "tag_usage_cutoff = int(len(games_df) * 0.05)\n",
    "print(f'Tags must occur {tag_usage_cutoff} times to be considered.')\n",
    "\n",
    "# Now let's get a list of the usable tags.\n",
    "usable_tags = sorted_tag_frequency[sorted_tag_frequency > tag_usage_cutoff].keys()\n",
    "print(f'There are {len(usable_tags)} such tags.')"
   ]
  },
  {
   "cell_type": "code",
   "execution_count": 28,
   "metadata": {},
   "outputs": [
    {
     "data": {
      "text/plain": [
       "0     326\n",
       "1    1063\n",
       "2    2297\n",
       "3    3170\n",
       "4    2885\n",
       "5    1767\n",
       "6     665\n",
       "7      84\n",
       "Name: usable_tag_count, dtype: int64"
      ]
     },
     "execution_count": 28,
     "metadata": {},
     "output_type": "execute_result"
    }
   ],
   "source": [
    "# Now let's see how many records how many of those usable tags.\n",
    "games_df['usable_tag_count'] = 0\n",
    "\n",
    "for index, row in games_df.iterrows() :\n",
    "    for tag in row['tags'] :\n",
    "        if tag in usable_tags :\n",
    "            games_df.loc[index, 'usable_tag_count'] += 1\n",
    "\n",
    "# Display how many records have how many usable tags.\n",
    "usable_tag_counts = games_df['usable_tag_count'].value_counts().sort_index()\n",
    "\n",
    "usable_tag_counts"
   ]
  },
  {
   "cell_type": "code",
   "execution_count": 35,
   "metadata": {},
   "outputs": [
    {
     "name": "stdout",
     "output_type": "stream",
     "text": [
      "326 games have at least 7 usable tag(s).\n",
      "410 games have at least 6 usable tag(s).\n",
      "1075 games have at least 5 usable tag(s).\n",
      "2842 games have at least 4 usable tag(s).\n",
      "5727 games have at least 3 usable tag(s).\n",
      "8897 games have at least 2 usable tag(s).\n",
      "11194 games have at least 1 usable tag(s).\n",
      "12257 games have at least 0 usable tag(s).\n"
     ]
    },
    {
     "name": "stderr",
     "output_type": "stream",
     "text": [
      "C:\\Users\\Josh\\AppData\\Local\\Temp\\ipykernel_29176\\2741107432.py:3: FutureWarning: The default dtype for empty Series will be 'object' instead of 'float64' in a future version. Specify a dtype explicitly to silence this warning.\n",
      "  cumulative_usable_tag_counts = pd.Series()\n"
     ]
    }
   ],
   "source": [
    "# Cumulative tag counts would be easier to process visually...\n",
    "\n",
    "cumulative_usable_tag_counts = pd.Series()\n",
    "total_count = len(games_df)\n",
    "\n",
    "for tag_count in usable_tag_counts.index :\n",
    "    running_sum = 0\n",
    "    for i in range(tag_count) :\n",
    "        running_sum += usable_tag_counts[i + 1]\n",
    "    usable_value = total_count - running_sum\n",
    "    index = str(tag_count)\n",
    "    cumulative_usable_tag_counts[index] = usable_value\n",
    "\n",
    "cumulative_usable_tag_counts = cumulative_usable_tag_counts[::-1]\n",
    "\n",
    "for index, value in cumulative_usable_tag_counts.items() :\n",
    "    print(f\"{value} games have at least {index} usable tag(s).\")"
   ]
  },
  {
   "cell_type": "code",
   "execution_count": null,
   "metadata": {},
   "outputs": [],
   "source": [
    "# There's a huge dropoff after 5 usable tags.\n",
    "# Let's drop every game that doesn't have at least 5 usable tags.\n",
    "\n",
    "rows_with_at_least_one_usable_tag = games_df['usable_tag_count'] > 4\n",
    "\n",
    "games_df = games_df[rows_with_at_least_one_usable_tag]\n",
    "\n",
    "games_df.info()"
   ]
  },
  {
   "cell_type": "code",
   "execution_count": null,
   "metadata": {},
   "outputs": [],
   "source": [
    "# Now let's see if we have any \"unusable\" tags remaining in our dataset:\n",
    "\n",
    "used_tag_set = set()\n",
    "\n",
    "for tag_list in games_df['tags'] :\n",
    "    for tag in tag_list :\n",
    "        used_tag_set.add(tag)\n",
    "\n",
    "mismatched_tags = [tag for tag in used_tag_set if tag not in usable_tags]\n",
    "\n",
    "len(mismatched_tags)"
   ]
  },
  {
   "cell_type": "code",
   "execution_count": null,
   "metadata": {},
   "outputs": [],
   "source": [
    "# I guess we better remove them!\n",
    "\n",
    "for index, row in games_df.iterrows() :\n",
    "    row_tags = row['tags']\n",
    "    for tag in row_tags :\n",
    "        if tag in mismatched_tags :\n",
    "            row_tags.remove(tag)\n",
    "            games_df.at[index, 'tags'] = row_tags\n",
    "\n",
    "# Now let's see our tag counts per game...\n",
    "\n",
    "games_df = refresh_tag_count(games_df)\n",
    "\n",
    "print(len(games_df))"
   ]
  },
  {
   "cell_type": "markdown",
   "metadata": {},
   "source": [
    "After all that, our index is a mess. Let's fix it."
   ]
  },
  {
   "cell_type": "code",
   "execution_count": null,
   "metadata": {},
   "outputs": [],
   "source": [
    "# Our index has gotten messed up by deleting rows. Let's fix that.\n",
    "\n",
    "games_df = games_df.reset_index()"
   ]
  },
  {
   "cell_type": "code",
   "execution_count": null,
   "metadata": {},
   "outputs": [],
   "source": [
    "games_df.info()"
   ]
  },
  {
   "cell_type": "markdown",
   "metadata": {},
   "source": [
    "Step 4: Remove Games with Too Few Comments\n",
    "---\n",
    "I'll determine an arbitrary threshold for average comments in all languages with comments, and drop games beneath that"
   ]
  },
  {
   "cell_type": "code",
   "execution_count": null,
   "metadata": {},
   "outputs": [],
   "source": [
    "comment_counts = games_df['relevant_langs_comments_sum']\n",
    "ordered_comment_counts = comment_counts.sort_values(ascending=False)\n",
    "ordered_comment_counts\n",
    "\n",
    "cutoffs = range(0, 10000, 500)\n",
    "\n",
    "for cutoff in cutoffs :\n",
    "    print(f\"Games with more than {cutoff} comments: {len(ordered_comment_counts[ordered_comment_counts > cutoff])}\")"
   ]
  },
  {
   "cell_type": "code",
   "execution_count": null,
   "metadata": {},
   "outputs": [],
   "source": [
    "# I'll arbitrarily select 500 as the minimum number of comment that qualify a game for analysis.\n",
    "\n",
    "games_df = games_df[games_df['relevant_langs_comments_sum'] > 500]\n",
    "\n",
    "games_df.info()"
   ]
  },
  {
   "cell_type": "markdown",
   "metadata": {},
   "source": [
    "Step 5: Remove rows unqualified for other reasons\n",
    "---\n",
    "- Games released too recently will have unbalanced comment counts.\n",
    "- We can remove games with no price information, for consistency."
   ]
  },
  {
   "cell_type": "code",
   "execution_count": null,
   "metadata": {},
   "outputs": [],
   "source": [
    "# Clean our index.\n",
    "\n",
    "games_df = games_df.reset_index()"
   ]
  },
  {
   "cell_type": "markdown",
   "metadata": {},
   "source": [
    "Prepare for Modeling\n",
    "---"
   ]
  },
  {
   "cell_type": "code",
   "execution_count": null,
   "metadata": {},
   "outputs": [],
   "source": [
    "# Let's do a silly one-hot\n",
    "for tag in usable_tags :\n",
    "    games_df[tag] = 0\n",
    "    for index, row in games_df.iterrows() :\n",
    "        if tag in row['tags'] :\n",
    "            games_df.loc[index, tag] = 1\n"
   ]
  },
  {
   "cell_type": "code",
   "execution_count": null,
   "metadata": {},
   "outputs": [],
   "source": [
    "# Normalize our other main predicter variable...\n",
    "mean = games_df['price'].mean()\n",
    "std = games_df['price'].std()\n",
    "\n",
    "games_df['price'] = (games_df['price'] - mean) / std"
   ]
  },
  {
   "cell_type": "code",
   "execution_count": null,
   "metadata": {},
   "outputs": [],
   "source": [
    "# Output a subset of the df that will be used for modeling\n",
    "\n",
    "columns_to_drop = [\"price_category\", \"positive_review_percent\", \"relevant_langs_comments_sum\", \\\n",
    "                    \"tags\", \"language_comment_counts\", \"date_scraped\", \"tag_count\", \"usable_tag_count\", \\\n",
    "                    \"comment_ratios\", \"mod_interface_languages\", \"mod_full_audio_languages\", \"mod_subtitles_languages\"]\n",
    "\n",
    "games_df = games_df.drop(columns=columns_to_drop)"
   ]
  },
  {
   "cell_type": "code",
   "execution_count": null,
   "metadata": {},
   "outputs": [],
   "source": [
    "# Because selecting our specific target will also be something we play with in modeling, we'll do that in the modeling notebook!\n",
    "# But we can still split things into X-inverses and y-iverses\n",
    "\n",
    "target_cols = ['comment_diff_agnostic', 'comment_diff_any', 'comment_diff_interface', 'comment_diff_audio', 'comment_diff_subtitles', 'release_date']\n",
    "\n",
    "X = games_df.drop(columns=target_cols)\n",
    "y = games_df[target_cols]"
   ]
  },
  {
   "cell_type": "markdown",
   "metadata": {},
   "source": [
    "Save & Quit\n",
    "---"
   ]
  },
  {
   "cell_type": "code",
   "execution_count": null,
   "metadata": {},
   "outputs": [],
   "source": [
    "with open('../data/processed/2 - Games DF - PreProcessed Features', 'wb') as file :\n",
    "    pickle.dump(X, file)\n",
    "\n",
    "with open('../data/processed/2 - Games DF - PreProcessed Targets', 'wb') as file :\n",
    "    pickle.dump(y, file)"
   ]
  },
  {
   "cell_type": "markdown",
   "metadata": {},
   "source": [
    "-----------------------"
   ]
  }
 ],
 "metadata": {
  "kernelspec": {
   "display_name": "base",
   "language": "python",
   "name": "python3"
  },
  "language_info": {
   "codemirror_mode": {
    "name": "ipython",
    "version": 3
   },
   "file_extension": ".py",
   "mimetype": "text/x-python",
   "name": "python",
   "nbconvert_exporter": "python",
   "pygments_lexer": "ipython3",
   "version": "3.10.13"
  }
 },
 "nbformat": 4,
 "nbformat_minor": 2
}
