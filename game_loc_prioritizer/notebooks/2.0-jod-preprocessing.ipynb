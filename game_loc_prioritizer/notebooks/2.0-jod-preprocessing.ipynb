{
 "cells": [
  {
   "cell_type": "code",
   "execution_count": 83,
   "metadata": {},
   "outputs": [],
   "source": [
    "import pandas as pd\n",
    "import numpy as np\n",
    "import json\n",
    "\n",
    "import matplotlib.pyplot as plt\n",
    "import seaborn as sns\n",
    "\n",
    "%store -r tags_dict\n",
    "%store -r all_languages"
   ]
  },
  {
   "cell_type": "code",
   "execution_count": 84,
   "metadata": {},
   "outputs": [
    {
     "name": "stdout",
     "output_type": "stream",
     "text": [
      "<class 'pandas.core.frame.DataFrame'>\n",
      "RangeIndex: 9962 entries, 0 to 9961\n",
      "Data columns (total 26 columns):\n",
      " #   Column                      Non-Null Count  Dtype  \n",
      "---  ------                      --------------  -----  \n",
      " 0   app_id                      9962 non-null   int64  \n",
      " 1   title                       9962 non-null   object \n",
      " 2   developer                   9962 non-null   object \n",
      " 3   publisher                   9962 non-null   object \n",
      " 4   description                 9962 non-null   object \n",
      " 5   release_date                9956 non-null   float64\n",
      " 6   price                       9345 non-null   float64\n",
      " 7   price_category              9345 non-null   object \n",
      " 8   number_of_reviews           9958 non-null   float64\n",
      " 9   positive_review_percent     9958 non-null   float64\n",
      " 10  relevant_langs_reviews_sum  9962 non-null   int64  \n",
      " 11  tags                        9962 non-null   object \n",
      " 12  interface_languages         9962 non-null   object \n",
      " 13  mod_interface_languages     9962 non-null   object \n",
      " 14  full_audio_languages        9962 non-null   object \n",
      " 15  mod_full_audio_languages    9962 non-null   object \n",
      " 16  subtitles_languages         9962 non-null   object \n",
      " 17  mod_subtitles_languages     9962 non-null   object \n",
      " 18  language_comment_counts     9962 non-null   object \n",
      " 19  comment_ratios              9962 non-null   object \n",
      " 20  comment_diff_agnostic       9962 non-null   object \n",
      " 21  comment_diff_any            9962 non-null   object \n",
      " 22  comment_diff_interface      9962 non-null   object \n",
      " 23  comment_diff_audio          9962 non-null   object \n",
      " 24  comment_diff_subtitles      9962 non-null   object \n",
      " 25  game_page_link              9962 non-null   object \n",
      "dtypes: float64(4), int64(2), object(20)\n",
      "memory usage: 2.0+ MB\n"
     ]
    }
   ],
   "source": [
    "games_df = pd.read_json('../data/interim/1 - Games DF - Wrangled.json')\n",
    "\n",
    "games_df.info()"
   ]
  },
  {
   "cell_type": "code",
   "execution_count": 85,
   "metadata": {},
   "outputs": [
    {
     "name": "stdout",
     "output_type": "stream",
     "text": [
      "1970-01-01 00:22:25.507200\n"
     ]
    }
   ],
   "source": [
    "# Fix the release date\n",
    "\n",
    "games_df['release_date'] = pd.to_datetime(games_df['release_date'], infer_datetime_format=True, format=\"%Y-%m-%d\", errors='coerce')\n",
    "\n",
    "print(games_df.loc[0, 'release_date'])"
   ]
  },
  {
   "cell_type": "markdown",
   "metadata": {},
   "source": [
    "Step 1: Pare Down the Columns\n",
    "---"
   ]
  },
  {
   "cell_type": "code",
   "execution_count": 77,
   "metadata": {},
   "outputs": [
    {
     "data": {
      "text/plain": [
       "Index(['app_id', 'release_date', 'price', 'price_category', 'tags',\n",
       "       'mod_interface_languages', 'mod_full_audio_languages',\n",
       "       'mod_subtitles_languages', 'language_comment_counts', 'comment_ratios',\n",
       "       'comment_diff_agnostic', 'comment_diff_any', 'comment_diff_interface',\n",
       "       'comment_diff_audio', 'comment_diff_subtitles'],\n",
       "      dtype='object')"
      ]
     },
     "execution_count": 77,
     "metadata": {},
     "output_type": "execute_result"
    }
   ],
   "source": [
    "# Now we'll make a list of columns we really don't need and take them out.\n",
    "\n",
    "columns_to_drop = ['title', 'positive_review_percent', 'game_page_link', 'developer', 'publisher', \\\n",
    "                   'description', \"number_of_reviews\", \"interface_languages\", \"full_audio_languages\", \\\n",
    "                    \"subtitles_languages\", \"relevant_langs_reviews_sum\"]\n",
    "\n",
    "# We don't need the language count columns any more, either.\n",
    "columns_to_drop += all_languages\n",
    "\n",
    "for col in columns_to_drop :\n",
    "    if col in games_df.columns :\n",
    "        games_df.drop(col, axis=1, inplace=True)\n",
    "\n",
    "games_df.columns"
   ]
  },
  {
   "cell_type": "markdown",
   "metadata": {},
   "source": [
    "Step 2: Remove Unusable Rows\n",
    "---\n",
    "Decide which games have too few tags to be useful for the ML process and remove them from our set."
   ]
  },
  {
   "cell_type": "code",
   "execution_count": 78,
   "metadata": {},
   "outputs": [
    {
     "name": "stdout",
     "output_type": "stream",
     "text": [
      "7    9558\n",
      "6     130\n",
      "5     121\n",
      "4      72\n",
      "3      50\n",
      "2      26\n",
      "1       5\n",
      "Name: tag_count, dtype: int64\n"
     ]
    }
   ],
   "source": [
    "# Identify games with too few tags to be useful.\n",
    "\n",
    "def refresh_tag_count(df) :\n",
    "    \"\"\"\n",
    "    Looks for a \"tags\" row in {df} containing lists\n",
    "    Creates a \"tag_count\" row in {df} returning the len of that row's list\n",
    "    Returns {df}\n",
    "    \"\"\"\n",
    "\n",
    "    df['tag_count'] = 0\n",
    "\n",
    "    for index, row in df.iterrows() :\n",
    "        df.loc[index, 'tag_count'] = len(row['tags'])\n",
    "\n",
    "    print(df['tag_count'].value_counts())\n",
    "\n",
    "    return df\n",
    "\n",
    "games_df = refresh_tag_count(games_df)"
   ]
  },
  {
   "cell_type": "code",
   "execution_count": 79,
   "metadata": {},
   "outputs": [
    {
     "name": "stdout",
     "output_type": "stream",
     "text": [
      "Len before: 9962\n",
      "Len after: 9558\n"
     ]
    }
   ],
   "source": [
    "# I'll arbitrarily decide that games need to have the maximum of 7 tags to be considered, and drop the rest of the rows.\n",
    "\n",
    "print(\"Len before: \"+str(len(games_df)))\n",
    "\n",
    "indices_to_drop = games_df['tag_count'] < 7\n",
    "\n",
    "games_df = games_df[~indices_to_drop]\n",
    "\n",
    "print(\"Len after: \"+str(len(games_df)))"
   ]
  },
  {
   "cell_type": "markdown",
   "metadata": {},
   "source": [
    "Step 3: Remove Unusable Tags\n",
    "---\n",
    "Decide wich tags are used too infrequently to be useful features."
   ]
  },
  {
   "cell_type": "code",
   "execution_count": 80,
   "metadata": {},
   "outputs": [
    {
     "name": "stdout",
     "output_type": "stream",
     "text": [
      "# of tags used more than 50 times: 212\n",
      "# of tags used more than 100 times: 151\n",
      "# of tags used more than 150 times: 114\n",
      "# of tags used more than 200 times: 84\n",
      "# of tags used more than 250 times: 74\n",
      "# of tags used more than 300 times: 58\n",
      "# of tags used more than 350 times: 47\n",
      "# of tags used more than 400 times: 37\n",
      "# of tags used more than 450 times: 31\n",
      "# of tags used more than 500 times: 26\n",
      "# of tags used more than 550 times: 26\n",
      "# of tags used more than 600 times: 21\n",
      "# of tags used more than 650 times: 18\n",
      "# of tags used more than 700 times: 18\n",
      "# of tags used more than 750 times: 15\n",
      "# of tags used more than 800 times: 13\n",
      "# of tags used more than 850 times: 13\n",
      "# of tags used more than 900 times: 11\n",
      "# of tags used more than 950 times: 11\n",
      "# of tags used more than 1000 times: 9\n"
     ]
    }
   ],
   "source": [
    "# First, see how often the tags are used in general.\n",
    "\n",
    "def get_sorted_tag_frequency(df) :\n",
    "    \"\"\"\n",
    "    Counts the frequency of items in lists of a 'tags' row of {df}.\n",
    "    Returnes a sorted high-low Series with the items as keys and frequency counts as values.\n",
    "    Prints the number of tags by frequency at thresholds of 50.\n",
    "    \"\"\"\n",
    "    exploded_tags = df.explode('tags')\n",
    "    tag_counts = exploded_tags['tags'].value_counts()\n",
    "    sorted_tag_frequency = tag_counts.sort_values(ascending=False)\n",
    "\n",
    "    cutoffs = [x for x in range(50, 1001, 50)]\n",
    "\n",
    "    for cutoff in cutoffs :\n",
    "        print(f\"# of tags used more than {cutoff} times: {len(sorted_tag_frequency[sorted_tag_frequency > cutoff])}\")\n",
    "\n",
    "    return sorted_tag_frequency\n",
    "\n",
    "sorted_tag_frequency = get_sorted_tag_frequency(games_df)"
   ]
  },
  {
   "cell_type": "code",
   "execution_count": 81,
   "metadata": {},
   "outputs": [
    {
     "data": {
      "text/plain": [
       "7    3854\n",
       "6    3531\n",
       "5    1558\n",
       "4     480\n",
       "3     109\n",
       "2      20\n",
       "1       5\n",
       "0       1\n",
       "Name: usable_tag_count, dtype: int64"
      ]
     },
     "execution_count": 81,
     "metadata": {},
     "output_type": "execute_result"
    }
   ],
   "source": [
    "# I'll arbitrarily decide that a tag must be used at least 100 times to be considered.\n",
    "# This corresponds to the first 151 items in the sorted_tags_count Series.\n",
    "# If we remove all other tags, how much usable data would we have left? Let's check.\n",
    "\n",
    "# First, get a list of the usable tags.\n",
    "usable_tags = sorted_tag_frequency[:151]\n",
    "usable_tags = list(usable_tags.keys())\n",
    "\n",
    "# Then, record how many usable tags each remaining game has.\n",
    "games_df['usable_tag_count'] = 0\n",
    "\n",
    "for index, row in games_df.iterrows() :\n",
    "    for tag in row['tags'] :\n",
    "        if tag in usable_tags :\n",
    "            games_df.loc[index, 'usable_tag_count'] += 1\n",
    "\n",
    "# Display how many records have how many usable tags.\n",
    "games_df['usable_tag_count'].value_counts()"
   ]
  },
  {
   "cell_type": "code",
   "execution_count": null,
   "metadata": {},
   "outputs": [
    {
     "name": "stdout",
     "output_type": "stream",
     "text": [
      "<class 'pandas.core.frame.DataFrame'>\n",
      "Int64Index: 8943 entries, 1 to 9961\n",
      "Data columns (total 17 columns):\n",
      " #   Column                    Non-Null Count  Dtype  \n",
      "---  ------                    --------------  -----  \n",
      " 0   app_id                    8943 non-null   int64  \n",
      " 1   release_date              8938 non-null   float64\n",
      " 2   price                     8385 non-null   float64\n",
      " 3   price_category            8385 non-null   object \n",
      " 4   tags                      8943 non-null   object \n",
      " 5   mod_interface_languages   8943 non-null   object \n",
      " 6   mod_full_audio_languages  8943 non-null   object \n",
      " 7   mod_subtitles_languages   8943 non-null   object \n",
      " 8   language_comment_counts   8943 non-null   object \n",
      " 9   comment_ratios            8943 non-null   object \n",
      " 10  comment_diff_agnostic     8943 non-null   object \n",
      " 11  comment_diff_any          8943 non-null   object \n",
      " 12  comment_diff_interface    8943 non-null   object \n",
      " 13  comment_diff_audio        8943 non-null   object \n",
      " 14  comment_diff_subtitles    8943 non-null   object \n",
      " 15  tag_count                 8943 non-null   int64  \n",
      " 16  usable_tag_count          8943 non-null   int64  \n",
      "dtypes: float64(2), int64(3), object(12)\n",
      "memory usage: 1.2+ MB\n"
     ]
    }
   ],
   "source": [
    "# There's a huge dropoff after 5 usable tags.\n",
    "# Let's drop every game that doesn't have at least 5 usable tags.\n",
    "\n",
    "rows_with_at_least_one_usable_tag = games_df['usable_tag_count'] > 4\n",
    "\n",
    "games_df = games_df[rows_with_at_least_one_usable_tag]\n",
    "\n",
    "games_df.info()"
   ]
  },
  {
   "cell_type": "code",
   "execution_count": null,
   "metadata": {},
   "outputs": [
    {
     "data": {
      "text/plain": [
       "268"
      ]
     },
     "execution_count": 54,
     "metadata": {},
     "output_type": "execute_result"
    }
   ],
   "source": [
    "# Now let's see if we have any \"unusable\" tags remaining in our dataset:\n",
    "\n",
    "used_tag_set = set()\n",
    "\n",
    "for tag_list in games_df['tags'] :\n",
    "    for tag in tag_list :\n",
    "        used_tag_set.add(tag)\n",
    "\n",
    "mismatched_tags = [tag for tag in used_tag_set if tag not in usable_tags]\n",
    "\n",
    "len(mismatched_tags)"
   ]
  },
  {
   "cell_type": "code",
   "execution_count": null,
   "metadata": {},
   "outputs": [
    {
     "name": "stdout",
     "output_type": "stream",
     "text": [
      "7    3854\n",
      "6    3531\n",
      "5    1558\n",
      "Name: tag_count, dtype: int64\n",
      "8943\n"
     ]
    }
   ],
   "source": [
    "# I guess we better remove them!\n",
    "\n",
    "for index, row in games_df.iterrows() :\n",
    "    row_tags = row['tags']\n",
    "    for tag in row_tags :\n",
    "        if tag in mismatched_tags :\n",
    "            row_tags.remove(tag)\n",
    "            games_df.at[index, 'tags'] = row_tags\n",
    "\n",
    "# Now let's see our tag counts per game...\n",
    "\n",
    "games_df = refresh_tag_count(games_df)\n",
    "\n",
    "print(len(games_df))"
   ]
  },
  {
   "cell_type": "markdown",
   "metadata": {},
   "source": [
    "All of our rows and tags now match our arbitrary criteria of:\n",
    "- Every row has at least 5 tags\n",
    "- Every tag is used at least 100 times overall\n",
    "\n",
    "And we still have 8,943 usable records! Not bad."
   ]
  },
  {
   "cell_type": "code",
   "execution_count": null,
   "metadata": {},
   "outputs": [],
   "source": [
    "# Our index has gotten messed up by deleting rows. Let's fix that.\n",
    "\n",
    "games_df = games_df.reset_index()"
   ]
  },
  {
   "cell_type": "markdown",
   "metadata": {},
   "source": [
    "Step 4: Remove rows unqualified for other reasons\n",
    "---\n",
    "- Games released too recently will have unbalanced comment counts.\n",
    "- We can remove games with no price information, for consistency."
   ]
  },
  {
   "cell_type": "code",
   "execution_count": null,
   "metadata": {},
   "outputs": [
    {
     "name": "stdout",
     "output_type": "stream",
     "text": [
      "1970-01-01 00:28:11.020800\n"
     ]
    }
   ],
   "source": [
    "print(pd.to_datetime(games_df.loc[0, 'release_date']))"
   ]
  },
  {
   "cell_type": "markdown",
   "metadata": {},
   "source": [
    "-----------------------"
   ]
  }
 ],
 "metadata": {
  "kernelspec": {
   "display_name": "base",
   "language": "python",
   "name": "python3"
  },
  "language_info": {
   "codemirror_mode": {
    "name": "ipython",
    "version": 3
   },
   "file_extension": ".py",
   "mimetype": "text/x-python",
   "name": "python",
   "nbconvert_exporter": "python",
   "pygments_lexer": "ipython3",
   "version": "3.10.13"
  }
 },
 "nbformat": 4,
 "nbformat_minor": 2
}
