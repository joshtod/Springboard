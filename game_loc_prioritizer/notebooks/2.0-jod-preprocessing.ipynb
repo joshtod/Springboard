{
 "cells": [
  {
   "cell_type": "code",
   "execution_count": 110,
   "metadata": {},
   "outputs": [],
   "source": [
    "import pandas as pd\n",
    "import numpy as np\n",
    "import pickle\n",
    "\n",
    "from datetime import datetime, timedelta\n",
    "\n",
    "%store -r tags_dict\n",
    "%store -r all_languages"
   ]
  },
  {
   "cell_type": "code",
   "execution_count": 111,
   "metadata": {},
   "outputs": [
    {
     "name": "stdout",
     "output_type": "stream",
     "text": [
      "<class 'pandas.core.frame.DataFrame'>\n",
      "RangeIndex: 48320 entries, 0 to 48319\n",
      "Data columns (total 19 columns):\n",
      " #   Column                       Non-Null Count  Dtype   \n",
      "---  ------                       --------------  -----   \n",
      " 0   app_id                       48320 non-null  int64   \n",
      " 1   release_date                 48296 non-null  object  \n",
      " 2   price                        48169 non-null  float64 \n",
      " 3   price_category               48169 non-null  category\n",
      " 4   positive_review_percent      35262 non-null  float64 \n",
      " 5   relevant_langs_comments_sum  48320 non-null  int32   \n",
      " 6   tags                         48320 non-null  object  \n",
      " 7   tag_list                     48320 non-null  object  \n",
      " 8   mod_interface_languages      48320 non-null  object  \n",
      " 9   mod_full_audio_languages     48320 non-null  object  \n",
      " 10  mod_subtitles_languages      48320 non-null  object  \n",
      " 11  language_comment_counts      48320 non-null  object  \n",
      " 12  comment_ratios               48320 non-null  object  \n",
      " 13  comment_diff_agnostic        48320 non-null  object  \n",
      " 14  comment_diff_any             48320 non-null  object  \n",
      " 15  comment_diff_interface       48320 non-null  object  \n",
      " 16  comment_diff_audio           48320 non-null  object  \n",
      " 17  comment_diff_subtitles       48320 non-null  object  \n",
      " 18  date_scraped                 48320 non-null  object  \n",
      "dtypes: category(1), float64(2), int32(1), int64(1), object(14)\n",
      "memory usage: 6.5+ MB\n"
     ]
    }
   ],
   "source": [
    "with open('../data/interim/1 - Games DF - Wrangled', 'rb') as file :\n",
    "    games_df = pickle.load(file)\n",
    "\n",
    "games_df.info()"
   ]
  },
  {
   "cell_type": "markdown",
   "metadata": {},
   "source": [
    "Step 1: Pare Down the Columns\n",
    "---"
   ]
  },
  {
   "cell_type": "code",
   "execution_count": 112,
   "metadata": {},
   "outputs": [],
   "source": [
    "# NOTE: This step moved to Wrangling to control file size for GitHub.\n",
    "\n",
    "# Now we'll make a list of columns we really don't need and take them out.\n",
    "\n",
    "# columns_to_drop = ['title', 'game_page_link', 'developer', 'publisher', \\\n",
    "#                    'description', \"number_of_reviews\", \"interface_languages\", \"full_audio_languages\", \\\n",
    "#                     \"subtitles_languages\"]\n",
    "\n",
    "# # We don't need the language count columns any more, either.\n",
    "# columns_to_drop += all_languages\n",
    "\n",
    "# for col in columns_to_drop :\n",
    "#     if col in games_df.columns :\n",
    "#         games_df.drop(col, axis=1, inplace=True)\n",
    "\n",
    "# games_df.columns"
   ]
  },
  {
   "cell_type": "markdown",
   "metadata": {},
   "source": [
    "Step 2: Remove Unusable Rows\n",
    "---\n",
    "\n",
    "Let's start by removing records that are unsuitable for our purposes sue to reasons unrelated to feature engineering.\n",
    "\n",
    "This includes:\n",
    "\n",
    "- Games that are too recently published to have had time to be localized and/or representative comment counts\n",
    "- Games with no price info\n"
   ]
  },
  {
   "cell_type": "code",
   "execution_count": 113,
   "metadata": {},
   "outputs": [
    {
     "name": "stdout",
     "output_type": "stream",
     "text": [
      "Removed games released less than 1 year ago.\n",
      "Games remaining: 43177\n"
     ]
    }
   ],
   "source": [
    "# Arbitrarily set a cutoff date of 1 year ago\n",
    "today = datetime.today()\n",
    "cutoff_date = today - timedelta(weeks=(52))\n",
    "\n",
    "# Remove \n",
    "games_df = games_df[games_df['release_date'] < cutoff_date]\n",
    "print(\"Removed games released less than 1 year ago.\")\n",
    "print(f\"Games remaining: {len(games_df)}\")"
   ]
  },
  {
   "cell_type": "code",
   "execution_count": 114,
   "metadata": {},
   "outputs": [
    {
     "name": "stdout",
     "output_type": "stream",
     "text": [
      "Removed games with no price info.\n",
      "Games remaining: 43044\n"
     ]
    }
   ],
   "source": [
    "# Remove games with no price info\n",
    "games_df = games_df[~games_df['price'].isnull()]\n",
    "\n",
    "print(\"Removed games with no price info.\")\n",
    "print(f\"Games remaining: {len(games_df)}\")"
   ]
  },
  {
   "cell_type": "code",
   "execution_count": 115,
   "metadata": {},
   "outputs": [
    {
     "name": "stdout",
     "output_type": "stream",
     "text": [
      "Games with more than 0 comments: 43044\n",
      "Games with more than 500 comments: 8688\n",
      "Games with more than 1000 comments: 6118\n",
      "Games with more than 1500 comments: 4942\n",
      "Games with more than 2000 comments: 4246\n",
      "Games with more than 2500 comments: 3775\n",
      "Games with more than 3000 comments: 3421\n",
      "Games with more than 3500 comments: 3147\n",
      "Games with more than 4000 comments: 2896\n",
      "Games with more than 4500 comments: 2708\n",
      "Games with more than 5000 comments: 2536\n",
      "Games with more than 5500 comments: 2399\n",
      "Games with more than 6000 comments: 2275\n",
      "Games with more than 6500 comments: 2172\n",
      "Games with more than 7000 comments: 2058\n",
      "Games with more than 7500 comments: 1983\n",
      "Games with more than 8000 comments: 1919\n",
      "Games with more than 8500 comments: 1843\n",
      "Games with more than 9000 comments: 1777\n",
      "Games with more than 9500 comments: 1717\n"
     ]
    }
   ],
   "source": [
    "# Remove games with too few comments\n",
    "\n",
    "comment_counts = games_df['relevant_langs_comments_sum']\n",
    "ordered_comment_counts = comment_counts.sort_values(ascending=False)\n",
    "ordered_comment_counts\n",
    "\n",
    "cutoffs = range(0, 10000, 500)\n",
    "\n",
    "for cutoff in cutoffs :\n",
    "    print(f\"Games with more than {cutoff} comments: {len(ordered_comment_counts[ordered_comment_counts > cutoff])}\")"
   ]
  },
  {
   "cell_type": "code",
   "execution_count": 116,
   "metadata": {},
   "outputs": [
    {
     "name": "stdout",
     "output_type": "stream",
     "text": [
      "<class 'pandas.core.frame.DataFrame'>\n",
      "Int64Index: 6858 entries, 0 to 43397\n",
      "Data columns (total 19 columns):\n",
      " #   Column                       Non-Null Count  Dtype   \n",
      "---  ------                       --------------  -----   \n",
      " 0   app_id                       6858 non-null   int64   \n",
      " 1   release_date                 6858 non-null   object  \n",
      " 2   price                        6858 non-null   float64 \n",
      " 3   price_category               6858 non-null   category\n",
      " 4   positive_review_percent      6855 non-null   float64 \n",
      " 5   relevant_langs_comments_sum  6858 non-null   int32   \n",
      " 6   tags                         6858 non-null   object  \n",
      " 7   tag_list                     6858 non-null   object  \n",
      " 8   mod_interface_languages      6858 non-null   object  \n",
      " 9   mod_full_audio_languages     6858 non-null   object  \n",
      " 10  mod_subtitles_languages      6858 non-null   object  \n",
      " 11  language_comment_counts      6858 non-null   object  \n",
      " 12  comment_ratios               6858 non-null   object  \n",
      " 13  comment_diff_agnostic        6858 non-null   object  \n",
      " 14  comment_diff_any             6858 non-null   object  \n",
      " 15  comment_diff_interface       6858 non-null   object  \n",
      " 16  comment_diff_audio           6858 non-null   object  \n",
      " 17  comment_diff_subtitles       6858 non-null   object  \n",
      " 18  date_scraped                 6858 non-null   object  \n",
      "dtypes: category(1), float64(2), int32(1), int64(1), object(14)\n",
      "memory usage: 998.0+ KB\n"
     ]
    }
   ],
   "source": [
    "games_df = games_df[games_df['relevant_langs_comments_sum'] > 800]\n",
    "\n",
    "games_df.info()"
   ]
  },
  {
   "cell_type": "markdown",
   "metadata": {},
   "source": [
    "----------------------\n",
    "\n",
    "Now let's look at what we have left, and preserve only records that are useful for ML.\n",
    "\n",
    "Since tags are our main feature, let's remove any games without enough tags. This process must be somewhat arbitrary."
   ]
  },
  {
   "cell_type": "code",
   "execution_count": 117,
   "metadata": {},
   "outputs": [
    {
     "name": "stdout",
     "output_type": "stream",
     "text": [
      "20    4593\n",
      "16     211\n",
      "15     184\n",
      "14     182\n",
      "19     180\n",
      "13     173\n",
      "17     168\n",
      "11     167\n",
      "12     166\n",
      "18     154\n",
      "10     151\n",
      "8      149\n",
      "9      129\n",
      "7      103\n",
      "6       56\n",
      "5       52\n",
      "4       28\n",
      "3        6\n",
      "0        3\n",
      "1        2\n",
      "2        1\n",
      "Name: tag_count, dtype: int64\n"
     ]
    }
   ],
   "source": [
    "# Identify games with too few tags to be useful.\n",
    "def refresh_tag_count(df) :\n",
    "    \"\"\"\n",
    "    Looks for a \"tags\" row in {df} containing lists\n",
    "    Creates a \"tag_count\" row in {df} returning the len of that row's list\n",
    "    Returns {df}\n",
    "    \"\"\"\n",
    "\n",
    "    df['tag_count'] = 0\n",
    "\n",
    "    for index, row in df.iterrows() :\n",
    "        df.loc[index, 'tag_count'] = len(row['tag_list'])\n",
    "\n",
    "    print(df['tag_count'].value_counts())\n",
    "\n",
    "    return df\n",
    "\n",
    "games_df = refresh_tag_count(games_df)"
   ]
  },
  {
   "cell_type": "code",
   "execution_count": 118,
   "metadata": {},
   "outputs": [
    {
     "name": "stdout",
     "output_type": "stream",
     "text": [
      "Removed games with fewer than 20 tags.\n",
      "Games remaining: 4593\n"
     ]
    }
   ],
   "source": [
    "# I'll arbitrarily decide that games need to have the maximum of 20 tags to be considered, and drop the rest of the rows.\n",
    "\n",
    "indices_to_drop = games_df['tag_count'] < 20\n",
    "\n",
    "games_df = games_df[~indices_to_drop]\n",
    "\n",
    "print(\"Removed games with fewer than 20 tags.\")\n",
    "print(f\"Games remaining: {len(games_df)}\")"
   ]
  },
  {
   "cell_type": "markdown",
   "metadata": {},
   "source": [
    "By the same token, tags which are used too infrequently would also lack predictive power."
   ]
  },
  {
   "cell_type": "code",
   "execution_count": 119,
   "metadata": {},
   "outputs": [
    {
     "name": "stdout",
     "output_type": "stream",
     "text": [
      "# of tags used more than 800 times: 25\n",
      "# of tags used more than 850 times: 24\n",
      "# of tags used more than 900 times: 19\n",
      "# of tags used more than 950 times: 18\n",
      "# of tags used more than 1000 times: 18\n",
      "# of tags used more than 1050 times: 17\n",
      "# of tags used more than 1100 times: 15\n",
      "# of tags used more than 1150 times: 15\n",
      "# of tags used more than 1200 times: 12\n",
      "# of tags used more than 1250 times: 12\n",
      "# of tags used more than 1300 times: 12\n",
      "# of tags used more than 1350 times: 10\n",
      "# of tags used more than 1400 times: 9\n",
      "# of tags used more than 1450 times: 7\n",
      "# of tags used more than 1500 times: 7\n",
      "# of tags used more than 1550 times: 6\n",
      "# of tags used more than 1600 times: 6\n",
      "# of tags used more than 1650 times: 6\n",
      "# of tags used more than 1700 times: 6\n",
      "# of tags used more than 1750 times: 6\n",
      "# of tags used more than 1800 times: 5\n",
      "# of tags used more than 1850 times: 4\n",
      "# of tags used more than 1900 times: 4\n",
      "# of tags used more than 1950 times: 4\n",
      "# of tags used more than 2000 times: 4\n"
     ]
    }
   ],
   "source": [
    "# First, see how often the tags are used in general.\n",
    "\n",
    "def get_sorted_tag_frequency(df) :\n",
    "    \"\"\"\n",
    "    Counts the frequency of items in lists of a 'tags' row of {df}.\n",
    "    Returnes a sorted high-low Series with the items as keys and frequency counts as values.\n",
    "    Prints the number of tags by frequency at thresholds of 50.\n",
    "    \"\"\"\n",
    "    exploded_tags = df.explode('tag_list')\n",
    "    tag_counts = exploded_tags['tag_list'].value_counts()\n",
    "    sorted_tag_frequency = tag_counts.sort_values(ascending=False)\n",
    "\n",
    "    cutoffs = [x for x in range(800, 2001, 50)]\n",
    "\n",
    "    for cutoff in cutoffs :\n",
    "        print(f\"# of tags used more than {cutoff} times: {len(sorted_tag_frequency[sorted_tag_frequency > cutoff])}\")\n",
    "\n",
    "    return sorted_tag_frequency\n",
    "\n",
    "sorted_tag_frequency = get_sorted_tag_frequency(games_df)"
   ]
  },
  {
   "cell_type": "code",
   "execution_count": 120,
   "metadata": {},
   "outputs": [
    {
     "name": "stdout",
     "output_type": "stream",
     "text": [
      "Tags must occur 459 times to be considered.\n",
      "There are 55 such tags.\n"
     ]
    }
   ],
   "source": [
    "# I'll arbitrarily peg the number of times a tag must be used in order\n",
    "# to be considered in our analysis to 10% of the number of records.\n",
    "tag_usage_cutoff = int(len(games_df) * 0.1)\n",
    "print(f'Tags must occur {tag_usage_cutoff} times to be considered.')\n",
    "\n",
    "# Now let's get a list of the usable tags.\n",
    "usable_tags = sorted_tag_frequency[sorted_tag_frequency > tag_usage_cutoff].keys()\n",
    "print(f'There are {len(usable_tags)} such tags.')"
   ]
  },
  {
   "cell_type": "code",
   "execution_count": 121,
   "metadata": {},
   "outputs": [
    {
     "name": "stdout",
     "output_type": "stream",
     "text": [
      "2D\n",
      "3D\n",
      "Action\n",
      "Action-Adventure\n",
      "Adventure\n",
      "Anime\n",
      "Atmospheric\n",
      "Building\n",
      "Casual\n",
      "Character Customization\n",
      "Choices Matter\n",
      "Co-op\n",
      "Colorful\n",
      "Comedy\n",
      "Controller\n",
      "Cute\n",
      "Dark\n",
      "Difficult\n",
      "Early Access\n",
      "Exploration\n",
      "FPS\n",
      "Family Friendly\n",
      "Fantasy\n",
      "Female Protagonist\n",
      "First-Person\n",
      "Free to Play\n",
      "Funny\n",
      "Gore\n",
      "Great Soundtrack\n",
      "Horror\n",
      "Indie\n",
      "Management\n",
      "Multiplayer\n",
      "Online Co-Op\n",
      "Open World\n",
      "Pixel Graphics\n",
      "Platformer\n",
      "Psychological Horror\n",
      "Puzzle\n",
      "PvP\n",
      "RPG\n",
      "Realistic\n",
      "Relaxing\n",
      "Retro\n",
      "Sandbox\n",
      "Sci-fi\n",
      "Shooter\n",
      "Simulation\n",
      "Singleplayer\n",
      "Story Rich\n",
      "Strategy\n",
      "Survival\n",
      "Tactical\n",
      "Third Person\n",
      "Violent\n"
     ]
    }
   ],
   "source": [
    "# Let's make sure these tags are all useful, and that there are no duplicates!\n",
    "\n",
    "usable_tags = sorted(usable_tags)\n",
    "\n",
    "for tag in usable_tags :\n",
    "    print(tag)"
   ]
  },
  {
   "cell_type": "markdown",
   "metadata": {},
   "source": [
    "Looks like there are some potential conflicts that we should look into:\n",
    "- Cartoon + Cartoony\n",
    "- Comedy + Funny\n",
    "- First-Person + FPS\n",
    "- Retro + Old School\n",
    "\n",
    "The only one I think we can reject out-of-hand is \"Early Access\", since that has nothing to do with the content of the game."
   ]
  },
  {
   "cell_type": "code",
   "execution_count": 122,
   "metadata": {},
   "outputs": [],
   "source": [
    "potential_problems = ['Cartoon', 'Cartoony', 'Comedy', 'Funny', 'First-Person', 'FPS', 'Retro', 'Old School']\n",
    "\n",
    "usable_tags.remove(\"Early Access\")"
   ]
  },
  {
   "cell_type": "code",
   "execution_count": 123,
   "metadata": {},
   "outputs": [
    {
     "data": {
      "text/plain": [
       "3       4\n",
       "4       5\n",
       "5      29\n",
       "6      91\n",
       "7     165\n",
       "8     288\n",
       "9     405\n",
       "10    518\n",
       "11    657\n",
       "12    675\n",
       "13    689\n",
       "14    495\n",
       "15    321\n",
       "16    168\n",
       "17     64\n",
       "18     17\n",
       "19      2\n",
       "Name: usable_tag_count, dtype: int64"
      ]
     },
     "execution_count": 123,
     "metadata": {},
     "output_type": "execute_result"
    }
   ],
   "source": [
    "# Now let's see how many records have how many of those usable tags.\n",
    "games_df['usable_tag_count'] = 0\n",
    "\n",
    "for index, row in games_df.iterrows() :\n",
    "    for tag in row['tag_list'] :\n",
    "        if tag in usable_tags :\n",
    "            games_df.loc[index, 'usable_tag_count'] += 1\n",
    "\n",
    "# Display how many records have how many usable tags.\n",
    "usable_tag_counts = games_df['usable_tag_count'].value_counts().sort_index()\n",
    "\n",
    "usable_tag_counts"
   ]
  },
  {
   "cell_type": "code",
   "execution_count": 124,
   "metadata": {},
   "outputs": [
    {
     "name": "stdout",
     "output_type": "stream",
     "text": [
      "4593 games have at least 3 usable tag(s).\n",
      "4589 games have at least 4 usable tag(s).\n",
      "4584 games have at least 5 usable tag(s).\n",
      "4555 games have at least 6 usable tag(s).\n",
      "4464 games have at least 7 usable tag(s).\n",
      "4299 games have at least 8 usable tag(s).\n",
      "4011 games have at least 9 usable tag(s).\n",
      "3606 games have at least 10 usable tag(s).\n",
      "3088 games have at least 11 usable tag(s).\n",
      "2431 games have at least 12 usable tag(s).\n",
      "1756 games have at least 13 usable tag(s).\n",
      "1067 games have at least 14 usable tag(s).\n",
      "572 games have at least 15 usable tag(s).\n",
      "251 games have at least 16 usable tag(s).\n",
      "83 games have at least 17 usable tag(s).\n",
      "19 games have at least 18 usable tag(s).\n",
      "2 games have at least 19 usable tag(s).\n"
     ]
    },
    {
     "name": "stderr",
     "output_type": "stream",
     "text": [
      "C:\\Users\\Josh\\AppData\\Local\\Temp\\ipykernel_18360\\576334706.py:7: FutureWarning: iteritems is deprecated and will be removed in a future version. Use .items instead.\n",
      "  for index, value in usable_tag_counts.iteritems() :\n"
     ]
    }
   ],
   "source": [
    "# Cumulative tag counts would be easier to process visually...\n",
    "\n",
    "cumulative_counts = {}\n",
    "\n",
    "for count in usable_tag_counts.keys() :\n",
    "    cumulative_counts[count] = 0\n",
    "    for index, value in usable_tag_counts.iteritems() :\n",
    "        if index >= count :\n",
    "            cumulative_counts[count] += value\n",
    "\n",
    "for index, value in cumulative_counts.items() :\n",
    "    print(f\"{value} games have at least {index} usable tag(s).\")"
   ]
  },
  {
   "cell_type": "code",
   "execution_count": 125,
   "metadata": {},
   "outputs": [
    {
     "name": "stdout",
     "output_type": "stream",
     "text": [
      "<class 'pandas.core.frame.DataFrame'>\n",
      "Int64Index: 572 entries, 1 to 43397\n",
      "Data columns (total 21 columns):\n",
      " #   Column                       Non-Null Count  Dtype   \n",
      "---  ------                       --------------  -----   \n",
      " 0   app_id                       572 non-null    int64   \n",
      " 1   release_date                 572 non-null    object  \n",
      " 2   price                        572 non-null    float64 \n",
      " 3   price_category               572 non-null    category\n",
      " 4   positive_review_percent      572 non-null    float64 \n",
      " 5   relevant_langs_comments_sum  572 non-null    int32   \n",
      " 6   tags                         572 non-null    object  \n",
      " 7   tag_list                     572 non-null    object  \n",
      " 8   mod_interface_languages      572 non-null    object  \n",
      " 9   mod_full_audio_languages     572 non-null    object  \n",
      " 10  mod_subtitles_languages      572 non-null    object  \n",
      " 11  language_comment_counts      572 non-null    object  \n",
      " 12  comment_ratios               572 non-null    object  \n",
      " 13  comment_diff_agnostic        572 non-null    object  \n",
      " 14  comment_diff_any             572 non-null    object  \n",
      " 15  comment_diff_interface       572 non-null    object  \n",
      " 16  comment_diff_audio           572 non-null    object  \n",
      " 17  comment_diff_subtitles       572 non-null    object  \n",
      " 18  date_scraped                 572 non-null    object  \n",
      " 19  tag_count                    572 non-null    int64   \n",
      " 20  usable_tag_count             572 non-null    int64   \n",
      "dtypes: category(1), float64(2), int32(1), int64(3), object(14)\n",
      "memory usage: 92.3+ KB\n"
     ]
    }
   ],
   "source": [
    "# Let's arbitrarily set the threshold at 15.\n",
    "# We can always change it later.\n",
    "\n",
    "rows_with_enough_usable_tags = games_df['usable_tag_count'] > 14\n",
    "\n",
    "games_df = games_df[rows_with_enough_usable_tags]\n",
    "\n",
    "games_df.info()"
   ]
  },
  {
   "cell_type": "code",
   "execution_count": 126,
   "metadata": {},
   "outputs": [
    {
     "data": {
      "text/plain": [
       "175"
      ]
     },
     "execution_count": 126,
     "metadata": {},
     "output_type": "execute_result"
    }
   ],
   "source": [
    "# Now let's see if we have any \"unusable\" tags remaining in our dataset:\n",
    "\n",
    "used_tag_set = set()\n",
    "\n",
    "for tag_list in games_df['tags'] :\n",
    "    for tag in tag_list :\n",
    "        used_tag_set.add(tag)\n",
    "\n",
    "mismatched_tags = [tag for tag in used_tag_set if tag not in usable_tags]\n",
    "\n",
    "len(mismatched_tags)"
   ]
  },
  {
   "cell_type": "code",
   "execution_count": 127,
   "metadata": {},
   "outputs": [
    {
     "name": "stdout",
     "output_type": "stream",
     "text": [
      "16    225\n",
      "17    213\n",
      "18     82\n",
      "15     42\n",
      "19     10\n",
      "Name: tag_count, dtype: int64\n",
      "572\n"
     ]
    }
   ],
   "source": [
    "# I guess we better remove them!\n",
    "\n",
    "for index, row in games_df.iterrows() :\n",
    "    row_tags = row['tag_list']\n",
    "    for tag in row_tags :\n",
    "        if tag in mismatched_tags :\n",
    "            row_tags.remove(tag)\n",
    "            games_df.at[index, 'tag_list'] = row_tags\n",
    "\n",
    "# Now let's see our tag counts per game...\n",
    "\n",
    "games_df = refresh_tag_count(games_df)\n",
    "\n",
    "print(len(games_df))"
   ]
  },
  {
   "cell_type": "markdown",
   "metadata": {},
   "source": [
    "Step 4: Remove Games with Too Few Comments\n",
    "---\n",
    "I'll determine an arbitrary threshold for average comments in all languages with comments, and drop games beneath that"
   ]
  },
  {
   "cell_type": "code",
   "execution_count": 128,
   "metadata": {},
   "outputs": [],
   "source": [
    "# comment_counts = games_df['relevant_langs_comments_sum']\n",
    "# ordered_comment_counts = comment_counts.sort_values(ascending=False)\n",
    "# ordered_comment_counts\n",
    "\n",
    "# cutoffs = range(0, 10000, 500)\n",
    "\n",
    "# for cutoff in cutoffs :\n",
    "#     print(f\"Games with more than {cutoff} comments: {len(ordered_comment_counts[ordered_comment_counts > cutoff])}\")"
   ]
  },
  {
   "cell_type": "code",
   "execution_count": 129,
   "metadata": {},
   "outputs": [],
   "source": [
    "# I'll arbitrarily select 500 as the minimum number of comment that qualify a game for analysis.\n",
    "\n",
    "# games_df = games_df[games_df['relevant_langs_comments_sum'] > 500]\n",
    "\n",
    "# games_df.info()"
   ]
  },
  {
   "cell_type": "code",
   "execution_count": 130,
   "metadata": {},
   "outputs": [],
   "source": [
    "# Our index has gotten messed up by deleting rows. Let's fix that.\n",
    "\n",
    "games_df = games_df.reset_index()"
   ]
  },
  {
   "cell_type": "markdown",
   "metadata": {},
   "source": [
    "Prepare for Modeling\n",
    "---"
   ]
  },
  {
   "cell_type": "code",
   "execution_count": 131,
   "metadata": {},
   "outputs": [],
   "source": [
    "# Let's do a silly one-hot\n",
    "for tag in usable_tags :\n",
    "    games_df[tag] = 0\n",
    "    for index, row in games_df.iterrows() :\n",
    "        if tag in row['tag_list'] :\n",
    "            games_df.loc[index, tag] = 1\n",
    "        # dx Now, let's do something even sillier!\n",
    "        # The 'tags' column holds the tags that Steam deems MOST relevant to the game.\n",
    "        # Let's honor that by giving those tags a little boost on the one-hot...\n",
    "        if tag in row['tags'] :\n",
    "            games_df.loc[index, tag] += 1"
   ]
  },
  {
   "cell_type": "code",
   "execution_count": 132,
   "metadata": {},
   "outputs": [],
   "source": [
    "# Normalize our other main predicter variable...\n",
    "mean = games_df['price'].mean()\n",
    "std = games_df['price'].std()\n",
    "\n",
    "games_df['price'] = (games_df['price'] - mean) / std"
   ]
  },
  {
   "cell_type": "code",
   "execution_count": 133,
   "metadata": {},
   "outputs": [],
   "source": [
    "# Output a subset of the df that will be used for modeling\n",
    "\n",
    "columns_to_drop = [\"index\", \"release_date\", \"price_category\", \"positive_review_percent\", \"relevant_langs_comments_sum\", \\\n",
    "                    \"tags\", \"tag_list\", \"language_comment_counts\", \"date_scraped\", \"tag_count\", \"usable_tag_count\", \\\n",
    "                    \"comment_ratios\", \"mod_interface_languages\", \"mod_full_audio_languages\", \"mod_subtitles_languages\"]\n",
    "\n",
    "games_df = games_df.drop(columns=columns_to_drop)\n",
    "\n",
    "games_df = games_df.set_index(\"app_id\")"
   ]
  },
  {
   "cell_type": "code",
   "execution_count": 134,
   "metadata": {},
   "outputs": [
    {
     "data": {
      "text/html": [
       "<div>\n",
       "<style scoped>\n",
       "    .dataframe tbody tr th:only-of-type {\n",
       "        vertical-align: middle;\n",
       "    }\n",
       "\n",
       "    .dataframe tbody tr th {\n",
       "        vertical-align: top;\n",
       "    }\n",
       "\n",
       "    .dataframe thead th {\n",
       "        text-align: right;\n",
       "    }\n",
       "</style>\n",
       "<table border=\"1\" class=\"dataframe\">\n",
       "  <thead>\n",
       "    <tr style=\"text-align: right;\">\n",
       "      <th></th>\n",
       "      <th>price</th>\n",
       "      <th>comment_diff_agnostic</th>\n",
       "      <th>comment_diff_any</th>\n",
       "      <th>comment_diff_interface</th>\n",
       "      <th>comment_diff_audio</th>\n",
       "      <th>comment_diff_subtitles</th>\n",
       "      <th>2D</th>\n",
       "      <th>3D</th>\n",
       "      <th>Action</th>\n",
       "      <th>Action-Adventure</th>\n",
       "      <th>...</th>\n",
       "      <th>Sci-fi</th>\n",
       "      <th>Shooter</th>\n",
       "      <th>Simulation</th>\n",
       "      <th>Singleplayer</th>\n",
       "      <th>Story Rich</th>\n",
       "      <th>Strategy</th>\n",
       "      <th>Survival</th>\n",
       "      <th>Tactical</th>\n",
       "      <th>Third Person</th>\n",
       "      <th>Violent</th>\n",
       "    </tr>\n",
       "    <tr>\n",
       "      <th>app_id</th>\n",
       "      <th></th>\n",
       "      <th></th>\n",
       "      <th></th>\n",
       "      <th></th>\n",
       "      <th></th>\n",
       "      <th></th>\n",
       "      <th></th>\n",
       "      <th></th>\n",
       "      <th></th>\n",
       "      <th></th>\n",
       "      <th></th>\n",
       "      <th></th>\n",
       "      <th></th>\n",
       "      <th></th>\n",
       "      <th></th>\n",
       "      <th></th>\n",
       "      <th></th>\n",
       "      <th></th>\n",
       "      <th></th>\n",
       "      <th></th>\n",
       "      <th></th>\n",
       "    </tr>\n",
       "  </thead>\n",
       "  <tbody>\n",
       "    <tr>\n",
       "      <th>553850</th>\n",
       "      <td>1.463921</td>\n",
       "      <td>{'german': 0.10284806700274907, 'french': -0.0...</td>\n",
       "      <td>{'german': 0.1061654567301325, 'french': -0.00...</td>\n",
       "      <td>{'german': 0.10621123967582302, 'french': -0.0...</td>\n",
       "      <td>{'german': 0.10119022485294804, 'french': -0.0...</td>\n",
       "      <td>{'german': 0.09949363950374279, 'french': -0.0...</td>\n",
       "      <td>0</td>\n",
       "      <td>0</td>\n",
       "      <td>2</td>\n",
       "      <td>0</td>\n",
       "      <td>...</td>\n",
       "      <td>1</td>\n",
       "      <td>2</td>\n",
       "      <td>0</td>\n",
       "      <td>1</td>\n",
       "      <td>0</td>\n",
       "      <td>0</td>\n",
       "      <td>0</td>\n",
       "      <td>0</td>\n",
       "      <td>1</td>\n",
       "      <td>1</td>\n",
       "    </tr>\n",
       "    <tr>\n",
       "      <th>1245620</th>\n",
       "      <td>2.736844</td>\n",
       "      <td>{'german': 0.022414002872037653, 'french': -0....</td>\n",
       "      <td>{'german': 0.025731392599421088, 'french': -0....</td>\n",
       "      <td>{'german': 0.025777175545111608, 'french': -0....</td>\n",
       "      <td>{'german': nan, 'french': nan, 'spanish': nan,...</td>\n",
       "      <td>{'german': 0.01905957537303138, 'french': -0.0...</td>\n",
       "      <td>0</td>\n",
       "      <td>1</td>\n",
       "      <td>1</td>\n",
       "      <td>0</td>\n",
       "      <td>...</td>\n",
       "      <td>0</td>\n",
       "      <td>0</td>\n",
       "      <td>0</td>\n",
       "      <td>1</td>\n",
       "      <td>0</td>\n",
       "      <td>0</td>\n",
       "      <td>0</td>\n",
       "      <td>0</td>\n",
       "      <td>2</td>\n",
       "      <td>1</td>\n",
       "    </tr>\n",
       "    <tr>\n",
       "      <th>1203620</th>\n",
       "      <td>0.827459</td>\n",
       "      <td>{'german': 0.07807709053510958, 'french': 0.01...</td>\n",
       "      <td>{'german': 0.08139448026249302, 'french': 0.01...</td>\n",
       "      <td>{'german': 0.08144026320818354, 'french': 0.01...</td>\n",
       "      <td>{'german': nan, 'french': nan, 'spanish': nan,...</td>\n",
       "      <td>{'german': nan, 'french': nan, 'spanish': nan,...</td>\n",
       "      <td>0</td>\n",
       "      <td>1</td>\n",
       "      <td>1</td>\n",
       "      <td>0</td>\n",
       "      <td>...</td>\n",
       "      <td>0</td>\n",
       "      <td>0</td>\n",
       "      <td>0</td>\n",
       "      <td>1</td>\n",
       "      <td>0</td>\n",
       "      <td>0</td>\n",
       "      <td>2</td>\n",
       "      <td>0</td>\n",
       "      <td>0</td>\n",
       "      <td>0</td>\n",
       "    </tr>\n",
       "    <tr>\n",
       "      <th>381210</th>\n",
       "      <td>0.190997</td>\n",
       "      <td>{'german': -0.019574800402787085, 'french': -0...</td>\n",
       "      <td>{'german': -0.01625741067540365, 'french': -0....</td>\n",
       "      <td>{'german': -0.01621162772971313, 'french': -0....</td>\n",
       "      <td>{'german': nan, 'french': -0.00296560849453240...</td>\n",
       "      <td>{'german': -0.02292922790179336, 'french': -0....</td>\n",
       "      <td>0</td>\n",
       "      <td>0</td>\n",
       "      <td>1</td>\n",
       "      <td>0</td>\n",
       "      <td>...</td>\n",
       "      <td>0</td>\n",
       "      <td>0</td>\n",
       "      <td>0</td>\n",
       "      <td>0</td>\n",
       "      <td>0</td>\n",
       "      <td>1</td>\n",
       "      <td>2</td>\n",
       "      <td>0</td>\n",
       "      <td>1</td>\n",
       "      <td>1</td>\n",
       "    </tr>\n",
       "    <tr>\n",
       "      <th>252490</th>\n",
       "      <td>1.463921</td>\n",
       "      <td>{'german': 0.023113350648391873, 'french': -0....</td>\n",
       "      <td>{'german': 0.026430740375775308, 'french': -0....</td>\n",
       "      <td>{'german': 0.026476523321465828, 'french': -0....</td>\n",
       "      <td>{'german': 0.021455508498590847, 'french': -0....</td>\n",
       "      <td>{'german': 0.0197589231493856, 'french': -0.00...</td>\n",
       "      <td>0</td>\n",
       "      <td>0</td>\n",
       "      <td>1</td>\n",
       "      <td>0</td>\n",
       "      <td>...</td>\n",
       "      <td>0</td>\n",
       "      <td>1</td>\n",
       "      <td>1</td>\n",
       "      <td>0</td>\n",
       "      <td>0</td>\n",
       "      <td>0</td>\n",
       "      <td>2</td>\n",
       "      <td>0</td>\n",
       "      <td>0</td>\n",
       "      <td>0</td>\n",
       "    </tr>\n",
       "  </tbody>\n",
       "</table>\n",
       "<p>5 rows × 60 columns</p>\n",
       "</div>"
      ],
      "text/plain": [
       "            price                              comment_diff_agnostic  \\\n",
       "app_id                                                                 \n",
       "553850   1.463921  {'german': 0.10284806700274907, 'french': -0.0...   \n",
       "1245620  2.736844  {'german': 0.022414002872037653, 'french': -0....   \n",
       "1203620  0.827459  {'german': 0.07807709053510958, 'french': 0.01...   \n",
       "381210   0.190997  {'german': -0.019574800402787085, 'french': -0...   \n",
       "252490   1.463921  {'german': 0.023113350648391873, 'french': -0....   \n",
       "\n",
       "                                          comment_diff_any  \\\n",
       "app_id                                                       \n",
       "553850   {'german': 0.1061654567301325, 'french': -0.00...   \n",
       "1245620  {'german': 0.025731392599421088, 'french': -0....   \n",
       "1203620  {'german': 0.08139448026249302, 'french': 0.01...   \n",
       "381210   {'german': -0.01625741067540365, 'french': -0....   \n",
       "252490   {'german': 0.026430740375775308, 'french': -0....   \n",
       "\n",
       "                                    comment_diff_interface  \\\n",
       "app_id                                                       \n",
       "553850   {'german': 0.10621123967582302, 'french': -0.0...   \n",
       "1245620  {'german': 0.025777175545111608, 'french': -0....   \n",
       "1203620  {'german': 0.08144026320818354, 'french': 0.01...   \n",
       "381210   {'german': -0.01621162772971313, 'french': -0....   \n",
       "252490   {'german': 0.026476523321465828, 'french': -0....   \n",
       "\n",
       "                                        comment_diff_audio  \\\n",
       "app_id                                                       \n",
       "553850   {'german': 0.10119022485294804, 'french': -0.0...   \n",
       "1245620  {'german': nan, 'french': nan, 'spanish': nan,...   \n",
       "1203620  {'german': nan, 'french': nan, 'spanish': nan,...   \n",
       "381210   {'german': nan, 'french': -0.00296560849453240...   \n",
       "252490   {'german': 0.021455508498590847, 'french': -0....   \n",
       "\n",
       "                                    comment_diff_subtitles  2D  3D  Action  \\\n",
       "app_id                                                                       \n",
       "553850   {'german': 0.09949363950374279, 'french': -0.0...   0   0       2   \n",
       "1245620  {'german': 0.01905957537303138, 'french': -0.0...   0   1       1   \n",
       "1203620  {'german': nan, 'french': nan, 'spanish': nan,...   0   1       1   \n",
       "381210   {'german': -0.02292922790179336, 'french': -0....   0   0       1   \n",
       "252490   {'german': 0.0197589231493856, 'french': -0.00...   0   0       1   \n",
       "\n",
       "         Action-Adventure  ...  Sci-fi  Shooter  Simulation  Singleplayer  \\\n",
       "app_id                     ...                                              \n",
       "553850                  0  ...       1        2           0             1   \n",
       "1245620                 0  ...       0        0           0             1   \n",
       "1203620                 0  ...       0        0           0             1   \n",
       "381210                  0  ...       0        0           0             0   \n",
       "252490                  0  ...       0        1           1             0   \n",
       "\n",
       "         Story Rich  Strategy  Survival  Tactical  Third Person  Violent  \n",
       "app_id                                                                    \n",
       "553850            0         0         0         0             1        1  \n",
       "1245620           0         0         0         0             2        1  \n",
       "1203620           0         0         2         0             0        0  \n",
       "381210            0         1         2         0             1        1  \n",
       "252490            0         0         2         0             0        0  \n",
       "\n",
       "[5 rows x 60 columns]"
      ]
     },
     "execution_count": 134,
     "metadata": {},
     "output_type": "execute_result"
    }
   ],
   "source": [
    "games_df.head()"
   ]
  },
  {
   "cell_type": "code",
   "execution_count": 136,
   "metadata": {},
   "outputs": [],
   "source": [
    "# Because selecting our specific target will also be something we play with in modeling, we'll do that in the modeling notebook!\n",
    "# But we can still split things into X-inverses and y-iverses\n",
    "\n",
    "target_cols = ['comment_diff_agnostic', 'comment_diff_any', 'comment_diff_interface', 'comment_diff_audio', 'comment_diff_subtitles']\n",
    "\n",
    "X = games_df.drop(columns=target_cols)\n",
    "y = games_df[target_cols]"
   ]
  },
  {
   "cell_type": "markdown",
   "metadata": {},
   "source": [
    "Save & Quit\n",
    "---"
   ]
  },
  {
   "cell_type": "code",
   "execution_count": 137,
   "metadata": {},
   "outputs": [],
   "source": [
    "with open('../data/processed/2 - Games DF - PreProcessed Features', 'wb') as file :\n",
    "    pickle.dump(X, file)\n",
    "\n",
    "with open('../data/processed/2 - Games DF - PreProcessed Targets', 'wb') as file :\n",
    "    pickle.dump(y, file)"
   ]
  },
  {
   "cell_type": "markdown",
   "metadata": {},
   "source": [
    "-----------------------"
   ]
  }
 ],
 "metadata": {
  "kernelspec": {
   "display_name": "base",
   "language": "python",
   "name": "python3"
  },
  "language_info": {
   "codemirror_mode": {
    "name": "ipython",
    "version": 3
   },
   "file_extension": ".py",
   "mimetype": "text/x-python",
   "name": "python",
   "nbconvert_exporter": "python",
   "pygments_lexer": "ipython3",
   "version": "3.10.13"
  }
 },
 "nbformat": 4,
 "nbformat_minor": 2
}
