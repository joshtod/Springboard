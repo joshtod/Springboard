{
 "cells": [
  {
   "cell_type": "code",
   "execution_count": 1,
   "metadata": {},
   "outputs": [],
   "source": [
    "import pandas as pd\n",
    "import numpy as np\n",
    "import pickle\n",
    "\n",
    "from datetime import datetime, timedelta\n",
    "\n",
    "import matplotlib.pyplot as plt\n",
    "import seaborn as sns\n",
    "\n",
    "from sklearn.preprocessing import StandardScaler\n",
    "\n",
    "%store -r tags_dict\n",
    "%store -r all_languages"
   ]
  },
  {
   "cell_type": "code",
   "execution_count": 2,
   "metadata": {},
   "outputs": [
    {
     "name": "stdout",
     "output_type": "stream",
     "text": [
      "<class 'pandas.core.frame.DataFrame'>\n",
      "RangeIndex: 14029 entries, 0 to 14028\n",
      "Data columns (total 27 columns):\n",
      " #   Column                      Non-Null Count  Dtype         \n",
      "---  ------                      --------------  -----         \n",
      " 0   app_id                      14029 non-null  int64         \n",
      " 1   title                       14029 non-null  object        \n",
      " 2   developer                   14029 non-null  object        \n",
      " 3   publisher                   14029 non-null  object        \n",
      " 4   description                 14029 non-null  object        \n",
      " 5   release_date                14023 non-null  datetime64[ns]\n",
      " 6   price                       14002 non-null  float64       \n",
      " 7   price_category              14002 non-null  category      \n",
      " 8   number_of_reviews           14025 non-null  float64       \n",
      " 9   positive_review_percent     14025 non-null  float64       \n",
      " 10  relevant_langs_reviews_sum  14029 non-null  int32         \n",
      " 11  tags                        14029 non-null  object        \n",
      " 12  interface_languages         14029 non-null  object        \n",
      " 13  mod_interface_languages     14029 non-null  object        \n",
      " 14  full_audio_languages        14029 non-null  object        \n",
      " 15  mod_full_audio_languages    14029 non-null  object        \n",
      " 16  subtitles_languages         14029 non-null  object        \n",
      " 17  mod_subtitles_languages     14029 non-null  object        \n",
      " 18  language_comment_counts     14029 non-null  object        \n",
      " 19  comment_ratios              14029 non-null  object        \n",
      " 20  comment_diff_agnostic       14029 non-null  object        \n",
      " 21  comment_diff_any            14029 non-null  object        \n",
      " 22  comment_diff_interface      14029 non-null  object        \n",
      " 23  comment_diff_audio          14029 non-null  object        \n",
      " 24  comment_diff_subtitles      14029 non-null  object        \n",
      " 25  game_page_link              14029 non-null  object        \n",
      " 26  date_scraped                14029 non-null  object        \n",
      "dtypes: category(1), datetime64[ns](1), float64(3), int32(1), int64(1), object(20)\n",
      "memory usage: 2.7+ MB\n"
     ]
    }
   ],
   "source": [
    "with open('../data/interim/1 - Games DF - Wrangled', 'rb') as file :\n",
    "    games_df = pickle.load(file)\n",
    "\n",
    "games_df.info()"
   ]
  },
  {
   "cell_type": "markdown",
   "metadata": {},
   "source": [
    "Step 1: Pare Down the Columns\n",
    "---"
   ]
  },
  {
   "cell_type": "code",
   "execution_count": 3,
   "metadata": {},
   "outputs": [
    {
     "data": {
      "text/plain": [
       "Index(['app_id', 'release_date', 'price', 'price_category',\n",
       "       'positive_review_percent', 'relevant_langs_reviews_sum', 'tags',\n",
       "       'mod_interface_languages', 'mod_full_audio_languages',\n",
       "       'mod_subtitles_languages', 'language_comment_counts', 'comment_ratios',\n",
       "       'comment_diff_agnostic', 'comment_diff_any', 'comment_diff_interface',\n",
       "       'comment_diff_audio', 'comment_diff_subtitles', 'date_scraped'],\n",
       "      dtype='object')"
      ]
     },
     "execution_count": 3,
     "metadata": {},
     "output_type": "execute_result"
    }
   ],
   "source": [
    "# Now we'll make a list of columns we really don't need and take them out.\n",
    "\n",
    "columns_to_drop = ['title', 'game_page_link', 'developer', 'publisher', \\\n",
    "                   'description', \"number_of_reviews\", \"interface_languages\", \"full_audio_languages\", \\\n",
    "                    \"subtitles_languages\"]\n",
    "\n",
    "# We don't need the language count columns any more, either.\n",
    "columns_to_drop += all_languages\n",
    "\n",
    "for col in columns_to_drop :\n",
    "    if col in games_df.columns :\n",
    "        games_df.drop(col, axis=1, inplace=True)\n",
    "\n",
    "games_df.columns"
   ]
  },
  {
   "cell_type": "markdown",
   "metadata": {},
   "source": [
    "Step 2: Remove Unusable Rows\n",
    "---\n",
    "Decide which games have too few tags to be useful for the ML process and remove them from our set."
   ]
  },
  {
   "cell_type": "code",
   "execution_count": 4,
   "metadata": {},
   "outputs": [
    {
     "name": "stdout",
     "output_type": "stream",
     "text": [
      "7    13013\n",
      "6      317\n",
      "5      277\n",
      "4      186\n",
      "3      173\n",
      "2       54\n",
      "1        9\n",
      "Name: tag_count, dtype: int64\n"
     ]
    }
   ],
   "source": [
    "# Identify games with too few tags to be useful.\n",
    "\n",
    "def refresh_tag_count(df) :\n",
    "    \"\"\"\n",
    "    Looks for a \"tags\" row in {df} containing lists\n",
    "    Creates a \"tag_count\" row in {df} returning the len of that row's list\n",
    "    Returns {df}\n",
    "    \"\"\"\n",
    "\n",
    "    df['tag_count'] = 0\n",
    "\n",
    "    for index, row in df.iterrows() :\n",
    "        df.loc[index, 'tag_count'] = len(row['tags'])\n",
    "\n",
    "    print(df['tag_count'].value_counts())\n",
    "\n",
    "    return df\n",
    "\n",
    "games_df = refresh_tag_count(games_df)"
   ]
  },
  {
   "cell_type": "code",
   "execution_count": 5,
   "metadata": {},
   "outputs": [
    {
     "name": "stdout",
     "output_type": "stream",
     "text": [
      "Len before: 14029\n",
      "Len after: 13013\n"
     ]
    }
   ],
   "source": [
    "# I'll arbitrarily decide that games need to have the maximum of 7 tags to be considered, and drop the rest of the rows.\n",
    "\n",
    "print(\"Len before: \"+str(len(games_df)))\n",
    "\n",
    "indices_to_drop = games_df['tag_count'] < 7\n",
    "\n",
    "games_df = games_df[~indices_to_drop]\n",
    "\n",
    "print(\"Len after: \"+str(len(games_df)))"
   ]
  },
  {
   "cell_type": "markdown",
   "metadata": {},
   "source": [
    "Step 3: Remove Unusable Tags\n",
    "---\n",
    "Decide wich tags are used too infrequently to be useful features."
   ]
  },
  {
   "cell_type": "code",
   "execution_count": 6,
   "metadata": {},
   "outputs": [
    {
     "name": "stdout",
     "output_type": "stream",
     "text": [
      "# of tags used more than 50 times: 246\n",
      "# of tags used more than 100 times: 182\n",
      "# of tags used more than 150 times: 144\n",
      "# of tags used more than 200 times: 113\n",
      "# of tags used more than 250 times: 89\n",
      "# of tags used more than 300 times: 78\n",
      "# of tags used more than 350 times: 64\n",
      "# of tags used more than 400 times: 55\n",
      "# of tags used more than 450 times: 51\n",
      "# of tags used more than 500 times: 41\n",
      "# of tags used more than 550 times: 36\n",
      "# of tags used more than 600 times: 30\n",
      "# of tags used more than 650 times: 29\n",
      "# of tags used more than 700 times: 27\n",
      "# of tags used more than 750 times: 24\n",
      "# of tags used more than 800 times: 22\n",
      "# of tags used more than 850 times: 20\n",
      "# of tags used more than 900 times: 18\n",
      "# of tags used more than 950 times: 17\n",
      "# of tags used more than 1000 times: 16\n"
     ]
    }
   ],
   "source": [
    "# First, see how often the tags are used in general.\n",
    "\n",
    "def get_sorted_tag_frequency(df) :\n",
    "    \"\"\"\n",
    "    Counts the frequency of items in lists of a 'tags' row of {df}.\n",
    "    Returnes a sorted high-low Series with the items as keys and frequency counts as values.\n",
    "    Prints the number of tags by frequency at thresholds of 50.\n",
    "    \"\"\"\n",
    "    exploded_tags = df.explode('tags')\n",
    "    tag_counts = exploded_tags['tags'].value_counts()\n",
    "    sorted_tag_frequency = tag_counts.sort_values(ascending=False)\n",
    "\n",
    "    cutoffs = [x for x in range(50, 1001, 50)]\n",
    "\n",
    "    for cutoff in cutoffs :\n",
    "        print(f\"# of tags used more than {cutoff} times: {len(sorted_tag_frequency[sorted_tag_frequency > cutoff])}\")\n",
    "\n",
    "    return sorted_tag_frequency\n",
    "\n",
    "sorted_tag_frequency = get_sorted_tag_frequency(games_df)"
   ]
  },
  {
   "cell_type": "code",
   "execution_count": 7,
   "metadata": {},
   "outputs": [
    {
     "data": {
      "text/plain": [
       "6    4831\n",
       "7    4712\n",
       "5    2404\n",
       "4     812\n",
       "3     203\n",
       "2      38\n",
       "1      12\n",
       "0       1\n",
       "Name: usable_tag_count, dtype: int64"
      ]
     },
     "execution_count": 7,
     "metadata": {},
     "output_type": "execute_result"
    }
   ],
   "source": [
    "# I'll arbitrarily decide that a tag must be used at least 150 times to be considered.\n",
    "# If we remove all other tags, how much usable data would we have left? Let's check.\n",
    "\n",
    "# First, get a list of the usable tags.\n",
    "usable_tags = sorted_tag_frequency[sorted_tag_frequency > 150]\n",
    "usable_tags = list(usable_tags.keys())\n",
    "\n",
    "# Then, record how many usable tags each remaining game has.\n",
    "games_df['usable_tag_count'] = 0\n",
    "\n",
    "for index, row in games_df.iterrows() :\n",
    "    for tag in row['tags'] :\n",
    "        if tag in usable_tags :\n",
    "            games_df.loc[index, 'usable_tag_count'] += 1\n",
    "\n",
    "# Display how many records have how many usable tags.\n",
    "games_df['usable_tag_count'].value_counts()"
   ]
  },
  {
   "cell_type": "code",
   "execution_count": 8,
   "metadata": {},
   "outputs": [
    {
     "name": "stdout",
     "output_type": "stream",
     "text": [
      "<class 'pandas.core.frame.DataFrame'>\n",
      "Int64Index: 11947 entries, 1 to 14028\n",
      "Data columns (total 20 columns):\n",
      " #   Column                      Non-Null Count  Dtype         \n",
      "---  ------                      --------------  -----         \n",
      " 0   app_id                      11947 non-null  int64         \n",
      " 1   release_date                11941 non-null  datetime64[ns]\n",
      " 2   price                       11927 non-null  float64       \n",
      " 3   price_category              11927 non-null  category      \n",
      " 4   positive_review_percent     11944 non-null  float64       \n",
      " 5   relevant_langs_reviews_sum  11947 non-null  int32         \n",
      " 6   tags                        11947 non-null  object        \n",
      " 7   mod_interface_languages     11947 non-null  object        \n",
      " 8   mod_full_audio_languages    11947 non-null  object        \n",
      " 9   mod_subtitles_languages     11947 non-null  object        \n",
      " 10  language_comment_counts     11947 non-null  object        \n",
      " 11  comment_ratios              11947 non-null  object        \n",
      " 12  comment_diff_agnostic       11947 non-null  object        \n",
      " 13  comment_diff_any            11947 non-null  object        \n",
      " 14  comment_diff_interface      11947 non-null  object        \n",
      " 15  comment_diff_audio          11947 non-null  object        \n",
      " 16  comment_diff_subtitles      11947 non-null  object        \n",
      " 17  date_scraped                11947 non-null  object        \n",
      " 18  tag_count                   11947 non-null  int64         \n",
      " 19  usable_tag_count            11947 non-null  int64         \n",
      "dtypes: category(1), datetime64[ns](1), float64(2), int32(1), int64(3), object(12)\n",
      "memory usage: 1.8+ MB\n"
     ]
    }
   ],
   "source": [
    "# There's a huge dropoff after 5 usable tags.\n",
    "# Let's drop every game that doesn't have at least 5 usable tags.\n",
    "\n",
    "rows_with_at_least_one_usable_tag = games_df['usable_tag_count'] > 4\n",
    "\n",
    "games_df = games_df[rows_with_at_least_one_usable_tag]\n",
    "\n",
    "games_df.info()"
   ]
  },
  {
   "cell_type": "code",
   "execution_count": 9,
   "metadata": {},
   "outputs": [
    {
     "data": {
      "text/plain": [
       "281"
      ]
     },
     "execution_count": 9,
     "metadata": {},
     "output_type": "execute_result"
    }
   ],
   "source": [
    "# Now let's see if we have any \"unusable\" tags remaining in our dataset:\n",
    "\n",
    "used_tag_set = set()\n",
    "\n",
    "for tag_list in games_df['tags'] :\n",
    "    for tag in tag_list :\n",
    "        used_tag_set.add(tag)\n",
    "\n",
    "mismatched_tags = [tag for tag in used_tag_set if tag not in usable_tags]\n",
    "\n",
    "len(mismatched_tags)"
   ]
  },
  {
   "cell_type": "code",
   "execution_count": 10,
   "metadata": {},
   "outputs": [
    {
     "name": "stdout",
     "output_type": "stream",
     "text": [
      "6    5608\n",
      "7    4712\n",
      "5    1627\n",
      "Name: tag_count, dtype: int64\n",
      "11947\n"
     ]
    }
   ],
   "source": [
    "# I guess we better remove them!\n",
    "\n",
    "for index, row in games_df.iterrows() :\n",
    "    row_tags = row['tags']\n",
    "    for tag in row_tags :\n",
    "        if tag in mismatched_tags :\n",
    "            row_tags.remove(tag)\n",
    "            games_df.at[index, 'tags'] = row_tags\n",
    "\n",
    "# Now let's see our tag counts per game...\n",
    "\n",
    "games_df = refresh_tag_count(games_df)\n",
    "\n",
    "print(len(games_df))"
   ]
  },
  {
   "cell_type": "markdown",
   "metadata": {},
   "source": [
    "All of our rows and tags now match our arbitrary criteria of:\n",
    "- Every row has at least 5 tags\n",
    "- Every tag is used at least 100 times overall\n",
    "\n",
    "And we still have 8,943 usable records! Not bad."
   ]
  },
  {
   "cell_type": "code",
   "execution_count": 11,
   "metadata": {},
   "outputs": [],
   "source": [
    "# Our index has gotten messed up by deleting rows. Let's fix that.\n",
    "\n",
    "games_df = games_df.reset_index()"
   ]
  },
  {
   "cell_type": "code",
   "execution_count": 12,
   "metadata": {},
   "outputs": [
    {
     "name": "stdout",
     "output_type": "stream",
     "text": [
      "<class 'pandas.core.frame.DataFrame'>\n",
      "RangeIndex: 11947 entries, 0 to 11946\n",
      "Data columns (total 21 columns):\n",
      " #   Column                      Non-Null Count  Dtype         \n",
      "---  ------                      --------------  -----         \n",
      " 0   index                       11947 non-null  int64         \n",
      " 1   app_id                      11947 non-null  int64         \n",
      " 2   release_date                11941 non-null  datetime64[ns]\n",
      " 3   price                       11927 non-null  float64       \n",
      " 4   price_category              11927 non-null  category      \n",
      " 5   positive_review_percent     11944 non-null  float64       \n",
      " 6   relevant_langs_reviews_sum  11947 non-null  int32         \n",
      " 7   tags                        11947 non-null  object        \n",
      " 8   mod_interface_languages     11947 non-null  object        \n",
      " 9   mod_full_audio_languages    11947 non-null  object        \n",
      " 10  mod_subtitles_languages     11947 non-null  object        \n",
      " 11  language_comment_counts     11947 non-null  object        \n",
      " 12  comment_ratios              11947 non-null  object        \n",
      " 13  comment_diff_agnostic       11947 non-null  object        \n",
      " 14  comment_diff_any            11947 non-null  object        \n",
      " 15  comment_diff_interface      11947 non-null  object        \n",
      " 16  comment_diff_audio          11947 non-null  object        \n",
      " 17  comment_diff_subtitles      11947 non-null  object        \n",
      " 18  date_scraped                11947 non-null  object        \n",
      " 19  tag_count                   11947 non-null  int64         \n",
      " 20  usable_tag_count            11947 non-null  int64         \n",
      "dtypes: category(1), datetime64[ns](1), float64(2), int32(1), int64(4), object(12)\n",
      "memory usage: 1.8+ MB\n"
     ]
    }
   ],
   "source": [
    "games_df.info()"
   ]
  },
  {
   "cell_type": "markdown",
   "metadata": {},
   "source": [
    "Step 4: Remove Games with Too Few Comments\n",
    "---\n",
    "I'll determine an arbitrary threshold for average comments in all languages with comments, and drop games beneath that"
   ]
  },
  {
   "cell_type": "code",
   "execution_count": 13,
   "metadata": {},
   "outputs": [
    {
     "name": "stdout",
     "output_type": "stream",
     "text": [
      "Games with more than 0 comments: 11947\n",
      "Games with more than 500 comments: 6468\n",
      "Games with more than 1000 comments: 4953\n",
      "Games with more than 1500 comments: 4163\n",
      "Games with more than 2000 comments: 3673\n",
      "Games with more than 2500 comments: 3297\n",
      "Games with more than 3000 comments: 3023\n",
      "Games with more than 3500 comments: 2782\n",
      "Games with more than 4000 comments: 2569\n",
      "Games with more than 4500 comments: 2416\n",
      "Games with more than 5000 comments: 2267\n",
      "Games with more than 5500 comments: 2158\n",
      "Games with more than 6000 comments: 2052\n",
      "Games with more than 6500 comments: 1959\n",
      "Games with more than 7000 comments: 1858\n",
      "Games with more than 7500 comments: 1794\n",
      "Games with more than 8000 comments: 1738\n",
      "Games with more than 8500 comments: 1669\n",
      "Games with more than 9000 comments: 1616\n",
      "Games with more than 9500 comments: 1565\n"
     ]
    }
   ],
   "source": [
    "comment_counts = games_df['relevant_langs_reviews_sum']\n",
    "ordered_comment_counts = comment_counts.sort_values(ascending=False)\n",
    "ordered_comment_counts\n",
    "\n",
    "cutoffs = range(0, 10000, 500)\n",
    "\n",
    "for cutoff in cutoffs :\n",
    "    print(f\"Games with more than {cutoff} comments: {len(ordered_comment_counts[ordered_comment_counts > cutoff])}\")"
   ]
  },
  {
   "cell_type": "code",
   "execution_count": 14,
   "metadata": {},
   "outputs": [
    {
     "name": "stdout",
     "output_type": "stream",
     "text": [
      "<class 'pandas.core.frame.DataFrame'>\n",
      "Int64Index: 6468 entries, 0 to 11944\n",
      "Data columns (total 21 columns):\n",
      " #   Column                      Non-Null Count  Dtype         \n",
      "---  ------                      --------------  -----         \n",
      " 0   index                       6468 non-null   int64         \n",
      " 1   app_id                      6468 non-null   int64         \n",
      " 2   release_date                6462 non-null   datetime64[ns]\n",
      " 3   price                       6449 non-null   float64       \n",
      " 4   price_category              6449 non-null   category      \n",
      " 5   positive_review_percent     6468 non-null   float64       \n",
      " 6   relevant_langs_reviews_sum  6468 non-null   int32         \n",
      " 7   tags                        6468 non-null   object        \n",
      " 8   mod_interface_languages     6468 non-null   object        \n",
      " 9   mod_full_audio_languages    6468 non-null   object        \n",
      " 10  mod_subtitles_languages     6468 non-null   object        \n",
      " 11  language_comment_counts     6468 non-null   object        \n",
      " 12  comment_ratios              6468 non-null   object        \n",
      " 13  comment_diff_agnostic       6468 non-null   object        \n",
      " 14  comment_diff_any            6468 non-null   object        \n",
      " 15  comment_diff_interface      6468 non-null   object        \n",
      " 16  comment_diff_audio          6468 non-null   object        \n",
      " 17  comment_diff_subtitles      6468 non-null   object        \n",
      " 18  date_scraped                6468 non-null   object        \n",
      " 19  tag_count                   6468 non-null   int64         \n",
      " 20  usable_tag_count            6468 non-null   int64         \n",
      "dtypes: category(1), datetime64[ns](1), float64(2), int32(1), int64(4), object(12)\n",
      "memory usage: 1.0+ MB\n"
     ]
    }
   ],
   "source": [
    "# I'll arbitrarily select 500 as the minimum number of comment that qualify a game for analysis.\n",
    "\n",
    "games_df = games_df[games_df['relevant_langs_reviews_sum'] > 500]\n",
    "\n",
    "games_df.info()"
   ]
  },
  {
   "cell_type": "markdown",
   "metadata": {},
   "source": [
    "Step 5: Remove rows unqualified for other reasons\n",
    "---\n",
    "- Games released too recently will have unbalanced comment counts.\n",
    "- We can remove games with no price information, for consistency."
   ]
  },
  {
   "cell_type": "code",
   "execution_count": 15,
   "metadata": {},
   "outputs": [
    {
     "name": "stdout",
     "output_type": "stream",
     "text": [
      "<class 'pandas.core.frame.DataFrame'>\n",
      "Int64Index: 5742 entries, 2 to 11944\n",
      "Data columns (total 21 columns):\n",
      " #   Column                      Non-Null Count  Dtype         \n",
      "---  ------                      --------------  -----         \n",
      " 0   index                       5742 non-null   int64         \n",
      " 1   app_id                      5742 non-null   int64         \n",
      " 2   release_date                5742 non-null   datetime64[ns]\n",
      " 3   price                       5727 non-null   float64       \n",
      " 4   price_category              5727 non-null   category      \n",
      " 5   positive_review_percent     5742 non-null   float64       \n",
      " 6   relevant_langs_reviews_sum  5742 non-null   int32         \n",
      " 7   tags                        5742 non-null   object        \n",
      " 8   mod_interface_languages     5742 non-null   object        \n",
      " 9   mod_full_audio_languages    5742 non-null   object        \n",
      " 10  mod_subtitles_languages     5742 non-null   object        \n",
      " 11  language_comment_counts     5742 non-null   object        \n",
      " 12  comment_ratios              5742 non-null   object        \n",
      " 13  comment_diff_agnostic       5742 non-null   object        \n",
      " 14  comment_diff_any            5742 non-null   object        \n",
      " 15  comment_diff_interface      5742 non-null   object        \n",
      " 16  comment_diff_audio          5742 non-null   object        \n",
      " 17  comment_diff_subtitles      5742 non-null   object        \n",
      " 18  date_scraped                5742 non-null   object        \n",
      " 19  tag_count                   5742 non-null   int64         \n",
      " 20  usable_tag_count            5742 non-null   int64         \n",
      "dtypes: category(1), datetime64[ns](1), float64(2), int32(1), int64(4), object(12)\n",
      "memory usage: 925.3+ KB\n"
     ]
    }
   ],
   "source": [
    "# Arbitrarily set a cutoff date of 1 year ago\n",
    "today = datetime.today()\n",
    "cutoff_date = today - timedelta(weeks=(52))\n",
    "\n",
    "# Remove \n",
    "games_df = games_df[games_df['release_date'] < cutoff_date]\n",
    "games_df.info()"
   ]
  },
  {
   "cell_type": "code",
   "execution_count": 16,
   "metadata": {},
   "outputs": [
    {
     "name": "stdout",
     "output_type": "stream",
     "text": [
      "<class 'pandas.core.frame.DataFrame'>\n",
      "Int64Index: 5727 entries, 2 to 11944\n",
      "Data columns (total 21 columns):\n",
      " #   Column                      Non-Null Count  Dtype         \n",
      "---  ------                      --------------  -----         \n",
      " 0   index                       5727 non-null   int64         \n",
      " 1   app_id                      5727 non-null   int64         \n",
      " 2   release_date                5727 non-null   datetime64[ns]\n",
      " 3   price                       5727 non-null   float64       \n",
      " 4   price_category              5727 non-null   category      \n",
      " 5   positive_review_percent     5727 non-null   float64       \n",
      " 6   relevant_langs_reviews_sum  5727 non-null   int32         \n",
      " 7   tags                        5727 non-null   object        \n",
      " 8   mod_interface_languages     5727 non-null   object        \n",
      " 9   mod_full_audio_languages    5727 non-null   object        \n",
      " 10  mod_subtitles_languages     5727 non-null   object        \n",
      " 11  language_comment_counts     5727 non-null   object        \n",
      " 12  comment_ratios              5727 non-null   object        \n",
      " 13  comment_diff_agnostic       5727 non-null   object        \n",
      " 14  comment_diff_any            5727 non-null   object        \n",
      " 15  comment_diff_interface      5727 non-null   object        \n",
      " 16  comment_diff_audio          5727 non-null   object        \n",
      " 17  comment_diff_subtitles      5727 non-null   object        \n",
      " 18  date_scraped                5727 non-null   object        \n",
      " 19  tag_count                   5727 non-null   int64         \n",
      " 20  usable_tag_count            5727 non-null   int64         \n",
      "dtypes: category(1), datetime64[ns](1), float64(2), int32(1), int64(4), object(12)\n",
      "memory usage: 922.9+ KB\n"
     ]
    }
   ],
   "source": [
    "# Remove any games with no price.\n",
    "\n",
    "games_df = games_df[~games_df['price'].isnull()]\n",
    "games_df.info()"
   ]
  },
  {
   "cell_type": "code",
   "execution_count": 17,
   "metadata": {},
   "outputs": [],
   "source": [
    "# Clean our index.\n",
    "\n",
    "games_df = games_df.reset_index()"
   ]
  },
  {
   "cell_type": "markdown",
   "metadata": {},
   "source": [
    "Prepare for Modeling\n",
    "---"
   ]
  },
  {
   "cell_type": "code",
   "execution_count": 18,
   "metadata": {},
   "outputs": [],
   "source": [
    "# Let's do a silly one-hot\n",
    "for tag in usable_tags :\n",
    "    games_df[tag] = 0\n",
    "    for index, row in games_df.iterrows() :\n",
    "        if tag in row['tags'] :\n",
    "            games_df.loc[index, tag] = 1\n"
   ]
  },
  {
   "cell_type": "code",
   "execution_count": 19,
   "metadata": {},
   "outputs": [],
   "source": [
    "# Normalize our other main predicter variable...\n",
    "mean = games_df['price'].mean()\n",
    "std = games_df['price'].std()\n",
    "\n",
    "games_df['price'] = (games_df['price'] - mean) / std"
   ]
  },
  {
   "cell_type": "code",
   "execution_count": 20,
   "metadata": {},
   "outputs": [],
   "source": [
    "# Output a subset of the df that will be used for modeling\n",
    "\n",
    "columns_to_drop = [\"price_category\", \"positive_review_percent\", \"relevant_langs_reviews_sum\", \\\n",
    "                    \"tags\", \"language_comment_counts\", \"date_scraped\", \"tag_count\", \"usable_tag_count\", \\\n",
    "                    \"comment_ratios\", \"mod_interface_languages\", \"mod_full_audio_languages\", \"mod_subtitles_languages\"]\n",
    "\n",
    "games_df = games_df.drop(columns=columns_to_drop)"
   ]
  },
  {
   "cell_type": "code",
   "execution_count": 21,
   "metadata": {},
   "outputs": [],
   "source": [
    "# Because selecting our specific target will also be something we play with in modeling, we'll do that in the modeling notebook!\n",
    "# But we can still split things into X-inverses and y-iverses\n",
    "\n",
    "target_cols = ['comment_diff_agnostic', 'comment_diff_any', 'comment_diff_interface', 'comment_diff_audio', 'comment_diff_subtitles', 'release_date']\n",
    "\n",
    "X = games_df.drop(columns=target_cols)\n",
    "y = games_df[target_cols]"
   ]
  },
  {
   "cell_type": "markdown",
   "metadata": {},
   "source": [
    "Save & Quit\n",
    "---"
   ]
  },
  {
   "cell_type": "code",
   "execution_count": 22,
   "metadata": {},
   "outputs": [],
   "source": [
    "with open('../data/processed/2 - Games DF - PreProcessed Features', 'wb') as file :\n",
    "    pickle.dump(X, file)\n",
    "\n",
    "with open('../data/processed/2 - Games DF - PreProcessed Targets', 'wb') as file :\n",
    "    pickle.dump(y, file)"
   ]
  },
  {
   "cell_type": "markdown",
   "metadata": {},
   "source": [
    "-----------------------"
   ]
  }
 ],
 "metadata": {
  "kernelspec": {
   "display_name": "base",
   "language": "python",
   "name": "python3"
  },
  "language_info": {
   "codemirror_mode": {
    "name": "ipython",
    "version": 3
   },
   "file_extension": ".py",
   "mimetype": "text/x-python",
   "name": "python",
   "nbconvert_exporter": "python",
   "pygments_lexer": "ipython3",
   "version": "3.10.13"
  }
 },
 "nbformat": 4,
 "nbformat_minor": 2
}
