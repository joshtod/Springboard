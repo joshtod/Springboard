{
 "cells": [
  {
   "cell_type": "markdown",
   "metadata": {},
   "source": [
    "## Steam User Page Scraper\n",
    "\n",
    "This notebook finds Steam user page URLs, then scrapes info from those user profile pages.\n",
    "\n",
    "The unique ID will be the user page url.\n",
    "\n",
    "Things to maybe scrape:\n",
    "\n",
    "Friends list (unique identifiers)\n",
    "Groups (url as identifier)\n",
    "Recent activity games, clickthrough to 'all recently played' (playtime, last played, achievements/total)\n",
    "Badges\n",
    "Reviews (number left, on which games)\n",
    "Avg game completion rate\n",
    "Game cards\n",
    "Number of alternate screennames"
   ]
  },
  {
   "cell_type": "code",
   "execution_count": null,
   "metadata": {},
   "outputs": [],
   "source": [
    "# Basic DS stuff\n",
    "import numpy as np\n",
    "import pandas as pd\n",
    "\n",
    "# Trying not to get blocked while scraping by inputting\n",
    "# random delays between Get requests.\n",
    "import random\n",
    "import time\n",
    "\n",
    "# Web scraping\n",
    "import requests\n",
    "from bs4 import BeautifulSoup\n",
    "from urllib.request import urlopen\n",
    "\n",
    "# I needed some extra help locating specific parts within a\n",
    "# bs4 tag object, so I got this.\n",
    "import re\n",
    "\n",
    "# For labeling records, tracking files, and formatting\n",
    "from datetime import datetime\n",
    "\n",
    "# To help see if we have existing data or not.\n",
    "import os\n",
    "\n",
    "# For Rick\n",
    "import pickle\n",
    "\n",
    "start_time = time.time()"
   ]
  }
 ],
 "metadata": {
  "language_info": {
   "name": "python"
  }
 },
 "nbformat": 4,
 "nbformat_minor": 2
}
