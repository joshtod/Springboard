{
 "cells": [
  {
   "cell_type": "markdown",
   "metadata": {},
   "source": [
    "Data Wrangling & Cleaning\n",
    "---\n",
    "\n",
    "This notebook includes the following steps:\n",
    "\n",
    "1. Load the data from the 0 json\n",
    "2. Fixes data types\n",
    "3. Checks the data for reasonableness and "
   ]
  },
  {
   "cell_type": "code",
   "execution_count": 7,
   "metadata": {},
   "outputs": [],
   "source": [
    "import pandas as pd\n",
    "import numpy as np\n",
    "\n",
    "import matplotlib.pyplot as plt\n",
    "import seaborn as sns\n",
    "from datetime import date\n",
    "\n",
    "from bs4 import BeautifulSoup\n",
    "from urllib.request import urlopen\n",
    "\n",
    "import pickle"
   ]
  },
  {
   "cell_type": "markdown",
   "metadata": {},
   "source": [
    "Step 1: Load up our scraped dataset\n",
    "---"
   ]
  },
  {
   "cell_type": "code",
   "execution_count": 8,
   "metadata": {},
   "outputs": [
    {
     "name": "stdout",
     "output_type": "stream",
     "text": [
      "<class 'pandas.core.frame.DataFrame'>\n",
      "RangeIndex: 50002 entries, 0 to 50001\n",
      "Data columns (total 43 columns):\n",
      " #   Column                   Non-Null Count  Dtype  \n",
      "---  ------                   --------------  -----  \n",
      " 0   app_id                   50002 non-null  int64  \n",
      " 1   title                    50002 non-null  object \n",
      " 2   release_date             49968 non-null  object \n",
      " 3   positive_review_percent  35269 non-null  float64\n",
      " 4   number_of_reviews        35269 non-null  float64\n",
      " 5   price                    49661 non-null  float64\n",
      " 6   game_page_link           50002 non-null  object \n",
      " 7   tags                     50002 non-null  object \n",
      " 8   date_scraped             50002 non-null  object \n",
      " 9   developer                49990 non-null  object \n",
      " 10  publisher                49727 non-null  object \n",
      " 11  description              50002 non-null  object \n",
      " 12  interface_languages      50002 non-null  object \n",
      " 13  full_audio_languages     50002 non-null  object \n",
      " 14  subtitles_languages      50002 non-null  object \n",
      " 15  english                  50002 non-null  int64  \n",
      " 16  schinese                 48478 non-null  float64\n",
      " 17  tchinese                 2148 non-null   float64\n",
      " 18  japanese                 48478 non-null  float64\n",
      " 19  koreana                  48477 non-null  float64\n",
      " 20  thai                     2148 non-null   float64\n",
      " 21  bulgarian                2148 non-null   float64\n",
      " 22  czech                    2148 non-null   float64\n",
      " 23  danish                   2148 non-null   float64\n",
      " 24  german                   48475 non-null  float64\n",
      " 25  spanish                  48478 non-null  float64\n",
      " 26  latam                    2148 non-null   float64\n",
      " 27  greek                    2148 non-null   float64\n",
      " 28  french                   48478 non-null  float64\n",
      " 29  italian                  48473 non-null  float64\n",
      " 30  indonesian               2148 non-null   float64\n",
      " 31  hungarian                2148 non-null   float64\n",
      " 32  dutch                    2148 non-null   float64\n",
      " 33  norwegian                2148 non-null   float64\n",
      " 34  polish                   48477 non-null  float64\n",
      " 35  brazilian                48475 non-null  float64\n",
      " 36  romanian                 2148 non-null   float64\n",
      " 37  russian                  48477 non-null  float64\n",
      " 38  finnish                  2148 non-null   float64\n",
      " 39  swedish                  2148 non-null   float64\n",
      " 40  turkish                  2148 non-null   float64\n",
      " 41  vietnamese               2148 non-null   float64\n",
      " 42  tag_list                 50002 non-null  object \n",
      "dtypes: float64(29), int64(2), object(12)\n",
      "memory usage: 16.4+ MB\n"
     ]
    }
   ],
   "source": [
    "with open('../data/raw/0 - Scraped Games DF.pkl', 'rb') as file :\n",
    "    games_df = pickle.load(file)\n",
    "\n",
    "games_df.info()"
   ]
  },
  {
   "cell_type": "code",
   "execution_count": 9,
   "metadata": {},
   "outputs": [
    {
     "name": "stdout",
     "output_type": "stream",
     "text": [
      "<class 'pandas.core.frame.DataFrame'>\n",
      "RangeIndex: 50002 entries, 0 to 50001\n",
      "Data columns (total 27 columns):\n",
      " #   Column                   Non-Null Count  Dtype  \n",
      "---  ------                   --------------  -----  \n",
      " 0   app_id                   50002 non-null  int64  \n",
      " 1   title                    50002 non-null  object \n",
      " 2   release_date             49968 non-null  object \n",
      " 3   positive_review_percent  35269 non-null  float64\n",
      " 4   number_of_reviews        35269 non-null  float64\n",
      " 5   price                    49661 non-null  float64\n",
      " 6   game_page_link           50002 non-null  object \n",
      " 7   tags                     50002 non-null  object \n",
      " 8   date_scraped             50002 non-null  object \n",
      " 9   developer                49990 non-null  object \n",
      " 10  publisher                49727 non-null  object \n",
      " 11  description              50002 non-null  object \n",
      " 12  interface_languages      50002 non-null  object \n",
      " 13  full_audio_languages     50002 non-null  object \n",
      " 14  subtitles_languages      50002 non-null  object \n",
      " 15  english                  50002 non-null  int64  \n",
      " 16  schinese                 48478 non-null  float64\n",
      " 17  japanese                 48478 non-null  float64\n",
      " 18  koreana                  48477 non-null  float64\n",
      " 19  german                   48475 non-null  float64\n",
      " 20  spanish                  48478 non-null  float64\n",
      " 21  french                   48478 non-null  float64\n",
      " 22  italian                  48473 non-null  float64\n",
      " 23  polish                   48477 non-null  float64\n",
      " 24  brazilian                48475 non-null  float64\n",
      " 25  russian                  48477 non-null  float64\n",
      " 26  tag_list                 50002 non-null  object \n",
      "dtypes: float64(13), int64(2), object(12)\n",
      "memory usage: 10.3+ MB\n"
     ]
    }
   ],
   "source": [
    "# I originally wanted to keep all unused language comment counts, but that makes the df exceed github's max file size.\n",
    "# Boo-hoo!\n",
    "# Let's just dump them here. They're the only ones fewer than 3k values.\n",
    "\n",
    "cols_to_drop = []\n",
    "\n",
    "for col in games_df.columns :\n",
    "    if games_df[col].isnull().sum() > 20000 :\n",
    "        cols_to_drop.append(col)\n",
    "\n",
    "games_df = games_df.drop(columns=cols_to_drop)\n",
    "\n",
    "games_df.info()"
   ]
  },
  {
   "cell_type": "markdown",
   "metadata": {},
   "source": [
    "Step 2: Standardize our data types\n",
    "---"
   ]
  },
  {
   "cell_type": "code",
   "execution_count": 10,
   "metadata": {},
   "outputs": [
    {
     "name": "stdout",
     "output_type": "stream",
     "text": [
      "Stored 'relevant_langs' (list)\n",
      "1530\n"
     ]
    }
   ],
   "source": [
    "# The numbers in the comment count columns are strings\n",
    "# with extra characters. Let's standardize them as ints.\n",
    "\n",
    "# First, let's get a list of the columns that we need to process.\n",
    "# That's all columns from the comments df and one column from the\n",
    "# original game page scraped df.\n",
    "%store -r top_10_languages\n",
    "%store -r all_languages\n",
    "relevant_langs = top_10_languages.copy()\n",
    "relevant_langs.append('english')\n",
    "%store relevant_langs\n",
    "\n",
    "\n",
    "# We need all our comment counts to be ints.\n",
    "# Some of them failed to scrape - we can almost certainly remove\n",
    "# them without impacting our study, but I would like to check to\n",
    "# make sure something didn't go wrong in our previous step that\n",
    "# caused too many of them to fail.\n",
    "# So, we'll two-birds this.\n",
    "# As we ensure that all the values are ints, we'll remove the\n",
    "# ones that are \"Failed\", and then display the removed indexes.\n",
    "# We also have some games that weren't released at time of\n",
    "# scraping, so we'll just remove those as well at this stage.\n",
    "indexes_to_remove = set()\n",
    "\n",
    "for index, row in games_df.iterrows() :\n",
    "    for language in relevant_langs :\n",
    "        # If the count is \"Failed\", mark it for deletion.\n",
    "        if (row[language] == 'Failed') or (pd.isna(row[language])) :\n",
    "            indexes_to_remove.add(index)\n",
    "        \n",
    "print(len(indexes_to_remove))"
   ]
  },
  {
   "cell_type": "code",
   "execution_count": 11,
   "metadata": {},
   "outputs": [],
   "source": [
    "# Not too bad. Let's just drop them, then integerize.\n",
    "\n",
    "games_df = games_df.drop(indexes_to_remove)\n",
    "games_df = games_df.reset_index(drop=True)\n",
    "\n",
    "for language in relevant_langs :\n",
    "    games_df[language] = games_df[language].astype(int)"
   ]
  },
  {
   "cell_type": "code",
   "execution_count": 12,
   "metadata": {},
   "outputs": [],
   "source": [
    "# For games that have multiple publishers, developers, etc, they're all stored as one string.\n",
    "# If we want to use this data eventually, we should split it into lists.\n",
    "# Some games don't have publishers or developers, and that's fine.\n",
    "# Oddly, some of them have trailing spaces.\n",
    "for index, row in games_df.iterrows() :\n",
    "    if not row['developer'] :\n",
    "        games_df.at[index, 'developer'] = []\n",
    "    else :\n",
    "        if type(row['developer']) != list :\n",
    "            row['developer'] = row['developer'].split(', ')\n",
    "            # Since the above line changes the str into a list, we can .strip() each item in the list\n",
    "            # with a comprehension.\n",
    "            list_of_developers = [name.strip() for name in row['developer']]\n",
    "            games_df.at[index, 'developer'] = list_of_developers\n",
    "\n",
    "    # And again.\n",
    "    if not row['publisher'] :\n",
    "        games_df.at[index, 'publisher'] = []\n",
    "    else :\n",
    "        if type(row['publisher']) != list :\n",
    "            row['publisher'] = row['publisher'].split(', ')\n",
    "            list_of_publishers = [name.strip() for name in row['publisher']]\n",
    "            games_df.at[index, 'publisher'] = list_of_publishers"
   ]
  },
  {
   "cell_type": "code",
   "execution_count": 13,
   "metadata": {},
   "outputs": [
    {
     "name": "stdout",
     "output_type": "stream",
     "text": [
      "<class 'list'>\n"
     ]
    }
   ],
   "source": [
    "# The tags are also just a string. We need them listed.\n",
    "tags_list = []\n",
    "\n",
    "for index, row in games_df.iterrows() :\n",
    "    if (type(row['tags']) != list) & (row['tags'] != '') :\n",
    "        tags_list = row['tags'].strip('[]').split(',')\n",
    "        games_df.at[index, 'tags'] = tags_list\n",
    "\n",
    "print(type(games_df.loc[0, 'tags']))"
   ]
  },
  {
   "cell_type": "code",
   "execution_count": 14,
   "metadata": {},
   "outputs": [
    {
     "name": "stdout",
     "output_type": "stream",
     "text": [
      "<class 'list'>\n"
     ]
    }
   ],
   "source": [
    "# Same problem for our languages types columns (interface, audio, subitles).\n",
    "\n",
    "for index, row in games_df.iterrows() :\n",
    "    if (type(row['interface_languages']) != list) & (row['interface_languages'] != '') :\n",
    "        languages_list = row['interface_languages'].strip('[]').split(', ')\n",
    "        games_df.at[index, 'interface_languages'] = languages_list\n",
    "    if (type(row['full_audio_languages']) != list) & (row['full_audio_languages'] != '') :\n",
    "        languages_list = row['full_audio_languages'].strip('[]').split(', ')\n",
    "        games_df.at[index, 'full_audio_languages'] = languages_list\n",
    "    if (type(row['subtitles_languages']) != list) & (row['subtitles_languages'] != '') :\n",
    "        languages_list = row['subtitles_languages'].strip('[]').split(', ')\n",
    "        games_df.at[index, 'subtitles_languages'] = languages_list\n",
    "\n",
    "# Check.\n",
    "print(type(games_df.loc[0, 'interface_languages']))"
   ]
  },
  {
   "cell_type": "code",
   "execution_count": 15,
   "metadata": {},
   "outputs": [
    {
     "name": "stdout",
     "output_type": "stream",
     "text": [
      "Stored 'tags_dict' (dict)\n"
     ]
    }
   ],
   "source": [
    "# For future reference, let's create a dictionary of tags codes & their meanings.\n",
    "# We can get that from the search page.\n",
    "# Keys will be the codes. Values will be the names.\n",
    "url = 'https://store.steampowered.com/search'\n",
    "html = urlopen(url)\n",
    "soup = BeautifulSoup(html, 'lxml')\n",
    "\n",
    "# The relevant data is in this one code block.\n",
    "code_block = soup.find('div', id=\"TagFilter_Container\")\n",
    "\n",
    "# Create the empty dict.\n",
    "tags_dict = {}\n",
    "\n",
    "# Iterate over all 400+ tags described in the code block.\n",
    "for listing in code_block.find_all('div', class_='tab_filter_control_row') :\n",
    "    tag_code = listing.get('data-value')\n",
    "    tag_name = listing.get('data-loc')\n",
    "    tags_dict[tag_code] = tag_name\n",
    "\n",
    "# We'll probably need it later, so let's save it a couple ways.\n",
    "# Weirdly, it's quicker and easier to do this via a DF.\n",
    "tags_dict_df = pd.DataFrame.from_dict(tags_dict, orient='index')\n",
    "tags_dict_df.to_csv('../data/raw/tag_dictionary.csv')\n",
    "%store tags_dict"
   ]
  },
  {
   "cell_type": "code",
   "execution_count": 16,
   "metadata": {},
   "outputs": [],
   "source": [
    "# For standardization, let's convert the numeric tags to text tags now.\n",
    "\n",
    "for index, row in games_df.iterrows() :\n",
    "    if row['tags'] != ['Failed'] :\n",
    "        tag_container = []\n",
    "        for tag in row['tags'] :\n",
    "            tag_container.append(tags_dict[tag])\n",
    "        games_df.at[index, 'tags'] = tag_container.copy()"
   ]
  },
  {
   "cell_type": "markdown",
   "metadata": {},
   "source": [
    "Implement indicator variables\n",
    "---"
   ]
  },
  {
   "cell_type": "code",
   "execution_count": 17,
   "metadata": {},
   "outputs": [],
   "source": [
    "# For language_types, implement pipes (???)\n",
    "# NOTE:dx WHAT DID I MEAN BY THIS??????"
   ]
  },
  {
   "cell_type": "markdown",
   "metadata": {},
   "source": [
    "Step 3: Sanity checks\n",
    "---"
   ]
  },
  {
   "cell_type": "code",
   "execution_count": 18,
   "metadata": {},
   "outputs": [
    {
     "data": {
      "text/plain": [
       "<Axes: >"
      ]
     },
     "execution_count": 18,
     "metadata": {},
     "output_type": "execute_result"
    },
    {
     "data": {
      "image/png": "[encoded data removed]",
      "text/plain": [
       "<Figure size 640x480 with 1 Axes>"
      ]
     },
     "metadata": {},
     "output_type": "display_data"
    }
   ],
   "source": [
    "# Since our tag_list column is very important to us, let's make sure\n",
    "# that the entries are reasonably comparable.\n",
    "\n",
    "# In order to count the number of tags in each game's tag list,\n",
    "# let's turn that column into a list of lists (by way of a series)\n",
    "# so that we can use a list comprehension to get a list of len()s.\n",
    "series_of_tags_column_values = games_df['tag_list']\n",
    "list_of_tags_column_values = series_of_tags_column_values.tolist()\n",
    "tags_values_lengths = [len(x) for x in list_of_tags_column_values]\n",
    "\n",
    "# Now we organize the counts into a dictionary, where the keys are\n",
    "# the lengths and the values are the frequencies of those lengths.\n",
    "dict_of_lenghts = {}\n",
    "\n",
    "for length in tags_values_lengths :\n",
    "    if length in dict_of_lenghts :\n",
    "        dict_of_lenghts[length] += 1\n",
    "    else :\n",
    "        dict_of_lenghts[length] = 1\n",
    "\n",
    "# Now let's plot it.\n",
    "lengths = []\n",
    "for key, value in dict_of_lenghts.items() :\n",
    "    lengths.append((key, value))\n",
    "\n",
    "x_axis = [x[0] for x in lengths]\n",
    "y_axis = [x[1] for x in lengths]\n",
    "\n",
    "sns.barplot(x=x_axis, y=y_axis)\n",
    "\n",
    "# Looks not too bad. Looks like the vast majority of games have 20 tags."
   ]
  },
  {
   "cell_type": "code",
   "execution_count": 19,
   "metadata": {},
   "outputs": [],
   "source": [
    "# I discovered that summing the number of comments in the top 10 loc languages + En\n",
    "# as recorded in our DF resulted in a HIGHER comment count than Steam displays (which\n",
    "# is the one we grabbed from Steam as \"number_of_reviews\").\n",
    "\n",
    "# I don't know why that is, but it doesn't really matter. What we want is the RELATIVE\n",
    "# difference in comments per game WITHIN each language, so as long as Steam calculates\n",
    "# the number of comments in each language in a consistent way WITHIN each language, our\n",
    "# method still works.\n",
    "\n",
    "# Thus the \"number_of_reviews\" column may be useless to us, BUT I'm loathe to let go\n",
    "# of any data. Let's keep it for now, and just add a new column that we'll use for our\n",
    "# calculations: \"relevant_langs_review_sum\"\n",
    "\n",
    "games_df['relevant_langs_comments_sum'] = None\n",
    "\n",
    "for index, row in games_df.iterrows() :\n",
    "    games_df.loc[index, 'relevant_langs_comments_sum'] = row[relevant_langs].sum()\n",
    "\n",
    "games_df['relevant_langs_comments_sum'] = games_df['relevant_langs_comments_sum'].astype(int)"
   ]
  },
  {
   "cell_type": "code",
   "execution_count": 20,
   "metadata": {},
   "outputs": [],
   "source": [
    "# NOTE: This NLP step is pretty complex and not entirely relevant for the ML task at hand, so we'll leave it out for now.\n",
    "\n",
    "\n",
    "\n",
    "\n",
    "\n",
    "# # Check for string similarity in all verbal cols.\n",
    "# # In developer and publisher, this could likely find typos.\n",
    "\n",
    "# # First, let's create sets of all the extant developer and publisher names\n",
    "# # as currently typed.\n",
    "\n",
    "# set_of_developer_names = set()\n",
    "\n",
    "# for developers_list in games_df['developer'] :\n",
    "#     for developer in developers_list :\n",
    "#         set_of_developer_names.add(developer)\n",
    "\n",
    "# set_of_publisher_names = set()\n",
    "\n",
    "# for publishers_list in games_df['publisher'] :\n",
    "#     for publisher in publishers_list :\n",
    "#         set_of_publisher_names.add(publisher)\n",
    "\n",
    "# # Now, let's see if any items in that list are super similar to each other.\n",
    "# # This could possibly the the result of a typo.\n",
    "# # Let's first find the MOST similar pair in each set.\n",
    "# # If these pairs are clearly not typos, then it's very likely that there are\n",
    "# # no typos at all.\n",
    "\n",
    "# list_of_developer_similarities = []\n",
    "# listing = []\n",
    "\n",
    "# for developer in set_of_developer_names :\n",
    "#     # Create a set of names to test this name against.\n",
    "#     # We want to avoid testing the name against itself,\n",
    "#     # since that will return a maximum similarity score\n",
    "#     # and make our lives harder.\n",
    "#     # So, we'll create a new set, then drop this name\n",
    "#     # from the set before doing the comparisons.\n",
    "#     testing_set = set_of_developer_names.copy()\n",
    "#     testing_set.remove(developer)\n",
    "#     highest = process.extract(developer, testing_set, limit=1)\n",
    "#     # We need to retain both of the tested strings, while .extract only\n",
    "#     # returns the second one. We'll have to group them manually.\n",
    "#     # Let's also arbitrarily set 90 as the cutoff for similarity.\n",
    "#     if highest[0][1] >= 90 :\n",
    "#         listing = [developer, highest[0][0], highest[0][1]]\n",
    "#         list_of_developer_similarities.append(listing)\n",
    "\n",
    "\n",
    "# # Then we do it all again for publishers.\n",
    "# list_of_publisher_similarities = []\n",
    "\n",
    "# for publisher in set_of_publisher_names :\n",
    "#     testing_set = set_of_publisher_names.copy()\n",
    "#     testing_set.remove(publisher)\n",
    "#     highest = process.extract(publisher, testing_set, limit=1)\n",
    "#     if highest[0][1] >= 90 :\n",
    "#         listing = [publisher, highest[0][0], highest[0][1]]\n",
    "#         list_of_publisher_similarities.append(listing)\n",
    "\n",
    "\n",
    "# # Now we sort the lists by the similarity score.\n",
    "# list_of_developer_similarities.sort(key=lambda x: x[2], reverse=True)\n",
    "# list_of_publisher_similarities.sort(key=lambda x: x[2], reverse=True)\n",
    "\n",
    "\n",
    "# # Let's take a look at some of them... and also get a feel for\n",
    "# # how long these lists are (and therefore how many of these names\n",
    "# # are truly similar).\n",
    "# print('Similar developer names:')\n",
    "# print(list_of_developer_similarities[0:10])\n",
    "# print('Total similarity scores over 90: '+str(len(list_of_developer_similarities)))\n",
    "# print('')\n",
    "# print('Similar publisher names:')\n",
    "# print(list_of_publisher_similarities[0:10])\n",
    "# print('Total similarity scores over 90: '+str(len(list_of_publisher_similarities)))\n",
    "\n",
    "# # Well, what I've learned from this is that the names of developers and publishers\n",
    "# # would be a LOT of work to fix. Since we don't need them for now (they aren't part\n",
    "# # of our key analysis), we can just leave them as-is and clean them later if we need\n",
    "# # them."
   ]
  },
  {
   "cell_type": "markdown",
   "metadata": {},
   "source": [
    "Step 4: Determine completeness\n",
    "---"
   ]
  },
  {
   "cell_type": "code",
   "execution_count": 21,
   "metadata": {},
   "outputs": [
    {
     "name": "stdout",
     "output_type": "stream",
     "text": [
      "152\n"
     ]
    }
   ],
   "source": [
    "# While I want to keep all the data around just in case, this is a great\n",
    "# point for us to determine whether some rows may not be useful for us.\n",
    "\n",
    "# Our main label is the comment counts per language, so we can safely drop\n",
    "# all rows that have no language-specific comment counts at all.\n",
    "\n",
    "indexes_to_drop = []\n",
    "\n",
    "for index, row in games_df[relevant_langs].iterrows() :\n",
    "    if row.sum() == 0 :\n",
    "        indexes_to_drop.append(index)\n",
    "\n",
    "print(len(indexes_to_drop))\n"
   ]
  },
  {
   "cell_type": "code",
   "execution_count": 22,
   "metadata": {},
   "outputs": [],
   "source": [
    "# Not bad. Not worth fussing over. Let's just throw them out\n",
    "# directly.\n",
    "games_df = games_df.drop(indexes_to_drop)\n",
    "games_df = games_df.reset_index(drop=True)"
   ]
  },
  {
   "cell_type": "code",
   "execution_count": 23,
   "metadata": {},
   "outputs": [
    {
     "name": "stdout",
     "output_type": "stream",
     "text": [
      "0\n"
     ]
    }
   ],
   "source": [
    "# Our main feature is the tags, so we should make sure that all rows have them.\n",
    "# We can use the 'tags' col for this, since a presence in the 'tags' column\n",
    "# implies presence in the 'tag_list' column as well.\n",
    "indexes_to_drop = []\n",
    "\n",
    "for index, row in games_df.iterrows() :\n",
    "    if len(row['tags']) == 0 :\n",
    "        indexes_to_drop.append(index)\n",
    "\n",
    "print(len(indexes_to_drop))\n",
    "# Excellent! Looks like we're in the clear there."
   ]
  },
  {
   "cell_type": "markdown",
   "metadata": {},
   "source": [
    "Step 5: A bit more standardization\n",
    "---"
   ]
  },
  {
   "cell_type": "code",
   "execution_count": 24,
   "metadata": {},
   "outputs": [],
   "source": [
    "# I've noticed that the way languages are written in the langauge types columns is different\n",
    "# from the way they're written in the languages columns. We'll need them to match up if we\n",
    "# want to do a comparative analysis.\n",
    "\n",
    "# The problems are threefold.\n",
    "# First, the capitalization is different.\n",
    "# Second, the language types columns split up some languages (for example, Spanish is split\n",
    "#   into \"Spanish - Spain\" and \"Spanish - Latin America\").\n",
    "# Third, some are just spelled differently, like \"schinese\" and \"Simplified Chinese\".\n",
    "\n",
    "# Since I don't want to lose data, I'll make new columns to hold the 'reduced' versions\n",
    "# (for example, where 'Spanish- Spain' is 'reduced' to 'spanish')\n",
    "\n",
    "# First, make cols and fill 'em with lists\n",
    "games_df['mod_interface_languages'] = [[] for _ in range(len(games_df))]\n",
    "games_df['mod_full_audio_languages'] = [[] for _ in range(len(games_df))]\n",
    "games_df['mod_subtitles_languages'] = [[] for _ in range(len(games_df))]\n",
    "\n",
    "\n",
    "# Next, let's just lowcap everything. Turn down the volume a bit.\n",
    "for index, row in games_df.iterrows() :\n",
    "\n",
    "    for item in row['interface_languages'] :\n",
    "        # Make a easy-to-mess-with version\n",
    "        lang = item.lower()\n",
    "\n",
    "        # Check to see if it's a variant, replace if so\n",
    "        for language in relevant_langs :\n",
    "            if language in lang :\n",
    "                lang = language\n",
    "\n",
    "        # And it looks like there are three special cases we need to handle specifically.\n",
    "        if lang == 'simplified chinese' :\n",
    "            lang = 'schinese'\n",
    "        \n",
    "        if lang == 'portuguese - brazil' :\n",
    "            lang = 'brazilian'\n",
    "        \n",
    "        if lang == 'korean' :\n",
    "            lang = 'koreana'\n",
    "\n",
    "        # Add the lowercaseified, standardizified version to the col in the main df\n",
    "        games_df.loc[index, 'mod_interface_languages'].append(lang)\n",
    "\n",
    "\n",
    "    # Now we do the same for the other two langauge type columns...\n",
    "    for item in row['full_audio_languages'] :\n",
    "        # Make a easy-to-mess-with version\n",
    "        lang = item.lower()\n",
    "\n",
    "        # Check to see if it's a variant, replace if so\n",
    "        for language in relevant_langs :\n",
    "            if language in lang :\n",
    "                lang = language\n",
    "\n",
    "        # And it looks like there are two special cases we need to handle specifically.\n",
    "        if lang == 'simplified chinese' :\n",
    "            lang = 'schinese'\n",
    "        \n",
    "        if lang == 'portuguese - brazil' :\n",
    "            lang = 'brazilian'\n",
    "\n",
    "        if lang == 'korean' :\n",
    "            lang = 'koreana'\n",
    "\n",
    "        # Add the lowercaseified, standardizified version to the col in the main df\n",
    "        games_df.loc[index, 'mod_full_audio_languages'].append(lang)\n",
    "\n",
    "\n",
    "    for item in row['subtitles_languages'] :\n",
    "        # Make a easy-to-mess-with version\n",
    "        lang = item.lower()\n",
    "\n",
    "        # Check to see if it's a variant, replace if so\n",
    "        for language in relevant_langs :\n",
    "            if language in lang :\n",
    "                lang = language\n",
    "\n",
    "        # And it looks like there are two special cases we need to handle specifically.\n",
    "        if lang == 'simplified chinese' :\n",
    "            lang = 'schinese'\n",
    "        \n",
    "        if lang == 'portuguese - brazil' :\n",
    "            lang = 'brazilian'\n",
    "\n",
    "        if lang == 'korean' :\n",
    "            lang = 'koreana'\n",
    "\n",
    "        # Add the lowercaseified, standardizified version to the col in the main df\n",
    "        games_df.loc[index, 'mod_subtitles_languages'].append(lang)"
   ]
  },
  {
   "cell_type": "markdown",
   "metadata": {},
   "source": [
    "Step 6: Wrangle a couple more key columns\n",
    "---"
   ]
  },
  {
   "cell_type": "code",
   "execution_count": 25,
   "metadata": {},
   "outputs": [
    {
     "name": "stdout",
     "output_type": "stream",
     "text": [
      "0.0       6907\n",
      "499.0     5493\n",
      "999.0     5109\n",
      "99.0      4667\n",
      "199.0     3387\n",
      "299.0     3055\n",
      "1999.0    2683\n",
      "1499.0    2613\n",
      "399.0     2088\n",
      "699.0     1709\n",
      "599.0     1575\n",
      "799.0     1366\n",
      "2999.0     912\n",
      "2499.0     842\n",
      "1199.0     697\n",
      "1299.0     697\n",
      "899.0      694\n",
      "3999.0     463\n",
      "1099.0     342\n",
      "1399.0     272\n",
      "1799.0     246\n",
      "5999.0     215\n",
      "1599.0     199\n",
      "1699.0     176\n",
      "4999.0     174\n",
      "3499.0     131\n",
      "1899.0     113\n",
      "4499.0      68\n",
      "Name: price, dtype: int64\n",
      "46893\n"
     ]
    }
   ],
   "source": [
    "# Let's look at how our prices are distributed...\n",
    "list_of_prices = games_df['price']\n",
    "counts = list_of_prices.value_counts()\n",
    "print(counts[counts > 50])\n",
    "print(counts[counts > 50].sum())"
   ]
  },
  {
   "cell_type": "code",
   "execution_count": 26,
   "metadata": {},
   "outputs": [],
   "source": [
    "# We can see that almost 5/6 of our games fall into just a\n",
    "# few price points! That's significant to know. Let's use\n",
    "# these as bins, then \"below that\" and \"above that\" as\n",
    "# separate bins, for a total of 13 bins.\n",
    "\n",
    "# I'm not 100% confident in the efficacy of this method,\n",
    "# so let's preserve the original price data in the DF.\n",
    "# Later, when modeling, we can see if there's a reason\n",
    "# to use one or the other.\n",
    "\n",
    "ranges = [-5, 0, 700, 1200, 1700, 2200, 2700, 3200, 3700, 4200, 4700, 5200, 5700, 6500, 7500, np.inf]\n",
    "range_names = ['none', 'under 10', '999', '1499', '1999', '2499', '2999', '3499', '3999', '4499', '4999', '5499', '5999', '6999', 'over 80']\n",
    "games_df['price_category'] = pd.cut(games_df['price'], bins=ranges, labels=range_names)"
   ]
  },
  {
   "cell_type": "code",
   "execution_count": 27,
   "metadata": {},
   "outputs": [
    {
     "name": "stdout",
     "output_type": "stream",
     "text": [
      "{'german': 0.3525690379410166, 'french': 0.016535154356537875, 'spanish': 0.03161420282480964, 'brazilian': 0.030713682223319053, 'russian': 0.08821763768630837, 'italian': 0.004822618716897914, 'schinese': 0.10997778832079974, 'japanese': 0.0038003839991883103, 'koreana': 0.014845543508421526, 'polish': 0.018375030031172118, 'english': 0.3285289203915288}\n"
     ]
    }
   ],
   "source": [
    "# We have all the info we need now, but it's not quite in a form\n",
    "# that we can use. The total number of comments per language is\n",
    "# meaningless - we need to know the average proportion of comments in\n",
    "# that language, so we can tell if any individual game (and therefore\n",
    "# any specific combination of tags) generates more engagement in that\n",
    "# market than others do.\n",
    "\n",
    "# Unfortunately, there's one other thing that probably impacts the\n",
    "# proportion of comments much more than the game itself - whether or\n",
    "# not the game has been localized into that language at all. So we can\n",
    "# control for that, making multiple constants...\n",
    "\n",
    "# To find the average, we'll need the total amount of comments in all langs\n",
    "# for all games.\n",
    "total_comments = games_df['relevant_langs_comments_sum'].sum()\n",
    "\n",
    "# Now we can programmatically calculate the percentage of ALL comments\n",
    "# that each language occupies.\n",
    "language_averages_agnostic = {}\n",
    "\n",
    "# Iterate over the languages, summing all comments in that language to find\n",
    "# the overall average.\n",
    "for language in relevant_langs :\n",
    "    total_comments_l = games_df[language].sum()\n",
    "    language_average = total_comments_l / total_comments\n",
    "    language_averages_agnostic[language] = language_average\n",
    "\n",
    "print(language_averages_agnostic)\n"
   ]
  },
  {
   "cell_type": "code",
   "execution_count": 28,
   "metadata": {},
   "outputs": [],
   "source": [
    "# Above is the calculation if we ignore whether or not the game is even in that\n",
    "# language. Let's see if it's much different when we take into account text, voice,\n",
    "# and subtitle translation, or any of the three.\n",
    "\n",
    "# Let's subset for these 4 situations, then run the same calculations again.\n",
    "\n",
    "language_averages_any = {}\n",
    "language_averages_interface = {}\n",
    "language_averages_audio = {}\n",
    "language_averages_subtitles = {}\n",
    "\n",
    "\n",
    "# Do it for all languages, all situations.\n",
    "for language in relevant_langs :\n",
    "\n",
    "    # First, the condition of the target language being localized in any way.\n",
    "    running_language_comments = 0\n",
    "    running_total_comments = 0\n",
    "\n",
    "    for index, row in games_df.iterrows() :\n",
    "        if language in row['mod_interface_languages'] or language in row['mod_full_audio_languages'] or language in row['mod_subtitles_languages'] :\n",
    "            if not pd.isna(row[language]) :\n",
    "                running_language_comments += int(row[language])\n",
    "            if not pd.isna(row['relevant_langs_comments_sum']) :\n",
    "                running_total_comments += row['relevant_langs_comments_sum']\n",
    "    if running_total_comments != 0 :\n",
    "        language_averages_any[language] = running_language_comments / running_total_comments\n",
    "\n",
    "\n",
    "    # Now, the condition of the target language being an interface language.\n",
    "    running_total_comments = 0\n",
    "    running_language_comments = 0\n",
    "\n",
    "    for index, row in games_df.iterrows() :\n",
    "        if language in row['mod_interface_languages'] :\n",
    "            if not pd.isna(row[language]) :\n",
    "                running_language_comments += row[language]\n",
    "            if not pd.isna(row['relevant_langs_comments_sum']) :\n",
    "                running_total_comments += row['relevant_langs_comments_sum']\n",
    "        if running_total_comments != 0 :\n",
    "            language_averages_interface[language] = running_language_comments / running_total_comments\n",
    "\n",
    "\n",
    "    # Now, the condition of the target language being an audio langauge.\n",
    "    running_total_comments = 0\n",
    "    running_language_comments = 0\n",
    "\n",
    "    for index, row in games_df.iterrows() :\n",
    "        if language in row['mod_full_audio_languages'] :\n",
    "            if not pd.isna(row[language]) :\n",
    "                running_language_comments += row[language]\n",
    "            if not pd.isna(row['relevant_langs_comments_sum']) :\n",
    "                running_total_comments += row['relevant_langs_comments_sum']\n",
    "    if running_total_comments != 0 :\n",
    "        language_averages_audio[language] = running_language_comments / running_total_comments\n",
    "\n",
    "\n",
    "    # Now, the condition of the target language being a subtitle langauge.\n",
    "    running_total_comments = 0\n",
    "    running_language_comments = 0\n",
    "\n",
    "    for index, row in games_df.iterrows() :\n",
    "        if language in row['mod_subtitles_languages'] :\n",
    "            if not pd.isna(row[language]) :\n",
    "                running_language_comments += row[language]\n",
    "            if not pd.isna(row['relevant_langs_comments_sum']) :\n",
    "                running_total_comments += row['relevant_langs_comments_sum']\n",
    "    if running_total_comments != 0 :\n",
    "        language_averages_subtitles[language] = running_language_comments / running_total_comments"
   ]
  },
  {
   "cell_type": "code",
   "execution_count": 29,
   "metadata": {},
   "outputs": [
    {
     "name": "stdout",
     "output_type": "stream",
     "text": [
      "{'german': 0.3525690379410166, 'french': 0.016535154356537875, 'spanish': 0.03161420282480964, 'brazilian': 0.030713682223319053, 'russian': 0.08821763768630837, 'italian': 0.004822618716897914, 'schinese': 0.10997778832079974, 'japanese': 0.0038003839991883103, 'koreana': 0.014845543508421526, 'polish': 0.018375030031172118, 'english': 0.3285289203915288}\n",
      "{'german': 0.3492516482136332, 'french': 0.017623536582639456, 'spanish': 0.03320930777612948, 'brazilian': 0.03383091045070804, 'russian': 0.09975575661225837, 'italian': 0.005199840927033082, 'schinese': 0.13508260014683035, 'japanese': 0.0039495237689310654, 'koreana': 0.017967641724577564, 'polish': 0.021762775271549968, 'english': 0.3285289203915288}\n",
      "{'german': 0.34920586526794267, 'french': 0.01762877510640206, 'spanish': 0.033210634593159066, 'brazilian': 0.033806689998559625, 'russian': 0.09976857004136931, 'italian': 0.0051999269741517685, 'schinese': 0.1351647107222475, 'japanese': 0.003951442481758586, 'koreana': 0.017971506433969126, 'polish': 0.021739504166764626, 'english': 0.3285289203915288}\n",
      "{'german': 0.35422688009081765, 'french': 0.018280171304715678, 'spanish': 0.036557952572683454, 'brazilian': 0.03423032835609483, 'russian': 0.09349889558127258, 'italian': 0.0060539216049373575, 'schinese': 0.16087558710751027, 'japanese': 0.005059411095493603, 'koreana': 0.015439929664219506, 'polish': 0.022337771128989072, 'english': 0.32631479268006985}\n",
      "{'german': 0.3559234654400229, 'french': 0.01838470440065144, 'spanish': 0.03085157823750831, 'brazilian': 0.03221621159090899, 'russian': 0.07882030766660907, 'italian': 0.005850075615183223, 'schinese': 0.15543229226942878, 'japanese': 0.0046554174222429474, 'koreana': 0.02106091509845306, 'polish': 0.018162120032478354, 'english': 0.3286692798615079}\n"
     ]
    }
   ],
   "source": [
    "print(language_averages_agnostic)\n",
    "print(language_averages_any)\n",
    "print(language_averages_interface)\n",
    "print(language_averages_audio)\n",
    "print(language_averages_subtitles)"
   ]
  },
  {
   "cell_type": "code",
   "execution_count": 30,
   "metadata": {},
   "outputs": [],
   "source": [
    "# I'm not sure if this is \"wrangling\"  or \"feature engineering,\" but I might as well\n",
    "# end this section with a full dataset...\n",
    "\n",
    "# Let's create a column with the DIFFERENCES between the %s of comments in a language\n",
    "# on a certain game and the average number of comments in that language on all games.\n",
    "# A positive number here will indicate above-average interest within this language\n",
    "# group for this game, and a negative number will indicate below-average interest.\n",
    "\n",
    "# We'll make 5 such columns, one for each of the \"language_averages\" metrics. Later,\n",
    "# during EDA, we can see which (if any) of them yield a clearer result.\n",
    "\n",
    "# Since we have what we need already, let's just dig right in to creating columns.\n",
    "# Let's make one column for each metric, and store all language values in a dict\n",
    "# for each game in that column.\n",
    "\n",
    "holding_dict = {}\n",
    "\n",
    "games_df['comment_ratios'] = ''\n",
    "games_df['comment_diff_agnostic'] = ''\n",
    "games_df['comment_diff_any'] = ''\n",
    "games_df['comment_diff_interface'] = ''\n",
    "games_df['comment_diff_audio'] = ''\n",
    "games_df['comment_diff_subtitles'] = ''\n",
    "\n",
    "\n",
    "# First we need to create the dict of the ratio of comments for that specific\n",
    "# language/game pair.\n",
    "for index, row in games_df.iterrows() :\n",
    "\n",
    "    for language in relevant_langs :\n",
    "        score = np.nan\n",
    "        score = row[language] / row['relevant_langs_comments_sum']\n",
    "        holding_dict[language] = score\n",
    "    games_df.at[index, 'comment_ratios'] = holding_dict \n",
    "    holding_dict={}\n",
    "\n",
    "# Now that that column is filled in, we can populate the rest of them with calculations.\n",
    "for index, row in games_df.iterrows() :\n",
    "\n",
    "    # Start with the agnostic metric.\n",
    "    for language in relevant_langs :\n",
    "        score = np.nan\n",
    "        score = row['comment_ratios'][language] - language_averages_agnostic[language]\n",
    "        holding_dict[language] = score\n",
    "    games_df.at[index, 'comment_diff_agnostic'] = holding_dict.copy()\n",
    "    holding_dict={}\n",
    "\n",
    "    # Now we do the 'any' metric\n",
    "    for language in relevant_langs :\n",
    "        score = np.nan\n",
    "        if language in row['mod_interface_languages'] or \\\n",
    "                language in row['mod_full_audio_languages'] or \\\n",
    "                language in row['mod_subtitles_languages'] :\n",
    "            score = row['comment_ratios'][language] - language_averages_any[language]\n",
    "        holding_dict[language] = score\n",
    "    games_df.at[index, 'comment_diff_any'] = holding_dict.copy()\n",
    "    holding_dict={}\n",
    "\n",
    "    # \"interface_languages\" metric.\n",
    "    for language in relevant_langs :\n",
    "        score = np.nan\n",
    "        if language in row['mod_interface_languages'] :\n",
    "            score = row['comment_ratios'][language] - language_averages_interface[language]\n",
    "        holding_dict[language] = score\n",
    "    games_df.at[index, 'comment_diff_interface'] = holding_dict.copy()\n",
    "    holding_dict={}\n",
    "\n",
    "    # \"full_audio\" metric.\n",
    "    for language in relevant_langs :\n",
    "        score = np.nan\n",
    "        if language in row['mod_full_audio_languages'] :\n",
    "            score = row['comment_ratios'][language] - language_averages_audio[language]\n",
    "        holding_dict[language] = score\n",
    "    games_df.at[index, 'comment_diff_audio'] = holding_dict.copy()\n",
    "    holding_dict={}\n",
    "\n",
    "    # Last but not least, 'subtitles.'\n",
    "    for language in relevant_langs :\n",
    "        score = np.nan\n",
    "        if language in row['mod_subtitles_languages'] :\n",
    "            score = row['comment_ratios'][language] - language_averages_subtitles[language]\n",
    "        holding_dict[language] = score\n",
    "    games_df.at[index, 'comment_diff_subtitles'] = holding_dict.copy()"
   ]
  },
  {
   "cell_type": "code",
   "execution_count": 31,
   "metadata": {},
   "outputs": [],
   "source": [
    "# Now that all our ratios are in dictionary form, it feels kind of silly for the\n",
    "# comment counts to have their own columns. Let's dictify that one as well.\n",
    "\n",
    "games_df['language_comment_counts'] = ''\n",
    "\n",
    "for index, row in games_df.iterrows() :\n",
    "    holding_dict = {}\n",
    "    for language in relevant_langs :\n",
    "        holding_dict[language] = row[language]\n",
    "    games_df.at[index, 'language_comment_counts'] = holding_dict.copy()"
   ]
  },
  {
   "cell_type": "markdown",
   "metadata": {},
   "source": [
    "Step 6: Save and Quit\n",
    "---\n",
    "We now have the maximum amount of data that we will produce before modeling.\n",
    "\n",
    "In the next notebook, we will pare down the columns and perform other steps to prepare for modeling.\n",
    "\n",
    "We'll also save some of the variables we need along the way."
   ]
  },
  {
   "cell_type": "code",
   "execution_count": 34,
   "metadata": {},
   "outputs": [
    {
     "data": {
      "text/plain": [
       "Index(['app_id', 'release_date', 'price', 'price_category',\n",
       "       'positive_review_percent', 'relevant_langs_comments_sum', 'tags',\n",
       "       'tag_list', 'mod_interface_languages', 'mod_full_audio_languages',\n",
       "       'mod_subtitles_languages', 'language_comment_counts', 'comment_ratios',\n",
       "       'comment_diff_agnostic', 'comment_diff_any', 'comment_diff_interface',\n",
       "       'comment_diff_audio', 'comment_diff_subtitles', 'date_scraped'],\n",
       "      dtype='object')"
      ]
     },
     "execution_count": 34,
     "metadata": {},
     "output_type": "execute_result"
    }
   ],
   "source": [
    "# First, let's reorder or coulmns to a more sane order.\n",
    "new_column_order = ['app_id', 'title', 'developer', 'publisher', 'description', 'release_date', 'price', \\\n",
    "                    'price_category', 'number_of_reviews', 'positive_review_percent', 'relevant_langs_comments_sum', \\\n",
    "                    'tags', 'tag_list', 'interface_languages', 'mod_interface_languages', 'full_audio_languages', \\\n",
    "                    'mod_full_audio_languages', 'subtitles_languages', 'mod_subtitles_languages', \\\n",
    "                    'language_comment_counts', 'comment_ratios', 'comment_diff_agnostic', 'comment_diff_any', \\\n",
    "                    'comment_diff_interface', 'comment_diff_audio', 'comment_diff_subtitles', 'game_page_link', 'date_scraped']\n",
    "\n",
    "# Do it\n",
    "games_df = games_df.reindex(columns=new_column_order)\n",
    "\n",
    "# We'll also drop some data that I wish we could keep into the preprocessing stage, just because GitHub\n",
    "# doesn't like my file sizes.\n",
    "columns_to_drop = ['title', 'game_page_link', 'developer', 'publisher', \\\n",
    "                   'description', \"number_of_reviews\", \"interface_languages\", \"full_audio_languages\", \\\n",
    "                    \"subtitles_languages\"]\n",
    "\n",
    "games_df = games_df.drop(columns=columns_to_drop)\n",
    "\n",
    "# Check it\n",
    "games_df.columns"
   ]
  },
  {
   "cell_type": "code",
   "execution_count": 35,
   "metadata": {},
   "outputs": [
    {
     "name": "stdout",
     "output_type": "stream",
     "text": [
      "Stored 'all_languages' (list)\n"
     ]
    }
   ],
   "source": [
    "with open('../data/interim/1 - Games DF - Wrangled', 'wb') as file :\n",
    "    pickle.dump(games_df, file)\n",
    "\n",
    "%store all_languages"
   ]
  },
  {
   "cell_type": "markdown",
   "metadata": {},
   "source": [
    "---------------------------"
   ]
  }
 ],
 "metadata": {
  "kernelspec": {
   "display_name": "base",
   "language": "python",
   "name": "python3"
  },
  "language_info": {
   "codemirror_mode": {
    "name": "ipython",
    "version": 3
   },
   "file_extension": ".py",
   "mimetype": "text/x-python",
   "name": "python",
   "nbconvert_exporter": "python",
   "pygments_lexer": "ipython3",
   "version": "3.10.13"
  },
  "orig_nbformat": 4
 },
 "nbformat": 4,
 "nbformat_minor": 2
}
