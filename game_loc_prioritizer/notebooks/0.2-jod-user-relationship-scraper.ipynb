{
 "cells": [
  {
   "cell_type": "markdown",
   "metadata": {},
   "source": [
    "# TO DO:\n",
    "\n",
    "1. Put steam key in .env"
   ]
  },
  {
   "cell_type": "code",
   "execution_count": 10,
   "metadata": {},
   "outputs": [],
   "source": [
    "import json\n",
    "\n",
    "from urllib.request import urlopen\n",
    "\n",
    "from datetime import datetime\n",
    "\n",
    "# To help see if we have existing data or not.\n",
    "import os\n",
    "\n",
    "# For Rick\n",
    "import pickle"
   ]
  },
  {
   "cell_type": "code",
   "execution_count": 11,
   "metadata": {},
   "outputs": [],
   "source": [
    "testing = False\n",
    "\n",
    "with open('../data/raw/all_users', 'rb+') as file :\n",
    "    all_users = pickle.load(file)\n",
    "with open('../data/raw/mapped_users', 'rb+') as file :\n",
    "    mapped_users = pickle.load(file)\n",
    "    mapped_users = set(mapped_users)\n",
    "with open('../data/raw/skipped_users', 'rb+') as file :\n",
    "    skipped_users = pickle.load(file)\n",
    "    skipped_users = set(skipped_users)\n",
    "with open('../data/raw/relationship_scraper_counter', 'rb+') as file :\n",
    "    counter = pickle.load(file)\n",
    "\n",
    "# Since the \"all_relationships\" file gets honkin big, and since all\n",
    "# the info we really need to operate the loop is already in the other\n",
    "# lists, we don't keep the whole file in memory; we just add to a\n",
    "# dummy list and then + that list to the existing list while saving.\n",
    "relationship_holder = []"
   ]
  },
  {
   "cell_type": "code",
   "execution_count": 9,
   "metadata": {},
   "outputs": [
    {
     "name": "stdout",
     "output_type": "stream",
     "text": [
      "<class 'Exception'>\n",
      "Private user\n",
      "<class 'Exception'>\n",
      "Private user\n",
      "<class 'Exception'>\n",
      "Private user\n",
      "<class 'Exception'>\n",
      "Private user\n",
      "<class 'Exception'>\n",
      "Private user\n",
      "<class 'Exception'>\n",
      "Private user\n",
      "<class 'Exception'>\n",
      "Private user\n",
      "<class 'Exception'>\n",
      "Private user\n",
      "<class 'Exception'>\n",
      "Private user\n",
      "<class 'Exception'>\n",
      "Private user\n",
      "<class 'Exception'>\n",
      "Private user\n",
      "<class 'Exception'>\n",
      "Private user\n",
      "<class 'Exception'>\n",
      "Private user\n",
      "<class 'Exception'>\n",
      "Private user\n",
      "<class 'Exception'>\n",
      "Private user\n",
      "<class 'Exception'>\n",
      "Private user\n",
      "Something fatal happened!\n"
     ]
    },
    {
     "ename": "EOFError",
     "evalue": "Ran out of input",
     "output_type": "error",
     "traceback": [
      "\u001b[1;31m---------------------------------------------------------------------------\u001b[0m",
      "\u001b[1;31mKeyboardInterrupt\u001b[0m                         Traceback (most recent call last)",
      "Cell \u001b[1;32mIn[9], line 16\u001b[0m\n\u001b[0;32m     15\u001b[0m     all_users\u001b[38;5;241m.\u001b[39mappend(relationship[\u001b[38;5;124m'\u001b[39m\u001b[38;5;124msteamid\u001b[39m\u001b[38;5;124m'\u001b[39m])\n\u001b[1;32m---> 16\u001b[0m \u001b[38;5;28;01mif\u001b[39;00m testing : \u001b[38;5;28mprint\u001b[39m(\u001b[38;5;124mf\u001b[39m\u001b[38;5;124m'\u001b[39m\u001b[38;5;124m3 Checked\u001b[39m\u001b[38;5;124m'\u001b[39m)\n\u001b[0;32m     17\u001b[0m \u001b[38;5;28;01mif\u001b[39;00m testing : \u001b[38;5;28mprint\u001b[39m(\u001b[38;5;124mf\u001b[39m\u001b[38;5;124m'\u001b[39m\u001b[38;5;124m4 Checking mapped users\u001b[39m\u001b[38;5;124m'\u001b[39m)\n",
      "\u001b[1;31mKeyboardInterrupt\u001b[0m: ",
      "\nDuring handling of the above exception, another exception occurred:\n",
      "\u001b[1;31mEOFError\u001b[0m                                  Traceback (most recent call last)",
      "Cell \u001b[1;32mIn[9], line 61\u001b[0m\n\u001b[0;32m     59\u001b[0m     pickle\u001b[38;5;241m.\u001b[39mdump(skipped_users, file)\n\u001b[0;32m     60\u001b[0m \u001b[38;5;28;01mwith\u001b[39;00m \u001b[38;5;28mopen\u001b[39m(\u001b[38;5;124m'\u001b[39m\u001b[38;5;124m../data/raw/CRASH_all_relationships\u001b[39m\u001b[38;5;124m'\u001b[39m, \u001b[38;5;124m'\u001b[39m\u001b[38;5;124mwb+\u001b[39m\u001b[38;5;124m'\u001b[39m) \u001b[38;5;28;01mas\u001b[39;00m file :\n\u001b[1;32m---> 61\u001b[0m     existing_relationships \u001b[38;5;241m=\u001b[39m \u001b[43mpickle\u001b[49m\u001b[38;5;241;43m.\u001b[39;49m\u001b[43mload\u001b[49m\u001b[43m(\u001b[49m\u001b[43mfile\u001b[49m\u001b[43m)\u001b[49m\n\u001b[0;32m     62\u001b[0m     all_relationships \u001b[38;5;241m=\u001b[39m existing_relationships \u001b[38;5;241m+\u001b[39m relationship_holder\n\u001b[0;32m     63\u001b[0m     pickle\u001b[38;5;241m.\u001b[39mdump(all_relationships, file)\n",
      "\u001b[1;31mEOFError\u001b[0m: Ran out of input"
     ]
    }
   ],
   "source": [
    "try :\n",
    "    while True :\n",
    "        if testing : print(f'1 Finding user')\n",
    "        user = all_users[counter]\n",
    "        if testing : print(f'1 User found')\n",
    "        try :\n",
    "            if testing : print(f'2 Getting response')\n",
    "            response = urlopen(f\"http://api.steampowered.com/ISteamUser/GetFriendList/v0001/?key=83A112A706DF72CB0920A20F28F04252&steamid={user}&relationship=friend\")\n",
    "            if testing : print(f'2 Response gotted')\n",
    "            response = json.loads(response.read())\n",
    "            relationships = response['friendslist']['friends']\n",
    "            for relationship in relationships :\n",
    "                if testing : print(f'3 Checking all users')\n",
    "                if relationship['steamid'] not in all_users :\n",
    "                    all_users.append(relationship['steamid'])\n",
    "                if testing : print(f'3 Checked')\n",
    "                if testing : print(f'4 Checking mapped users')\n",
    "                if relationship['steamid'] not in mapped_users :\n",
    "                    if testing : print(f'4 Checked')\n",
    "                    if testing : print(f'5 Making and adding relationship')\n",
    "                    new_relationship = tuple([user, relationship['steamid'], relationship['friend_since']])\n",
    "                    relationship_holder.append(new_relationship)\n",
    "                    if testing : print(f'5 Relationship done')\n",
    "            if testing : print(f'6 Adding mapped users')\n",
    "            mapped_users.add(user)\n",
    "            if testing : print(f'Processed: {counter+1}   Known: {len(all_users)}')\n",
    "        except Exception as e :\n",
    "            print(Exception)\n",
    "            if testing : print(f'7 Adding skipped user')\n",
    "            print(f'Private user')\n",
    "            skipped_users.add(user)\n",
    "            if testing : print(f'7 Skipped user added')\n",
    "        \n",
    "        counter += 1\n",
    "\n",
    "        if counter % 100 == 0 :\n",
    "            print(f'8 Saving')\n",
    "            with open('../data/raw/all_users', 'wb+') as file :\n",
    "                pickle.dump(all_users, file)\n",
    "            with open('../data/raw/mapped_users', 'wb+') as file :\n",
    "                pickle.dump(mapped_users, file)\n",
    "            with open('../data/raw/skipped_users', 'wb+') as file :\n",
    "                pickle.dump(skipped_users, file)\n",
    "            with open('../data/raw/relationship_scraper_counter', 'wb+') as file :\n",
    "                pickle.dump(counter, file)\n",
    "            with open('../data/raw/all_relationships', 'rb+') as file :\n",
    "                existing_relationships = pickle.load(file)\n",
    "                all_relationships = existing_relationships + relationship_holder\n",
    "                pickle.dump(all_relationships, file)\n",
    "            print(datetime.now())\n",
    "\n",
    "except :\n",
    "    print('Something fatal happened!')\n",
    "    with open('../data/raw/CRASH_all_users', 'wb+') as file :\n",
    "        pickle.dump(all_users, file)\n",
    "    with open('../data/raw/CRASH_mapped_users', 'wb+') as file :\n",
    "        pickle.dump(mapped_users, file)\n",
    "    with open('../data/raw/CRASH_skipped_users', 'wb+') as file :\n",
    "        pickle.dump(skipped_users, file)\n",
    "    with open('../data/raw/CRASH_all_relationships', 'wb+') as file :\n",
    "        existing_relationships = pickle.load(file)\n",
    "        all_relationships = existing_relationships + relationship_holder\n",
    "        pickle.dump(all_relationships, file)\n"
   ]
  },
  {
   "cell_type": "markdown",
   "metadata": {},
   "source": [
    "### WORKSHOP\n",
    "\n",
    "--------------------------"
   ]
  },
  {
   "cell_type": "code",
   "execution_count": null,
   "metadata": {},
   "outputs": [],
   "source": [
    "# with open('../data/raw/all_users', 'rb+') as file :\n",
    "#     all_users = pickle.load(file)\n",
    "# with open('../data/raw/mapped_users', 'rb+') as file :\n",
    "#     mapped_users = pickle.load(file)\n",
    "# with open('../data/raw/skipped_users', 'rb+') as file :\n",
    "#     skipped_users = pickle.load(file)\n",
    "# with open('../data/raw/all_relationships', 'rb+') as file :\n",
    "#     all_relationships = pickle.load(file)\n"
   ]
  },
  {
   "cell_type": "code",
   "execution_count": null,
   "metadata": {},
   "outputs": [
    {
     "data": {
      "text/plain": [
       "('76561197960435530', '76561197960265731', 0)"
      ]
     },
     "execution_count": 3,
     "metadata": {},
     "output_type": "execute_result"
    }
   ],
   "source": [
    "with open('../data/raw/all_relationships', 'rb+') as file :\n",
    "    existing_relationships = pickle.load(file)\n",
    "\n",
    "existing_relationships[0]"
   ]
  },
  {
   "cell_type": "code",
   "execution_count": null,
   "metadata": {},
   "outputs": [],
   "source": [
    "testing = False\n",
    "\n",
    "if testing : print('hello')"
   ]
  },
  {
   "cell_type": "code",
   "execution_count": null,
   "metadata": {},
   "outputs": [],
   "source": [
    "# with open('../data/raw/all_users', 'wb+') as file :\n",
    "#     pickle.dump(all_users, file)\n",
    "# with open('../data/raw/mapped_users', 'wb+') as file :\n",
    "#     pickle.dump(mapped_users, file)\n",
    "# with open('../data/raw/skipped_users', 'wb+') as file :\n",
    "#     pickle.dump(skipped_users, file)\n",
    "# with open('../data/raw/all_relationships', 'wb+') as file :\n",
    "#     pickle.dump(all_relationships, file)"
   ]
  }
 ],
 "metadata": {
  "kernelspec": {
   "display_name": "base",
   "language": "python",
   "name": "python3"
  },
  "language_info": {
   "codemirror_mode": {
    "name": "ipython",
    "version": 3
   },
   "file_extension": ".py",
   "mimetype": "text/x-python",
   "name": "python",
   "nbconvert_exporter": "python",
   "pygments_lexer": "ipython3",
   "version": "3.10.13"
  }
 },
 "nbformat": 4,
 "nbformat_minor": 2
}
