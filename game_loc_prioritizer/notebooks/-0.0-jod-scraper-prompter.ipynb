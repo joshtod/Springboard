{
 "cells": [
  {
   "cell_type": "markdown",
   "metadata": {},
   "source": [
    "Steam Scraper Wrapper\n",
    "---\n",
    "This notebook calls the scraper notebook again and again until a certain target number of records is stored on disk.\n",
    "\n",
    "We need over 20,000 records for our analysis.\n",
    "\n",
    "As each record requires quite a few URL calls with manual delays in between, this scraping is quite slow. The only way to finish this in our lifetime is to run the notebook at all times.\n",
    "\n",
    "The scraper notebook itself is vulnerable to network errors that are out of our control, and this blasted Windows machine just decides to restart itself from time to time (known issue, no fix; \"feature not a bug\", etc). Because of this, we can't just tell the scraper to scrape a bunch of games and then go on about our business.\n",
    "\n",
    "This notebook aims to provide the desired set-it-and-forget-it functionality by calling the scraper notebook in a 'while' loop with a try/except block that logs process & errors, then builds in a delay after a failed scraping attempt. The loop is written to try f_o_r_e_v_e_r until the desired number of records are scraped, but since I live here, I'll check it periodically to make sure it isn't broken.\n",
    "\n",
    "Each loop only attempts to scrape a certain number of games (as defined by {interval}), merges the results into the existing main file, then begins the loop again until {target_records} is reached.\n",
    "\n",
    "Because the game records are added to the main file within each iteration, the maximum number of partially-scraped records that can be lost due to a crash is limited by the {interval} variable."
   ]
  },
  {
   "cell_type": "code",
   "execution_count": null,
   "metadata": {},
   "outputs": [],
   "source": [
    "import pandas as pd\n",
    "import time\n",
    "import datetime"
   ]
  },
  {
   "cell_type": "code",
   "execution_count": null,
   "metadata": {},
   "outputs": [],
   "source": [
    "with open('../data/raw/0 - Scraped Games DF.pkl', 'rb') as file:\n",
    "    existing_records = pd.read_pickle(file)\n",
    "\n",
    "starting_records = len(existing_records)\n",
    "print(starting_records)"
   ]
  },
  {
   "cell_type": "code",
   "execution_count": null,
   "metadata": {},
   "outputs": [],
   "source": [
    "# This notebook will run until this many records exist in the data/raw directory.\n",
    "target_records = 25000\n",
    "current_records = starting_records\n",
    "\n",
    "# This variable is fed to the other notebook to determine how many games should be scraped\n",
    "# per notebook run.\n",
    "interval = 10\n",
    "%store interval"
   ]
  },
  {
   "cell_type": "code",
   "execution_count": null,
   "metadata": {},
   "outputs": [],
   "source": [
    "# Set up your tracker variables.\n",
    "successful_iterations = 0\n",
    "failed_iterations = 0\n",
    "successive_failed_iterations = 0\n",
    "start_time = time.time()\n",
    "\n",
    "# Loop over the scraper notebook until {target_records} exist in the directory.\n",
    "# Each call of the notebook aims to add {interval} records.\n",
    "while current_records < target_records :\n",
    "    loop_start_time = time.time()\n",
    "    try :\n",
    "        %run \"0.0-jod-steam-scraper.ipynb\"\n",
    "        successful_iterations += 1\n",
    "        successive_failed_iterations = 0\n",
    "    except Exception as e :\n",
    "        print(f\"This exception printed from the wrapper: {e}\")\n",
    "        failed_iterations += 1\n",
    "        successive_failed_iterations += 1\n",
    "        print(f\"Successive failed iterations: {successive_failed_iterations}\")\n",
    "        print(\"Pausing for 2 minutes...\")\n",
    "        time.sleep(120)\n",
    "        print(\"OK, GO!\")\n",
    "\n",
    "    # The scraped records are added to the main file from inside the other notebook.\n",
    "    # Thus, we have to read it here to see what our current total count is.\n",
    "    # (For a variety of reasons, each notebook run might not scrape exactly the number\n",
    "    # of games that it was supposed to.)\n",
    "    with open('../data/raw/0 - Scraped Games DF.pkl', 'rb') as file:\n",
    "        existing_records = pd.read_pickle(file)\n",
    "    new_record_count = len(existing_records)\n",
    "\n",
    "    # Final record.\n",
    "    now = time.time()\n",
    "    loop_final_time = now - loop_start_time\n",
    "    print(\"-----------------------------\")\n",
    "    print(f\"Loop complete at {datetime.now()}\")\n",
    "    print(f\"Successfully scraped this loop: {new_record_count - current_records}\")\n",
    "    print(f\"Current record count/target: {new_record_count}/{target_records}\")\n",
    "    print(f\"Time spent on this loop: {int(loop_final_time/60)}min\")\n",
    "    print(f\"Total time spent so far: {int((now-start_time)/60)}min\")\n",
    "    print(f\"Successful loops: {successful_iterations}\")\n",
    "    print(f\"Failed loops: {failed_iterations}\")\n",
    "    print(\"-----------------------------\")\n",
    "    print(\"\")\n",
    "    current_records = new_record_count\n",
    "\n",
    "finish_time = time.time()\n",
    "total_runtime = finish_time - start_time\n",
    "\n",
    "hours = int(total_runtime // (60**2))\n",
    "minutes = int(total_runtime // 60)\n",
    "seconds = int(total_runtime % 60)\n",
    "\n",
    "# print(f\"{hours}h, {minutes}m, {seconds}s\")\n",
    "print(\"******************************************************\")\n",
    "print(\"******************************************************\")\n",
    "print(f\"Completed. Started at {starting_records}, added {current_records-starting_records}, ended at {current_records}.\")\n",
    "print(f\"{successful_iterations} successful iterations, {failed_iterations} failed iterations.\")\n",
    "print(f\"Total runtime: {hours}h {minutes}m {seconds}s\")\n",
    "print(\"******************************************************\")\n",
    "print(\"******************************************************\")"
   ]
  }
 ],
 "metadata": {
  "kernelspec": {
   "display_name": "base",
   "language": "python",
   "name": "python3"
  },
  "language_info": {
   "codemirror_mode": {
    "name": "ipython",
    "version": 3
   },
   "file_extension": ".py",
   "mimetype": "text/x-python",
   "name": "python",
   "nbconvert_exporter": "python",
   "pygments_lexer": "ipython3",
   "version": "3.10.13"
  }
 },
 "nbformat": 4,
 "nbformat_minor": 2
}
