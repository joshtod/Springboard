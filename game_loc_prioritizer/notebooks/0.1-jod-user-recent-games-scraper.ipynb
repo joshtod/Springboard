{
 "cells": [
  {
   "cell_type": "code",
   "execution_count": 42,
   "metadata": {},
   "outputs": [],
   "source": [
    "# Basic DS stuff\n",
    "import numpy as np\n",
    "import pandas as pd\n",
    "import json\n",
    "\n",
    "# Web scraping\n",
    "import requests\n",
    "from bs4 import BeautifulSoup\n",
    "from urllib.request import urlopen\n",
    "import asyncio\n",
    "\n",
    "# For labeling records, tracking files, and formatting\n",
    "from datetime import datetime\n",
    "\n",
    "# For Rick\n",
    "import pickle"
   ]
  },
  {
   "cell_type": "code",
   "execution_count": 38,
   "metadata": {},
   "outputs": [
    {
     "ename": "FileNotFoundError",
     "evalue": "[Errno 2] No such file or directory: '../data/raw/skipped_game_map_users'",
     "output_type": "error",
     "traceback": [
      "\u001b[1;31m---------------------------------------------------------------------------\u001b[0m",
      "\u001b[1;31mFileNotFoundError\u001b[0m                         Traceback (most recent call last)",
      "Cell \u001b[1;32mIn[38], line 10\u001b[0m\n\u001b[0;32m      5\u001b[0m     all_users \u001b[38;5;241m=\u001b[39m pickle\u001b[38;5;241m.\u001b[39mload(file)\n\u001b[0;32m      7\u001b[0m \u001b[38;5;66;03m# with open('../data/raw/game_mapped_users', 'rb+') as file :\u001b[39;00m\n\u001b[0;32m      8\u001b[0m \u001b[38;5;66;03m#     game_mapped_users = pickle.load(file)\u001b[39;00m\n\u001b[1;32m---> 10\u001b[0m \u001b[38;5;28;01mwith\u001b[39;00m \u001b[38;5;28;43mopen\u001b[39;49m\u001b[43m(\u001b[49m\u001b[38;5;124;43m'\u001b[39;49m\u001b[38;5;124;43m../data/raw/skipped_game_map_users\u001b[39;49m\u001b[38;5;124;43m'\u001b[39;49m\u001b[43m,\u001b[49m\u001b[43m \u001b[49m\u001b[38;5;124;43m'\u001b[39;49m\u001b[38;5;124;43mrb+\u001b[39;49m\u001b[38;5;124;43m'\u001b[39;49m\u001b[43m)\u001b[49m \u001b[38;5;28;01mas\u001b[39;00m file :\n\u001b[0;32m     11\u001b[0m     skipped_users \u001b[38;5;241m=\u001b[39m pickle\u001b[38;5;241m.\u001b[39mload(file)\n",
      "File \u001b[1;32m~\\AppData\\Roaming\\Python\\Python310\\site-packages\\IPython\\core\\interactiveshell.py:284\u001b[0m, in \u001b[0;36m_modified_open\u001b[1;34m(file, *args, **kwargs)\u001b[0m\n\u001b[0;32m    277\u001b[0m \u001b[38;5;28;01mif\u001b[39;00m file \u001b[38;5;129;01min\u001b[39;00m {\u001b[38;5;241m0\u001b[39m, \u001b[38;5;241m1\u001b[39m, \u001b[38;5;241m2\u001b[39m}:\n\u001b[0;32m    278\u001b[0m     \u001b[38;5;28;01mraise\u001b[39;00m \u001b[38;5;167;01mValueError\u001b[39;00m(\n\u001b[0;32m    279\u001b[0m         \u001b[38;5;124mf\u001b[39m\u001b[38;5;124m\"\u001b[39m\u001b[38;5;124mIPython won\u001b[39m\u001b[38;5;124m'\u001b[39m\u001b[38;5;124mt let you open fd=\u001b[39m\u001b[38;5;132;01m{\u001b[39;00mfile\u001b[38;5;132;01m}\u001b[39;00m\u001b[38;5;124m by default \u001b[39m\u001b[38;5;124m\"\u001b[39m\n\u001b[0;32m    280\u001b[0m         \u001b[38;5;124m\"\u001b[39m\u001b[38;5;124mas it is likely to crash IPython. If you know what you are doing, \u001b[39m\u001b[38;5;124m\"\u001b[39m\n\u001b[0;32m    281\u001b[0m         \u001b[38;5;124m\"\u001b[39m\u001b[38;5;124myou can use builtins\u001b[39m\u001b[38;5;124m'\u001b[39m\u001b[38;5;124m open.\u001b[39m\u001b[38;5;124m\"\u001b[39m\n\u001b[0;32m    282\u001b[0m     )\n\u001b[1;32m--> 284\u001b[0m \u001b[38;5;28;01mreturn\u001b[39;00m io_open(file, \u001b[38;5;241m*\u001b[39margs, \u001b[38;5;241m*\u001b[39m\u001b[38;5;241m*\u001b[39mkwargs)\n",
      "\u001b[1;31mFileNotFoundError\u001b[0m: [Errno 2] No such file or directory: '../data/raw/skipped_game_map_users'"
     ]
    }
   ],
   "source": [
    "# Load data\n",
    "\n",
    "with open('../data/raw/all_users', 'rb+') as file :\n",
    "    all_users = pickle.load(file)\n",
    "\n",
    "with open('../data/raw/game_mapped_users', 'rb+') as file :\n",
    "    game_mapped_users = pickle.load(file)\n",
    "    \n",
    "with open('../data/raw/skipped_game_map_users', 'rb+') as file :\n",
    "    skipped_users = pickle.load(file)"
   ]
  },
  {
   "cell_type": "code",
   "execution_count": 39,
   "metadata": {},
   "outputs": [],
   "source": [
    "# Create vars\n",
    "\n",
    "holding_set = set()\n",
    "\n",
    "unmapped_users = list(all_users-game_mapped_users)\n",
    "\n",
    "key = '83A112A706DF72CB0920A20F28F04252'\n",
    "\n",
    "interval = 10\n",
    "\n",
    "base_url = 'http://api.steampowered.com/IPlayerService/GetRecentlyPlayedGames/v0001/?key={}&steamid={}&format=json'"
   ]
  },
  {
   "cell_type": "markdown",
   "metadata": {},
   "source": [
    "-------------\n",
    "### This is the API version"
   ]
  },
  {
   "cell_type": "code",
   "execution_count": 40,
   "metadata": {},
   "outputs": [],
   "source": [
    "async def get_games(user, url) :\n",
    "    return (user, urlopen(url))"
   ]
  },
  {
   "cell_type": "code",
   "execution_count": 62,
   "metadata": {},
   "outputs": [
    {
     "name": "stdout",
     "output_type": "stream",
     "text": [
      "Saved so far: 3\n",
      "2024-03-21 14:55:16.191151\n"
     ]
    },
    {
     "ename": "CancelledError",
     "evalue": "",
     "output_type": "error",
     "traceback": [
      "\u001b[1;31m---------------------------------------------------------------------------\u001b[0m",
      "\u001b[1;31mCancelledError\u001b[0m                            Traceback (most recent call last)",
      "Cell \u001b[1;32mIn[62], line 7\u001b[0m\n\u001b[0;32m      5\u001b[0m users \u001b[38;5;241m=\u001b[39m [unmapped_users[i] \u001b[38;5;28;01mfor\u001b[39;00m i \u001b[38;5;129;01min\u001b[39;00m \u001b[38;5;28mrange\u001b[39m(i, iter_max)]\n\u001b[0;32m      6\u001b[0m tasks \u001b[38;5;241m=\u001b[39m [get_games(user, base_url\u001b[38;5;241m.\u001b[39mformat(key, user)) \u001b[38;5;28;01mfor\u001b[39;00m user \u001b[38;5;129;01min\u001b[39;00m users]\n\u001b[1;32m----> 7\u001b[0m responses \u001b[38;5;241m=\u001b[39m \u001b[38;5;28;01mawait\u001b[39;00m asyncio\u001b[38;5;241m.\u001b[39mgather(\u001b[38;5;241m*\u001b[39mtasks)\n\u001b[0;32m      8\u001b[0m \u001b[38;5;28;01mfor\u001b[39;00m response \u001b[38;5;129;01min\u001b[39;00m responses :\n\u001b[0;32m      9\u001b[0m     user \u001b[38;5;241m=\u001b[39m response[\u001b[38;5;241m0\u001b[39m]\n",
      "\u001b[1;31mCancelledError\u001b[0m: "
     ]
    }
   ],
   "source": [
    "\n",
    "\n",
    "for i in range(0, len(unmapped_users), interval) :\n",
    "    iter_max = min(i+interval, len(unmapped_users))\n",
    "    users = [unmapped_users[i] for i in range(i, iter_max)]\n",
    "    tasks = [get_games(user, base_url.format(key, user)) for user in users]\n",
    "    responses = await asyncio.gather(*tasks)\n",
    "    for response in responses :\n",
    "        user = response[0]\n",
    "        jason = json.load(response[1])\n",
    "        games_list = jason['response']\n",
    "        if len(games_list) > 0 :\n",
    "            if games_list['total_count'] > 0 :\n",
    "                for game in games_list['games'] :\n",
    "                    appid = game['appid']\n",
    "                    playtime_2weeks = game['playtime_2weeks']\n",
    "                    playtime_forever = game['playtime_forever']\n",
    "                    holding_set.add((user, appid, playtime_2weeks, playtime_forever))\n",
    "        mapped_users.add(user)\n",
    "\n",
    "    if i % 200 == 0 :\n",
    "        with open('../data/raw/recently_played.pkl', 'rb+') as file :\n",
    "            extant_set = pickle.load(file)\n",
    "            total_set = extant_set.union(holding_set)\n",
    "            pickle.dump(total_set, file)\n",
    "            file.seek(0)\n",
    "        print(f\"Saved so far: {len(total_set)}\")\n",
    "        print(datetime.now())\n",
    "        holding_set = set()\n"
   ]
  },
  {
   "cell_type": "code",
   "execution_count": 25,
   "metadata": {},
   "outputs": [
    {
     "name": "stdout",
     "output_type": "stream",
     "text": [
      "{'response': {'total_count': 2, 'games': [{'appid': 646570, 'name': 'Slay the Spire', 'playtime_2weeks': 2350, 'playtime_forever': 268378, 'img_icon_url': '33ea124ea8c03a9ce7012d34c3b348a351612fca'}, {'appid': 2379780, 'name': 'Balatro', 'playtime_2weeks': 2015, 'playtime_forever': 3005, 'img_icon_url': 'b6018068070ab0e23561694c11f7950dd6f4c752'}]}}\n",
      "\n",
      "\n",
      "{'response': {'total_count': 8, 'games': [{'appid': 2357570, 'name': 'Overwatch® 2', 'playtime_2weeks': 3240, 'playtime_forever': 31389, 'img_icon_url': 'da42bd294c941d5947b1bc2c2b2efa1313d36a91'}, {'appid': 1971650, 'name': 'OCTOPATH TRAVELER II', 'playtime_2weeks': 251, 'playtime_forever': 1857, 'img_icon_url': '7a90088ff3b521a0edcbd414fcd88361dd3d8b45'}, {'appid': 1364780, 'name': 'Street Fighter™ 6', 'playtime_2weeks': 12, 'playtime_forever': 4671, 'img_icon_url': '5e1421a150aaded0c7c175bc6f6843eab9a4d27d'}, {'appid': 3480, 'name': 'Peggle Deluxe', 'playtime_2weeks': 9, 'playtime_forever': 9, 'img_icon_url': '427a98a549c3813e13b4062300709000599817b0'}, {'appid': 2450820, 'name': 'Radiant Silvergun', 'playtime_2weeks': 4, 'playtime_forever': 4, 'img_icon_url': '45354c5a566a312ff12b3811665619d434818bca'}, {'appid': 586200, 'name': 'Street Fighter 30th Anniversary Collection', 'playtime_2weeks': 4, 'playtime_forever': 184, 'img_icon_url': 'd44d5c20ddd70e206d8699b1312c5d636bcfd916'}, {'appid': 1113000, 'name': 'Persona 4 Golden', 'playtime_2weeks': 3, 'playtime_forever': 4530, 'img_icon_url': '295e86f2d5393325f38f33777b357d86e23c751d'}, {'appid': 3540, 'name': 'Peggle Nights', 'playtime_2weeks': 2, 'playtime_forever': 4, 'img_icon_url': '41ec4d1b164eaea5a2520e6aef6dada128d32acc'}]}}\n",
      "\n",
      "\n",
      "{'response': {'total_count': 0}}\n",
      "\n",
      "\n",
      "{'response': {'total_count': 8, 'games': [{'appid': 1901620, 'name': 'Dungeon Travelers: To Heart 2 in Another World', 'playtime_2weeks': 2004, 'playtime_forever': 4134, 'img_icon_url': '5c67a5fba6e6bbf6d0f772cfc7971e7b718b2595'}, {'appid': 958260, 'name': 'DEAD OR ALIVE Xtreme Venus Vacation', 'playtime_2weeks': 1090, 'playtime_forever': 123979, 'img_icon_url': '00dc41fe7ba0756a2f7e387c330eb40ea8bbd713'}, {'appid': 1172620, 'name': 'Sea of Thieves', 'playtime_2weeks': 948, 'playtime_forever': 14917, 'img_icon_url': 'f95f362708fc326511c5d86566c447ee625bf776'}, {'appid': 1641960, 'name': 'Forever Skies', 'playtime_2weeks': 634, 'playtime_forever': 634, 'img_icon_url': '459e0f7f8a90e1b11bd6a30c922ccf0f68ba2208'}, {'appid': 553850, 'name': 'HELLDIVERS™ 2', 'playtime_2weeks': 476, 'playtime_forever': 2744, 'img_icon_url': 'c3dff088e090f81d6e3d88eabbb67732647c69cf'}, {'appid': 2321470, 'name': 'Deep Rock Galactic: Survivor', 'playtime_2weeks': 211, 'playtime_forever': 2227, 'img_icon_url': '21c0012fc6c4419bad40b03ce6db571d2390642b'}, {'appid': 1260320, 'name': 'Party Animals', 'playtime_2weeks': 138, 'playtime_forever': 313, 'img_icon_url': '868cd2d22c96076658ff5b572c4dc790c200de7e'}, {'appid': 2420510, 'name': 'HoloCure - Save the Fans!', 'playtime_2weeks': 88, 'playtime_forever': 237, 'img_icon_url': '424bcd57080c089514802ec96ce87c4a3ffd7bbe'}]}}\n",
      "\n",
      "\n",
      "{'response': {'total_count': 5, 'games': [{'appid': 553850, 'name': 'HELLDIVERS™ 2', 'playtime_2weeks': 2034, 'playtime_forever': 2262, 'img_icon_url': 'c3dff088e090f81d6e3d88eabbb67732647c69cf'}, {'appid': 730, 'name': 'Counter-Strike 2', 'playtime_2weeks': 202, 'playtime_forever': 10720, 'img_icon_url': '8dbc71957312bbd3baea65848b545be9eae2a355'}, {'appid': 548430, 'name': 'Deep Rock Galactic', 'playtime_2weeks': 167, 'playtime_forever': 1710, 'img_icon_url': 'e033e23c29a192a17c16a7645a2b423ac64ff447'}, {'appid': 1286680, 'name': \"Tiny Tina's Wonderlands\", 'playtime_2weeks': 166, 'playtime_forever': 1981, 'img_icon_url': '04df847d8960c8ba764764cf21bf96621c8e8314'}, {'appid': 1364780, 'name': 'Street Fighter™ 6', 'playtime_2weeks': 12, 'playtime_forever': 5716, 'img_icon_url': '5e1421a150aaded0c7c175bc6f6843eab9a4d27d'}]}}\n",
      "\n",
      "\n",
      "{'response': {'total_count': 5, 'games': [{'appid': 1295510, 'name': 'DRAGON QUEST XI S: Echoes of an Elusive Age – Definitive Edition', 'playtime_2weeks': 372, 'playtime_forever': 3275, 'img_icon_url': '30371820d757d03e26f860a07202b10c5d3afed6'}, {'appid': 2141910, 'name': 'Magic: The Gathering Arena', 'playtime_2weeks': 43, 'playtime_forever': 3089, 'img_icon_url': '7d47257d34e74c04121cbdffd23af8eaa2914a85'}, {'appid': 632470, 'name': 'Disco Elysium', 'playtime_2weeks': 37, 'playtime_forever': 3628, 'img_icon_url': 'b681544caa931c7c1a6788e6e3e33cb42892d17c'}, {'appid': 41700, 'name': 'S.T.A.L.K.E.R.: Call of Pripyat', 'playtime_2weeks': 1, 'playtime_forever': 1503, 'img_icon_url': '60b32d190ebcaac8d2b2aaf16db2b07015616eb2'}, {'appid': 39210, 'name': 'FINAL FANTASY XIV Online', 'playtime_2weeks': 1, 'playtime_forever': 36, 'img_icon_url': '98527a5229540d86ced171d8a5dff2f8a560fe80'}]}}\n",
      "\n",
      "\n",
      "{'response': {'total_count': 0}}\n",
      "\n",
      "\n",
      "{'response': {'total_count': 7, 'games': [{'appid': 221100, 'name': 'DayZ', 'playtime_2weeks': 966, 'playtime_forever': 53592, 'img_icon_url': '16a985dfee9b093d76a0ffc4cf4c77ba20c2eb0d'}, {'appid': 730, 'name': 'Counter-Strike 2', 'playtime_2weeks': 543, 'playtime_forever': 147320, 'img_icon_url': '8dbc71957312bbd3baea65848b545be9eae2a355'}, {'appid': 1326470, 'name': 'Sons Of The Forest', 'playtime_2weeks': 179, 'playtime_forever': 205, 'img_icon_url': 'bd28fe592b339cff5a3eef743f31e3166c984c68'}, {'appid': 976730, 'name': 'Halo: The Master Chief Collection', 'playtime_2weeks': 134, 'playtime_forever': 153, 'img_icon_url': '196a45d8df1981ff6b6b1872a38dc38f6c22875d'}, {'appid': 1203620, 'name': 'Enshrouded', 'playtime_2weeks': 106, 'playtime_forever': 989, 'img_icon_url': '9588cc0bd32e350a2353c332be67cf52a9b2b47b'}, {'appid': 899770, 'name': 'Last Epoch', 'playtime_2weeks': 53, 'playtime_forever': 1043, 'img_icon_url': 'af127fa6337a3c44e52690b62f26530d520127f4'}, {'appid': 2321470, 'name': 'Deep Rock Galactic: Survivor', 'playtime_2weeks': 25, 'playtime_forever': 2023, 'img_icon_url': '21c0012fc6c4419bad40b03ce6db571d2390642b'}]}}\n",
      "\n",
      "\n",
      "{'response': {'total_count': 10, 'games': [{'appid': 1245620, 'name': 'ELDEN RING', 'playtime_2weeks': 1594, 'playtime_forever': 17351, 'img_icon_url': 'b6e290dd5a92ce98f89089a207733c70c41a1871'}, {'appid': 553850, 'name': 'HELLDIVERS™ 2', 'playtime_2weeks': 1168, 'playtime_forever': 6118, 'img_icon_url': 'c3dff088e090f81d6e3d88eabbb67732647c69cf'}, {'appid': 2379780, 'name': 'Balatro', 'playtime_2weeks': 777, 'playtime_forever': 848, 'img_icon_url': 'b6018068070ab0e23561694c11f7950dd6f4c752'}, {'appid': 2427700, 'name': 'Backpack Battles', 'playtime_2weeks': 776, 'playtime_forever': 776, 'img_icon_url': '852629f282e0dfc3e12da56ed5692043665cf9d3'}, {'appid': 2186680, 'name': 'Warhammer 40,000: Rogue Trader', 'playtime_2weeks': 206, 'playtime_forever': 690, 'img_icon_url': 'a944983525cae5819f19bb2b530cb28ea4f6bd06'}, {'appid': 899770, 'name': 'Last Epoch', 'playtime_2weeks': 143, 'playtime_forever': 2772, 'img_icon_url': 'af127fa6337a3c44e52690b62f26530d520127f4'}, {'appid': 230410, 'name': 'Warframe', 'playtime_2weeks': 61, 'playtime_forever': 298959, 'img_icon_url': '22064646470f4c53388ba87774c7ac10f0a91ffa'}, {'appid': 2674810, 'name': \"Dragon's Dogma 2 Character Creator & Storage\", 'playtime_2weeks': 55, 'playtime_forever': 55, 'img_icon_url': 'e6d998773c02254db285c535be1a684c35f255cd'}, {'appid': 1458140, 'name': 'Pacific Drive', 'playtime_2weeks': 4, 'playtime_forever': 82, 'img_icon_url': 'bea29dede5c446d40700fd6c2c74abb933559716'}, {'appid': 881020, 'name': 'Granblue Fantasy: Relink', 'playtime_2weeks': 1, 'playtime_forever': 5683, 'img_icon_url': '1b9bcf2c07e1c760349fd4ecbc3b8690ef915e11'}]}}\n",
      "\n",
      "\n",
      "{'response': {'total_count': 4, 'games': [{'appid': 1013140, 'name': 'Outcast - A New Beginning', 'playtime_2weeks': 847, 'playtime_forever': 847, 'img_icon_url': '8f104caddcee93db1f6159a60df13d9a11be3778'}, {'appid': 2379780, 'name': 'Balatro', 'playtime_2weeks': 513, 'playtime_forever': 513, 'img_icon_url': 'b6018068070ab0e23561694c11f7950dd6f4c752'}, {'appid': 13230, 'name': 'Unreal Tournament 2004', 'playtime_2weeks': 39, 'playtime_forever': 97, 'img_icon_url': 'db3782214c4285c254f632b0e803ed341c250c9d'}, {'appid': 553850, 'name': 'HELLDIVERS™ 2', 'playtime_2weeks': 31, 'playtime_forever': 5561, 'img_icon_url': 'c3dff088e090f81d6e3d88eabbb67732647c69cf'}]}}\n",
      "\n",
      "\n",
      "{'response': {'total_count': 5, 'games': [{'appid': 2379780, 'name': 'Balatro', 'playtime_2weeks': 1108, 'playtime_forever': 1783, 'img_icon_url': 'b6018068070ab0e23561694c11f7950dd6f4c752'}, {'appid': 610180, 'name': 'The Jackbox Party Pack 4', 'playtime_2weeks': 36, 'playtime_forever': 843, 'img_icon_url': '90a9ae59123b4c52b970f11b14eb655063b8dbf5'}, {'appid': 1085660, 'name': 'Destiny 2', 'playtime_2weeks': 32, 'playtime_forever': 69734, 'img_icon_url': 'fce050d63f0a2f8eb51b603c7f30bfca2a301549'}, {'appid': 2236680, 'name': 'Llamasoft: The Jeff Minter Story', 'playtime_2weeks': 3, 'playtime_forever': 3, 'img_icon_url': 'c45d14488b08fb08220012b1033297802951eb50'}, {'appid': 1245620, 'name': 'ELDEN RING', 'playtime_2weeks': 1, 'playtime_forever': 7098, 'img_icon_url': 'b6e290dd5a92ce98f89089a207733c70c41a1871'}]}}\n",
      "\n",
      "\n",
      "{'response': {'total_count': 3, 'games': [{'appid': 1364780, 'name': 'Street Fighter™ 6', 'playtime_2weeks': 2419, 'playtime_forever': 2419, 'img_icon_url': '5e1421a150aaded0c7c175bc6f6843eab9a4d27d'}, {'appid': 1172470, 'name': 'Apex Legends', 'playtime_2weeks': 310, 'playtime_forever': 47453, 'img_icon_url': '070902d2389878ac4bf29efb5b92832c60bdf24e'}, {'appid': 413150, 'name': 'Stardew Valley', 'playtime_2weeks': 160, 'playtime_forever': 6352, 'img_icon_url': '35d1377200084a4034238c05b0c8930451e2fb40'}]}}\n",
      "\n",
      "\n",
      "{'response': {'total_count': 8, 'games': [{'appid': 271590, 'name': 'Grand Theft Auto V', 'playtime_2weeks': 1045, 'playtime_forever': 29152, 'img_icon_url': '1e72f87eb927fa1485e68aefaff23c7fd7178251'}, {'appid': 2395210, 'name': \"Tony Hawk's™ Pro Skater™ 1 + 2\", 'playtime_2weeks': 444, 'playtime_forever': 5025, 'img_icon_url': 'a4f54c2aa90d1d6c1017a2c5e3df1b57477dd6e6'}, {'appid': 1436700, 'name': 'Trine 5: A Clockwork Conspiracy', 'playtime_2weeks': 425, 'playtime_forever': 708, 'img_icon_url': '3ef869db216460baed5dcd9caedc3d86510db597'}, {'appid': 1966720, 'name': 'Lethal Company', 'playtime_2weeks': 198, 'playtime_forever': 4931, 'img_icon_url': '8393f321a62a9ef0be762c81565d2caea4fb7da6'}, {'appid': 1260320, 'name': 'Party Animals', 'playtime_2weeks': 128, 'playtime_forever': 6384, 'img_icon_url': '868cd2d22c96076658ff5b572c4dc790c200de7e'}, {'appid': 1295630, 'name': 'Helskate', 'playtime_2weeks': 118, 'playtime_forever': 118, 'img_icon_url': '384cfe780c5caa526bfea11a2770dd6fe5fdbd5b'}, {'appid': 960090, 'name': 'Bloons TD 6', 'playtime_2weeks': 76, 'playtime_forever': 21268, 'img_icon_url': 'c5f0b67c8beeb6be99abe2ad8db2cada5d5ccff0'}, {'appid': 1494840, 'name': 'Scoot', 'playtime_2weeks': 56, 'playtime_forever': 56, 'img_icon_url': '540a539b2426dbbc15d018182bdf6fb8eda5934b'}]}}\n",
      "\n",
      "\n",
      "{'response': {'total_count': 3, 'games': [{'appid': 2073850, 'name': 'THE FINALS', 'playtime_2weeks': 4222, 'playtime_forever': 7988, 'img_icon_url': 'bff0b7e00b1c80a7f9fc7999a5a81d52a70c7b2d'}, {'appid': 553850, 'name': 'HELLDIVERS™ 2', 'playtime_2weeks': 551, 'playtime_forever': 1169, 'img_icon_url': 'c3dff088e090f81d6e3d88eabbb67732647c69cf'}, {'appid': 714010, 'name': 'Aimlabs', 'playtime_2weeks': 501, 'playtime_forever': 7818, 'img_icon_url': '15347de11efc127539c388e585af9e92d10d5189'}]}}\n",
      "\n",
      "\n",
      "{'response': {'total_count': 0}}\n",
      "\n",
      "\n",
      "{'response': {'total_count': 4, 'games': [{'appid': 1158850, 'name': 'The Great Ace Attorney Chronicles', 'playtime_2weeks': 22, 'playtime_forever': 4385, 'img_icon_url': '6987f90c13dcfa24244e32998db8cdcd9b40c44a'}, {'appid': 570940, 'name': 'DARK SOULS™: REMASTERED', 'playtime_2weeks': 5, 'playtime_forever': 6558, 'img_icon_url': 'd74cfa4f3a2070f45ad8ce44e5f61a6507ee00b6'}, {'appid': 730820, 'name': 'The Curse of Monkey Island', 'playtime_2weeks': 1, 'playtime_forever': 1, 'img_icon_url': 'a59f3ca19576b6b6c6dec09f1e9378939c135f2a'}, {'appid': 3590, 'name': 'Plants vs. Zombies: Game of the Year', 'playtime_2weeks': 1, 'playtime_forever': 800, 'img_icon_url': 'd2a9c24de11210560f579e7fd9303960c5060155'}]}}\n",
      "\n",
      "\n",
      "{'response': {'total_count': 1, 'games': [{'appid': 1151640, 'name': 'Horizon Zero Dawn™ Complete Edition', 'playtime_2weeks': 416, 'playtime_forever': 1174, 'img_icon_url': '08a1b6df68bdc8c28c974b79325ed8c89417af48'}]}}\n",
      "\n",
      "\n",
      "17 users had recently played games. Of them:\n",
      "Avg games played: 1.5\n",
      "Most games played: 2\n"
     ]
    }
   ],
   "source": [
    "# This works but is deprecated. Saved as a potential reference.\n",
    "\n",
    "# counter = 0\n",
    "# game_counts = set()\n",
    "\n",
    "# for i in range(100) :\n",
    "\n",
    "#     user = all_users[i]\n",
    "\n",
    "#     url = f'http://api.steampowered.com/IPlayerService/GetRecentlyPlayedGames/v0001/?key={key}&steamid={user}&format=json'\n",
    "#     with urlopen(url) as response :\n",
    "#         jason = json.load(response)\n",
    "#     games_list = jason['response']\n",
    "#     if len(games_list) > 0 :\n",
    "#         if games_list['total_count'] > 0 :\n",
    "#             print(jason)\n",
    "#             print('\\n')\n",
    "#             counter +=1\n",
    "#             game_counts.add(len(games_list))\n",
    "\n",
    "# print(f'{counter} users had recently played games. Of them:')\n",
    "# print(f'Avg games played: {sum(game_counts)/len(game_counts)}')\n",
    "# print(f'Most games played: {max(game_counts)}')"
   ]
  }
 ],
 "metadata": {
  "kernelspec": {
   "display_name": "base",
   "language": "python",
   "name": "python3"
  },
  "language_info": {
   "codemirror_mode": {
    "name": "ipython",
    "version": 3
   },
   "file_extension": ".py",
   "mimetype": "text/x-python",
   "name": "python",
   "nbconvert_exporter": "python",
   "pygments_lexer": "ipython3",
   "version": "3.10.13"
  }
 },
 "nbformat": 4,
 "nbformat_minor": 2
}
