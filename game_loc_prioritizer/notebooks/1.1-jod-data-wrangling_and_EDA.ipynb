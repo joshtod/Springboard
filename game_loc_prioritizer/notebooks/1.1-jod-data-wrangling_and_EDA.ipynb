{
 "cells": [
  {
   "cell_type": "markdown",
   "metadata": {},
   "source": [
    "# Data Wrangling & Cleaning\n",
    "  \n",
    "This notebook deals with the following datasets:  \n",
    "  \n",
    "1. 0 - Scraped Games DF.pkl  \n",
    "Extensive information on over 100,000 games on the Steam store.  \n",
    "2. review_table.parquet  \n",
    "table of reviews on the steam store. Each review is a row.  \n",
    "3. recently_played.pkl  \n",
    "A set of tuples scraped from the Steam API, listing users' recently played games and playtimes.\n",
    "  \n",
    "In this notebook, we will examine and clean each set separately. They will not be combined until closer to the modeling process."
   ]
  },
  {
   "cell_type": "code",
   "execution_count": 1,
   "metadata": {},
   "outputs": [],
   "source": [
    "import pandas as pd\n",
    "import numpy as np\n",
    "\n",
    "import matplotlib.pyplot as plt\n",
    "import seaborn as sns\n",
    "from datetime import date\n",
    "from collections import Counter\n",
    "\n",
    "from bs4 import BeautifulSoup\n",
    "from urllib.request import urlopen\n",
    "\n",
    "import pickle\n",
    "import pyarrow.parquet as pq"
   ]
  },
  {
   "cell_type": "markdown",
   "metadata": {},
   "source": [
    "## File 1: Games dataset"
   ]
  },
  {
   "cell_type": "code",
   "execution_count": 2,
   "metadata": {},
   "outputs": [
    {
     "name": "stdout",
     "output_type": "stream",
     "text": [
      "<class 'pandas.core.frame.DataFrame'>\n",
      "RangeIndex: 100894 entries, 0 to 100893\n",
      "Data columns (total 43 columns):\n",
      " #   Column                   Non-Null Count   Dtype  \n",
      "---  ------                   --------------   -----  \n",
      " 0   app_id                   100894 non-null  int64  \n",
      " 1   title                    100894 non-null  object \n",
      " 2   release_date             100796 non-null  object \n",
      " 3   positive_review_percent  35269 non-null   float64\n",
      " 4   number_of_reviews        35269 non-null   float64\n",
      " 5   price                    82970 non-null   float64\n",
      " 6   game_page_link           100894 non-null  object \n",
      " 7   tags                     100894 non-null  object \n",
      " 8   date_scraped             100894 non-null  object \n",
      " 9   developer                100778 non-null  object \n",
      " 10  publisher                95915 non-null   object \n",
      " 11  description              100894 non-null  object \n",
      " 12  interface_languages      100894 non-null  object \n",
      " 13  full_audio_languages     100894 non-null  object \n",
      " 14  subtitles_languages      100894 non-null  object \n",
      " 15  english                  100894 non-null  int64  \n",
      " 16  schinese                 66915 non-null   float64\n",
      " 17  tchinese                 2148 non-null    float64\n",
      " 18  japanese                 66914 non-null   float64\n",
      " 19  koreana                  66906 non-null   float64\n",
      " 20  thai                     2148 non-null    float64\n",
      " 21  bulgarian                2148 non-null    float64\n",
      " 22  czech                    2148 non-null    float64\n",
      " 23  danish                   2148 non-null    float64\n",
      " 24  german                   66907 non-null   float64\n",
      " 25  spanish                  66909 non-null   float64\n",
      " 26  latam                    2148 non-null    float64\n",
      " 27  greek                    2148 non-null    float64\n",
      " 28  french                   66912 non-null   float64\n",
      " 29  italian                  66904 non-null   float64\n",
      " 30  indonesian               2148 non-null    float64\n",
      " 31  hungarian                2148 non-null    float64\n",
      " 32  dutch                    2148 non-null    float64\n",
      " 33  norwegian                2148 non-null    float64\n",
      " 34  polish                   66908 non-null   float64\n",
      " 35  brazilian                66907 non-null   float64\n",
      " 36  romanian                 2148 non-null    float64\n",
      " 37  russian                  66913 non-null   float64\n",
      " 38  finnish                  2148 non-null    float64\n",
      " 39  swedish                  2148 non-null    float64\n",
      " 40  turkish                  2148 non-null    float64\n",
      " 41  vietnamese               2148 non-null    float64\n",
      " 42  tag_list                 100894 non-null  object \n",
      "dtypes: float64(29), int64(2), object(12)\n",
      "memory usage: 33.1+ MB\n"
     ]
    }
   ],
   "source": [
    "with open('../data/raw/0 - Scraped Games DF.pkl', 'rb') as file :\n",
    "    games_df = pickle.load(file)\n",
    "\n",
    "games_df.info()"
   ]
  },
  {
   "cell_type": "code",
   "execution_count": 3,
   "metadata": {},
   "outputs": [
    {
     "data": {
      "text/plain": [
       "2148"
      ]
     },
     "execution_count": 3,
     "metadata": {},
     "output_type": "execute_result"
    }
   ],
   "source": [
    "(~games_df['romanian'].isnull()).sum()"
   ]
  },
  {
   "cell_type": "code",
   "execution_count": 4,
   "metadata": {},
   "outputs": [
    {
     "name": "stdout",
     "output_type": "stream",
     "text": [
      "<class 'pandas.core.frame.DataFrame'>\n",
      "RangeIndex: 100894 entries, 0 to 100893\n",
      "Data columns (total 27 columns):\n",
      " #   Column                   Non-Null Count   Dtype  \n",
      "---  ------                   --------------   -----  \n",
      " 0   app_id                   100894 non-null  int64  \n",
      " 1   title                    100894 non-null  object \n",
      " 2   release_date             100796 non-null  object \n",
      " 3   positive_review_percent  35269 non-null   float64\n",
      " 4   number_of_reviews        35269 non-null   float64\n",
      " 5   price                    82970 non-null   float64\n",
      " 6   game_page_link           100894 non-null  object \n",
      " 7   tags                     100894 non-null  object \n",
      " 8   date_scraped             100894 non-null  object \n",
      " 9   developer                100778 non-null  object \n",
      " 10  publisher                95915 non-null   object \n",
      " 11  description              100894 non-null  object \n",
      " 12  interface_languages      100894 non-null  object \n",
      " 13  full_audio_languages     100894 non-null  object \n",
      " 14  subtitles_languages      100894 non-null  object \n",
      " 15  english                  100894 non-null  int64  \n",
      " 16  schinese                 66915 non-null   float64\n",
      " 17  japanese                 66914 non-null   float64\n",
      " 18  koreana                  66906 non-null   float64\n",
      " 19  german                   66907 non-null   float64\n",
      " 20  spanish                  66909 non-null   float64\n",
      " 21  french                   66912 non-null   float64\n",
      " 22  italian                  66904 non-null   float64\n",
      " 23  polish                   66908 non-null   float64\n",
      " 24  brazilian                66907 non-null   float64\n",
      " 25  russian                  66913 non-null   float64\n",
      " 26  tag_list                 100894 non-null  object \n",
      "dtypes: float64(13), int64(2), object(12)\n",
      "memory usage: 20.8+ MB\n"
     ]
    }
   ],
   "source": [
    "# I originally wanted to keep all unused language comment counts, but that makes the df exceed github's max file size.\n",
    "# Boo-hoo!\n",
    "# Let's just dump them here. They're the only ones with fewer than 3000 valid values.\n",
    "\n",
    "cols_to_drop = []\n",
    "\n",
    "for col in games_df.columns :\n",
    "    if (~games_df[col].isnull()).sum() < 3000 :\n",
    "        cols_to_drop.append(col)\n",
    "\n",
    "games_df = games_df.drop(columns=cols_to_drop)\n",
    "\n",
    "games_df.info()"
   ]
  },
  {
   "cell_type": "markdown",
   "metadata": {},
   "source": [
    "### Standardize data types"
   ]
  },
  {
   "cell_type": "code",
   "execution_count": 5,
   "metadata": {},
   "outputs": [
    {
     "name": "stdout",
     "output_type": "stream",
     "text": [
      "Stored 'relevant_langs' (list)\n"
     ]
    }
   ],
   "source": [
    "# The numbers in the comment count columns are strings\n",
    "# with extra characters. Let's standardize them as ints.\n",
    "\n",
    "# First, let's get a list of the columns that we need to process.\n",
    "# That's all columns from the comments df and one column from the\n",
    "# original game page scraped df.\n",
    "%store -r top_10_languages\n",
    "%store -r all_languages\n",
    "relevant_langs = top_10_languages.copy()\n",
    "relevant_langs.append('english')\n",
    "%store relevant_langs"
   ]
  },
  {
   "cell_type": "code",
   "execution_count": 6,
   "metadata": {},
   "outputs": [],
   "source": [
    "# Let's make sure the comment counts are ints.\n",
    "\n",
    "for language in relevant_langs :\n",
    "    games_df[language] = games_df[language].astype(int, errors='ignore')"
   ]
  },
  {
   "cell_type": "code",
   "execution_count": 7,
   "metadata": {},
   "outputs": [],
   "source": [
    "# For games that have multiple publishers, developers, etc, they're all stored as one string.\n",
    "# If we want to use this data eventually, we should split it into lists.\n",
    "# Some games don't have publishers or developers, and that's fine.\n",
    "# Oddly, some of them have trailing spaces.\n",
    "for index, row in games_df.iterrows() :\n",
    "    if not row['developer'] :\n",
    "        games_df.at[index, 'developer'] = []\n",
    "    else :\n",
    "        if type(row['developer']) != list :\n",
    "            row['developer'] = row['developer'].split(', ')\n",
    "            # Since the above line changes the str into a list, we can .strip() each item in the list\n",
    "            # with a comprehension.\n",
    "            list_of_developers = [name.strip() for name in row['developer']]\n",
    "            games_df.at[index, 'developer'] = list_of_developers\n",
    "\n",
    "    # And again.\n",
    "    if not row['publisher'] :\n",
    "        games_df.at[index, 'publisher'] = []\n",
    "    else :\n",
    "        if type(row['publisher']) != list :\n",
    "            row['publisher'] = row['publisher'].split(', ')\n",
    "            list_of_publishers = [name.strip() for name in row['publisher']]\n",
    "            games_df.at[index, 'publisher'] = list_of_publishers"
   ]
  },
  {
   "cell_type": "code",
   "execution_count": 8,
   "metadata": {},
   "outputs": [
    {
     "name": "stdout",
     "output_type": "stream",
     "text": [
      "<class 'list'>\n"
     ]
    }
   ],
   "source": [
    "# The tags are also just a string. We need them listed.\n",
    "tags_list = []\n",
    "\n",
    "for index, row in games_df.iterrows() :\n",
    "    if (type(row['tags']) != list) & (row['tags'] != '') :\n",
    "        tags_list = row['tags'].strip('[]').split(',')\n",
    "        games_df.at[index, 'tags'] = tags_list\n",
    "\n",
    "print(type(games_df.loc[0, 'tags']))"
   ]
  },
  {
   "cell_type": "code",
   "execution_count": 9,
   "metadata": {},
   "outputs": [
    {
     "name": "stdout",
     "output_type": "stream",
     "text": [
      "<class 'list'>\n"
     ]
    }
   ],
   "source": [
    "# Same problem for our languages types columns (interface, audio, subitles).\n",
    "\n",
    "for index, row in games_df.iterrows() :\n",
    "    if (type(row['interface_languages']) != list) & (row['interface_languages'] != '') :\n",
    "        languages_list = row['interface_languages'].strip('[]').split(', ')\n",
    "        games_df.at[index, 'interface_languages'] = languages_list\n",
    "    if (type(row['full_audio_languages']) != list) & (row['full_audio_languages'] != '') :\n",
    "        languages_list = row['full_audio_languages'].strip('[]').split(', ')\n",
    "        games_df.at[index, 'full_audio_languages'] = languages_list\n",
    "    if (type(row['subtitles_languages']) != list) & (row['subtitles_languages'] != '') :\n",
    "        languages_list = row['subtitles_languages'].strip('[]').split(', ')\n",
    "        games_df.at[index, 'subtitles_languages'] = languages_list\n",
    "\n",
    "# Check.\n",
    "print(type(games_df.loc[0, 'interface_languages']))"
   ]
  },
  {
   "cell_type": "code",
   "execution_count": 10,
   "metadata": {},
   "outputs": [
    {
     "name": "stdout",
     "output_type": "stream",
     "text": [
      "Stored 'tags_dict' (dict)\n"
     ]
    }
   ],
   "source": [
    "# For future reference, let's create a dictionary of tags codes & their meanings.\n",
    "# We can get that from the search page.\n",
    "# Keys will be the codes. Values will be the names.\n",
    "url = 'https://store.steampowered.com/search'\n",
    "html = urlopen(url)\n",
    "soup = BeautifulSoup(html, 'lxml')\n",
    "\n",
    "# The relevant data is in this one code block.\n",
    "code_block = soup.find('div', id=\"TagFilter_Container\")\n",
    "\n",
    "# Create the empty dict.\n",
    "tags_dict = {}\n",
    "\n",
    "# Iterate over all 400+ tags described in the code block.\n",
    "for listing in code_block.find_all('div', class_='tab_filter_control_row') :\n",
    "    tag_code = listing.get('data-value')\n",
    "    tag_name = listing.get('data-loc')\n",
    "    tags_dict[tag_code] = tag_name\n",
    "\n",
    "# We'll probably need it later, so let's save it a couple ways.\n",
    "# Weirdly, it's quicker and easier to do this via a DF.\n",
    "tags_dict_df = pd.DataFrame.from_dict(tags_dict, orient='index')\n",
    "tags_dict_df.to_csv('../data/raw/tag_dictionary.csv')\n",
    "%store tags_dict"
   ]
  },
  {
   "cell_type": "code",
   "execution_count": 11,
   "metadata": {},
   "outputs": [],
   "source": [
    "# For standardization, let's convert the numeric tags to text tags now.\n",
    "# Our scraper went through various iterations, so some of them are already\n",
    "# text tags.\n",
    "\n",
    "for index, row in games_df.iterrows() :\n",
    "    if row['tags'] != ['Failed'] :\n",
    "        if type(row['tags'][0]) != str :\n",
    "            tag_container = []\n",
    "            for tag in row['tags'] :\n",
    "                tag_container.append(tags_dict[tag])\n",
    "            games_df.at[index, 'tags'] = tag_container.copy()"
   ]
  },
  {
   "cell_type": "markdown",
   "metadata": {},
   "source": [
    "### Sanity checks"
   ]
  },
  {
   "cell_type": "code",
   "execution_count": 12,
   "metadata": {},
   "outputs": [
    {
     "data": {
      "text/plain": [
       "<Axes: >"
      ]
     },
     "execution_count": 12,
     "metadata": {},
     "output_type": "execute_result"
    },
    {
     "data": {
      "image/png": "[encoded data removed]",
      "text/plain": [
       "<Figure size 640x480 with 1 Axes>"
      ]
     },
     "metadata": {},
     "output_type": "display_data"
    }
   ],
   "source": [
    "# Since our tag_list column is very important to us, let's make sure\n",
    "# that the entries are reasonably comparable.\n",
    "\n",
    "# In order to count the number of tags in each game's tag list,\n",
    "# let's turn that column into a list of lists (by way of a series)\n",
    "# so that we can use a list comprehension to get a list of len()s.\n",
    "series_of_tags_column_values = games_df['tag_list']\n",
    "list_of_tags_column_values = series_of_tags_column_values.tolist()\n",
    "tags_values_lengths = [len(x) for x in list_of_tags_column_values]\n",
    "\n",
    "# Now we organize the counts into a dictionary, where the keys are\n",
    "# the lengths and the values are the frequencies of those lengths.\n",
    "dict_of_lenghts = {}\n",
    "\n",
    "for length in tags_values_lengths :\n",
    "    if length in dict_of_lenghts :\n",
    "        dict_of_lenghts[length] += 1\n",
    "    else :\n",
    "        dict_of_lenghts[length] = 1\n",
    "\n",
    "# Now let's plot it.\n",
    "lengths = []\n",
    "for key, value in dict_of_lenghts.items() :\n",
    "    lengths.append((key, value))\n",
    "\n",
    "x_axis = [x[0] for x in lengths]\n",
    "y_axis = [x[1] for x in lengths]\n",
    "\n",
    "sns.barplot(x=x_axis, y=y_axis)\n",
    "\n",
    "# Looks not too bad. Looks like the vast majority of games have 20 tags."
   ]
  },
  {
   "cell_type": "code",
   "execution_count": 13,
   "metadata": {},
   "outputs": [],
   "source": [
    "# I discovered that summing the number of comments in the top 10 loc languages + En\n",
    "# as recorded in our DF resulted in a HIGHER comment count than Steam displays (which\n",
    "# is the one we grabbed from Steam as \"number_of_reviews\").\n",
    "\n",
    "# Thus the \"number_of_reviews\" column may be useless to us, but I'm loathe to let go\n",
    "# of any data. Let's keep it for now, and just add a new column that we'll use for our\n",
    "# calculations: \"relevant_langs_review_sum\", which we calculate as the sum of the\n",
    "# existing reviews.\n",
    "\n",
    "games_df['relevant_langs_comments_sum'] = None\n",
    "\n",
    "for index, row in games_df.iterrows() :\n",
    "    games_df.loc[index, 'relevant_langs_comments_sum'] = row[relevant_langs].sum()\n",
    "\n",
    "games_df['relevant_langs_comments_sum'] = games_df['relevant_langs_comments_sum'].astype(int)"
   ]
  },
  {
   "cell_type": "markdown",
   "metadata": {},
   "source": [
    "### Determine completeness"
   ]
  },
  {
   "cell_type": "code",
   "execution_count": 14,
   "metadata": {},
   "outputs": [
    {
     "name": "stdout",
     "output_type": "stream",
     "text": [
      "0\n"
     ]
    }
   ],
   "source": [
    "# Our main feature is the tags, so we should make sure that all rows have them.\n",
    "# We can use the 'tags' col for this, since a presence in the 'tags' column\n",
    "# implies presence in the 'tag_list' column as well.\n",
    "indexes_to_drop = []\n",
    "\n",
    "for index, row in games_df.iterrows() :\n",
    "    if len(row['tags']) == 0 :\n",
    "        indexes_to_drop.append(index)\n",
    "\n",
    "print(len(indexes_to_drop))\n",
    "# Excellent! Looks like we're in the clear there."
   ]
  },
  {
   "cell_type": "markdown",
   "metadata": {},
   "source": [
    "### Further standardization"
   ]
  },
  {
   "cell_type": "code",
   "execution_count": 15,
   "metadata": {},
   "outputs": [],
   "source": [
    "# I've noticed that the way languages are written in the langauge types columns is different\n",
    "# from the way they're written in the languages columns. We'll need them to match up if we\n",
    "# want to do a comparative analysis.\n",
    "\n",
    "# The problems are threefold.\n",
    "# First, the capitalization is different.\n",
    "# Second, the language types columns split up some languages (for example, Spanish is split\n",
    "#   into \"Spanish - Spain\" and \"Spanish - Latin America\").\n",
    "# Third, some are just spelled differently, like \"schinese\" and \"Simplified Chinese\".\n",
    "\n",
    "# Since I don't want to lose data, I'll make new columns to hold the 'reduced' versions\n",
    "# (for example, where 'Spanish- Spain' is 'reduced' to 'spanish')\n",
    "\n",
    "# First, make cols and fill 'em with lists\n",
    "games_df['mod_interface_languages'] = [[] for _ in range(len(games_df))]\n",
    "games_df['mod_full_audio_languages'] = [[] for _ in range(len(games_df))]\n",
    "games_df['mod_subtitles_languages'] = [[] for _ in range(len(games_df))]\n",
    "\n",
    "\n",
    "# Next, let's just lowcap everything. Turn down the volume a bit.\n",
    "for index, row in games_df.iterrows() :\n",
    "\n",
    "    for item in row['interface_languages'] :\n",
    "        # Make a easy-to-mess-with version\n",
    "        lang = item.lower()\n",
    "\n",
    "        # Check to see if it's a variant, replace if so\n",
    "        for language in relevant_langs :\n",
    "            if language in lang :\n",
    "                lang = language\n",
    "\n",
    "        # And it looks like there are three special cases we need to handle specifically.\n",
    "        if lang == 'simplified chinese' :\n",
    "            lang = 'schinese'\n",
    "        \n",
    "        if lang == 'portuguese - brazil' :\n",
    "            lang = 'brazilian'\n",
    "        \n",
    "        if lang == 'korean' :\n",
    "            lang = 'koreana'\n",
    "\n",
    "        # Add the lowercaseified, standardizified version to the col in the main df\n",
    "        games_df.loc[index, 'mod_interface_languages'].append(lang)\n",
    "\n",
    "\n",
    "    # Now we do the same for the other two langauge type columns...\n",
    "    for item in row['full_audio_languages'] :\n",
    "        # Make a easy-to-mess-with version\n",
    "        lang = item.lower()\n",
    "\n",
    "        # Check to see if it's a variant, replace if so\n",
    "        for language in relevant_langs :\n",
    "            if language in lang :\n",
    "                lang = language\n",
    "\n",
    "        # And it looks like there are two special cases we need to handle specifically.\n",
    "        if lang == 'simplified chinese' :\n",
    "            lang = 'schinese'\n",
    "        \n",
    "        if lang == 'portuguese - brazil' :\n",
    "            lang = 'brazilian'\n",
    "\n",
    "        if lang == 'korean' :\n",
    "            lang = 'koreana'\n",
    "\n",
    "        # Add the lowercaseified, standardizified version to the col in the main df\n",
    "        games_df.loc[index, 'mod_full_audio_languages'].append(lang)\n",
    "\n",
    "\n",
    "    for item in row['subtitles_languages'] :\n",
    "        # Make a easy-to-mess-with version\n",
    "        lang = item.lower()\n",
    "\n",
    "        # Check to see if it's a variant, replace if so\n",
    "        for language in relevant_langs :\n",
    "            if language in lang :\n",
    "                lang = language\n",
    "\n",
    "        # And it looks like there are two special cases we need to handle specifically.\n",
    "        if lang == 'simplified chinese' :\n",
    "            lang = 'schinese'\n",
    "        \n",
    "        if lang == 'portuguese - brazil' :\n",
    "            lang = 'brazilian'\n",
    "\n",
    "        if lang == 'korean' :\n",
    "            lang = 'koreana'\n",
    "\n",
    "        # Add the lowercaseified, standardizified version to the col in the main df\n",
    "        games_df.loc[index, 'mod_subtitles_languages'].append(lang)"
   ]
  },
  {
   "cell_type": "markdown",
   "metadata": {},
   "source": [
    "### Designing some useful columns"
   ]
  },
  {
   "cell_type": "code",
   "execution_count": 16,
   "metadata": {},
   "outputs": [
    {
     "name": "stdout",
     "output_type": "stream",
     "text": [
      "0.0        17725\n",
      "499.0       8652\n",
      "99.0        7784\n",
      "299.0       7206\n",
      "999.0       7169\n",
      "199.0       6072\n",
      "1999.0      3507\n",
      "399.0       3499\n",
      "1499.0      3388\n",
      "599.0       2649\n",
      "699.0       2371\n",
      "799.0       2270\n",
      "2499.0      1279\n",
      "2999.0      1200\n",
      "899.0       1034\n",
      "1199.0      1018\n",
      "1299.0       925\n",
      "3999.0       568\n",
      "1099.0       509\n",
      "1399.0       404\n",
      "1799.0       362\n",
      "1599.0       292\n",
      "5999.0       245\n",
      "4999.0       234\n",
      "1699.0       232\n",
      "3499.0       218\n",
      "1899.0       158\n",
      "4499.0        91\n",
      "349.0         76\n",
      "149.0         72\n",
      "2299.0        65\n",
      "19999.0       52\n",
      "Name: price, dtype: int64\n",
      "81326\n"
     ]
    }
   ],
   "source": [
    "# Let's look at how our prices are distributed...\n",
    "list_of_prices = games_df['price']\n",
    "counts = list_of_prices.value_counts()\n",
    "print(counts[counts > 50])\n",
    "print(counts[counts > 50].sum())"
   ]
  },
  {
   "cell_type": "code",
   "execution_count": 17,
   "metadata": {},
   "outputs": [],
   "source": [
    "# We can see that almost 5/6 of our games fall into just a\n",
    "# few price points! That's significant to know. Let's use\n",
    "# these as bins, then \"below that\" and \"above that\" as\n",
    "# separate bins, for a total of 13 bins.\n",
    "\n",
    "# I'm not 100% confident in the efficacy of this method,\n",
    "# so let's preserve the original price data in the DF.\n",
    "# Later, when modeling, we can see if there's a reason\n",
    "# to use one or the other.\n",
    "\n",
    "ranges = [-5, 0, 700, 1200, 1700, 2200, 2700, 3200, 3700, 4200, 4700, 5200, 5700, 6500, 7500, np.inf]\n",
    "range_names = ['none', 'under 10', '999', '1499', '1999', '2499', '2999', '3499', '3999', '4499', '4999', '5499', '5999', '6999', 'over 80']\n",
    "games_df['price_category'] = pd.cut(games_df['price'], bins=ranges, labels=range_names)"
   ]
  },
  {
   "cell_type": "code",
   "execution_count": 18,
   "metadata": {},
   "outputs": [],
   "source": [
    "# Since we won't necessarily be dealing with comment counts\n",
    "# in individual lanugages, let's compact them into a single\n",
    "# column for tidy safekeeping.\n",
    "\n",
    "games_df['language_comment_counts'] = ''\n",
    "\n",
    "for index, row in games_df.iterrows() :\n",
    "    holding_dict = {}\n",
    "    for language in relevant_langs :\n",
    "        holding_dict[language] = row[language]\n",
    "    games_df.at[index, 'language_comment_counts'] = holding_dict.copy()"
   ]
  },
  {
   "cell_type": "markdown",
   "metadata": {},
   "source": [
    "### Save and quit\n",
    "\n",
    "In the next notebook, we will pare down the columns and perform other steps to prepare for modeling.\n",
    "\n",
    "We'll also save some of the variables we need along the way."
   ]
  },
  {
   "cell_type": "code",
   "execution_count": 19,
   "metadata": {},
   "outputs": [
    {
     "data": {
      "text/plain": [
       "Index(['app_id', 'release_date', 'price', 'price_category',\n",
       "       'positive_review_percent', 'relevant_langs_comments_sum', 'tags',\n",
       "       'tag_list', 'mod_interface_languages', 'mod_full_audio_languages',\n",
       "       'mod_subtitles_languages', 'language_comment_counts', 'date_scraped'],\n",
       "      dtype='object')"
      ]
     },
     "execution_count": 19,
     "metadata": {},
     "output_type": "execute_result"
    }
   ],
   "source": [
    "# First, let's reorder or coulmns to a more sane order.\n",
    "new_column_order = ['app_id', 'title', 'developer', 'publisher', 'description', 'release_date', 'price', \\\n",
    "                    'price_category', 'number_of_reviews', 'positive_review_percent', 'relevant_langs_comments_sum', \\\n",
    "                    'tags', 'tag_list', 'interface_languages', 'mod_interface_languages', 'full_audio_languages', \\\n",
    "                    'mod_full_audio_languages', 'subtitles_languages', 'mod_subtitles_languages', \\\n",
    "                    'language_comment_counts', 'game_page_link', 'date_scraped']\n",
    "\n",
    "# Do it\n",
    "games_df = games_df.reindex(columns=new_column_order)\n",
    "\n",
    "# We'll also drop some data that I wish we could keep into the preprocessing stage, just because GitHub\n",
    "# doesn't like my file sizes.\n",
    "columns_to_drop = ['title', 'game_page_link', 'developer', 'publisher', \\\n",
    "                   'description', \"number_of_reviews\", \"interface_languages\", \"full_audio_languages\", \\\n",
    "                    \"subtitles_languages\"]\n",
    "\n",
    "games_df = games_df.drop(columns=columns_to_drop)\n",
    "\n",
    "# Check it\n",
    "games_df.columns"
   ]
  },
  {
   "cell_type": "code",
   "execution_count": 20,
   "metadata": {},
   "outputs": [
    {
     "name": "stdout",
     "output_type": "stream",
     "text": [
      "Stored 'all_languages' (list)\n"
     ]
    }
   ],
   "source": [
    "with open('../data/interim/1 - Games DF - Wrangled', 'wb') as file :\n",
    "    pickle.dump(games_df, file)\n",
    "\n",
    "%store all_languages"
   ]
  },
  {
   "cell_type": "markdown",
   "metadata": {},
   "source": [
    "## File 2: Review Table\n",
    "\n",
    "Since this dataset has relatively few columns, there's not much to explore.  \n",
    "  \n",
    "However, I did identify the following avenues for improvement:  \n",
    "  \n",
    "1. We've only scraped a maximum of 10 reviews per user. Re-visiting those users' pages and looking for more reivews might make for a quick increase in our overall review count, since these are our proven high-review-count users.\n",
    "\n",
    "2. There's a slight issue with our \"helpful\" counts: when there is no helpful count but there IS a \"funny\" count (funny counts went unnoticed in my scraper design), the funny count is recorded as the helpful count. Fortunately this doesn't seem to have happened too much, and the funny count may also be a reasonable indicator of the utility of the review."
   ]
  },
  {
   "cell_type": "code",
   "execution_count": 21,
   "metadata": {},
   "outputs": [
    {
     "name": "stdout",
     "output_type": "stream",
     "text": [
      "<class 'pandas.core.frame.DataFrame'>\n",
      "RangeIndex: 316127 entries, 0 to 316126\n",
      "Data columns (total 10 columns):\n",
      " #   Column           Non-Null Count   Dtype  \n",
      "---  ------           --------------   -----  \n",
      " 0   user             316127 non-null  object \n",
      " 1   app_id           316127 non-null  int64  \n",
      " 2   positive         316127 non-null  int64  \n",
      " 3   total_playtime   316127 non-null  float64\n",
      " 4   review_playtime  316127 non-null  float64\n",
      " 5   text             316127 non-null  object \n",
      " 6   helpful_count    316127 non-null  int64  \n",
      " 7   review_date      316127 non-null  object \n",
      " 8   edit_date        316127 non-null  object \n",
      " 9   date_scraped     316127 non-null  object \n",
      "dtypes: float64(2), int64(3), object(5)\n",
      "memory usage: 24.1+ MB\n"
     ]
    }
   ],
   "source": [
    "review_table = pq.read_table('../data/raw/review_table.parquet')\n",
    "review_df = review_table.to_pandas()\n",
    "review_table = None\n",
    "review_df.info()"
   ]
  },
  {
   "cell_type": "code",
   "execution_count": 22,
   "metadata": {},
   "outputs": [
    {
     "name": "stdout",
     "output_type": "stream",
     "text": [
      "-----user-----\n",
      "count                316127\n",
      "unique                84610\n",
      "top       76561198351839822\n",
      "freq                     10\n",
      "Name: user, dtype: object\n",
      "\n",
      "-----app_id-----\n",
      "count    3.161270e+05\n",
      "mean     6.470574e+05\n",
      "std      5.872987e+05\n",
      "min      1.000000e+01\n",
      "25%      2.346500e+05\n",
      "50%      4.312400e+05\n",
      "75%      1.063730e+06\n",
      "max      2.900190e+06\n",
      "Name: app_id, dtype: float64\n",
      "\n",
      "-----positive-----\n",
      "count    316127.000000\n",
      "mean          0.847884\n",
      "std           0.359134\n",
      "min           0.000000\n",
      "25%           1.000000\n",
      "50%           1.000000\n",
      "75%           1.000000\n",
      "max           1.000000\n",
      "Name: positive, dtype: float64\n",
      "\n",
      "-----total_playtime-----\n",
      "count    316127.000000\n",
      "mean        437.053191\n",
      "std        1373.546306\n",
      "min           0.000000\n",
      "25%           9.600000\n",
      "50%          43.400000\n",
      "75%         214.600000\n",
      "max       71930.600000\n",
      "Name: total_playtime, dtype: float64\n",
      "\n",
      "-----review_playtime-----\n",
      "count    316127.000000\n",
      "mean        208.025883\n",
      "std         747.330349\n",
      "min           0.000000\n",
      "25%           4.800000\n",
      "50%          18.900000\n",
      "75%          86.900000\n",
      "max       38893.700000\n",
      "Name: review_playtime, dtype: float64\n",
      "\n",
      "-----text-----\n",
      "count     316127\n",
      "unique    281056\n",
      "top         good\n",
      "freq        1262\n",
      "Name: text, dtype: object\n",
      "\n",
      "-----helpful_count-----\n",
      "count    316127.000000\n",
      "mean          3.625252\n",
      "std          23.570404\n",
      "min           0.000000\n",
      "25%           0.000000\n",
      "50%           0.000000\n",
      "75%           1.000000\n",
      "max         991.000000\n",
      "Name: helpful_count, dtype: float64\n",
      "\n",
      "-----review_date-----\n",
      "count         316127\n",
      "unique          4758\n",
      "top       2019-06-29\n",
      "freq            2153\n",
      "Name: review_date, dtype: object\n",
      "\n",
      "-----edit_date-----\n",
      "count         316127\n",
      "unique          4723\n",
      "top       2019-06-29\n",
      "freq            2052\n",
      "Name: edit_date, dtype: object\n",
      "\n",
      "-----date_scraped-----\n",
      "count         316127\n",
      "unique             4\n",
      "top       2024-03-23\n",
      "freq          102023\n",
      "Name: date_scraped, dtype: object\n",
      "\n"
     ]
    }
   ],
   "source": [
    "for col in review_df.columns :\n",
    "    print(f'-----{col}-----')\n",
    "    print(review_df[col].describe())\n",
    "    print('')"
   ]
  },
  {
   "cell_type": "code",
   "execution_count": 23,
   "metadata": {},
   "outputs": [
    {
     "data": {
      "image/png": "[encoded data removed]",
      "text/plain": [
       "<Figure size 1000x500 with 2 Axes>"
      ]
     },
     "metadata": {},
     "output_type": "display_data"
    }
   ],
   "source": [
    "helpful_counts = review_df['helpful_count'].value_counts()\n",
    "helpful_counts.sort_index(inplace=True)\n",
    "low_review = helpful_counts[:11]\n",
    "high_review = helpful_counts[10:100]\n",
    "\n",
    "fig, ax = plt.subplots(1, 2, figsize=(10, 5))\n",
    "sns.barplot(x=low_review.index, y=low_review.values, ax=ax[0])\n",
    "ax[0].set_title('Low-review-count games')\n",
    "ax[0].set_xlabel('Times marked helpful')\n",
    "ax[0].set_ylabel('Number of games')\n",
    "sns.barplot(x=high_review.index, y=high_review.values, ax=ax[1])\n",
    "ax[1].set_title('High-review-count games')\n",
    "ax[1].set_xlabel('Times marked helpful')\n",
    "ax[1].set_xticks([20, 40, 60, 80])\n",
    "\n",
    "plt.tight_layout()\n",
    "plt.show()"
   ]
  },
  {
   "cell_type": "code",
   "execution_count": 24,
   "metadata": {},
   "outputs": [
    {
     "name": "stdout",
     "output_type": "stream",
     "text": [
      "5034 games were reviewed without being played.\n"
     ]
    }
   ],
   "source": [
    "unplayed_reviews = review_df[review_df['review_playtime']<0.0001]\n",
    "\n",
    "print(f\"{len(unplayed_reviews)} games were reviewed without being played.\")"
   ]
  },
  {
   "cell_type": "code",
   "execution_count": 25,
   "metadata": {},
   "outputs": [
    {
     "name": "stdout",
     "output_type": "stream",
     "text": [
      "Positive review percent of played games: 0.85\n",
      "Positive review percent of unplayed games: 0.72\n"
     ]
    }
   ],
   "source": [
    "played_reviews = review_df[review_df['review_playtime']>0.0001]\n",
    "\n",
    "pos_unplayed_review_percent = unplayed_reviews['positive'].sum()/len(unplayed_reviews)\n",
    "pos_played_review_percent = played_reviews['positive'].sum()/len(played_reviews)\n",
    "\n",
    "print(f'Positive review percent of played games: {pos_played_review_percent:.2f}')\n",
    "print(f'Positive review percent of unplayed games: {pos_unplayed_review_percent:.2f}')"
   ]
  },
  {
   "cell_type": "code",
   "execution_count": 26,
   "metadata": {},
   "outputs": [
    {
     "data": {
      "image/png": "[encoded data removed]",
      "text/plain": [
       "<Figure size 640x480 with 1 Axes>"
      ]
     },
     "metadata": {},
     "output_type": "display_data"
    }
   ],
   "source": [
    "positives = review_df['positive'].sum()\n",
    "negatives = len(review_df) - positives\n",
    "ratio = positives/negatives\n",
    "sns.barplot(x=['Positive', 'Negative'], y=[positives, negatives])\n",
    "plt.title(f'Ratio of positive to negative reviews (x{round(ratio, 2)})')\n",
    "plt.ylabel('Count')\n",
    "plt.show()"
   ]
  },
  {
   "cell_type": "code",
   "execution_count": 27,
   "metadata": {},
   "outputs": [
    {
     "data": {
      "image/png": "[encoded data removed]",
      "text/plain": [
       "<Figure size 640x480 with 1 Axes>"
      ]
     },
     "metadata": {},
     "output_type": "display_data"
    }
   ],
   "source": [
    "review_df['review_date'].hist()\n",
    "plt.show()"
   ]
  },
  {
   "cell_type": "code",
   "execution_count": 28,
   "metadata": {},
   "outputs": [
    {
     "data": {
      "text/plain": [
       "count                          30007\n",
       "mean     533 days 18:53:23.972406440\n",
       "std      705 days 11:49:18.456795352\n",
       "min                  1 days 00:00:00\n",
       "25%                 25 days 00:00:00\n",
       "50%                250 days 00:00:00\n",
       "75%                750 days 00:00:00\n",
       "max               4756 days 00:00:00\n",
       "dtype: object"
      ]
     },
     "execution_count": 28,
     "metadata": {},
     "output_type": "execute_result"
    }
   ],
   "source": [
    "late_edits = review_df[review_df['review_date'] != review_df['edit_date']]\n",
    "review_lags = late_edits['edit_date'] - late_edits['review_date']\n",
    "review_lags.describe()"
   ]
  },
  {
   "cell_type": "code",
   "execution_count": 29,
   "metadata": {},
   "outputs": [
    {
     "data": {
      "text/plain": [
       "count     316127\n",
       "unique    281056\n",
       "top         good\n",
       "freq        1262\n",
       "Name: text, dtype: object"
      ]
     },
     "execution_count": 29,
     "metadata": {},
     "output_type": "execute_result"
    }
   ],
   "source": [
    "review_texts = review_df['text']\n",
    "review_texts.describe()"
   ]
  },
  {
   "cell_type": "code",
   "execution_count": 30,
   "metadata": {},
   "outputs": [
    {
     "data": {
      "text/plain": [
       "Text(0, 0.5, 'Number of users with that many reviews')"
      ]
     },
     "execution_count": 30,
     "metadata": {},
     "output_type": "execute_result"
    },
    {
     "data": {
      "image/png": "[encoded data removed]",
      "text/plain": [
       "<Figure size 640x480 with 1 Axes>"
      ]
     },
     "metadata": {},
     "output_type": "display_data"
    }
   ],
   "source": [
    "review_counts = review_df['user'].value_counts()\n",
    "grouped_counts = review_counts.groupby(review_counts).agg('count')\n",
    "\n",
    "sns.barplot(x=grouped_counts.index, y=grouped_counts.values)\n",
    "plt.title('Number of reviews per user')\n",
    "plt.xlabel('Reviews (max is 10)')\n",
    "plt.ylabel('Number of users with that many reviews')"
   ]
  },
  {
   "cell_type": "markdown",
   "metadata": {},
   "source": [
    "## File 3: Recently Played\n",
    "\n",
    "The above data was scraped from the webpage. The following data was collected from the API. That's the reason for the different size of the dataset, as well as the overlapping data (specifically, a player's lifetime playtime for a game).\n",
    "\n",
    "Ideally, we could combine these datasets into one table, as it would have no repeated information, though there would be quite a few nulls where one dataset was smaller than the other. However, this task may not be within the scope of the current modeling project.\n",
    "\n",
    "The data for recently played games is stored in a tuple with the following schema:  \n",
    "  \n",
    "  -- user id (str)  \n",
    "  -- app id (int)  \n",
    "  -- time played in last 2 weeks (int, minutes)  \n",
    "  -- time played in forever (int, minutes)\n"
   ]
  },
  {
   "cell_type": "code",
   "execution_count": 31,
   "metadata": {},
   "outputs": [
    {
     "name": "stdout",
     "output_type": "stream",
     "text": [
      "<class 'pandas.core.frame.DataFrame'>\n",
      "RangeIndex: 1683058 entries, 0 to 1683057\n",
      "Data columns (total 4 columns):\n",
      " #   Column       Non-Null Count    Dtype \n",
      "---  ------       --------------    ----- \n",
      " 0   user         1683058 non-null  object\n",
      " 1   app_id       1683058 non-null  int64 \n",
      " 2   playtime_2w  1683058 non-null  int64 \n",
      " 3   playtime_f   1683058 non-null  int64 \n",
      "dtypes: int64(3), object(1)\n",
      "memory usage: 51.4+ MB\n"
     ]
    }
   ],
   "source": [
    "with open('../data/raw/recently_played.pkl', 'rb+') as file:\n",
    "    recently_played_tuples = pickle.load(file)\n",
    "\n",
    "recently_played_df = pd.DataFrame(recently_played_tuples, columns=['user', 'app_id', 'playtime_2w', 'playtime_f'])\n",
    "recently_played_df.info()"
   ]
  },
  {
   "cell_type": "code",
   "execution_count": 32,
   "metadata": {},
   "outputs": [
    {
     "data": {
      "text/html": [
       "<div>\n",
       "<style scoped>\n",
       "    .dataframe tbody tr th:only-of-type {\n",
       "        vertical-align: middle;\n",
       "    }\n",
       "\n",
       "    .dataframe tbody tr th {\n",
       "        vertical-align: top;\n",
       "    }\n",
       "\n",
       "    .dataframe thead th {\n",
       "        text-align: right;\n",
       "    }\n",
       "</style>\n",
       "<table border=\"1\" class=\"dataframe\">\n",
       "  <thead>\n",
       "    <tr style=\"text-align: right;\">\n",
       "      <th></th>\n",
       "      <th>app_id</th>\n",
       "      <th>playtime_2w</th>\n",
       "      <th>playtime_f</th>\n",
       "    </tr>\n",
       "  </thead>\n",
       "  <tbody>\n",
       "    <tr>\n",
       "      <th>count</th>\n",
       "      <td>1.683058e+06</td>\n",
       "      <td>1.683058e+06</td>\n",
       "      <td>1.683058e+06</td>\n",
       "    </tr>\n",
       "    <tr>\n",
       "      <th>mean</th>\n",
       "      <td>8.871855e+05</td>\n",
       "      <td>5.800291e+02</td>\n",
       "      <td>3.516038e+04</td>\n",
       "    </tr>\n",
       "    <tr>\n",
       "      <th>std</th>\n",
       "      <td>7.538794e+05</td>\n",
       "      <td>1.510151e+03</td>\n",
       "      <td>1.237312e+05</td>\n",
       "    </tr>\n",
       "    <tr>\n",
       "      <th>min</th>\n",
       "      <td>7.000000e+00</td>\n",
       "      <td>1.000000e+00</td>\n",
       "      <td>0.000000e+00</td>\n",
       "    </tr>\n",
       "    <tr>\n",
       "      <th>25%</th>\n",
       "      <td>2.841600e+05</td>\n",
       "      <td>2.900000e+01</td>\n",
       "      <td>3.510000e+02</td>\n",
       "    </tr>\n",
       "    <tr>\n",
       "      <th>50%</th>\n",
       "      <td>5.946500e+05</td>\n",
       "      <td>1.260000e+02</td>\n",
       "      <td>2.437000e+03</td>\n",
       "    </tr>\n",
       "    <tr>\n",
       "      <th>75%</th>\n",
       "      <td>1.328670e+06</td>\n",
       "      <td>5.100000e+02</td>\n",
       "      <td>1.582300e+04</td>\n",
       "    </tr>\n",
       "    <tr>\n",
       "      <th>max</th>\n",
       "      <td>2.902410e+06</td>\n",
       "      <td>2.015900e+04</td>\n",
       "      <td>5.574135e+06</td>\n",
       "    </tr>\n",
       "  </tbody>\n",
       "</table>\n",
       "</div>"
      ],
      "text/plain": [
       "             app_id   playtime_2w    playtime_f\n",
       "count  1.683058e+06  1.683058e+06  1.683058e+06\n",
       "mean   8.871855e+05  5.800291e+02  3.516038e+04\n",
       "std    7.538794e+05  1.510151e+03  1.237312e+05\n",
       "min    7.000000e+00  1.000000e+00  0.000000e+00\n",
       "25%    2.841600e+05  2.900000e+01  3.510000e+02\n",
       "50%    5.946500e+05  1.260000e+02  2.437000e+03\n",
       "75%    1.328670e+06  5.100000e+02  1.582300e+04\n",
       "max    2.902410e+06  2.015900e+04  5.574135e+06"
      ]
     },
     "execution_count": 32,
     "metadata": {},
     "output_type": "execute_result"
    }
   ],
   "source": [
    "recently_played_df.describe()"
   ]
  },
  {
   "cell_type": "code",
   "execution_count": 33,
   "metadata": {},
   "outputs": [
    {
     "name": "stderr",
     "output_type": "stream",
     "text": [
      "C:\\Users\\Josh\\AppData\\Local\\Temp\\ipykernel_15368\\3816339695.py:1: FutureWarning: The default value of numeric_only in DataFrameGroupBy.mean is deprecated. In a future version, numeric_only will default to False. Either specify numeric_only or select only columns which should be valid for the function.\n",
      "  groupby_apps = recently_played_df.groupby('app_id').agg('mean') \\\n"
     ]
    },
    {
     "data": {
      "text/plain": [
       "array([[<Axes: title={'center': 'playtime_2w'}>,\n",
       "        <Axes: title={'center': 'playtime_f'}>]], dtype=object)"
      ]
     },
     "execution_count": 33,
     "metadata": {},
     "output_type": "execute_result"
    },
    {
     "data": {
      "image/png": "[encoded data removed]",
      "text/plain": [
       "<Figure size 640x480 with 2 Axes>"
      ]
     },
     "metadata": {},
     "output_type": "display_data"
    }
   ],
   "source": [
    "groupby_apps = recently_played_df.groupby('app_id').agg('mean') \\\n",
    "                                 .sort_values(by='playtime_f', ascending=False)\n",
    "groupby_apps[:1000].hist()"
   ]
  },
  {
   "cell_type": "code",
   "execution_count": 34,
   "metadata": {},
   "outputs": [
    {
     "data": {
      "text/html": [
       "<div>\n",
       "<style scoped>\n",
       "    .dataframe tbody tr th:only-of-type {\n",
       "        vertical-align: middle;\n",
       "    }\n",
       "\n",
       "    .dataframe tbody tr th {\n",
       "        vertical-align: top;\n",
       "    }\n",
       "\n",
       "    .dataframe thead th {\n",
       "        text-align: right;\n",
       "    }\n",
       "</style>\n",
       "<table border=\"1\" class=\"dataframe\">\n",
       "  <thead>\n",
       "    <tr style=\"text-align: right;\">\n",
       "      <th></th>\n",
       "      <th>app_id</th>\n",
       "      <th>playtime_2w</th>\n",
       "      <th>playtime_f</th>\n",
       "    </tr>\n",
       "  </thead>\n",
       "  <tbody>\n",
       "    <tr>\n",
       "      <th>count</th>\n",
       "      <td>8.350000e+02</td>\n",
       "      <td>835.000000</td>\n",
       "      <td>8.350000e+02</td>\n",
       "    </tr>\n",
       "    <tr>\n",
       "      <th>mean</th>\n",
       "      <td>5.893876e+05</td>\n",
       "      <td>20064.898204</td>\n",
       "      <td>1.927071e+06</td>\n",
       "    </tr>\n",
       "    <tr>\n",
       "      <th>std</th>\n",
       "      <td>5.985079e+05</td>\n",
       "      <td>31.927683</td>\n",
       "      <td>1.399451e+06</td>\n",
       "    </tr>\n",
       "    <tr>\n",
       "      <th>min</th>\n",
       "      <td>1.000000e+01</td>\n",
       "      <td>20001.000000</td>\n",
       "      <td>2.245800e+04</td>\n",
       "    </tr>\n",
       "    <tr>\n",
       "      <th>25%</th>\n",
       "      <td>2.168600e+05</td>\n",
       "      <td>20040.000000</td>\n",
       "      <td>5.073370e+05</td>\n",
       "    </tr>\n",
       "    <tr>\n",
       "      <th>50%</th>\n",
       "      <td>4.035700e+05</td>\n",
       "      <td>20061.000000</td>\n",
       "      <td>2.020583e+06</td>\n",
       "    </tr>\n",
       "    <tr>\n",
       "      <th>75%</th>\n",
       "      <td>8.148750e+05</td>\n",
       "      <td>20089.000000</td>\n",
       "      <td>3.268261e+06</td>\n",
       "    </tr>\n",
       "    <tr>\n",
       "      <th>max</th>\n",
       "      <td>2.784840e+06</td>\n",
       "      <td>20159.000000</td>\n",
       "      <td>5.574135e+06</td>\n",
       "    </tr>\n",
       "  </tbody>\n",
       "</table>\n",
       "</div>"
      ],
      "text/plain": [
       "             app_id   playtime_2w    playtime_f\n",
       "count  8.350000e+02    835.000000  8.350000e+02\n",
       "mean   5.893876e+05  20064.898204  1.927071e+06\n",
       "std    5.985079e+05     31.927683  1.399451e+06\n",
       "min    1.000000e+01  20001.000000  2.245800e+04\n",
       "25%    2.168600e+05  20040.000000  5.073370e+05\n",
       "50%    4.035700e+05  20061.000000  2.020583e+06\n",
       "75%    8.148750e+05  20089.000000  3.268261e+06\n",
       "max    2.784840e+06  20159.000000  5.574135e+06"
      ]
     },
     "execution_count": 34,
     "metadata": {},
     "output_type": "execute_result"
    }
   ],
   "source": [
    "# The playtime_2w column is very instructive in that there's a huge amount\n",
    "# of records with about 20k minutes of playtime, which is also roughly\n",
    "# the amount of minutes in 2 weeks.\n",
    "\n",
    "# This suggests that some people may just leave games running, which may\n",
    "# mean that playtime's usability as a feature may be extremely limited.\n",
    "\n",
    "max_playtime = recently_played_df[recently_played_df['playtime_2w'] > 20000]\n",
    "max_playtime.describe()\n"
   ]
  },
  {
   "cell_type": "markdown",
   "metadata": {},
   "source": [
    "---------------"
   ]
  }
 ],
 "metadata": {
  "kernelspec": {
   "display_name": "base",
   "language": "python",
   "name": "python3"
  },
  "language_info": {
   "codemirror_mode": {
    "name": "ipython",
    "version": 3
   },
   "file_extension": ".py",
   "mimetype": "text/x-python",
   "name": "python",
   "nbconvert_exporter": "python",
   "pygments_lexer": "ipython3",
   "version": "3.10.13"
  },
  "orig_nbformat": 4
 },
 "nbformat": 4,
 "nbformat_minor": 2
}
