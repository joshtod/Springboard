{
 "cells": [
  {
   "cell_type": "markdown",
   "metadata": {},
   "source": [
    "Modeling\n",
    "---\n",
    "\n",
    "We are attempting to predict a continuous variable. I will try the following sklearn models:\n",
    "\n",
    "1. Lasso\n",
    "2. Gradient Boosted\n",
    "3. Random Forest"
   ]
  },
  {
   "cell_type": "code",
   "execution_count": 1,
   "metadata": {},
   "outputs": [],
   "source": [
    "import pandas as pd\n",
    "import numpy as np\n",
    "\n",
    "import matplotlib.pyplot as plt\n",
    "import seaborn as sns\n",
    "\n",
    "from sklearn.linear_model import Lasso\n",
    "from sklearn.ensemble import GradientBoostingRegressor, RandomForestRegressor\n",
    "from sklearn import linear_model, preprocessing\n",
    "from sklearn.model_selection import RandomizedSearchCV, GridSearchCV\n",
    "from sklearn.pipeline import make_pipeline\n",
    "from sklearn.metrics import mean_squared_error, mean_absolute_error, r2_score, explained_variance_score, mean_squared_log_error\n",
    "from sklearn.model_selection import train_test_split, cross_val_score\n",
    "from scipy.stats import ttest_ind, logistic, uniform, randint\n",
    "\n",
    "import statsmodels.api as sm\n",
    "\n",
    "from sklearn.preprocessing import LabelEncoder\n",
    "from bayes_opt import BayesianOptimization\n",
    "from catboost import CatBoostClassifier, cv, Pool\n",
    "\n",
    "import warnings\n",
    "warnings.filterwarnings('ignore')"
   ]
  },
  {
   "cell_type": "markdown",
   "metadata": {},
   "source": [
    "We made train/test splits in the previous step, but for the life of me I can't figure out why.\n",
    "\n",
    "Let's just get all our data in here, then run cross validation on all of them with new splits."
   ]
  },
  {
   "cell_type": "code",
   "execution_count": 2,
   "metadata": {},
   "outputs": [],
   "source": [
    "total_set = pd.read_json('../data/Step 3 - Total Set.json', orient='records')\n",
    "\n",
    "train_set = total_set[total_set['set']=='train']\n",
    "\n",
    "X_master = train_set.drop(['set', 'SalePrice'], axis=1)\n",
    "\n",
    "y = train_set['SalePrice']\n",
    "\n",
    "test_set = total_set[total_set['set'] == 'test']"
   ]
  },
  {
   "cell_type": "markdown",
   "metadata": {},
   "source": [
    "Doing some last-minute feature selection."
   ]
  },
  {
   "cell_type": "code",
   "execution_count": 3,
   "metadata": {},
   "outputs": [],
   "source": [
    "all_X_cols = X_master.columns"
   ]
  },
  {
   "cell_type": "code",
   "execution_count": 4,
   "metadata": {},
   "outputs": [],
   "source": [
    "%store -r usable_cats\n",
    "\n",
    "hot_cats = []\n",
    "\n",
    "for cat in usable_cats :\n",
    "    for col in all_X_cols :\n",
    "        if cat in col :\n",
    "            hot_cats.append(col)"
   ]
  },
  {
   "cell_type": "code",
   "execution_count": 5,
   "metadata": {},
   "outputs": [],
   "source": [
    "best_numerics = ['OverallQual',\n",
    " 'GrLivArea',\n",
    " 'ExterQual',\n",
    " 'KitchenQual',\n",
    " 'BsmtQual',\n",
    " 'GarageArea',\n",
    " 'TotalBsmtSF',\n",
    " 'FullBath',\n",
    " 'YearBuilt',\n",
    " 'GarageFinish',\n",
    " 'YearRemodAdd']"
   ]
  },
  {
   "cell_type": "code",
   "execution_count": 6,
   "metadata": {},
   "outputs": [],
   "source": [
    "usable_cols = []\n",
    "\n",
    "usable_cols.extend(hot_cats)\n",
    "usable_cols.extend(best_numerics)"
   ]
  },
  {
   "cell_type": "code",
   "execution_count": 7,
   "metadata": {},
   "outputs": [],
   "source": [
    "X = X_master[usable_cols]\n",
    "\n",
    "X_train, X_test, y_train, y_test = train_test_split(X, y, test_size=0.2)"
   ]
  },
  {
   "cell_type": "markdown",
   "metadata": {},
   "source": [
    "Lasso\n",
    "---"
   ]
  },
  {
   "cell_type": "markdown",
   "metadata": {},
   "source": [
    "For fun and science, I'll compare default parameters to the result of Bayesian optimization."
   ]
  },
  {
   "cell_type": "code",
   "execution_count": 8,
   "metadata": {},
   "outputs": [
    {
     "name": "stdout",
     "output_type": "stream",
     "text": [
      "{'target': 0.8623080250386768, 'params': {'alpha': 53.16673030914391}}\n"
     ]
    }
   ],
   "source": [
    "# Finding optimal alpha by Bayesian optimization.\n",
    "\n",
    "param_bounds = {\"alpha\":(0, 100)}\n",
    "\n",
    "def Lasso_eval(alpha) :\n",
    "    params = {\"alpha\":alpha}\n",
    "\n",
    "    model = Lasso(max_iter=100000, **params)\n",
    "\n",
    "    score = cross_val_score(model, X, y, cv=5).mean()\n",
    "\n",
    "    return score\n",
    "\n",
    "optimal = BayesianOptimization(Lasso_eval, param_bounds, verbose=False, allow_duplicate_points=True)\n",
    "\n",
    "optimal.maximize(60, 60)\n",
    "\n",
    "print(optimal.max)\n",
    "\n",
    "bayes_alpha = optimal.max['params']['alpha']"
   ]
  },
  {
   "cell_type": "markdown",
   "metadata": {},
   "source": [
    "Now I'll get 30 R2 scores for this model to help create a generalized comparison between all my models."
   ]
  },
  {
   "cell_type": "code",
   "execution_count": 9,
   "metadata": {},
   "outputs": [
    {
     "data": {
      "image/png": "[encoded data removed]",
      "text/plain": [
       "<Figure size 640x480 with 1 Axes>"
      ]
     },
     "metadata": {},
     "output_type": "display_data"
    }
   ],
   "source": [
    "default = []\n",
    "bayesian = []\n",
    "\n",
    "for i in range(30) :\n",
    "\n",
    "    X_train, X_test, y_train, y_test = train_test_split(X, y, test_size=0.2)\n",
    "\n",
    "    model = Lasso()\n",
    "    model.fit(X_train, y_train)\n",
    "    y_pred = model.predict(X_test)\n",
    "    default.append(r2_score(y_test, y_pred))\n",
    "\n",
    "    model = Lasso(max_iter=10000, alpha=bayes_alpha)\n",
    "    model.fit(X_train, y_train)\n",
    "    y_pred = model.predict(X_test)\n",
    "    bayesian.append(r2_score(y_test, y_pred))\n",
    "\n",
    "default_lasso = np.array(default)\n",
    "bayesian_lasso = np.array(bayesian)\n",
    "\n",
    "sns.histplot(default_lasso, alpha=0.3, color='red', bins='auto', common_norm=True, label='Default')\n",
    "sns.histplot(bayesian_lasso, alpha=0.3, color='blue', bins='auto', common_norm=True, label='Bayesian optimized')\n",
    "plt.axvline(x=default_lasso.mean(), color='red')\n",
    "plt.axvline(x=bayesian_lasso.mean(), color='blue')\n",
    "plt.legend()\n",
    "plt.title('CV scores: Lasso (30 trials each)')\n",
    "plt.xlabel('Mean R^2 score of each CV test')\n",
    "plt.tight_layout()\n",
    "plt.savefig('../reports/figures/Lasso_results')\n",
    "plt.show()"
   ]
  },
  {
   "cell_type": "markdown",
   "metadata": {},
   "source": [
    "It appears that 1 is indeed the default value of alpha, so the manually tuned and default versions are identical.\n",
    "\n",
    "It's interesting that shifting the parameters improved performance uniformly, preserving the shape of irregular distribution."
   ]
  },
  {
   "cell_type": "markdown",
   "metadata": {},
   "source": [
    "Gradient Boosted\n",
    "---"
   ]
  },
  {
   "cell_type": "markdown",
   "metadata": {},
   "source": [
    "Let's tune some parameters with Bayesian optimization, then compare to the default settings to see how much the tuning improves performance."
   ]
  },
  {
   "cell_type": "code",
   "execution_count": 10,
   "metadata": {},
   "outputs": [
    {
     "name": "stdout",
     "output_type": "stream",
     "text": [
      "{'target': 0.8868446023767845, 'params': {'learning_rate': 0.0249113008439295, 'max_depth': 9.749837597256937, 'min_samples_leaf': 5.452356967450842, 'min_samples_split': 11.621666410126878, 'n_estimators': 290.9738712654878, 'subsample': 0.21084003003358692}}\n"
     ]
    },
    {
     "data": {
      "text/plain": [
       "{'learning_rate': 0.0249113008439295,\n",
       " 'max_depth': 10,\n",
       " 'min_samples_leaf': 5,\n",
       " 'min_samples_split': 12,\n",
       " 'n_estimators': 291,\n",
       " 'subsample': 0.21084003003358692}"
      ]
     },
     "execution_count": 10,
     "metadata": {},
     "output_type": "execute_result"
    }
   ],
   "source": [
    "param_bounds = param_ranges = {\n",
    "    'n_estimators': (50, 300),\n",
    "    'learning_rate': (0.01, 1),\n",
    "    'max_depth': (2, 30),\n",
    "    'min_samples_split': (2, 60),\n",
    "    'min_samples_leaf': (1, 15),\n",
    "    'subsample': (0.1, 1),\n",
    "}\n",
    "\n",
    "def GB_eval(n_estimators, learning_rate, max_depth, min_samples_split, \\\n",
    "            min_samples_leaf, subsample) :\n",
    "    params = {\n",
    "        'n_estimators': int(n_estimators),\n",
    "        'learning_rate': learning_rate,\n",
    "        'max_depth': int(max_depth),\n",
    "        'min_samples_split': int(min_samples_split),\n",
    "        'min_samples_leaf': int(min_samples_leaf),\n",
    "        'subsample': subsample\n",
    "    }\n",
    "\n",
    "    model = GradientBoostingRegressor(**params)\n",
    "    score = cross_val_score(model, X, y, cv=5).mean()\n",
    "\n",
    "    return score\n",
    "\n",
    "optimal = BayesianOptimization(GB_eval, param_bounds, verbose=False)\n",
    "optimal.maximize(60, 100)\n",
    "print(optimal.max)\n",
    "\n",
    "bayes_gb_params = {}\n",
    "float_parameters = ['learning_rate', 'subsample']\n",
    "\n",
    "for key, value in optimal.max['params'].items() :\n",
    "    if key in float_parameters :\n",
    "        bayes_gb_params[key] = value\n",
    "    else:\n",
    "        bayes_gb_params[key] = int(round(value, 0))\n",
    "\n",
    "bayes_gb_params"
   ]
  },
  {
   "cell_type": "markdown",
   "metadata": {},
   "source": [
    "Now let's compare our performances."
   ]
  },
  {
   "cell_type": "code",
   "execution_count": 11,
   "metadata": {},
   "outputs": [
    {
     "data": {
      "image/png": "[encoded data removed]",
      "text/plain": [
       "<Figure size 640x480 with 1 Axes>"
      ]
     },
     "metadata": {},
     "output_type": "display_data"
    }
   ],
   "source": [
    "default = []\n",
    "bayesian = []\n",
    "\n",
    "for i in range(30) :\n",
    "\n",
    "    X_train, X_test, y_train, y_test = train_test_split(X, y, test_size=0.2)\n",
    "\n",
    "    model_default = GradientBoostingRegressor()\n",
    "    model_default.fit(X_train, y_train)\n",
    "    y_pred = model_default.predict(X_test)\n",
    "    default.append(r2_score(y_test, y_pred))\n",
    "\n",
    "    model_bayes = GradientBoostingRegressor(**bayes_gb_params)\n",
    "    model_bayes.fit(X_train, y_train)\n",
    "    y_pred = model_bayes.predict(X_test)\n",
    "    bayesian.append(r2_score(y_test, y_pred))\n",
    "\n",
    "default_gb = np.array(default)\n",
    "bayesian_gb = np.array(bayesian)\n",
    "\n",
    "\n",
    "sns.histplot(default_gb, alpha=0.3, color='red', bins='auto', common_norm=True, label='Default')\n",
    "sns.histplot(bayesian_gb, alpha=0.3, color='blue', bins='auto', common_norm=True, label='Bayesian optimized')\n",
    "plt.axvline(x=default_gb.mean(), color='red')\n",
    "plt.axvline(x=bayesian_gb.mean(), color='blue')\n",
    "plt.legend()\n",
    "plt.title('CV scores: GradientBoostingRegressor (30 trials each)')\n",
    "plt.xlabel('Mean R^2 score of each CV test')\n",
    "plt.tight_layout()\n",
    "plt.savefig('../reports/figures/Gradient_Boost_results')\n",
    "plt.show()"
   ]
  },
  {
   "cell_type": "markdown",
   "metadata": {},
   "source": [
    "The parameter tuning does seem to help, but not as much as I'd hoped.\n",
    "\n",
    "The long left tail suggests to me that there might be some weirdness left in the data that messes up the model when it interfaces with the train/test split in specific ways. If those low scores are the result of the same splits, that would strengthen my hypothesis.\n",
    "\n",
    "Let's find the index of the low scores in one set and see if they match up with the low scores in the other set."
   ]
  },
  {
   "cell_type": "code",
   "execution_count": 12,
   "metadata": {},
   "outputs": [
    {
     "name": "stdout",
     "output_type": "stream",
     "text": [
      "[0.84505997 0.85807352 0.85958105 0.85982603 0.85383043]\n",
      "[0.86617661 0.86475627 0.86456233 0.86783577 0.86142004]\n"
     ]
    }
   ],
   "source": [
    "bad_day = np.where(default_gb < 0.86)\n",
    "\n",
    "print(default_gb[bad_day])\n",
    "print(bayesian_gb[bad_day])"
   ]
  },
  {
   "cell_type": "markdown",
   "metadata": {},
   "source": [
    "All of these scores are well below the means. This does suggest that something about the data in different splits causes the entire model to become less accurate regardless of the parameters. Finding this quality in the data and mitigating it might improve performance.\n",
    "\n",
    "There may be a way to engineer my way out of that, but for now, let's continue."
   ]
  },
  {
   "cell_type": "markdown",
   "metadata": {},
   "source": [
    "Random Forest\n",
    "---"
   ]
  },
  {
   "cell_type": "markdown",
   "metadata": {},
   "source": [
    "Same as with Graident Boosting, let's test some Bayesian parameters against the default."
   ]
  },
  {
   "cell_type": "code",
   "execution_count": 13,
   "metadata": {},
   "outputs": [
    {
     "name": "stdout",
     "output_type": "stream",
     "text": [
      "{'target': 0.8767272197705938, 'params': {'max_depth': 29.43281506548602, 'max_features': 30.093392549052226, 'min_samples_leaf': 1.0, 'min_samples_split': 2.0, 'n_estimators': 244.8588372308048, 'n_jobs': -1.0}}\n"
     ]
    },
    {
     "data": {
      "text/plain": [
       "{'max_depth': 29,\n",
       " 'max_features': 30,\n",
       " 'min_samples_leaf': 1,\n",
       " 'min_samples_split': 2,\n",
       " 'n_estimators': 245,\n",
       " 'n_jobs': -1}"
      ]
     },
     "execution_count": 13,
     "metadata": {},
     "output_type": "execute_result"
    }
   ],
   "source": [
    "param_bounds = param_ranges = {\n",
    "    'n_estimators': (50, 600),\n",
    "    'max_depth': (2, 60),\n",
    "    'min_samples_split': (2, 20),\n",
    "    'min_samples_leaf': (1, 5),\n",
    "    'max_features': (1, 70),\n",
    "    'n_jobs': (-1, -1)\n",
    "}\n",
    "\n",
    "def RF_eval(n_estimators, max_depth, min_samples_split, min_samples_leaf, max_features, n_jobs) :\n",
    "    params = {\n",
    "        'n_estimators': int(n_estimators),\n",
    "        'max_depth': int(max_depth),\n",
    "        'min_samples_split': int(min_samples_split),\n",
    "        'min_samples_leaf': int(min_samples_leaf),\n",
    "        'max_features': int(max_features),\n",
    "        'n_jobs': int(n_jobs)\n",
    "    }\n",
    "\n",
    "    model = RandomForestRegressor(**params)\n",
    "    score = cross_val_score(model, X, y, cv=5).mean()\n",
    "\n",
    "    return score\n",
    "\n",
    "optimal = BayesianOptimization(RF_eval, param_bounds, verbose=False)\n",
    "optimal.maximize(60, 100)\n",
    "print(optimal.max)\n",
    "\n",
    "bayes_rf_params = {}\n",
    "\n",
    "for key, value in optimal.max['params'].items() :\n",
    "    bayes_rf_params[key] = int(round(value, 0))\n",
    "\n",
    "bayes_rf_params"
   ]
  },
  {
   "cell_type": "markdown",
   "metadata": {},
   "source": [
    "Now I'll get a set of 30 R2 scores from the default parameters, my manually-tuned parameters, and Bayesian optimized parameters for comparison."
   ]
  },
  {
   "cell_type": "code",
   "execution_count": 14,
   "metadata": {},
   "outputs": [
    {
     "data": {
      "image/png": "[encoded data removed]",
      "text/plain": [
       "<Figure size 640x480 with 1 Axes>"
      ]
     },
     "metadata": {},
     "output_type": "display_data"
    }
   ],
   "source": [
    "default = []\n",
    "bayesian = []\n",
    "\n",
    "for i in range(30) :\n",
    "\n",
    "    X_train, X_test, y_train, y_test = train_test_split(X, y, test_size=0.2)\n",
    "\n",
    "    model = RandomForestRegressor()\n",
    "    model.fit(X_train, y_train)\n",
    "    y_pred = model.predict(X_test)\n",
    "    default.append(r2_score(y_test, y_pred))\n",
    "\n",
    "    model = RandomForestRegressor(**bayes_rf_params)\n",
    "    model.fit(X_train, y_train)\n",
    "    y_pred = model.predict(X_test)\n",
    "    bayesian.append(r2_score(y_test, y_pred))\n",
    "\n",
    "default_rf = np.array(default)\n",
    "bayesian_rf = np.array(bayesian)\n",
    "\n",
    "sns.histplot(default_rf, alpha=0.3, color='red', bins='auto', label='Default')\n",
    "sns.histplot(bayesian_rf, alpha=0.3, color='blue', bins='auto', label='Bayesian optimized')\n",
    "plt.axvline(x=default_rf.mean(), color='red')\n",
    "plt.axvline(x=bayesian_rf.mean(), color='blue')\n",
    "plt.legend()\n",
    "plt.title('CV scores: RandomForestRegressor (30 trials each)')\n",
    "plt.xlabel('Mean R^2 score of each CV test')\n",
    "plt.tight_layout()\n",
    "plt.savefig('../reports/figures/Random_Forest_results')\n",
    "plt.show()"
   ]
  },
  {
   "cell_type": "markdown",
   "metadata": {},
   "source": [
    "Conclusion\n",
    "---"
   ]
  },
  {
   "cell_type": "code",
   "execution_count": 15,
   "metadata": {},
   "outputs": [
    {
     "name": "stdout",
     "output_type": "stream",
     "text": [
      "R2 score for Gradient Boost: 0.8852083283636369\n",
      "R2 score for Random Forest: 0.8837363221182508\n"
     ]
    }
   ],
   "source": [
    "print(f'R2 score for Gradient Boost: {bayesian_gb.mean()}')\n",
    "print(f'R2 score for Random Forest: {bayesian_rf.mean()}')"
   ]
  },
  {
   "cell_type": "markdown",
   "metadata": {},
   "source": [
    "Gradient Boost seems slightly better, but is that just chance?"
   ]
  },
  {
   "cell_type": "code",
   "execution_count": 16,
   "metadata": {},
   "outputs": [
    {
     "name": "stdout",
     "output_type": "stream",
     "text": [
      "T-statistic: 0.34922303190825243\n",
      "P-value: 0.7281866063554748\n"
     ]
    }
   ],
   "source": [
    "t_stat, p_value = ttest_ind(bayesian_gb, bayesian_rf)\n",
    "\n",
    "print(f'T-statistic: {t_stat}')\n",
    "print(f'P-value: {p_value}')"
   ]
  },
  {
   "cell_type": "markdown",
   "metadata": {},
   "source": [
    "We can't reject that null hypothesis. (And the last time I ran this notebook, Random Forest came out on top.)\n",
    "\n",
    "Thus, as the data stands, the Graident Boost and Random Forest models are both good candidates.\n",
    "\n",
    "To improve the model, we may have to do further work on our preprocessing and feature selection.\n",
    "\n",
    "The following are the parameters and performance metrics of the winning model (when the R^2 value of the model execution is close to the mean of the 30 results)."
   ]
  },
  {
   "cell_type": "code",
   "execution_count": 17,
   "metadata": {},
   "outputs": [
    {
     "name": "stdout",
     "output_type": "stream",
     "text": [
      "Mean squared error: 452431840.9935654\n",
      "Mean absolute error: 15260.783170093026\n",
      "R^2 score: 0.8820412546347484\n",
      "Explained variance: 0.8821965508870357\n",
      "Mean squared log error: 0.020366354315854582\n",
      "{'learning_rate': 0.0249113008439295, 'max_depth': 10, 'min_samples_leaf': 5, 'min_samples_split': 12, 'n_estimators': 291, 'subsample': 0.21084003003358692}\n"
     ]
    }
   ],
   "source": [
    "# Put in a dummy value to begin the loop.\n",
    "R2 = 0\n",
    "\n",
    "# Define what \"close\" to the mean means.\n",
    "lower_bound = bayesian_gb.mean() - 0.005\n",
    "upper_bound = bayesian_gb.mean() + 0.005\n",
    "\n",
    "\n",
    "# Execute the model until we get a result close to the mean of the 30 results above.\n",
    "while R2 < lower_bound or R2 > upper_bound :\n",
    "    X_train, X_test, y_train, y_test = train_test_split(X, y, test_size=0.2)\n",
    "    model_bayes = GradientBoostingRegressor(**bayes_gb_params)\n",
    "    model_bayes.fit(X_train, y_train)\n",
    "    y_pred = model_bayes.predict(X_test)\n",
    "    R2 = r2_score(y_test, y_pred)\n",
    "\n",
    "\n",
    "mse = mean_squared_error(y_test, y_pred)\n",
    "mae = mean_absolute_error(y_test, y_pred)\n",
    "ev = explained_variance_score(y_test, y_pred)\n",
    "msle = mean_squared_log_error(y_test, y_pred)\n",
    "\n",
    "print(f\"Mean squared error: {mse}\")\n",
    "print(f\"Mean absolute error: {mae}\")\n",
    "print(f\"R^2 score: {R2}\")\n",
    "print(f\"Explained variance: {ev}\")\n",
    "print(f\"Mean squared log error: {msle}\")\n",
    "print(bayes_gb_params)"
   ]
  }
 ],
 "metadata": {
  "kernelspec": {
   "display_name": "base",
   "language": "python",
   "name": "python3"
  },
  "language_info": {
   "codemirror_mode": {
    "name": "ipython",
    "version": 3
   },
   "file_extension": ".py",
   "mimetype": "text/x-python",
   "name": "python",
   "nbconvert_exporter": "python",
   "pygments_lexer": "ipython3",
   "version": "3.10.13"
  }
 },
 "nbformat": 4,
 "nbformat_minor": 2
}
