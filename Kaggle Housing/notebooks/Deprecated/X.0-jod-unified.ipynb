{
 "cells": [
  {
   "cell_type": "markdown",
   "metadata": {},
   "source": [
    "Wrangling\n",
    "---"
   ]
  },
  {
   "cell_type": "code",
   "execution_count": 1,
   "metadata": {},
   "outputs": [],
   "source": [
    "import pandas as pd\n",
    "import numpy as np\n",
    "import matplotlib.pyplot as plt\n",
    "import seaborn as sns\n",
    "\n",
    "import statsmodels.api as sm\n",
    "\n",
    "sns.set_palette('GnBu')"
   ]
  },
  {
   "cell_type": "code",
   "execution_count": 2,
   "metadata": {},
   "outputs": [
    {
     "name": "stdout",
     "output_type": "stream",
     "text": [
      "Train set shape: (1460, 81)\n",
      "Test set shape: (1459, 80)\n",
      "Total set shape: (2919, 83)\n"
     ]
    }
   ],
   "source": [
    "# The data from Kaggle came in predefined train and test sets.\n",
    "# Let's load them both and see what they're like.\n",
    "train_set = pd.read_csv('../data/raw/train.csv')\n",
    "test_set = pd.read_csv('../data/raw/test.csv')\n",
    "\n",
    "print(\"Train set shape: \"+str(train_set.shape))\n",
    "print(\"Test set shape: \"+str(test_set.shape))\n",
    "\n",
    "train_set['set'] = 'train'\n",
    "test_set['set'] = 'test'\n",
    "total_set = pd.concat([train_set, test_set]).reset_index()\n",
    "\n",
    "print(\"Total set shape: \"+str(total_set.shape))"
   ]
  }
 ],
 "metadata": {
  "kernelspec": {
   "display_name": "base",
   "language": "python",
   "name": "python3"
  },
  "language_info": {
   "codemirror_mode": {
    "name": "ipython",
    "version": 3
   },
   "file_extension": ".py",
   "mimetype": "text/x-python",
   "name": "python",
   "nbconvert_exporter": "python",
   "pygments_lexer": "ipython3",
   "version": "3.10.9"
  }
 },
 "nbformat": 4,
 "nbformat_minor": 2
}
