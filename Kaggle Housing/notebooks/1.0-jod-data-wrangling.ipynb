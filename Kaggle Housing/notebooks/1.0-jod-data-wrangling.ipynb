{
 "cells": [
  {
   "cell_type": "code",
   "execution_count": 86,
   "metadata": {},
   "outputs": [],
   "source": [
    "import pandas as pd\n",
    "import numpy as np\n",
    "import matplotlib.pyplot as plt\n",
    "import seaborn as sns\n",
    "\n",
    "import statsmodels.api as sm\n",
    "\n",
    "sns.set_palette('GnBu')"
   ]
  },
  {
   "cell_type": "markdown",
   "metadata": {},
   "source": [
    "Step 1: Data Collection\n",
    "---"
   ]
  },
  {
   "cell_type": "code",
   "execution_count": 87,
   "metadata": {},
   "outputs": [
    {
     "name": "stdout",
     "output_type": "stream",
     "text": [
      "Train set shape: (1460, 81)\n",
      "Test set shape: (1459, 80)\n"
     ]
    }
   ],
   "source": [
    "# The data from Kaggle came in predefined train and test sets.\n",
    "# Let's load them both and see what they're like.\n",
    "train_set = pd.read_csv('../data/raw/train.csv')\n",
    "test_set = pd.read_csv('../data/raw/test.csv')\n",
    "\n",
    "print(\"Train set shape: \"+str(train_set.shape))\n",
    "print(\"Test set shape: \"+str(test_set.shape))\n"
   ]
  },
  {
   "cell_type": "code",
   "execution_count": 88,
   "metadata": {},
   "outputs": [
    {
     "name": "stdout",
     "output_type": "stream",
     "text": [
      "<class 'pandas.core.frame.DataFrame'>\n",
      "RangeIndex: 2919 entries, 0 to 2918\n",
      "Data columns (total 83 columns):\n",
      " #   Column         Non-Null Count  Dtype  \n",
      "---  ------         --------------  -----  \n",
      " 0   index          2919 non-null   int64  \n",
      " 1   Id             2919 non-null   int64  \n",
      " 2   MSSubClass     2919 non-null   int64  \n",
      " 3   MSZoning       2915 non-null   object \n",
      " 4   LotFrontage    2433 non-null   float64\n",
      " 5   LotArea        2919 non-null   int64  \n",
      " 6   Street         2919 non-null   object \n",
      " 7   Alley          198 non-null    object \n",
      " 8   LotShape       2919 non-null   object \n",
      " 9   LandContour    2919 non-null   object \n",
      " 10  Utilities      2917 non-null   object \n",
      " 11  LotConfig      2919 non-null   object \n",
      " 12  LandSlope      2919 non-null   object \n",
      " 13  Neighborhood   2919 non-null   object \n",
      " 14  Condition1     2919 non-null   object \n",
      " 15  Condition2     2919 non-null   object \n",
      " 16  BldgType       2919 non-null   object \n",
      " 17  HouseStyle     2919 non-null   object \n",
      " 18  OverallQual    2919 non-null   int64  \n",
      " 19  OverallCond    2919 non-null   int64  \n",
      " 20  YearBuilt      2919 non-null   int64  \n",
      " 21  YearRemodAdd   2919 non-null   int64  \n",
      " 22  RoofStyle      2919 non-null   object \n",
      " 23  RoofMatl       2919 non-null   object \n",
      " 24  Exterior1st    2918 non-null   object \n",
      " 25  Exterior2nd    2918 non-null   object \n",
      " 26  MasVnrType     2895 non-null   object \n",
      " 27  MasVnrArea     2896 non-null   float64\n",
      " 28  ExterQual      2919 non-null   object \n",
      " 29  ExterCond      2919 non-null   object \n",
      " 30  Foundation     2919 non-null   object \n",
      " 31  BsmtQual       2838 non-null   object \n",
      " 32  BsmtCond       2837 non-null   object \n",
      " 33  BsmtExposure   2837 non-null   object \n",
      " 34  BsmtFinType1   2840 non-null   object \n",
      " 35  BsmtFinSF1     2918 non-null   float64\n",
      " 36  BsmtFinType2   2839 non-null   object \n",
      " 37  BsmtFinSF2     2918 non-null   float64\n",
      " 38  BsmtUnfSF      2918 non-null   float64\n",
      " 39  TotalBsmtSF    2918 non-null   float64\n",
      " 40  Heating        2919 non-null   object \n",
      " 41  HeatingQC      2919 non-null   object \n",
      " 42  CentralAir     2919 non-null   object \n",
      " 43  Electrical     2918 non-null   object \n",
      " 44  1stFlrSF       2919 non-null   int64  \n",
      " 45  2ndFlrSF       2919 non-null   int64  \n",
      " 46  LowQualFinSF   2919 non-null   int64  \n",
      " 47  GrLivArea      2919 non-null   int64  \n",
      " 48  BsmtFullBath   2917 non-null   float64\n",
      " 49  BsmtHalfBath   2917 non-null   float64\n",
      " 50  FullBath       2919 non-null   int64  \n",
      " 51  HalfBath       2919 non-null   int64  \n",
      " 52  BedroomAbvGr   2919 non-null   int64  \n",
      " 53  KitchenAbvGr   2919 non-null   int64  \n",
      " 54  KitchenQual    2918 non-null   object \n",
      " 55  TotRmsAbvGrd   2919 non-null   int64  \n",
      " 56  Functional     2917 non-null   object \n",
      " 57  Fireplaces     2919 non-null   int64  \n",
      " 58  FireplaceQu    1499 non-null   object \n",
      " 59  GarageType     2762 non-null   object \n",
      " 60  GarageYrBlt    2760 non-null   float64\n",
      " 61  GarageFinish   2760 non-null   object \n",
      " 62  GarageCars     2918 non-null   float64\n",
      " 63  GarageArea     2918 non-null   float64\n",
      " 64  GarageQual     2760 non-null   object \n",
      " 65  GarageCond     2760 non-null   object \n",
      " 66  PavedDrive     2919 non-null   object \n",
      " 67  WoodDeckSF     2919 non-null   int64  \n",
      " 68  OpenPorchSF    2919 non-null   int64  \n",
      " 69  EnclosedPorch  2919 non-null   int64  \n",
      " 70  3SsnPorch      2919 non-null   int64  \n",
      " 71  ScreenPorch    2919 non-null   int64  \n",
      " 72  PoolArea       2919 non-null   int64  \n",
      " 73  PoolQC         10 non-null     object \n",
      " 74  Fence          571 non-null    object \n",
      " 75  MiscFeature    105 non-null    object \n",
      " 76  MiscVal        2919 non-null   int64  \n",
      " 77  MoSold         2919 non-null   int64  \n",
      " 78  YrSold         2919 non-null   int64  \n",
      " 79  SaleType       2918 non-null   object \n",
      " 80  SaleCondition  2919 non-null   object \n",
      " 81  SalePrice      1460 non-null   float64\n",
      " 82  set            2919 non-null   object \n",
      "dtypes: float64(12), int64(27), object(44)\n",
      "memory usage: 1.8+ MB\n"
     ]
    }
   ],
   "source": [
    "# Combine them for joint analysis.\n",
    "# Let's not lose track of which is which! Just in case.\n",
    "train_set['set'] = 'train'\n",
    "test_set['set'] = 'test'\n",
    "\n",
    "# Smoosh smoosh.\n",
    "# Make a new index to prevent duplicate index values.\n",
    "# Keep the old index because I'm a hoarder.\n",
    "total_set = pd.concat([train_set, test_set]).reset_index()\n",
    "\n",
    "# Peek peek.\n",
    "# Column descriptions are in ../references/data_description\n",
    "total_set.info()"
   ]
  },
  {
   "cell_type": "markdown",
   "metadata": {},
   "source": [
    "Step 2: Data Organization\n",
    "---\n",
    "\n",
    "I have used the recommended cookiecutter format and uploaded to my Springboard github repository."
   ]
  },
  {
   "cell_type": "markdown",
   "metadata": {},
   "source": [
    "Step 3: Data Definition\n",
    "---\n",
    "\n",
    "Let's get a handle on these values."
   ]
  },
  {
   "cell_type": "code",
   "execution_count": 89,
   "metadata": {},
   "outputs": [
    {
     "data": {
      "image/png": "[encoded data removed]",
      "text/plain": [
       "<Figure size 640x480 with 1 Axes>"
      ]
     },
     "metadata": {},
     "output_type": "display_data"
    }
   ],
   "source": [
    "# Curious about those labels!\n",
    "_ = sns.histplot(train_set['SalePrice'], bins=20)\n",
    "_ = plt.xlabel('SalePrice')\n",
    "_ = plt.ylabel('Frequency')\n",
    "_ = plt.title('Label value frequencies')\n",
    "\n",
    "# Looks like we have a few outliers!"
   ]
  },
  {
   "cell_type": "code",
   "execution_count": 90,
   "metadata": {},
   "outputs": [
    {
     "data": {
      "text/html": [
       "<div>\n",
       "<style scoped>\n",
       "    .dataframe tbody tr th:only-of-type {\n",
       "        vertical-align: middle;\n",
       "    }\n",
       "\n",
       "    .dataframe tbody tr th {\n",
       "        vertical-align: top;\n",
       "    }\n",
       "\n",
       "    .dataframe thead th {\n",
       "        text-align: right;\n",
       "    }\n",
       "</style>\n",
       "<table border=\"1\" class=\"dataframe\">\n",
       "  <thead>\n",
       "    <tr style=\"text-align: right;\">\n",
       "      <th></th>\n",
       "      <th>index</th>\n",
       "      <th>Id</th>\n",
       "      <th>MSSubClass</th>\n",
       "      <th>LotFrontage</th>\n",
       "      <th>LotArea</th>\n",
       "      <th>OverallQual</th>\n",
       "      <th>OverallCond</th>\n",
       "      <th>YearBuilt</th>\n",
       "      <th>YearRemodAdd</th>\n",
       "      <th>MasVnrArea</th>\n",
       "      <th>...</th>\n",
       "      <th>WoodDeckSF</th>\n",
       "      <th>OpenPorchSF</th>\n",
       "      <th>EnclosedPorch</th>\n",
       "      <th>3SsnPorch</th>\n",
       "      <th>ScreenPorch</th>\n",
       "      <th>PoolArea</th>\n",
       "      <th>MiscVal</th>\n",
       "      <th>MoSold</th>\n",
       "      <th>YrSold</th>\n",
       "      <th>SalePrice</th>\n",
       "    </tr>\n",
       "  </thead>\n",
       "  <tbody>\n",
       "    <tr>\n",
       "      <th>count</th>\n",
       "      <td>2919.000000</td>\n",
       "      <td>2919.000000</td>\n",
       "      <td>2919.000000</td>\n",
       "      <td>2433.000000</td>\n",
       "      <td>2919.000000</td>\n",
       "      <td>2919.000000</td>\n",
       "      <td>2919.000000</td>\n",
       "      <td>2919.000000</td>\n",
       "      <td>2919.000000</td>\n",
       "      <td>2896.000000</td>\n",
       "      <td>...</td>\n",
       "      <td>2919.000000</td>\n",
       "      <td>2919.000000</td>\n",
       "      <td>2919.000000</td>\n",
       "      <td>2919.000000</td>\n",
       "      <td>2919.000000</td>\n",
       "      <td>2919.000000</td>\n",
       "      <td>2919.000000</td>\n",
       "      <td>2919.000000</td>\n",
       "      <td>2919.000000</td>\n",
       "      <td>1460.000000</td>\n",
       "    </tr>\n",
       "    <tr>\n",
       "      <th>mean</th>\n",
       "      <td>729.250086</td>\n",
       "      <td>1460.000000</td>\n",
       "      <td>57.137718</td>\n",
       "      <td>69.305795</td>\n",
       "      <td>10168.114080</td>\n",
       "      <td>6.089072</td>\n",
       "      <td>5.564577</td>\n",
       "      <td>1971.312778</td>\n",
       "      <td>1984.264474</td>\n",
       "      <td>102.201312</td>\n",
       "      <td>...</td>\n",
       "      <td>93.709832</td>\n",
       "      <td>47.486811</td>\n",
       "      <td>23.098321</td>\n",
       "      <td>2.602261</td>\n",
       "      <td>16.062350</td>\n",
       "      <td>2.251799</td>\n",
       "      <td>50.825968</td>\n",
       "      <td>6.213087</td>\n",
       "      <td>2007.792737</td>\n",
       "      <td>180921.195890</td>\n",
       "    </tr>\n",
       "    <tr>\n",
       "      <th>std</th>\n",
       "      <td>421.393596</td>\n",
       "      <td>842.787043</td>\n",
       "      <td>42.517628</td>\n",
       "      <td>23.344905</td>\n",
       "      <td>7886.996359</td>\n",
       "      <td>1.409947</td>\n",
       "      <td>1.113131</td>\n",
       "      <td>30.291442</td>\n",
       "      <td>20.894344</td>\n",
       "      <td>179.334253</td>\n",
       "      <td>...</td>\n",
       "      <td>126.526589</td>\n",
       "      <td>67.575493</td>\n",
       "      <td>64.244246</td>\n",
       "      <td>25.188169</td>\n",
       "      <td>56.184365</td>\n",
       "      <td>35.663946</td>\n",
       "      <td>567.402211</td>\n",
       "      <td>2.714762</td>\n",
       "      <td>1.314964</td>\n",
       "      <td>79442.502883</td>\n",
       "    </tr>\n",
       "    <tr>\n",
       "      <th>min</th>\n",
       "      <td>0.000000</td>\n",
       "      <td>1.000000</td>\n",
       "      <td>20.000000</td>\n",
       "      <td>21.000000</td>\n",
       "      <td>1300.000000</td>\n",
       "      <td>1.000000</td>\n",
       "      <td>1.000000</td>\n",
       "      <td>1872.000000</td>\n",
       "      <td>1950.000000</td>\n",
       "      <td>0.000000</td>\n",
       "      <td>...</td>\n",
       "      <td>0.000000</td>\n",
       "      <td>0.000000</td>\n",
       "      <td>0.000000</td>\n",
       "      <td>0.000000</td>\n",
       "      <td>0.000000</td>\n",
       "      <td>0.000000</td>\n",
       "      <td>0.000000</td>\n",
       "      <td>1.000000</td>\n",
       "      <td>2006.000000</td>\n",
       "      <td>34900.000000</td>\n",
       "    </tr>\n",
       "    <tr>\n",
       "      <th>25%</th>\n",
       "      <td>364.500000</td>\n",
       "      <td>730.500000</td>\n",
       "      <td>20.000000</td>\n",
       "      <td>59.000000</td>\n",
       "      <td>7478.000000</td>\n",
       "      <td>5.000000</td>\n",
       "      <td>5.000000</td>\n",
       "      <td>1953.500000</td>\n",
       "      <td>1965.000000</td>\n",
       "      <td>0.000000</td>\n",
       "      <td>...</td>\n",
       "      <td>0.000000</td>\n",
       "      <td>0.000000</td>\n",
       "      <td>0.000000</td>\n",
       "      <td>0.000000</td>\n",
       "      <td>0.000000</td>\n",
       "      <td>0.000000</td>\n",
       "      <td>0.000000</td>\n",
       "      <td>4.000000</td>\n",
       "      <td>2007.000000</td>\n",
       "      <td>129975.000000</td>\n",
       "    </tr>\n",
       "    <tr>\n",
       "      <th>50%</th>\n",
       "      <td>729.000000</td>\n",
       "      <td>1460.000000</td>\n",
       "      <td>50.000000</td>\n",
       "      <td>68.000000</td>\n",
       "      <td>9453.000000</td>\n",
       "      <td>6.000000</td>\n",
       "      <td>5.000000</td>\n",
       "      <td>1973.000000</td>\n",
       "      <td>1993.000000</td>\n",
       "      <td>0.000000</td>\n",
       "      <td>...</td>\n",
       "      <td>0.000000</td>\n",
       "      <td>26.000000</td>\n",
       "      <td>0.000000</td>\n",
       "      <td>0.000000</td>\n",
       "      <td>0.000000</td>\n",
       "      <td>0.000000</td>\n",
       "      <td>0.000000</td>\n",
       "      <td>6.000000</td>\n",
       "      <td>2008.000000</td>\n",
       "      <td>163000.000000</td>\n",
       "    </tr>\n",
       "    <tr>\n",
       "      <th>75%</th>\n",
       "      <td>1094.000000</td>\n",
       "      <td>2189.500000</td>\n",
       "      <td>70.000000</td>\n",
       "      <td>80.000000</td>\n",
       "      <td>11570.000000</td>\n",
       "      <td>7.000000</td>\n",
       "      <td>6.000000</td>\n",
       "      <td>2001.000000</td>\n",
       "      <td>2004.000000</td>\n",
       "      <td>164.000000</td>\n",
       "      <td>...</td>\n",
       "      <td>168.000000</td>\n",
       "      <td>70.000000</td>\n",
       "      <td>0.000000</td>\n",
       "      <td>0.000000</td>\n",
       "      <td>0.000000</td>\n",
       "      <td>0.000000</td>\n",
       "      <td>0.000000</td>\n",
       "      <td>8.000000</td>\n",
       "      <td>2009.000000</td>\n",
       "      <td>214000.000000</td>\n",
       "    </tr>\n",
       "    <tr>\n",
       "      <th>max</th>\n",
       "      <td>1459.000000</td>\n",
       "      <td>2919.000000</td>\n",
       "      <td>190.000000</td>\n",
       "      <td>313.000000</td>\n",
       "      <td>215245.000000</td>\n",
       "      <td>10.000000</td>\n",
       "      <td>9.000000</td>\n",
       "      <td>2010.000000</td>\n",
       "      <td>2010.000000</td>\n",
       "      <td>1600.000000</td>\n",
       "      <td>...</td>\n",
       "      <td>1424.000000</td>\n",
       "      <td>742.000000</td>\n",
       "      <td>1012.000000</td>\n",
       "      <td>508.000000</td>\n",
       "      <td>576.000000</td>\n",
       "      <td>800.000000</td>\n",
       "      <td>17000.000000</td>\n",
       "      <td>12.000000</td>\n",
       "      <td>2010.000000</td>\n",
       "      <td>755000.000000</td>\n",
       "    </tr>\n",
       "  </tbody>\n",
       "</table>\n",
       "<p>8 rows × 39 columns</p>\n",
       "</div>"
      ],
      "text/plain": [
       "             index           Id   MSSubClass  LotFrontage        LotArea  \\\n",
       "count  2919.000000  2919.000000  2919.000000  2433.000000    2919.000000   \n",
       "mean    729.250086  1460.000000    57.137718    69.305795   10168.114080   \n",
       "std     421.393596   842.787043    42.517628    23.344905    7886.996359   \n",
       "min       0.000000     1.000000    20.000000    21.000000    1300.000000   \n",
       "25%     364.500000   730.500000    20.000000    59.000000    7478.000000   \n",
       "50%     729.000000  1460.000000    50.000000    68.000000    9453.000000   \n",
       "75%    1094.000000  2189.500000    70.000000    80.000000   11570.000000   \n",
       "max    1459.000000  2919.000000   190.000000   313.000000  215245.000000   \n",
       "\n",
       "       OverallQual  OverallCond    YearBuilt  YearRemodAdd   MasVnrArea  ...  \\\n",
       "count  2919.000000  2919.000000  2919.000000   2919.000000  2896.000000  ...   \n",
       "mean      6.089072     5.564577  1971.312778   1984.264474   102.201312  ...   \n",
       "std       1.409947     1.113131    30.291442     20.894344   179.334253  ...   \n",
       "min       1.000000     1.000000  1872.000000   1950.000000     0.000000  ...   \n",
       "25%       5.000000     5.000000  1953.500000   1965.000000     0.000000  ...   \n",
       "50%       6.000000     5.000000  1973.000000   1993.000000     0.000000  ...   \n",
       "75%       7.000000     6.000000  2001.000000   2004.000000   164.000000  ...   \n",
       "max      10.000000     9.000000  2010.000000   2010.000000  1600.000000  ...   \n",
       "\n",
       "        WoodDeckSF  OpenPorchSF  EnclosedPorch    3SsnPorch  ScreenPorch  \\\n",
       "count  2919.000000  2919.000000    2919.000000  2919.000000  2919.000000   \n",
       "mean     93.709832    47.486811      23.098321     2.602261    16.062350   \n",
       "std     126.526589    67.575493      64.244246    25.188169    56.184365   \n",
       "min       0.000000     0.000000       0.000000     0.000000     0.000000   \n",
       "25%       0.000000     0.000000       0.000000     0.000000     0.000000   \n",
       "50%       0.000000    26.000000       0.000000     0.000000     0.000000   \n",
       "75%     168.000000    70.000000       0.000000     0.000000     0.000000   \n",
       "max    1424.000000   742.000000    1012.000000   508.000000   576.000000   \n",
       "\n",
       "          PoolArea       MiscVal       MoSold       YrSold      SalePrice  \n",
       "count  2919.000000   2919.000000  2919.000000  2919.000000    1460.000000  \n",
       "mean      2.251799     50.825968     6.213087  2007.792737  180921.195890  \n",
       "std      35.663946    567.402211     2.714762     1.314964   79442.502883  \n",
       "min       0.000000      0.000000     1.000000  2006.000000   34900.000000  \n",
       "25%       0.000000      0.000000     4.000000  2007.000000  129975.000000  \n",
       "50%       0.000000      0.000000     6.000000  2008.000000  163000.000000  \n",
       "75%       0.000000      0.000000     8.000000  2009.000000  214000.000000  \n",
       "max     800.000000  17000.000000    12.000000  2010.000000  755000.000000  \n",
       "\n",
       "[8 rows x 39 columns]"
      ]
     },
     "execution_count": 90,
     "metadata": {},
     "output_type": "execute_result"
    }
   ],
   "source": [
    "# Peep those mins and maxes\n",
    "\n",
    "total_set.describe()"
   ]
  },
  {
   "cell_type": "code",
   "execution_count": 91,
   "metadata": {},
   "outputs": [
    {
     "name": "stdout",
     "output_type": "stream",
     "text": [
      "Unique index values: 1460\n",
      "Unique Id values: 2919\n",
      "Unique MSSubClass values: 16\n",
      "Unique MSZoning values: 6\n",
      "Unique LotFrontage values: 129\n",
      "Unique LotArea values: 1951\n",
      "Unique Street values: 2\n",
      "Unique Alley values: 3\n",
      "Unique LotShape values: 4\n",
      "Unique LandContour values: 4\n",
      "Unique Utilities values: 3\n",
      "Unique LotConfig values: 5\n",
      "Unique LandSlope values: 3\n",
      "Unique Neighborhood values: 25\n",
      "Unique Condition1 values: 9\n",
      "Unique Condition2 values: 8\n",
      "Unique BldgType values: 5\n",
      "Unique HouseStyle values: 8\n",
      "Unique OverallQual values: 10\n",
      "Unique OverallCond values: 9\n",
      "Unique YearBuilt values: 118\n",
      "Unique YearRemodAdd values: 61\n",
      "Unique RoofStyle values: 6\n",
      "Unique RoofMatl values: 8\n",
      "Unique Exterior1st values: 16\n",
      "Unique Exterior2nd values: 17\n",
      "Unique MasVnrType values: 5\n",
      "Unique MasVnrArea values: 445\n",
      "Unique ExterQual values: 4\n",
      "Unique ExterCond values: 5\n",
      "Unique Foundation values: 6\n",
      "Unique BsmtQual values: 5\n",
      "Unique BsmtCond values: 5\n",
      "Unique BsmtExposure values: 5\n",
      "Unique BsmtFinType1 values: 7\n",
      "Unique BsmtFinSF1 values: 992\n",
      "Unique BsmtFinType2 values: 7\n",
      "Unique BsmtFinSF2 values: 273\n",
      "Unique BsmtUnfSF values: 1136\n",
      "Unique TotalBsmtSF values: 1059\n",
      "Unique Heating values: 6\n",
      "Unique HeatingQC values: 5\n",
      "Unique CentralAir values: 2\n",
      "Unique Electrical values: 6\n",
      "Unique 1stFlrSF values: 1083\n",
      "Unique 2ndFlrSF values: 635\n",
      "Unique LowQualFinSF values: 36\n",
      "Unique GrLivArea values: 1292\n",
      "Unique BsmtFullBath values: 5\n",
      "Unique BsmtHalfBath values: 4\n",
      "Unique FullBath values: 5\n",
      "Unique HalfBath values: 3\n",
      "Unique BedroomAbvGr values: 8\n",
      "Unique KitchenAbvGr values: 4\n",
      "Unique KitchenQual values: 5\n",
      "Unique TotRmsAbvGrd values: 14\n",
      "Unique Functional values: 8\n",
      "Unique Fireplaces values: 5\n",
      "Unique FireplaceQu values: 6\n",
      "Unique GarageType values: 7\n",
      "Unique GarageYrBlt values: 104\n",
      "Unique GarageFinish values: 4\n",
      "Unique GarageCars values: 7\n",
      "Unique GarageArea values: 604\n",
      "Unique GarageQual values: 6\n",
      "Unique GarageCond values: 6\n",
      "Unique PavedDrive values: 3\n",
      "Unique WoodDeckSF values: 379\n",
      "Unique OpenPorchSF values: 252\n",
      "Unique EnclosedPorch values: 183\n",
      "Unique 3SsnPorch values: 31\n",
      "Unique ScreenPorch values: 121\n",
      "Unique PoolArea values: 14\n",
      "Unique PoolQC values: 4\n",
      "Unique Fence values: 5\n",
      "Unique MiscFeature values: 5\n",
      "Unique MiscVal values: 38\n",
      "Unique MoSold values: 12\n",
      "Unique YrSold values: 5\n",
      "Unique SaleType values: 10\n",
      "Unique SaleCondition values: 6\n",
      "Unique SalePrice values: 664\n",
      "Unique set values: 2\n"
     ]
    }
   ],
   "source": [
    "# Let's see those unique value counts...\n",
    "\n",
    "for column in total_set.columns :\n",
    "    unique_count = len(total_set[column].unique())\n",
    "    print('Unique '+str(column)+\" values: \"+str(unique_count))"
   ]
  },
  {
   "cell_type": "markdown",
   "metadata": {},
   "source": [
    "Step 4: Data Cleaning\n",
    "---"
   ]
  },
  {
   "cell_type": "code",
   "execution_count": 92,
   "metadata": {},
   "outputs": [
    {
     "data": {
      "text/plain": [
       "MSZoning           4\n",
       "LotFrontage      486\n",
       "Alley           2721\n",
       "Utilities          2\n",
       "Exterior1st        1\n",
       "Exterior2nd        1\n",
       "MasVnrType        24\n",
       "MasVnrArea        23\n",
       "BsmtQual          81\n",
       "BsmtCond          82\n",
       "BsmtExposure      82\n",
       "BsmtFinType1      79\n",
       "BsmtFinSF1         1\n",
       "BsmtFinType2      80\n",
       "BsmtFinSF2         1\n",
       "BsmtUnfSF          1\n",
       "TotalBsmtSF        1\n",
       "Electrical         1\n",
       "BsmtFullBath       2\n",
       "BsmtHalfBath       2\n",
       "KitchenQual        1\n",
       "Functional         2\n",
       "FireplaceQu     1420\n",
       "GarageType       157\n",
       "GarageYrBlt      159\n",
       "GarageFinish     159\n",
       "GarageCars         1\n",
       "GarageArea         1\n",
       "GarageQual       159\n",
       "GarageCond       159\n",
       "PoolQC          2909\n",
       "Fence           2348\n",
       "MiscFeature     2814\n",
       "SaleType           1\n",
       "SalePrice       1459\n",
       "dtype: int64"
      ]
     },
     "execution_count": 92,
     "metadata": {},
     "output_type": "execute_result"
    }
   ],
   "source": [
    "# Now, what should we do about any missing values? Let's see where they are, first.\n",
    "null_counts = total_set.isnull().sum()\n",
    "\n",
    "cols_with_nulls = null_counts[null_counts.values > 0]\n",
    "\n",
    "cols_with_nulls"
   ]
  },
  {
   "cell_type": "markdown",
   "metadata": {},
   "source": [
    "Looks like there are columns with few nulls and columns with many nulls. We'll revisit this in EDA.\n",
    "\n",
    "The only one we know for sure how to handle is 'Functional' since the description document specifies that null values there should be imputed as 'Typ'.\n"
   ]
  },
  {
   "cell_type": "code",
   "execution_count": 93,
   "metadata": {},
   "outputs": [
    {
     "data": {
      "text/plain": [
       "Typ     2719\n",
       "Min2      70\n",
       "Min1      65\n",
       "Mod       35\n",
       "Maj1      19\n",
       "Maj2       9\n",
       "Sev        2\n",
       "Name: Functional, dtype: int64"
      ]
     },
     "execution_count": 93,
     "metadata": {},
     "output_type": "execute_result"
    }
   ],
   "source": [
    "for index, row in total_set.iterrows() :\n",
    "    if type(row['Functional']) != str :\n",
    "        total_set.loc[index, 'Functional'] = 'Typ'\n",
    "\n",
    "# Check!\n",
    "total_set['Functional'].value_counts()"
   ]
  },
  {
   "cell_type": "markdown",
   "metadata": {},
   "source": [
    "Now let's deal with the rest, one by one.\n",
    "\n",
    "---\n",
    "\n",
    "MSZoning:"
   ]
  },
  {
   "cell_type": "code",
   "execution_count": 94,
   "metadata": {},
   "outputs": [
    {
     "data": {
      "text/html": [
       "<div>\n",
       "<style scoped>\n",
       "    .dataframe tbody tr th:only-of-type {\n",
       "        vertical-align: middle;\n",
       "    }\n",
       "\n",
       "    .dataframe tbody tr th {\n",
       "        vertical-align: top;\n",
       "    }\n",
       "\n",
       "    .dataframe thead th {\n",
       "        text-align: right;\n",
       "    }\n",
       "</style>\n",
       "<table border=\"1\" class=\"dataframe\">\n",
       "  <thead>\n",
       "    <tr style=\"text-align: right;\">\n",
       "      <th></th>\n",
       "      <th>index</th>\n",
       "      <th>Id</th>\n",
       "      <th>MSSubClass</th>\n",
       "      <th>MSZoning</th>\n",
       "      <th>LotFrontage</th>\n",
       "      <th>LotArea</th>\n",
       "      <th>Street</th>\n",
       "      <th>Alley</th>\n",
       "      <th>LotShape</th>\n",
       "      <th>LandContour</th>\n",
       "      <th>...</th>\n",
       "      <th>PoolQC</th>\n",
       "      <th>Fence</th>\n",
       "      <th>MiscFeature</th>\n",
       "      <th>MiscVal</th>\n",
       "      <th>MoSold</th>\n",
       "      <th>YrSold</th>\n",
       "      <th>SaleType</th>\n",
       "      <th>SaleCondition</th>\n",
       "      <th>SalePrice</th>\n",
       "      <th>set</th>\n",
       "    </tr>\n",
       "  </thead>\n",
       "  <tbody>\n",
       "    <tr>\n",
       "      <th>1915</th>\n",
       "      <td>455</td>\n",
       "      <td>1916</td>\n",
       "      <td>30</td>\n",
       "      <td>NaN</td>\n",
       "      <td>109.0</td>\n",
       "      <td>21780</td>\n",
       "      <td>Grvl</td>\n",
       "      <td>NaN</td>\n",
       "      <td>Reg</td>\n",
       "      <td>Lvl</td>\n",
       "      <td>...</td>\n",
       "      <td>NaN</td>\n",
       "      <td>NaN</td>\n",
       "      <td>NaN</td>\n",
       "      <td>0</td>\n",
       "      <td>3</td>\n",
       "      <td>2009</td>\n",
       "      <td>ConLD</td>\n",
       "      <td>Normal</td>\n",
       "      <td>NaN</td>\n",
       "      <td>test</td>\n",
       "    </tr>\n",
       "    <tr>\n",
       "      <th>2216</th>\n",
       "      <td>756</td>\n",
       "      <td>2217</td>\n",
       "      <td>20</td>\n",
       "      <td>NaN</td>\n",
       "      <td>80.0</td>\n",
       "      <td>14584</td>\n",
       "      <td>Pave</td>\n",
       "      <td>NaN</td>\n",
       "      <td>Reg</td>\n",
       "      <td>Low</td>\n",
       "      <td>...</td>\n",
       "      <td>NaN</td>\n",
       "      <td>NaN</td>\n",
       "      <td>NaN</td>\n",
       "      <td>0</td>\n",
       "      <td>2</td>\n",
       "      <td>2008</td>\n",
       "      <td>WD</td>\n",
       "      <td>Abnorml</td>\n",
       "      <td>NaN</td>\n",
       "      <td>test</td>\n",
       "    </tr>\n",
       "    <tr>\n",
       "      <th>2250</th>\n",
       "      <td>790</td>\n",
       "      <td>2251</td>\n",
       "      <td>70</td>\n",
       "      <td>NaN</td>\n",
       "      <td>NaN</td>\n",
       "      <td>56600</td>\n",
       "      <td>Pave</td>\n",
       "      <td>NaN</td>\n",
       "      <td>IR1</td>\n",
       "      <td>Low</td>\n",
       "      <td>...</td>\n",
       "      <td>NaN</td>\n",
       "      <td>NaN</td>\n",
       "      <td>NaN</td>\n",
       "      <td>0</td>\n",
       "      <td>1</td>\n",
       "      <td>2008</td>\n",
       "      <td>WD</td>\n",
       "      <td>Normal</td>\n",
       "      <td>NaN</td>\n",
       "      <td>test</td>\n",
       "    </tr>\n",
       "    <tr>\n",
       "      <th>2904</th>\n",
       "      <td>1444</td>\n",
       "      <td>2905</td>\n",
       "      <td>20</td>\n",
       "      <td>NaN</td>\n",
       "      <td>125.0</td>\n",
       "      <td>31250</td>\n",
       "      <td>Pave</td>\n",
       "      <td>NaN</td>\n",
       "      <td>Reg</td>\n",
       "      <td>Lvl</td>\n",
       "      <td>...</td>\n",
       "      <td>NaN</td>\n",
       "      <td>NaN</td>\n",
       "      <td>NaN</td>\n",
       "      <td>0</td>\n",
       "      <td>5</td>\n",
       "      <td>2006</td>\n",
       "      <td>WD</td>\n",
       "      <td>Normal</td>\n",
       "      <td>NaN</td>\n",
       "      <td>test</td>\n",
       "    </tr>\n",
       "  </tbody>\n",
       "</table>\n",
       "<p>4 rows × 83 columns</p>\n",
       "</div>"
      ],
      "text/plain": [
       "      index    Id  MSSubClass MSZoning  LotFrontage  LotArea Street Alley  \\\n",
       "1915    455  1916          30      NaN        109.0    21780   Grvl   NaN   \n",
       "2216    756  2217          20      NaN         80.0    14584   Pave   NaN   \n",
       "2250    790  2251          70      NaN          NaN    56600   Pave   NaN   \n",
       "2904   1444  2905          20      NaN        125.0    31250   Pave   NaN   \n",
       "\n",
       "     LotShape LandContour  ... PoolQC Fence MiscFeature MiscVal MoSold YrSold  \\\n",
       "1915      Reg         Lvl  ...    NaN   NaN         NaN       0      3   2009   \n",
       "2216      Reg         Low  ...    NaN   NaN         NaN       0      2   2008   \n",
       "2250      IR1         Low  ...    NaN   NaN         NaN       0      1   2008   \n",
       "2904      Reg         Lvl  ...    NaN   NaN         NaN       0      5   2006   \n",
       "\n",
       "     SaleType SaleCondition  SalePrice   set  \n",
       "1915    ConLD        Normal        NaN  test  \n",
       "2216       WD       Abnorml        NaN  test  \n",
       "2250       WD        Normal        NaN  test  \n",
       "2904       WD        Normal        NaN  test  \n",
       "\n",
       "[4 rows x 83 columns]"
      ]
     },
     "execution_count": 94,
     "metadata": {},
     "output_type": "execute_result"
    }
   ],
   "source": [
    "total_set[total_set['MSZoning'].isnull()]"
   ]
  },
  {
   "cell_type": "markdown",
   "metadata": {},
   "source": [
    "They're all in the test set! Let's figure out how to impute them... since it's 'zoning', maybe there's a correlation with lot size? Street type? Let's check."
   ]
  },
  {
   "cell_type": "code",
   "execution_count": 95,
   "metadata": {},
   "outputs": [
    {
     "name": "stderr",
     "output_type": "stream",
     "text": [
      "c:\\Users\\Josh\\anaconda3\\lib\\site-packages\\seaborn\\categorical.py:3544: UserWarning: 78.2% of the points cannot be placed; you may want to decrease the size of the markers or use stripplot.\n",
      "  warnings.warn(msg, UserWarning)\n",
      "c:\\Users\\Josh\\anaconda3\\lib\\site-packages\\seaborn\\categorical.py:3544: UserWarning: 52.5% of the points cannot be placed; you may want to decrease the size of the markers or use stripplot.\n",
      "  warnings.warn(msg, UserWarning)\n",
      "c:\\Users\\Josh\\anaconda3\\lib\\site-packages\\seaborn\\categorical.py:3544: UserWarning: 6.8% of the points cannot be placed; you may want to decrease the size of the markers or use stripplot.\n",
      "  warnings.warn(msg, UserWarning)\n"
     ]
    },
    {
     "data": {
      "text/plain": [
       "<Axes: xlabel='MSZoning', ylabel='LotArea'>"
      ]
     },
     "execution_count": 95,
     "metadata": {},
     "output_type": "execute_result"
    },
    {
     "name": "stderr",
     "output_type": "stream",
     "text": [
      "c:\\Users\\Josh\\anaconda3\\lib\\site-packages\\seaborn\\categorical.py:3544: UserWarning: 82.9% of the points cannot be placed; you may want to decrease the size of the markers or use stripplot.\n",
      "  warnings.warn(msg, UserWarning)\n",
      "c:\\Users\\Josh\\anaconda3\\lib\\site-packages\\seaborn\\categorical.py:3544: UserWarning: 61.2% of the points cannot be placed; you may want to decrease the size of the markers or use stripplot.\n",
      "  warnings.warn(msg, UserWarning)\n",
      "c:\\Users\\Josh\\anaconda3\\lib\\site-packages\\seaborn\\categorical.py:3544: UserWarning: 20.3% of the points cannot be placed; you may want to decrease the size of the markers or use stripplot.\n",
      "  warnings.warn(msg, UserWarning)\n"
     ]
    },
    {
     "data": {
      "image/png": "[encoded data removed]",
      "text/plain": [
       "<Figure size 640x480 with 1 Axes>"
      ]
     },
     "metadata": {},
     "output_type": "display_data"
    }
   ],
   "source": [
    "sns.swarmplot(x='MSZoning', y='LotArea', data=test_set)"
   ]
  },
  {
   "cell_type": "markdown",
   "metadata": {},
   "source": [
    "Even the lowest LotArea value of the 4 rows with missing MSZoning values is above all but one outlier for every group except RL. We can reasonably impute RL for these values."
   ]
  },
  {
   "cell_type": "code",
   "execution_count": 96,
   "metadata": {},
   "outputs": [],
   "source": [
    "nulls = list(total_set[total_set['MSZoning'].isnull()].index)\n",
    "\n",
    "for index, row in total_set.iterrows() :\n",
    "    if index in nulls :\n",
    "        total_set.loc[index, 'MSZoning'] = 'RL'"
   ]
  },
  {
   "cell_type": "markdown",
   "metadata": {},
   "source": [
    "---\n",
    "\n",
    "LotFrontage\n",
    "\n",
    "Let's get an idea of the column in general first."
   ]
  },
  {
   "cell_type": "code",
   "execution_count": 97,
   "metadata": {},
   "outputs": [
    {
     "data": {
      "text/plain": [
       "<Axes: xlabel='LotFrontage', ylabel='Count'>"
      ]
     },
     "execution_count": 97,
     "metadata": {},
     "output_type": "execute_result"
    },
    {
     "data": {
      "image/png": "[encoded data removed]",
      "text/plain": [
       "<Figure size 640x480 with 1 Axes>"
      ]
     },
     "metadata": {},
     "output_type": "display_data"
    }
   ],
   "source": [
    "sns.histplot(total_set['LotFrontage'], bins=100)"
   ]
  },
  {
   "cell_type": "markdown",
   "metadata": {},
   "source": [
    "Looks normal-ish with a right skew and a few overly-popular values\n",
    "\n",
    "Let's see if those overly-popular values are due to rounding."
   ]
  },
  {
   "cell_type": "code",
   "execution_count": 98,
   "metadata": {},
   "outputs": [
    {
     "data": {
      "text/plain": [
       "60.0     276\n",
       "80.0     137\n",
       "70.0     133\n",
       "50.0     117\n",
       "75.0     105\n",
       "65.0      93\n",
       "85.0      76\n",
       "21.0      50\n",
       "24.0      49\n",
       "63.0      47\n",
       "90.0      46\n",
       "78.0      46\n",
       "68.0      44\n",
       "64.0      43\n",
       "74.0      39\n",
       "72.0      39\n",
       "73.0      33\n",
       "62.0      31\n",
       "79.0      28\n",
       "100.0     28\n",
       "Name: LotFrontage, dtype: int64"
      ]
     },
     "execution_count": 98,
     "metadata": {},
     "output_type": "execute_result"
    }
   ],
   "source": [
    "total_set['LotFrontage'].value_counts().head(20)"
   ]
  },
  {
   "cell_type": "markdown",
   "metadata": {},
   "source": [
    "Looks like it, for the first 7 values or so (each is a multiple of 5).\n",
    "\n",
    "I bet LotFrontage is correlated to LotArea and affected by zoning. This might help us more accurately impute values."
   ]
  },
  {
   "cell_type": "code",
   "execution_count": 99,
   "metadata": {},
   "outputs": [
    {
     "data": {
      "text/plain": [
       "<Axes: xlabel='LotArea', ylabel='LotFrontage'>"
      ]
     },
     "execution_count": 99,
     "metadata": {},
     "output_type": "execute_result"
    },
    {
     "data": {
      "image/png": "[encoded data removed]",
      "text/plain": [
       "<Figure size 640x480 with 1 Axes>"
      ]
     },
     "metadata": {},
     "output_type": "display_data"
    }
   ],
   "source": [
    "sns.scatterplot(x='LotArea', y='LotFrontage', hue='MSZoning', data=total_set)"
   ]
  },
  {
   "cell_type": "markdown",
   "metadata": {},
   "source": [
    "At a first glance, it looks like there's a strong correlation and that the varying values are mostly RL, but RL is by far the most common value, so that's possibly to be expected anyway. Let's just impute to the regression."
   ]
  },
  {
   "cell_type": "code",
   "execution_count": 113,
   "metadata": {},
   "outputs": [
    {
     "name": "stdout",
     "output_type": "stream",
     "text": [
      "51.99510362506278\n",
      "0.0017797941237565774\n"
     ]
    }
   ],
   "source": [
    "usables = total_set[~total_set['LotFrontage'].isnull()]\n",
    "\n",
    "x = usables['LotArea'].values\n",
    "y = usables['LotFrontage'].values\n",
    "\n",
    "x = sm.add_constant(x)\n",
    "model = sm.OLS(y, x).fit()\n",
    "intercept, slope = model.params\n",
    "print(intercept)\n",
    "print(slope)\n",
    "nulls = total_set[total_set['LotFrontage'].isnull()].index\n",
    "\n",
    "for index in nulls :\n",
    "    imputed = slope * total_set.loc[index, 'LotArea'] + intercept\n",
    "    # print(imputed)\n",
    "    total_set.loc[index, 'LotFrontage'] = imputed"
   ]
  },
  {
   "cell_type": "code",
   "execution_count": 117,
   "metadata": {},
   "outputs": [
    {
     "data": {
      "text/plain": [
       "<Axes: xlabel='LotFrontage', ylabel='Count'>"
      ]
     },
     "execution_count": 117,
     "metadata": {},
     "output_type": "execute_result"
    },
    {
     "data": {
      "image/png": "[encoded data removed]",
      "text/plain": [
       "<Figure size 640x480 with 1 Axes>"
      ]
     },
     "metadata": {},
     "output_type": "display_data"
    }
   ],
   "source": [
    "sns.histplot(x='LotFrontage', data=total_set)"
   ]
  },
  {
   "cell_type": "markdown",
   "metadata": {},
   "source": [
    "---\n",
    "\n",
    "Alley"
   ]
  },
  {
   "cell_type": "code",
   "execution_count": 118,
   "metadata": {},
   "outputs": [
    {
     "data": {
      "text/plain": [
       "<Axes: xlabel='Alley', ylabel='Count'>"
      ]
     },
     "execution_count": 118,
     "metadata": {},
     "output_type": "execute_result"
    },
    {
     "data": {
      "image/png": "[encoded data removed]",
      "text/plain": [
       "<Figure size 640x480 with 1 Axes>"
      ]
     },
     "metadata": {},
     "output_type": "display_data"
    }
   ],
   "source": [
    "sns.histplot(total_set['Alley'])"
   ]
  },
  {
   "cell_type": "markdown",
   "metadata": {},
   "source": [
    "So few columns have this feature that if there doesn't seem to be a very strong correlation with price, we should probably just drop it altogether."
   ]
  },
  {
   "cell_type": "code",
   "execution_count": 125,
   "metadata": {},
   "outputs": [
    {
     "data": {
      "text/plain": [
       "<matplotlib.lines.Line2D at 0x120f7c5b880>"
      ]
     },
     "execution_count": 125,
     "metadata": {},
     "output_type": "execute_result"
    },
    {
     "data": {
      "image/png": "[encoded data removed]",
      "text/plain": [
       "<Figure size 640x480 with 1 Axes>"
      ]
     },
     "metadata": {},
     "output_type": "display_data"
    }
   ],
   "source": [
    "# dict = {'Grvl': 1, 'Pave': 2}\n",
    "\n",
    "# dummy = train_set[['Alley', 'SalePrice']].replace(dict)\n",
    "\n",
    "sns.swarmplot(x='Alley', y='SalePrice', data=total_set)\n",
    "plt.axhline(train_set['SalePrice'].mean(), linestyle='--')\n",
    "plt.axhline(train_set['SalePrice'].median())\n"
   ]
  },
  {
   "cell_type": "markdown",
   "metadata": {},
   "source": [
    "It seems like 'Pave' doesn't have a huge effect on SalePrice, but 'Grvl' is clearly correlated with lower prices.\n",
    "\n",
    "Shall we just drop the Paves, and include Grvl as a single one-hot variable?"
   ]
  },
  {
   "cell_type": "markdown",
   "metadata": {},
   "source": [
    "Step 4.5: Save and Quit\n",
    "---"
   ]
  },
  {
   "cell_type": "code",
   "execution_count": 9,
   "metadata": {},
   "outputs": [],
   "source": [
    "# Re-make our train and test splits including any modifications we may have made above.\n",
    "step_1_train = total_set[total_set['set']=='train']\n",
    "step_1_test = total_set[total_set['set']=='test'].drop('SalePrice', axis=1)\n",
    "\n",
    "# Save and quit.\n",
    "total_set.to_json('../data/interim/Step 1 - Total Set.json', orient='records')\n",
    "step_1_train.to_json('../data/interim/Step 1 - Train Set.json', orient='records')\n",
    "step_1_test.to_json('../data/interim/Step 1 - Test Set.json', orient='records')\n"
   ]
  },
  {
   "cell_type": "code",
   "execution_count": 10,
   "metadata": {},
   "outputs": [],
   "source": [
    "# NOTE: The 'Condition1' and 'Condition2' variables are identical.\n",
    "# Since we're probably going to one-hot encode these later, I might\n",
    "# roll these into lists (so each property will have a list of \n",
    "# 'conditions' that will have a length of either 1 or 2, and then\n",
    "# we can programmatically one-hot from there. 'Norm will likely be\n",
    "# excluded.)\n",
    "\n",
    "# Exterior1st and Exterior2nd CANNOT be treated this way, as there\n",
    "# is a presumed heirarchy between them."
   ]
  },
  {
   "cell_type": "code",
   "execution_count": 11,
   "metadata": {},
   "outputs": [],
   "source": [
    "# NOTE: LowQualFinSF is probably best understood not as a ratio of unfinished\n",
    "# to finsihed space. We'll engineer that in EDA."
   ]
  },
  {
   "cell_type": "code",
   "execution_count": 12,
   "metadata": {},
   "outputs": [],
   "source": [
    "# NOTE: BsmtFullBath can probably be similarly split into \"has\" and \"doesn't\",\n",
    "# as well as another column to indicate how many.\n",
    "\n",
    "# POTENTIALLY we should consider 'has basement' and 'has basement w/bathroom' as\n",
    "# two different things... Something to play around with in modeling.\n",
    "\n",
    "# Same for 3SsnPorch, WoodDeckSF, OpenPorchSF, EnclosedPorch, 3SsnPorch, ScreenPorch, PoolArea, Fence, "
   ]
  }
 ],
 "metadata": {
  "kernelspec": {
   "display_name": "base",
   "language": "python",
   "name": "python3"
  },
  "language_info": {
   "codemirror_mode": {
    "name": "ipython",
    "version": 3
   },
   "file_extension": ".py",
   "mimetype": "text/x-python",
   "name": "python",
   "nbconvert_exporter": "python",
   "pygments_lexer": "ipython3",
   "version": "3.10.9"
  },
  "orig_nbformat": 4
 },
 "nbformat": 4,
 "nbformat_minor": 2
}
