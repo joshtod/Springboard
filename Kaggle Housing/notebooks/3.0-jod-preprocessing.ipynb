{
 "cells": [
  {
   "cell_type": "markdown",
   "metadata": {},
   "source": [
    "Processing and Training Splits\n",
    "---"
   ]
  },
  {
   "cell_type": "code",
   "execution_count": 1,
   "metadata": {},
   "outputs": [],
   "source": [
    "import pandas as pd\n",
    "import numpy as np\n",
    "\n",
    "from scipy import stats\n",
    "from sklearn import preprocessing\n",
    "from sklearn.preprocessing import StandardScaler\n",
    "from sklearn.model_selection import train_test_split\n",
    "from statsmodels.graphics.regressionplots import *\n",
    "\n",
    "import matplotlib.pyplot as plt\n",
    "import seaborn as sns"
   ]
  },
  {
   "cell_type": "code",
   "execution_count": 2,
   "metadata": {},
   "outputs": [],
   "source": [
    "total_set = pd.read_json('../data/interim/Step 2 - Total Set.json', orient='records', convert_axes=False)\n",
    "train_set = pd.read_json('../data/interim/Step 2 - Train Set.json', orient='records', convert_axes=False)\n",
    "test_set = pd.read_json('../data/interim/Step 2 - Test Set.json', orient='records', convert_axes=False)"
   ]
  },
  {
   "cell_type": "markdown",
   "metadata": {},
   "source": [
    "Just now realized we've been accumulating a extra index columns. Let's drop them. We can re-engineer the \"Id\" column later by adding 1 to each index value."
   ]
  },
  {
   "cell_type": "code",
   "execution_count": 3,
   "metadata": {},
   "outputs": [],
   "source": [
    "total_set.drop(['index', 'Id'], axis=1, inplace=True)\n",
    "train_set.drop(['index', 'Id'], axis=1, inplace=True)\n",
    "test_set.drop(['index', 'Id'], axis=1, inplace=True)"
   ]
  },
  {
   "cell_type": "markdown",
   "metadata": {},
   "source": [
    "TO REMOVE\n",
    "----"
   ]
  },
  {
   "cell_type": "code",
   "execution_count": 4,
   "metadata": {},
   "outputs": [],
   "source": [
    "total_set['LandSlope'].replace({5:'Mod', 2:'Sev'}, inplace=True)\n",
    "train_set = total_set[total_set['set'] == 'train']\n",
    "test_set = total_set[total_set['set'] == 'test']"
   ]
  },
  {
   "cell_type": "markdown",
   "metadata": {},
   "source": [
    "Step 1: Clean & One-Hot Categorical Variables\n",
    "---"
   ]
  },
  {
   "cell_type": "markdown",
   "metadata": {},
   "source": [
    "Since we converted all ordinal categorical features into numerical features in the previous step, we can skip straight to one-hotting the remaining ones.\n",
    "\n",
    "BUT! \"Condition1\"/\"Condition2\" and \"Exterior1st\"/\"Exterior2nd\" are weird. They're pairs of columns that allow for more than one value to be recorded for the given category. So they require an extra step - after they're one-hotted, we should combine their columns in pairs such that every feature that is present will be represented without duplication."
   ]
  },
  {
   "cell_type": "code",
   "execution_count": 5,
   "metadata": {},
   "outputs": [
    {
     "data": {
      "text/plain": [
       "Index(['MSZoning', 'Street', 'Alley', 'LandContour', 'Utilities', 'LotConfig',\n",
       "       'LandSlope', 'Neighborhood', 'Condition1', 'Condition2', 'BldgType',\n",
       "       'HouseStyle', 'RoofStyle', 'RoofMatl', 'Exterior1st', 'Exterior2nd',\n",
       "       'MasVnrType', 'Foundation', 'Heating', 'Electrical', 'GarageType',\n",
       "       'Fence', 'MiscFeature', 'SaleType', 'SaleCondition', 'set'],\n",
       "      dtype='object')"
      ]
     },
     "execution_count": 5,
     "metadata": {},
     "output_type": "execute_result"
    }
   ],
   "source": [
    "o_cols = total_set.select_dtypes(include=['object'])\n",
    "o_cols.columns"
   ]
  },
  {
   "cell_type": "code",
   "execution_count": 6,
   "metadata": {},
   "outputs": [
    {
     "data": {
      "text/plain": [
       "MSZoning            4\n",
       "Street              0\n",
       "Alley            2721\n",
       "LandContour         0\n",
       "Utilities           2\n",
       "LotConfig           0\n",
       "LandSlope           0\n",
       "Neighborhood        0\n",
       "Condition1          0\n",
       "Condition2          0\n",
       "BldgType            0\n",
       "HouseStyle          0\n",
       "RoofStyle           0\n",
       "RoofMatl            0\n",
       "Exterior1st         1\n",
       "Exterior2nd         1\n",
       "MasVnrType         24\n",
       "Foundation          0\n",
       "Heating             0\n",
       "Electrical          1\n",
       "GarageType        157\n",
       "Fence            2348\n",
       "MiscFeature      2814\n",
       "SaleType            1\n",
       "SaleCondition       0\n",
       "set                 0\n",
       "dtype: int64"
      ]
     },
     "execution_count": 6,
     "metadata": {},
     "output_type": "execute_result"
    }
   ],
   "source": [
    "o_cols.isnull().sum()"
   ]
  },
  {
   "cell_type": "markdown",
   "metadata": {},
   "source": [
    "Oh no! Nulls. Let's deal with them, then, I *guess*...\n",
    "\n",
    "...but if the missing values occur in our test set, we can't mess with them unless we do so under predefined rules that can be applied to any future data sets with equal effectiveness (and obviously we can't drop them). So let's just look at our training set for now."
   ]
  },
  {
   "cell_type": "code",
   "execution_count": 7,
   "metadata": {},
   "outputs": [
    {
     "data": {
      "text/plain": [
       "MSZoning            0\n",
       "Street              0\n",
       "Alley            1369\n",
       "LandContour         0\n",
       "Utilities           0\n",
       "LotConfig           0\n",
       "LandSlope           0\n",
       "Neighborhood        0\n",
       "Condition1          0\n",
       "Condition2          0\n",
       "BldgType            0\n",
       "HouseStyle          0\n",
       "RoofStyle           0\n",
       "RoofMatl            0\n",
       "Exterior1st         0\n",
       "Exterior2nd         0\n",
       "MasVnrType          8\n",
       "Foundation          0\n",
       "Heating             0\n",
       "Electrical          1\n",
       "GarageType         81\n",
       "Fence            1179\n",
       "MiscFeature      1406\n",
       "SaleType            0\n",
       "SaleCondition       0\n",
       "set                 0\n",
       "dtype: int64"
      ]
     },
     "execution_count": 7,
     "metadata": {},
     "output_type": "execute_result"
    }
   ],
   "source": [
    "o_cols[o_cols['set']=='train'].isnull().sum()"
   ]
  },
  {
   "cell_type": "markdown",
   "metadata": {},
   "source": [
    "Looks like a LOT of the missing values were in the test set only. So let's just make up rules for any future set we get. The rules should be specific to each column and applicable to any future test set.\n",
    "\n",
    "I went through the value counts for each column to arrive at these, but that's boring and takes up a lot of notebook space, so I omitted that here.\n",
    "\n",
    "Let's draft this as a function so that we can reapply it uniformly to any new records.\n",
    "\n",
    "First, we'll create the dictionary used for any future sets, and then 'store' it for future use."
   ]
  },
  {
   "cell_type": "code",
   "execution_count": 8,
   "metadata": {},
   "outputs": [
    {
     "name": "stdout",
     "output_type": "stream",
     "text": [
      "Stored 'cat_fillna_dict' (dict)\n"
     ]
    }
   ],
   "source": [
    "cat_fillna_dict = {\n",
    "    'Neighborhood':'Other',\n",
    "    'Exterior1st':'Other',\n",
    "    'Exterior2nd':'Other',\n",
    "    'Foundation':'Other',\n",
    "    'Alley':'NA',\n",
    "    'GarageType':'NA',\n",
    "    'Fence':'NA',\n",
    "    'MiscFeature':'NA',\n",
    "    'Condition1':'Norm',\n",
    "    'Condition2':'Norm',\n",
    "}\n",
    "\n",
    "to_mode = ['LandContour', 'Street', 'MSZoning', 'Utilities', 'LotConfig', \\\n",
    "           'LandSlope', 'BldgType', 'HouseStyle', 'RoofMatl', 'MasVnrType', \\\n",
    "            'Heating', 'Electrical', 'SaleType', 'SaleCondition']\n",
    "\n",
    "# Be sure to get the mode of the TRAINING set, to avoid bleed.\n",
    "for col in to_mode :\n",
    "    cat_fillna_dict[col] = train_set[col].mode()[0]\n",
    "\n",
    "%store cat_fillna_dict"
   ]
  },
  {
   "cell_type": "code",
   "execution_count": 9,
   "metadata": {},
   "outputs": [],
   "source": [
    "def cat_fillna(df) :\n",
    "    \"\"\"Fills NA values of non-ordinal categorical features for this data set.\n",
    "    \n",
    "    df is a dataframe (presumably a new test set) which must have the same columns as the original set these notebooks are based on.\n",
    "\n",
    "    Uses the %stored dictionary 'cat_fillna_dict' to determine the .fillna() values.\n",
    "\n",
    "    \"\"\"\n",
    "    \n",
    "    %store -r cat_fillna_dict\n",
    "\n",
    "    for col in cat_fillna_dict :\n",
    "        df[col].fillna(value=cat_fillna_dict[col], inplace=True)\n",
    "    return df"
   ]
  },
  {
   "cell_type": "code",
   "execution_count": 10,
   "metadata": {},
   "outputs": [],
   "source": [
    "total_set = cat_fillna(total_set)"
   ]
  },
  {
   "cell_type": "code",
   "execution_count": 11,
   "metadata": {},
   "outputs": [
    {
     "data": {
      "text/plain": [
       "MSZoning         0\n",
       "Street           0\n",
       "Alley            0\n",
       "LandContour      0\n",
       "Utilities        0\n",
       "LotConfig        0\n",
       "LandSlope        0\n",
       "Neighborhood     0\n",
       "Condition1       0\n",
       "Condition2       0\n",
       "BldgType         0\n",
       "HouseStyle       0\n",
       "RoofStyle        0\n",
       "RoofMatl         0\n",
       "Exterior1st      0\n",
       "Exterior2nd      0\n",
       "MasVnrType       0\n",
       "Foundation       0\n",
       "Heating          0\n",
       "Electrical       0\n",
       "GarageType       0\n",
       "Fence            0\n",
       "MiscFeature      0\n",
       "SaleType         0\n",
       "SaleCondition    0\n",
       "set              0\n",
       "dtype: int64"
      ]
     },
     "execution_count": 11,
     "metadata": {},
     "output_type": "execute_result"
    }
   ],
   "source": [
    "o_cols = total_set.select_dtypes(include=['object'])\n",
    "o_cols.isnull().sum()"
   ]
  },
  {
   "cell_type": "markdown",
   "metadata": {},
   "source": [
    "Now we're ready to one-hot!"
   ]
  },
  {
   "cell_type": "code",
   "execution_count": 12,
   "metadata": {},
   "outputs": [],
   "source": [
    "cat_vars = list(o_cols.columns)\n",
    "cat_vars.remove('set')\n",
    "\n",
    "for col in cat_vars :\n",
    "    oh = pd.get_dummies(total_set[col], prefix=col).astype(int)\n",
    "    total_set = total_set.join(oh, on=None).drop(col, axis=1)"
   ]
  },
  {
   "cell_type": "markdown",
   "metadata": {},
   "source": [
    "And now let's fix the Condition and Exterior column pairs."
   ]
  },
  {
   "cell_type": "code",
   "execution_count": 13,
   "metadata": {},
   "outputs": [],
   "source": [
    "# First let's get all our relevant columns.\n",
    "# We only need the second of each pair, since we can use that to derive the first of each pair.\n",
    "\n",
    "condition2_cols = []\n",
    "exterior2_cols = []\n",
    "\n",
    "for col in total_set.columns :\n",
    "    if \"Condition2\" in col :\n",
    "        condition2_cols.append(col)\n",
    "    if \"Exterior2\" in col :\n",
    "        exterior2_cols.append(col)\n"
   ]
  },
  {
   "cell_type": "markdown",
   "metadata": {},
   "source": [
    "The first time I executed this bit, I didn't get the values I expected.\n",
    "\n",
    "As you can see below, Condition2_Artery has 5 true values in the Condition2 version and 92 in the Condition 1 version.\n",
    "Thus I expected the number of true values after combination to be 97. However, it was 95.\n",
    "This is because some values are true in both Condition1 and Condition2 columns.\n",
    "I will consider this to be an input error and ignore it in the function that follows."
   ]
  },
  {
   "cell_type": "code",
   "execution_count": 14,
   "metadata": {},
   "outputs": [
    {
     "name": "stdout",
     "output_type": "stream",
     "text": [
      "_Artery 5 92\n",
      "_Feedr 13 164\n",
      "_Norm 2889 2511\n",
      "_PosA 4 20\n",
      "_PosN 4 39\n",
      "_RRAe 1 28\n",
      "_RRAn 1 50\n",
      "_RRNn 2 9\n"
     ]
    }
   ],
   "source": [
    "for col in condition2_cols :\n",
    "    print(col[10:], total_set[col].sum(), total_set[col[:9]+'1'+col[10:]].sum())"
   ]
  },
  {
   "cell_type": "code",
   "execution_count": 15,
   "metadata": {},
   "outputs": [
    {
     "data": {
      "text/plain": [
       "9       1\n",
       "1186    1\n",
       "2110    0\n",
       "2238    0\n",
       "2455    0\n",
       "Name: Condition1_Artery, dtype: int32"
      ]
     },
     "execution_count": 15,
     "metadata": {},
     "output_type": "execute_result"
    }
   ],
   "source": [
    "total_set[total_set['Condition2_Artery'] == 1]['Condition1_Artery'] "
   ]
  },
  {
   "cell_type": "code",
   "execution_count": 16,
   "metadata": {},
   "outputs": [],
   "source": [
    "# Now let's find all the 1s in the second of these pairs and copy them to the first of the pairs, then drop the second of the pairs.\n",
    "# It's kind of annoying, but we can manually change the 2 to a 1 in the col name string.\n",
    "\n",
    "for index, row in total_set.iterrows() :\n",
    "    for col in condition2_cols :\n",
    "        # The \"Norm\" thing is basically the filler value, so we should ignore it.\n",
    "        if col != 'Condition2_Norm' :\n",
    "            if total_set.loc[index, col] == 1 :\n",
    "                new_col = col[:9]+'1'+col[10:]\n",
    "                total_set.loc[index, new_col] = 1\n",
    "\n",
    "# Now we remove the Condition2 columns.\n",
    "total_set.drop(condition2_cols, axis=1, inplace=True)\n",
    "\n",
    "# And the same for Exterior:\n",
    "for index, row in total_set.iterrows() :\n",
    "    for col in exterior2_cols :\n",
    "        if total_set.loc[index, col] == 1 :\n",
    "            new_col = col[:8]+'1st'+col[11:]\n",
    "            total_set.loc[index, new_col] = 1\n",
    "\n",
    "# And presto.\n",
    "total_set.drop(exterior2_cols, axis=1, inplace=True)"
   ]
  },
  {
   "cell_type": "code",
   "execution_count": 17,
   "metadata": {},
   "outputs": [
    {
     "data": {
      "text/plain": [
       "95"
      ]
     },
     "execution_count": 17,
     "metadata": {},
     "output_type": "execute_result"
    }
   ],
   "source": [
    "total_set['Condition1_Artery'].sum()"
   ]
  },
  {
   "cell_type": "markdown",
   "metadata": {},
   "source": [
    "Only now did I realize that there's a typo in one of the Exterior values!\n",
    "\n",
    "'Wood Shingles' is keyed as 'WdShing' in the training set and 'Wd Shing' in the test set.\n",
    "\n",
    "Let's just combine those columns, then."
   ]
  },
  {
   "cell_type": "code",
   "execution_count": 18,
   "metadata": {},
   "outputs": [],
   "source": [
    "for index, row in total_set.iterrows() :\n",
    "    if row['Exterior1st_Wd Shng'] == 1 :\n",
    "        total_set.loc[index, 'Exterior1st_WdShing'] = 1\n",
    "\n",
    "total_set.drop('Exterior1st_Wd Shng', axis=1, inplace=True)"
   ]
  },
  {
   "cell_type": "markdown",
   "metadata": {},
   "source": [
    "I've also noted that one of the values in the BldgType column is out of step with the documentation.\n",
    "\n",
    "'twnhs' isn't in the documentation, and should apparently be either 'TwhsE' or 'TwnhsI', but we have no way of seeing which.\n",
    "\n",
    "Let's see if it even matters..."
   ]
  },
  {
   "cell_type": "code",
   "execution_count": 19,
   "metadata": {},
   "outputs": [
    {
     "name": "stderr",
     "output_type": "stream",
     "text": [
      "C:\\Users\\Josh\\AppData\\Local\\Temp\\ipykernel_24764\\892015935.py:3: FutureWarning: Passing `palette` without assigning `hue` is deprecated.\n",
      "  sns.swarmplot(x='BldgType', y='SalePrice', data=small_df, palette='colorblind')\n",
      "c:\\Users\\Josh\\anaconda3\\lib\\site-packages\\seaborn\\_oldcore.py:1119: FutureWarning: use_inf_as_na option is deprecated and will be removed in a future version. Convert inf values to NaN before operating instead.\n",
      "  with pd.option_context('mode.use_inf_as_na', True):\n",
      "c:\\Users\\Josh\\anaconda3\\lib\\site-packages\\seaborn\\_oldcore.py:1119: FutureWarning: use_inf_as_na option is deprecated and will be removed in a future version. Convert inf values to NaN before operating instead.\n",
      "  with pd.option_context('mode.use_inf_as_na', True):\n"
     ]
    },
    {
     "data": {
      "text/plain": [
       "<matplotlib.lines.Line2D at 0x1e3d2ef3d30>"
      ]
     },
     "execution_count": 19,
     "metadata": {},
     "output_type": "execute_result"
    },
    {
     "data": {
      "image/png": "[encoded data removed]",
      "text/plain": [
       "<Figure size 640x480 with 1 Axes>"
      ]
     },
     "metadata": {},
     "output_type": "display_data"
    }
   ],
   "source": [
    "small_df = train_set[(train_set['BldgType']=='TwnhsE') | (train_set['BldgType']=='Twnhs')]\n",
    "\n",
    "sns.swarmplot(x='BldgType', y='SalePrice', data=small_df, palette='colorblind')\n",
    "plt.axhline(train_set['SalePrice'].mean(), linestyle='--')\n",
    "plt.axhline(train_set['SalePrice'].median())\n"
   ]
  },
  {
   "cell_type": "markdown",
   "metadata": {},
   "source": [
    "Kinda seems like it does..."
   ]
  },
  {
   "cell_type": "code",
   "execution_count": 20,
   "metadata": {},
   "outputs": [],
   "source": [
    "from scipy.stats import ks_2samp"
   ]
  },
  {
   "cell_type": "code",
   "execution_count": 21,
   "metadata": {},
   "outputs": [
    {
     "name": "stdout",
     "output_type": "stream",
     "text": [
      "P-value between TwnhsE and Twnhs sale price distributions: 0.000346\n"
     ]
    }
   ],
   "source": [
    "TwnhsE = train_set[train_set['BldgType']=='TwnhsE']['SalePrice']\n",
    "Twnhs = train_set[train_set['BldgType']=='Twnhs']['SalePrice']\n",
    "stat, p_val = ks_2samp(TwnhsE, Twnhs)\n",
    "print(\"P-value between TwnhsE and Twnhs sale price distributions: \"+str(round(p_val, 6)))"
   ]
  },
  {
   "cell_type": "markdown",
   "metadata": {},
   "source": [
    "Yeah, probably does. Let's make the BOLD assumption that Twnhs is supposed to be TwnhsI, and convert all future Twnhs values to TwnhsI, in keeping with the documentation."
   ]
  },
  {
   "cell_type": "code",
   "execution_count": 22,
   "metadata": {},
   "outputs": [],
   "source": [
    "def townhouse(df) :\n",
    "    df.replace({'Twnhs':\"TwnhsI\"}, inplace=True)\n",
    "    return df"
   ]
  },
  {
   "cell_type": "code",
   "execution_count": 23,
   "metadata": {},
   "outputs": [
    {
     "data": {
      "text/plain": [
       "BldgType\n",
       "1Fam      1220\n",
       "TwnhsE     114\n",
       "Duplex      52\n",
       "TwnhsI      43\n",
       "2fmCon      31\n",
       "Name: count, dtype: int64"
      ]
     },
     "execution_count": 23,
     "metadata": {},
     "output_type": "execute_result"
    }
   ],
   "source": [
    "train_set = townhouse(train_set)\n",
    "test_set = townhouse(test_set)\n",
    "train_set['BldgType'].value_counts()"
   ]
  },
  {
   "cell_type": "markdown",
   "metadata": {},
   "source": [
    "And let's backfill that for our already one-hotted df."
   ]
  },
  {
   "cell_type": "code",
   "execution_count": 24,
   "metadata": {},
   "outputs": [],
   "source": [
    "total_set.rename(columns={\"BldgType_Twnhs\":\"BldgType_TwnhsI\"}, inplace=True)"
   ]
  },
  {
   "cell_type": "markdown",
   "metadata": {},
   "source": [
    "Step 2: Preparing the Numeric Columns\n",
    "--\n",
    "\n",
    "Let's make sure we don't have any nulls left over from last time."
   ]
  },
  {
   "cell_type": "code",
   "execution_count": 25,
   "metadata": {},
   "outputs": [
    {
     "data": {
      "text/html": [
       "<div>\n",
       "<style scoped>\n",
       "    .dataframe tbody tr th:only-of-type {\n",
       "        vertical-align: middle;\n",
       "    }\n",
       "\n",
       "    .dataframe tbody tr th {\n",
       "        vertical-align: top;\n",
       "    }\n",
       "\n",
       "    .dataframe thead th {\n",
       "        text-align: right;\n",
       "    }\n",
       "</style>\n",
       "<table border=\"1\" class=\"dataframe\">\n",
       "  <thead>\n",
       "    <tr style=\"text-align: right;\">\n",
       "      <th></th>\n",
       "      <th>MSSubClass</th>\n",
       "      <th>LotFrontage</th>\n",
       "      <th>LotArea</th>\n",
       "      <th>LotShape</th>\n",
       "      <th>OverallQual</th>\n",
       "      <th>OverallCond</th>\n",
       "      <th>YearBuilt</th>\n",
       "      <th>YearRemodAdd</th>\n",
       "      <th>MasVnrArea</th>\n",
       "      <th>ExterQual</th>\n",
       "      <th>...</th>\n",
       "      <th>OpenPorchSF</th>\n",
       "      <th>EnclosedPorch</th>\n",
       "      <th>3SsnPorch</th>\n",
       "      <th>ScreenPorch</th>\n",
       "      <th>PoolArea</th>\n",
       "      <th>PoolQC</th>\n",
       "      <th>MiscVal</th>\n",
       "      <th>MoSold</th>\n",
       "      <th>YrSold</th>\n",
       "      <th>set</th>\n",
       "    </tr>\n",
       "  </thead>\n",
       "  <tbody>\n",
       "    <tr>\n",
       "      <th>0</th>\n",
       "      <td>60</td>\n",
       "      <td>65.0</td>\n",
       "      <td>8450</td>\n",
       "      <td>4</td>\n",
       "      <td>7</td>\n",
       "      <td>5</td>\n",
       "      <td>2003</td>\n",
       "      <td>2003</td>\n",
       "      <td>196.0</td>\n",
       "      <td>4</td>\n",
       "      <td>...</td>\n",
       "      <td>61</td>\n",
       "      <td>0</td>\n",
       "      <td>0</td>\n",
       "      <td>0</td>\n",
       "      <td>0</td>\n",
       "      <td>NaN</td>\n",
       "      <td>0</td>\n",
       "      <td>2</td>\n",
       "      <td>2008</td>\n",
       "      <td>train</td>\n",
       "    </tr>\n",
       "    <tr>\n",
       "      <th>1</th>\n",
       "      <td>20</td>\n",
       "      <td>80.0</td>\n",
       "      <td>9600</td>\n",
       "      <td>4</td>\n",
       "      <td>6</td>\n",
       "      <td>8</td>\n",
       "      <td>1976</td>\n",
       "      <td>1976</td>\n",
       "      <td>0.0</td>\n",
       "      <td>3</td>\n",
       "      <td>...</td>\n",
       "      <td>0</td>\n",
       "      <td>0</td>\n",
       "      <td>0</td>\n",
       "      <td>0</td>\n",
       "      <td>0</td>\n",
       "      <td>NaN</td>\n",
       "      <td>0</td>\n",
       "      <td>5</td>\n",
       "      <td>2007</td>\n",
       "      <td>train</td>\n",
       "    </tr>\n",
       "    <tr>\n",
       "      <th>2</th>\n",
       "      <td>60</td>\n",
       "      <td>68.0</td>\n",
       "      <td>11250</td>\n",
       "      <td>3</td>\n",
       "      <td>7</td>\n",
       "      <td>5</td>\n",
       "      <td>2001</td>\n",
       "      <td>2002</td>\n",
       "      <td>162.0</td>\n",
       "      <td>4</td>\n",
       "      <td>...</td>\n",
       "      <td>42</td>\n",
       "      <td>0</td>\n",
       "      <td>0</td>\n",
       "      <td>0</td>\n",
       "      <td>0</td>\n",
       "      <td>NaN</td>\n",
       "      <td>0</td>\n",
       "      <td>9</td>\n",
       "      <td>2008</td>\n",
       "      <td>train</td>\n",
       "    </tr>\n",
       "    <tr>\n",
       "      <th>3</th>\n",
       "      <td>70</td>\n",
       "      <td>60.0</td>\n",
       "      <td>9550</td>\n",
       "      <td>3</td>\n",
       "      <td>7</td>\n",
       "      <td>5</td>\n",
       "      <td>1915</td>\n",
       "      <td>1970</td>\n",
       "      <td>0.0</td>\n",
       "      <td>3</td>\n",
       "      <td>...</td>\n",
       "      <td>35</td>\n",
       "      <td>272</td>\n",
       "      <td>0</td>\n",
       "      <td>0</td>\n",
       "      <td>0</td>\n",
       "      <td>NaN</td>\n",
       "      <td>0</td>\n",
       "      <td>2</td>\n",
       "      <td>2006</td>\n",
       "      <td>train</td>\n",
       "    </tr>\n",
       "    <tr>\n",
       "      <th>4</th>\n",
       "      <td>60</td>\n",
       "      <td>84.0</td>\n",
       "      <td>14260</td>\n",
       "      <td>3</td>\n",
       "      <td>8</td>\n",
       "      <td>5</td>\n",
       "      <td>2000</td>\n",
       "      <td>2000</td>\n",
       "      <td>350.0</td>\n",
       "      <td>4</td>\n",
       "      <td>...</td>\n",
       "      <td>84</td>\n",
       "      <td>0</td>\n",
       "      <td>0</td>\n",
       "      <td>0</td>\n",
       "      <td>0</td>\n",
       "      <td>NaN</td>\n",
       "      <td>0</td>\n",
       "      <td>12</td>\n",
       "      <td>2008</td>\n",
       "      <td>train</td>\n",
       "    </tr>\n",
       "    <tr>\n",
       "      <th>...</th>\n",
       "      <td>...</td>\n",
       "      <td>...</td>\n",
       "      <td>...</td>\n",
       "      <td>...</td>\n",
       "      <td>...</td>\n",
       "      <td>...</td>\n",
       "      <td>...</td>\n",
       "      <td>...</td>\n",
       "      <td>...</td>\n",
       "      <td>...</td>\n",
       "      <td>...</td>\n",
       "      <td>...</td>\n",
       "      <td>...</td>\n",
       "      <td>...</td>\n",
       "      <td>...</td>\n",
       "      <td>...</td>\n",
       "      <td>...</td>\n",
       "      <td>...</td>\n",
       "      <td>...</td>\n",
       "      <td>...</td>\n",
       "      <td>...</td>\n",
       "    </tr>\n",
       "    <tr>\n",
       "      <th>2914</th>\n",
       "      <td>160</td>\n",
       "      <td>21.0</td>\n",
       "      <td>1936</td>\n",
       "      <td>4</td>\n",
       "      <td>4</td>\n",
       "      <td>7</td>\n",
       "      <td>1970</td>\n",
       "      <td>1970</td>\n",
       "      <td>0.0</td>\n",
       "      <td>3</td>\n",
       "      <td>...</td>\n",
       "      <td>0</td>\n",
       "      <td>0</td>\n",
       "      <td>0</td>\n",
       "      <td>0</td>\n",
       "      <td>0</td>\n",
       "      <td>NaN</td>\n",
       "      <td>0</td>\n",
       "      <td>6</td>\n",
       "      <td>2006</td>\n",
       "      <td>test</td>\n",
       "    </tr>\n",
       "    <tr>\n",
       "      <th>2915</th>\n",
       "      <td>160</td>\n",
       "      <td>21.0</td>\n",
       "      <td>1894</td>\n",
       "      <td>4</td>\n",
       "      <td>4</td>\n",
       "      <td>5</td>\n",
       "      <td>1970</td>\n",
       "      <td>1970</td>\n",
       "      <td>0.0</td>\n",
       "      <td>3</td>\n",
       "      <td>...</td>\n",
       "      <td>24</td>\n",
       "      <td>0</td>\n",
       "      <td>0</td>\n",
       "      <td>0</td>\n",
       "      <td>0</td>\n",
       "      <td>NaN</td>\n",
       "      <td>0</td>\n",
       "      <td>4</td>\n",
       "      <td>2006</td>\n",
       "      <td>test</td>\n",
       "    </tr>\n",
       "    <tr>\n",
       "      <th>2916</th>\n",
       "      <td>20</td>\n",
       "      <td>160.0</td>\n",
       "      <td>20000</td>\n",
       "      <td>4</td>\n",
       "      <td>5</td>\n",
       "      <td>7</td>\n",
       "      <td>1960</td>\n",
       "      <td>1996</td>\n",
       "      <td>0.0</td>\n",
       "      <td>3</td>\n",
       "      <td>...</td>\n",
       "      <td>0</td>\n",
       "      <td>0</td>\n",
       "      <td>0</td>\n",
       "      <td>0</td>\n",
       "      <td>0</td>\n",
       "      <td>NaN</td>\n",
       "      <td>0</td>\n",
       "      <td>9</td>\n",
       "      <td>2006</td>\n",
       "      <td>test</td>\n",
       "    </tr>\n",
       "    <tr>\n",
       "      <th>2917</th>\n",
       "      <td>85</td>\n",
       "      <td>62.0</td>\n",
       "      <td>10441</td>\n",
       "      <td>4</td>\n",
       "      <td>5</td>\n",
       "      <td>5</td>\n",
       "      <td>1992</td>\n",
       "      <td>1992</td>\n",
       "      <td>0.0</td>\n",
       "      <td>3</td>\n",
       "      <td>...</td>\n",
       "      <td>32</td>\n",
       "      <td>0</td>\n",
       "      <td>0</td>\n",
       "      <td>0</td>\n",
       "      <td>0</td>\n",
       "      <td>NaN</td>\n",
       "      <td>700</td>\n",
       "      <td>7</td>\n",
       "      <td>2006</td>\n",
       "      <td>test</td>\n",
       "    </tr>\n",
       "    <tr>\n",
       "      <th>2918</th>\n",
       "      <td>60</td>\n",
       "      <td>74.0</td>\n",
       "      <td>9627</td>\n",
       "      <td>4</td>\n",
       "      <td>7</td>\n",
       "      <td>5</td>\n",
       "      <td>1993</td>\n",
       "      <td>1994</td>\n",
       "      <td>94.0</td>\n",
       "      <td>3</td>\n",
       "      <td>...</td>\n",
       "      <td>48</td>\n",
       "      <td>0</td>\n",
       "      <td>0</td>\n",
       "      <td>0</td>\n",
       "      <td>0</td>\n",
       "      <td>NaN</td>\n",
       "      <td>0</td>\n",
       "      <td>11</td>\n",
       "      <td>2006</td>\n",
       "      <td>test</td>\n",
       "    </tr>\n",
       "  </tbody>\n",
       "</table>\n",
       "<p>2919 rows × 51 columns</p>\n",
       "</div>"
      ],
      "text/plain": [
       "      MSSubClass  LotFrontage  LotArea  LotShape  OverallQual  OverallCond  \\\n",
       "0             60         65.0     8450         4            7            5   \n",
       "1             20         80.0     9600         4            6            8   \n",
       "2             60         68.0    11250         3            7            5   \n",
       "3             70         60.0     9550         3            7            5   \n",
       "4             60         84.0    14260         3            8            5   \n",
       "...          ...          ...      ...       ...          ...          ...   \n",
       "2914         160         21.0     1936         4            4            7   \n",
       "2915         160         21.0     1894         4            4            5   \n",
       "2916          20        160.0    20000         4            5            7   \n",
       "2917          85         62.0    10441         4            5            5   \n",
       "2918          60         74.0     9627         4            7            5   \n",
       "\n",
       "      YearBuilt  YearRemodAdd  MasVnrArea  ExterQual  ...  OpenPorchSF  \\\n",
       "0          2003          2003       196.0          4  ...           61   \n",
       "1          1976          1976         0.0          3  ...            0   \n",
       "2          2001          2002       162.0          4  ...           42   \n",
       "3          1915          1970         0.0          3  ...           35   \n",
       "4          2000          2000       350.0          4  ...           84   \n",
       "...         ...           ...         ...        ...  ...          ...   \n",
       "2914       1970          1970         0.0          3  ...            0   \n",
       "2915       1970          1970         0.0          3  ...           24   \n",
       "2916       1960          1996         0.0          3  ...            0   \n",
       "2917       1992          1992         0.0          3  ...           32   \n",
       "2918       1993          1994        94.0          3  ...           48   \n",
       "\n",
       "      EnclosedPorch  3SsnPorch  ScreenPorch  PoolArea  PoolQC  MiscVal  \\\n",
       "0                 0          0            0         0     NaN        0   \n",
       "1                 0          0            0         0     NaN        0   \n",
       "2                 0          0            0         0     NaN        0   \n",
       "3               272          0            0         0     NaN        0   \n",
       "4                 0          0            0         0     NaN        0   \n",
       "...             ...        ...          ...       ...     ...      ...   \n",
       "2914              0          0            0         0     NaN        0   \n",
       "2915              0          0            0         0     NaN        0   \n",
       "2916              0          0            0         0     NaN        0   \n",
       "2917              0          0            0         0     NaN      700   \n",
       "2918              0          0            0         0     NaN        0   \n",
       "\n",
       "      MoSold  YrSold    set  \n",
       "0          2    2008  train  \n",
       "1          5    2007  train  \n",
       "2          9    2008  train  \n",
       "3          2    2006  train  \n",
       "4         12    2008  train  \n",
       "...      ...     ...    ...  \n",
       "2914       6    2006   test  \n",
       "2915       4    2006   test  \n",
       "2916       9    2006   test  \n",
       "2917       7    2006   test  \n",
       "2918      11    2006   test  \n",
       "\n",
       "[2919 rows x 51 columns]"
      ]
     },
     "execution_count": 25,
     "metadata": {},
     "output_type": "execute_result"
    }
   ],
   "source": [
    "n_cols = [name for name in total_set.columns if \"_\" not in name]\n",
    "n_cols.remove('SalePrice')\n",
    "\n",
    "n_df = total_set[n_cols]\n",
    "n_df"
   ]
  },
  {
   "cell_type": "code",
   "execution_count": 26,
   "metadata": {},
   "outputs": [
    {
     "data": {
      "text/plain": [
       "MSSubClass          0\n",
       "LotFrontage       486\n",
       "LotArea             0\n",
       "LotShape            0\n",
       "OverallQual         0\n",
       "OverallCond         0\n",
       "YearBuilt           0\n",
       "YearRemodAdd        0\n",
       "MasVnrArea         23\n",
       "ExterQual           0\n",
       "ExterCond           0\n",
       "BsmtQual           81\n",
       "BsmtCond           82\n",
       "BsmtExposure       82\n",
       "BsmtFinType1       79\n",
       "BsmtFinSF1          1\n",
       "BsmtFinType2       80\n",
       "BsmtFinSF2          1\n",
       "BsmtUnfSF           1\n",
       "TotalBsmtSF         1\n",
       "HeatingQC           0\n",
       "CentralAir          0\n",
       "2ndFlrSF            0\n",
       "LowQualFinSF        0\n",
       "GrLivArea           0\n",
       "BsmtFullBath        2\n",
       "BsmtHalfBath        2\n",
       "FullBath            0\n",
       "HalfBath            0\n",
       "BedroomAbvGr        0\n",
       "KitchenAbvGr        0\n",
       "KitchenQual         1\n",
       "Functional          0\n",
       "Fireplaces          0\n",
       "FireplaceQu      1420\n",
       "GarageFinish      159\n",
       "GarageArea          1\n",
       "GarageQual        159\n",
       "GarageCond        159\n",
       "PavedDrive          0\n",
       "WoodDeckSF          0\n",
       "OpenPorchSF         0\n",
       "EnclosedPorch       0\n",
       "3SsnPorch           0\n",
       "ScreenPorch         0\n",
       "PoolArea            0\n",
       "PoolQC           2909\n",
       "MiscVal             0\n",
       "MoSold              0\n",
       "YrSold              0\n",
       "set                 0\n",
       "dtype: int64"
      ]
     },
     "execution_count": 26,
     "metadata": {},
     "output_type": "execute_result"
    }
   ],
   "source": [
    "n_df.isnull().sum()"
   ]
  },
  {
   "cell_type": "markdown",
   "metadata": {},
   "source": [
    "I guess we have to go through and define interpolation methods for each of them now.\n",
    "\n",
    "I've checked the documentation & all value counts, but am only leaving one example in the notebook."
   ]
  },
  {
   "cell_type": "code",
   "execution_count": 27,
   "metadata": {},
   "outputs": [
    {
     "name": "stdout",
     "output_type": "stream",
     "text": [
      "PoolQC\n",
      "4.0    3\n",
      "5.0    2\n",
      "2.0    2\n",
      "Name: count, dtype: int64\n"
     ]
    },
    {
     "data": {
      "text/plain": [
       "<Axes: >"
      ]
     },
     "execution_count": 27,
     "metadata": {},
     "output_type": "execute_result"
    },
    {
     "data": {
      "image/png": "[encoded data removed]",
      "text/plain": [
       "<Figure size 640x480 with 1 Axes>"
      ]
     },
     "metadata": {},
     "output_type": "display_data"
    }
   ],
   "source": [
    "x = 'PoolQC'\n",
    "print(n_df[n_df['set'] == 'train'][x].value_counts())\n",
    "n_df[n_df['set'] == 'train'][x].hist()\n",
    "# n_df[(n_df['set'] == 'train') & (n_df['LotArea'] < 60000)][x].hist()"
   ]
  },
  {
   "cell_type": "markdown",
   "metadata": {},
   "source": [
    "The following are my decisions RE how to impute the values for each column."
   ]
  },
  {
   "cell_type": "code",
   "execution_count": 28,
   "metadata": {},
   "outputs": [],
   "source": [
    "median = ['LotArea', 'OverallQual', 'GrLivArea', 'MSSubClass']\n",
    "mode = ['LotFrontage', 'LotShape', 'OverallCond', 'YearBuilt', 'YearRemodAdd', 'MasVnrArea', \\\n",
    "        'ExterQual', 'ExterCond', 'HeatingQC', 'CentralAir', 'FullBath', 'BedroomAbvGr', \\\n",
    "        'KitchenAbvGr', 'KitchenQual', 'Functional', 'GarageFinish', 'PavedDrive', ]\n",
    "zero = ['BsmtQual', 'BsmtCond', 'BsmtExposure', 'BsmtFinType1', 'BsmtFinType2', 'BsmtFinSF1', \\\n",
    "        'BsmtFinSF2', 'BsmtUnfSF', 'TotalBsmtSF', '2ndFlrSF', 'LowQualFinSF', 'BsmtFullBath', \\\n",
    "        'BsmtHalfBath', 'HalfBath', 'Fireplaces', 'FireplaceQu', 'GarageArea', 'GarageQual', \\\n",
    "        'GarageCond', 'WoodDeckSF', 'OpenPorchSF', 'EnclosedPorch', '3SsnPorch', 'ScreenPorch', \\\n",
    "        'PoolArea', 'PoolQC']"
   ]
  },
  {
   "cell_type": "markdown",
   "metadata": {},
   "source": [
    "Now let's IMPUUUUTE"
   ]
  },
  {
   "cell_type": "code",
   "execution_count": 29,
   "metadata": {},
   "outputs": [
    {
     "data": {
      "text/plain": [
       "MSSubClass                  0\n",
       "LotFrontage                 0\n",
       "LotArea                     0\n",
       "LotShape                    0\n",
       "OverallQual                 0\n",
       "                         ... \n",
       "SaleCondition_Family        0\n",
       "SaleCondition_Normal        0\n",
       "SaleCondition_Partial       0\n",
       "Exterior1st_CmentBd      2793\n",
       "Exterior1st_Brk Cmn      2897\n",
       "Length: 208, dtype: int64"
      ]
     },
     "execution_count": 29,
     "metadata": {},
     "output_type": "execute_result"
    }
   ],
   "source": [
    "experiment = total_set.copy()\n",
    "\n",
    "for col in median :\n",
    "    med = total_set[total_set['set'] == 'train'][col].median()\n",
    "    total_set[col].fillna(med, inplace=True)\n",
    "for col in mode :\n",
    "    mod = total_set[total_set['set'] == 'train'][col].mode().iloc[0]\n",
    "    total_set[col].fillna(mod, inplace=True)\n",
    "for col in zero :\n",
    "    total_set[col].fillna(0, inplace=True)\n",
    "\n",
    "total_set.isnull().sum()"
   ]
  },
  {
   "cell_type": "markdown",
   "metadata": {},
   "source": [
    "Why still nulls?"
   ]
  },
  {
   "cell_type": "code",
   "execution_count": 30,
   "metadata": {},
   "outputs": [
    {
     "name": "stdout",
     "output_type": "stream",
     "text": [
      "SalePrice 1459\n",
      "Exterior1st_CmentBd 2793\n",
      "Exterior1st_Brk Cmn 2897\n"
     ]
    }
   ],
   "source": [
    "for col in total_set.columns :\n",
    "    nulls = total_set[col].isnull().sum()\n",
    "    if nulls > 0 :\n",
    "        print(col, nulls)"
   ]
  },
  {
   "cell_type": "markdown",
   "metadata": {},
   "source": [
    "Really no idea how those two one-hot cols ended up with nulls, but fortunately the only prescription is more cowbell."
   ]
  },
  {
   "cell_type": "code",
   "execution_count": 31,
   "metadata": {},
   "outputs": [
    {
     "name": "stdout",
     "output_type": "stream",
     "text": [
      "Exterior1st_CmentBd\n",
      "1.0    126\n",
      "Name: count, dtype: int64\n",
      "Exterior1st_Brk Cmn\n",
      "1.0    22\n",
      "Name: count, dtype: int64\n"
     ]
    }
   ],
   "source": [
    "print(total_set['Exterior1st_CmentBd'].value_counts())\n",
    "print(total_set['Exterior1st_Brk Cmn'].value_counts())"
   ]
  },
  {
   "cell_type": "code",
   "execution_count": 32,
   "metadata": {},
   "outputs": [],
   "source": [
    "total_set['Exterior1st_CmentBd'].fillna(0.0, inplace=True)\n",
    "total_set['Exterior1st_Brk Cmn'].fillna(0.0, inplace=True)"
   ]
  },
  {
   "cell_type": "markdown",
   "metadata": {},
   "source": [
    "NOW we're cooking with grease. And finally, to scale..."
   ]
  },
  {
   "cell_type": "code",
   "execution_count": 33,
   "metadata": {},
   "outputs": [],
   "source": [
    "# I'm so far behind, I'm just running with an MVP approach here, so I'm not checking everything\n",
    "# for outliers again.\n",
    "\n",
    "scaler = StandardScaler()\n",
    "\n",
    "numerics = n_cols\n",
    "\n",
    "numerics.pop(-1)\n",
    "\n",
    "for col in numerics :\n",
    "    # Only fit the scaler to the training set.\n",
    "    scaler.fit(total_set[total_set['set']=='train'][[col]])\n",
    "    # Use the fit scaler to transform both sets.\n",
    "    scaler.transform(total_set[[col]])"
   ]
  },
  {
   "cell_type": "markdown",
   "metadata": {},
   "source": [
    "Step 3: Train Test Split\n",
    "--"
   ]
  },
  {
   "cell_type": "code",
   "execution_count": 34,
   "metadata": {},
   "outputs": [
    {
     "name": "stderr",
     "output_type": "stream",
     "text": [
      "C:\\Users\\Josh\\AppData\\Local\\Temp\\ipykernel_24764\\408304157.py:3: SettingWithCopyWarning: \n",
      "A value is trying to be set on a copy of a slice from a DataFrame\n",
      "\n",
      "See the caveats in the documentation: https://pandas.pydata.org/pandas-docs/stable/user_guide/indexing.html#returning-a-view-versus-a-copy\n",
      "  train_set.drop(columns=['set'], inplace=True)\n"
     ]
    }
   ],
   "source": [
    "train_set = total_set[total_set['set']=='train']\n",
    "\n",
    "train_set.drop(columns=['set'], inplace=True)\n",
    "\n",
    "X = train_set.drop(columns=['SalePrice'])\n",
    "y = train_set['SalePrice']"
   ]
  },
  {
   "cell_type": "code",
   "execution_count": 35,
   "metadata": {},
   "outputs": [],
   "source": [
    "X_train, X_test, y_train, y_test = train_test_split(X, y, test_size=0.2, random_state=42)"
   ]
  },
  {
   "cell_type": "markdown",
   "metadata": {},
   "source": [
    "Step 4: Save and Quit\n",
    "--"
   ]
  },
  {
   "cell_type": "code",
   "execution_count": 36,
   "metadata": {},
   "outputs": [],
   "source": [
    "total_set.to_json('../data/Step 3 - Total Set.json', orient='records')\n",
    "X_train.to_json('../data/Step3 - X_train.json', orient='records')\n",
    "X_test.to_json('../data/Step3 - X_test.json', orient='records')\n",
    "y_train.to_json('../data/Step3 - y_train.json', orient='records')\n",
    "y_test.to_json('../data/Step3 - y_test.json', orient='records')"
   ]
  },
  {
   "cell_type": "markdown",
   "metadata": {},
   "source": [
    "Appendix: Further Refinements\n",
    "--"
   ]
  },
  {
   "cell_type": "code",
   "execution_count": 37,
   "metadata": {},
   "outputs": [],
   "source": [
    "# NOTE: This cell is to deal with the BsmtFinType1 and BsmtFinType2 problem.\n",
    "\n"
   ]
  },
  {
   "cell_type": "code",
   "execution_count": 38,
   "metadata": {},
   "outputs": [],
   "source": [
    "# NOTE: Should we implement conditional imputation?\n",
    "# For example, if 'GarageArea' is 0, we automatically set 'GarageQual' to 0.\n",
    "# But if 'GarageArea is not 0, we set 'GarageQual' to the median 'GarageQual'."
   ]
  }
 ],
 "metadata": {
  "kernelspec": {
   "display_name": "base",
   "language": "python",
   "name": "python3"
  },
  "language_info": {
   "codemirror_mode": {
    "name": "ipython",
    "version": 3
   },
   "file_extension": ".py",
   "mimetype": "text/x-python",
   "name": "python",
   "nbconvert_exporter": "python",
   "pygments_lexer": "ipython3",
   "version": "3.10.9"
  }
 },
 "nbformat": 4,
 "nbformat_minor": 2
}
