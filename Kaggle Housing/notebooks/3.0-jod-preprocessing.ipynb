{
 "cells": [
  {
   "cell_type": "markdown",
   "metadata": {},
   "source": [
    "Preprocessing and Training Splits\n",
    "---"
   ]
  },
  {
   "cell_type": "code",
   "execution_count": 1,
   "metadata": {},
   "outputs": [],
   "source": [
    "import pandas as pd\n",
    "import numpy as np\n",
    "\n",
    "from scipy import stats\n",
    "from sklearn import preprocessing\n",
    "from sklearn.preprocessing import StandardScaler\n",
    "from sklearn.model_selection import train_test_split\n",
    "from statsmodels.graphics.regressionplots import *\n",
    "import pingouin as pg\n",
    "\n",
    "import matplotlib.pyplot as plt\n",
    "import seaborn as sns\n",
    "\n",
    "import warnings\n",
    "warnings.filterwarnings('ignore')"
   ]
  },
  {
   "cell_type": "code",
   "execution_count": 2,
   "metadata": {},
   "outputs": [],
   "source": [
    "total_set = pd.read_json('../data/interim/Step 2 - Total Set.json', orient='records', convert_axes=False)\n",
    "train_set = pd.read_json('../data/interim/Step 2 - Train Set.json', orient='records', convert_axes=False)\n",
    "test_set = pd.read_json('../data/interim/Step 2 - Test Set.json', orient='records', convert_axes=False)"
   ]
  },
  {
   "cell_type": "markdown",
   "metadata": {},
   "source": [
    "Just now realized we've been accumulating a extra index columns. Let's drop them. We can re-engineer the \"Id\" column later by adding 1 to each index value."
   ]
  },
  {
   "cell_type": "code",
   "execution_count": 3,
   "metadata": {},
   "outputs": [],
   "source": [
    "total_set.drop(['index', 'Id'], axis=1, inplace=True)\n",
    "train_set.drop(['index', 'Id'], axis=1, inplace=True)\n",
    "test_set.drop(['index', 'Id'], axis=1, inplace=True)"
   ]
  },
  {
   "cell_type": "code",
   "execution_count": 4,
   "metadata": {},
   "outputs": [],
   "source": [
    "# This quickfix will be implemented in upstream notebooks when finalizing the project.\n",
    "\n",
    "total_set['LandSlope'].replace({5:'Mod', 2:'Sev'}, inplace=True)\n",
    "train_set = total_set[total_set['set'] == 'train']\n",
    "test_set = total_set[total_set['set'] == 'test']"
   ]
  },
  {
   "cell_type": "markdown",
   "metadata": {},
   "source": [
    "Step 1: Clean & One-Hot Categorical Variables\n",
    "---"
   ]
  },
  {
   "cell_type": "markdown",
   "metadata": {},
   "source": [
    "Since we converted all ordinal categorical features into numerical features in the previous step, we can skip straight to one-hotting the remaining ones.\n",
    "\n",
    "BUT! \"Condition1\"/\"Condition2\" and \"Exterior1st\"/\"Exterior2nd\" are weird. They're pairs of columns that allow for more than one value to be recorded for the given category. So they require an extra step - after they're one-hotted, we should combine their columns in pairs such that every feature that is present will be represented without duplication."
   ]
  },
  {
   "cell_type": "code",
   "execution_count": 5,
   "metadata": {},
   "outputs": [
    {
     "data": {
      "text/plain": [
       "Index(['MSZoning', 'Street', 'Alley', 'LandContour', 'Utilities', 'LotConfig',\n",
       "       'LandSlope', 'Neighborhood', 'Condition1', 'Condition2', 'BldgType',\n",
       "       'HouseStyle', 'RoofStyle', 'RoofMatl', 'Exterior1st', 'Exterior2nd',\n",
       "       'MasVnrType', 'Foundation', 'Heating', 'Electrical', 'GarageType',\n",
       "       'Fence', 'MiscFeature', 'SaleType', 'SaleCondition', 'set'],\n",
       "      dtype='object')"
      ]
     },
     "execution_count": 5,
     "metadata": {},
     "output_type": "execute_result"
    }
   ],
   "source": [
    "o_cols = total_set.select_dtypes(include=['object'])\n",
    "o_cols.columns"
   ]
  },
  {
   "cell_type": "code",
   "execution_count": 6,
   "metadata": {},
   "outputs": [
    {
     "data": {
      "text/plain": [
       "MSZoning            0\n",
       "Street              0\n",
       "Alley            2721\n",
       "LandContour         0\n",
       "Utilities           2\n",
       "LotConfig           0\n",
       "LandSlope           0\n",
       "Neighborhood        0\n",
       "Condition1          0\n",
       "Condition2          0\n",
       "BldgType            0\n",
       "HouseStyle          0\n",
       "RoofStyle           0\n",
       "RoofMatl            0\n",
       "Exterior1st         1\n",
       "Exterior2nd         1\n",
       "MasVnrType         24\n",
       "Foundation          0\n",
       "Heating             0\n",
       "Electrical          1\n",
       "GarageType        157\n",
       "Fence            2348\n",
       "MiscFeature      2814\n",
       "SaleType            1\n",
       "SaleCondition       0\n",
       "set                 0\n",
       "dtype: int64"
      ]
     },
     "execution_count": 6,
     "metadata": {},
     "output_type": "execute_result"
    }
   ],
   "source": [
    "o_cols.isnull().sum()"
   ]
  },
  {
   "cell_type": "markdown",
   "metadata": {},
   "source": [
    "Oh no! Nulls. Let's deal with them, then, I *guess*...\n",
    "\n",
    "...but if the missing values occur in our test set, we can't mess with them unless we do so under predefined rules that can be applied to any future data sets with equal effectiveness (and obviously we can't drop them). So let's just look at our training set for now."
   ]
  },
  {
   "cell_type": "code",
   "execution_count": 7,
   "metadata": {},
   "outputs": [
    {
     "data": {
      "text/plain": [
       "MSZoning            0\n",
       "Street              0\n",
       "Alley            1369\n",
       "LandContour         0\n",
       "Utilities           0\n",
       "LotConfig           0\n",
       "LandSlope           0\n",
       "Neighborhood        0\n",
       "Condition1          0\n",
       "Condition2          0\n",
       "BldgType            0\n",
       "HouseStyle          0\n",
       "RoofStyle           0\n",
       "RoofMatl            0\n",
       "Exterior1st         0\n",
       "Exterior2nd         0\n",
       "MasVnrType          8\n",
       "Foundation          0\n",
       "Heating             0\n",
       "Electrical          1\n",
       "GarageType         81\n",
       "Fence            1179\n",
       "MiscFeature      1406\n",
       "SaleType            0\n",
       "SaleCondition       0\n",
       "set                 0\n",
       "dtype: int64"
      ]
     },
     "execution_count": 7,
     "metadata": {},
     "output_type": "execute_result"
    }
   ],
   "source": [
    "o_cols[o_cols['set']=='train'].isnull().sum()"
   ]
  },
  {
   "cell_type": "markdown",
   "metadata": {},
   "source": [
    "Looks like a LOT of the missing values were in the test set only. So let's just make up rules for any future set we get. The rules should be specific to each column and applicable to any future test set.\n",
    "\n",
    "I went through the value counts for each column to arrive at these, but that's boring and takes up a lot of notebook space, so I omitted that here.\n",
    "\n",
    "Let's draft this as a function so that we can reapply it uniformly to any new records.\n",
    "\n",
    "First, we'll create the dictionary used for any future sets, and then 'store' it for future use."
   ]
  },
  {
   "cell_type": "code",
   "execution_count": 8,
   "metadata": {},
   "outputs": [
    {
     "name": "stdout",
     "output_type": "stream",
     "text": [
      "Stored 'cat_fillna_dict' (dict)\n"
     ]
    }
   ],
   "source": [
    "cat_fillna_dict = {\n",
    "    'Neighborhood':'Other',\n",
    "    'Exterior1st':'Other',\n",
    "    'Exterior2nd':'Other',\n",
    "    'Foundation':'Other',\n",
    "    'Alley':'NA',\n",
    "    'GarageType':'NA',\n",
    "    'Fence':'NA',\n",
    "    'MiscFeature':'NA',\n",
    "    'Condition1':'Norm',\n",
    "    'Condition2':'Norm',\n",
    "}\n",
    "\n",
    "to_mode = ['LandContour', 'Street', 'MSZoning', 'Utilities', 'LotConfig', \\\n",
    "           'LandSlope', 'BldgType', 'HouseStyle', 'RoofMatl', 'MasVnrType', \\\n",
    "            'Heating', 'Electrical', 'SaleType', 'SaleCondition']\n",
    "\n",
    "# Be sure to get the mode of the TRAINING set, to avoid bleed.\n",
    "for col in to_mode :\n",
    "    cat_fillna_dict[col] = train_set[col].mode()[0]\n",
    "\n",
    "%store cat_fillna_dict"
   ]
  },
  {
   "cell_type": "code",
   "execution_count": 9,
   "metadata": {},
   "outputs": [],
   "source": [
    "def cat_fillna(df) :\n",
    "    \"\"\"Fills NA values of non-ordinal categorical features for this data set.\n",
    "    \n",
    "    df is a dataframe (presumably a new test set) which must have the same columns as the original set these notebooks are based on.\n",
    "\n",
    "    Uses the %stored dictionary 'cat_fillna_dict' to determine the .fillna() values.\n",
    "\n",
    "    \"\"\"\n",
    "    \n",
    "    %store -r cat_fillna_dict\n",
    "\n",
    "    for col in cat_fillna_dict :\n",
    "        df[col].fillna(value=cat_fillna_dict[col], inplace=True)\n",
    "    return df"
   ]
  },
  {
   "cell_type": "code",
   "execution_count": 10,
   "metadata": {},
   "outputs": [],
   "source": [
    "total_set = cat_fillna(total_set)"
   ]
  },
  {
   "cell_type": "code",
   "execution_count": 11,
   "metadata": {},
   "outputs": [
    {
     "data": {
      "text/plain": [
       "MSZoning         0\n",
       "Street           0\n",
       "Alley            0\n",
       "LandContour      0\n",
       "Utilities        0\n",
       "LotConfig        0\n",
       "LandSlope        0\n",
       "Neighborhood     0\n",
       "Condition1       0\n",
       "Condition2       0\n",
       "BldgType         0\n",
       "HouseStyle       0\n",
       "RoofStyle        0\n",
       "RoofMatl         0\n",
       "Exterior1st      0\n",
       "Exterior2nd      0\n",
       "MasVnrType       0\n",
       "Foundation       0\n",
       "Heating          0\n",
       "Electrical       0\n",
       "GarageType       0\n",
       "Fence            0\n",
       "MiscFeature      0\n",
       "SaleType         0\n",
       "SaleCondition    0\n",
       "set              0\n",
       "dtype: int64"
      ]
     },
     "execution_count": 11,
     "metadata": {},
     "output_type": "execute_result"
    }
   ],
   "source": [
    "o_cols = total_set.select_dtypes(include=['object'])\n",
    "o_cols.isnull().sum()"
   ]
  },
  {
   "cell_type": "markdown",
   "metadata": {},
   "source": [
    "Before we proceed, I want to see which of these categorical features might have strong correlations to the label."
   ]
  },
  {
   "cell_type": "code",
   "execution_count": 12,
   "metadata": {},
   "outputs": [
    {
     "data": {
      "text/html": [
       "<div>\n",
       "<style scoped>\n",
       "    .dataframe tbody tr th:only-of-type {\n",
       "        vertical-align: middle;\n",
       "    }\n",
       "\n",
       "    .dataframe tbody tr th {\n",
       "        vertical-align: top;\n",
       "    }\n",
       "\n",
       "    .dataframe thead th {\n",
       "        text-align: right;\n",
       "    }\n",
       "</style>\n",
       "<table border=\"1\" class=\"dataframe\">\n",
       "  <thead>\n",
       "    <tr style=\"text-align: right;\">\n",
       "      <th></th>\n",
       "      <th>Source</th>\n",
       "      <th>ddof1</th>\n",
       "      <th>ddof2</th>\n",
       "      <th>F</th>\n",
       "      <th>p-unc</th>\n",
       "      <th>np2</th>\n",
       "    </tr>\n",
       "  </thead>\n",
       "  <tbody>\n",
       "    <tr>\n",
       "      <th>0</th>\n",
       "      <td>Neighborhood</td>\n",
       "      <td>24</td>\n",
       "      <td>120.906806</td>\n",
       "      <td>56.151276</td>\n",
       "      <td>3.019500e-54</td>\n",
       "      <td>0.545575</td>\n",
       "    </tr>\n",
       "    <tr>\n",
       "      <th>1</th>\n",
       "      <td>Foundation</td>\n",
       "      <td>5</td>\n",
       "      <td>15.703022</td>\n",
       "      <td>83.388974</td>\n",
       "      <td>9.681547e-11</td>\n",
       "      <td>0.256368</td>\n",
       "    </tr>\n",
       "    <tr>\n",
       "      <th>2</th>\n",
       "      <td>GarageType</td>\n",
       "      <td>6</td>\n",
       "      <td>41.123361</td>\n",
       "      <td>114.822461</td>\n",
       "      <td>4.477164e-24</td>\n",
       "      <td>0.249204</td>\n",
       "    </tr>\n",
       "    <tr>\n",
       "      <th>3</th>\n",
       "      <td>MasVnrType</td>\n",
       "      <td>3</td>\n",
       "      <td>64.900991</td>\n",
       "      <td>78.705972</td>\n",
       "      <td>1.376994e-21</td>\n",
       "      <td>0.183277</td>\n",
       "    </tr>\n",
       "    <tr>\n",
       "      <th>4</th>\n",
       "      <td>Exterior2nd</td>\n",
       "      <td>15</td>\n",
       "      <td>70.632115</td>\n",
       "      <td>16.175842</td>\n",
       "      <td>3.362159e-17</td>\n",
       "      <td>0.153830</td>\n",
       "    </tr>\n",
       "    <tr>\n",
       "      <th>5</th>\n",
       "      <td>Exterior1st</td>\n",
       "      <td>14</td>\n",
       "      <td>35.144731</td>\n",
       "      <td>22.018127</td>\n",
       "      <td>2.603830e-13</td>\n",
       "      <td>0.152773</td>\n",
       "    </tr>\n",
       "    <tr>\n",
       "      <th>6</th>\n",
       "      <td>SaleType</td>\n",
       "      <td>8</td>\n",
       "      <td>10.815942</td>\n",
       "      <td>13.434211</td>\n",
       "      <td>1.259831e-04</td>\n",
       "      <td>0.137287</td>\n",
       "    </tr>\n",
       "    <tr>\n",
       "      <th>7</th>\n",
       "      <td>SaleCondition</td>\n",
       "      <td>5</td>\n",
       "      <td>24.521524</td>\n",
       "      <td>28.339072</td>\n",
       "      <td>1.933879e-09</td>\n",
       "      <td>0.135497</td>\n",
       "    </tr>\n",
       "    <tr>\n",
       "      <th>8</th>\n",
       "      <td>MSZoning</td>\n",
       "      <td>4</td>\n",
       "      <td>43.892971</td>\n",
       "      <td>95.072489</td>\n",
       "      <td>4.951041e-21</td>\n",
       "      <td>0.107560</td>\n",
       "    </tr>\n",
       "    <tr>\n",
       "      <th>9</th>\n",
       "      <td>HouseStyle</td>\n",
       "      <td>7</td>\n",
       "      <td>61.211487</td>\n",
       "      <td>41.792095</td>\n",
       "      <td>5.449573e-21</td>\n",
       "      <td>0.086313</td>\n",
       "    </tr>\n",
       "    <tr>\n",
       "      <th>10</th>\n",
       "      <td>Electrical</td>\n",
       "      <td>4</td>\n",
       "      <td>15.089349</td>\n",
       "      <td>72.399622</td>\n",
       "      <td>1.161673e-09</td>\n",
       "      <td>0.059651</td>\n",
       "    </tr>\n",
       "    <tr>\n",
       "      <th>11</th>\n",
       "      <td>RoofStyle</td>\n",
       "      <td>5</td>\n",
       "      <td>8.697103</td>\n",
       "      <td>8.026667</td>\n",
       "      <td>4.337300e-03</td>\n",
       "      <td>0.057697</td>\n",
       "    </tr>\n",
       "    <tr>\n",
       "      <th>12</th>\n",
       "      <td>Fence</td>\n",
       "      <td>4</td>\n",
       "      <td>66.642263</td>\n",
       "      <td>27.635338</td>\n",
       "      <td>1.540327e-13</td>\n",
       "      <td>0.035615</td>\n",
       "    </tr>\n",
       "    <tr>\n",
       "      <th>13</th>\n",
       "      <td>BldgType</td>\n",
       "      <td>4</td>\n",
       "      <td>116.736845</td>\n",
       "      <td>50.695239</td>\n",
       "      <td>1.138990e-24</td>\n",
       "      <td>0.034534</td>\n",
       "    </tr>\n",
       "    <tr>\n",
       "      <th>14</th>\n",
       "      <td>Condition1</td>\n",
       "      <td>8</td>\n",
       "      <td>21.544024</td>\n",
       "      <td>14.446580</td>\n",
       "      <td>4.762555e-07</td>\n",
       "      <td>0.032631</td>\n",
       "    </tr>\n",
       "    <tr>\n",
       "      <th>15</th>\n",
       "      <td>RoofMatl</td>\n",
       "      <td>7</td>\n",
       "      <td>38.894463</td>\n",
       "      <td>2.646029</td>\n",
       "      <td>2.445567e-02</td>\n",
       "      <td>0.031413</td>\n",
       "    </tr>\n",
       "    <tr>\n",
       "      <th>16</th>\n",
       "      <td>LandContour</td>\n",
       "      <td>3</td>\n",
       "      <td>83.334139</td>\n",
       "      <td>16.301503</td>\n",
       "      <td>2.008767e-08</td>\n",
       "      <td>0.025794</td>\n",
       "    </tr>\n",
       "    <tr>\n",
       "      <th>17</th>\n",
       "      <td>LotConfig</td>\n",
       "      <td>4</td>\n",
       "      <td>21.992114</td>\n",
       "      <td>5.319247</td>\n",
       "      <td>3.756682e-03</td>\n",
       "      <td>0.021019</td>\n",
       "    </tr>\n",
       "    <tr>\n",
       "      <th>18</th>\n",
       "      <td>Alley</td>\n",
       "      <td>2</td>\n",
       "      <td>75.904376</td>\n",
       "      <td>64.562127</td>\n",
       "      <td>4.186207e-17</td>\n",
       "      <td>0.020408</td>\n",
       "    </tr>\n",
       "    <tr>\n",
       "      <th>19</th>\n",
       "      <td>Heating</td>\n",
       "      <td>5</td>\n",
       "      <td>10.770748</td>\n",
       "      <td>144.687578</td>\n",
       "      <td>1.681908e-09</td>\n",
       "      <td>0.014437</td>\n",
       "    </tr>\n",
       "    <tr>\n",
       "      <th>20</th>\n",
       "      <td>Condition2</td>\n",
       "      <td>7</td>\n",
       "      <td>6.732463</td>\n",
       "      <td>6.041778</td>\n",
       "      <td>1.652887e-02</td>\n",
       "      <td>0.009899</td>\n",
       "    </tr>\n",
       "    <tr>\n",
       "      <th>21</th>\n",
       "      <td>MiscFeature</td>\n",
       "      <td>4</td>\n",
       "      <td>4.019980</td>\n",
       "      <td>3.531626</td>\n",
       "      <td>1.239833e-01</td>\n",
       "      <td>0.007080</td>\n",
       "    </tr>\n",
       "    <tr>\n",
       "      <th>22</th>\n",
       "      <td>LandSlope</td>\n",
       "      <td>2</td>\n",
       "      <td>27.571112</td>\n",
       "      <td>1.489339</td>\n",
       "      <td>2.431079e-01</td>\n",
       "      <td>0.002682</td>\n",
       "    </tr>\n",
       "    <tr>\n",
       "      <th>23</th>\n",
       "      <td>Street</td>\n",
       "      <td>1</td>\n",
       "      <td>5.060993</td>\n",
       "      <td>3.612994</td>\n",
       "      <td>1.150480e-01</td>\n",
       "      <td>0.001684</td>\n",
       "    </tr>\n",
       "    <tr>\n",
       "      <th>24</th>\n",
       "      <td>Utilities</td>\n",
       "      <td>1</td>\n",
       "      <td>inf</td>\n",
       "      <td>0.000000</td>\n",
       "      <td>1.000000e+00</td>\n",
       "      <td>0.000205</td>\n",
       "    </tr>\n",
       "  </tbody>\n",
       "</table>\n",
       "</div>"
      ],
      "text/plain": [
       "           Source  ddof1       ddof2           F         p-unc       np2\n",
       "0    Neighborhood     24  120.906806   56.151276  3.019500e-54  0.545575\n",
       "1      Foundation      5   15.703022   83.388974  9.681547e-11  0.256368\n",
       "2      GarageType      6   41.123361  114.822461  4.477164e-24  0.249204\n",
       "3      MasVnrType      3   64.900991   78.705972  1.376994e-21  0.183277\n",
       "4     Exterior2nd     15   70.632115   16.175842  3.362159e-17  0.153830\n",
       "5     Exterior1st     14   35.144731   22.018127  2.603830e-13  0.152773\n",
       "6        SaleType      8   10.815942   13.434211  1.259831e-04  0.137287\n",
       "7   SaleCondition      5   24.521524   28.339072  1.933879e-09  0.135497\n",
       "8        MSZoning      4   43.892971   95.072489  4.951041e-21  0.107560\n",
       "9      HouseStyle      7   61.211487   41.792095  5.449573e-21  0.086313\n",
       "10     Electrical      4   15.089349   72.399622  1.161673e-09  0.059651\n",
       "11      RoofStyle      5    8.697103    8.026667  4.337300e-03  0.057697\n",
       "12          Fence      4   66.642263   27.635338  1.540327e-13  0.035615\n",
       "13       BldgType      4  116.736845   50.695239  1.138990e-24  0.034534\n",
       "14     Condition1      8   21.544024   14.446580  4.762555e-07  0.032631\n",
       "15       RoofMatl      7   38.894463    2.646029  2.445567e-02  0.031413\n",
       "16    LandContour      3   83.334139   16.301503  2.008767e-08  0.025794\n",
       "17      LotConfig      4   21.992114    5.319247  3.756682e-03  0.021019\n",
       "18          Alley      2   75.904376   64.562127  4.186207e-17  0.020408\n",
       "19        Heating      5   10.770748  144.687578  1.681908e-09  0.014437\n",
       "20     Condition2      7    6.732463    6.041778  1.652887e-02  0.009899\n",
       "21    MiscFeature      4    4.019980    3.531626  1.239833e-01  0.007080\n",
       "22      LandSlope      2   27.571112    1.489339  2.431079e-01  0.002682\n",
       "23         Street      1    5.060993    3.612994  1.150480e-01  0.001684\n",
       "24      Utilities      1         inf    0.000000  1.000000e+00  0.000205"
      ]
     },
     "execution_count": 12,
     "metadata": {},
     "output_type": "execute_result"
    }
   ],
   "source": [
    "train_set = total_set[total_set['set']=='train']\n",
    "cat_vars = list(o_cols.columns)\n",
    "cat_vars.remove('set')\n",
    "\n",
    "anovas = pd.DataFrame()\n",
    "\n",
    "for col in cat_vars :\n",
    "    anova = pg.welch_anova(data=train_set, dv='SalePrice', between=col)\n",
    "    anovas = pd.concat([anovas, anova], axis=0)\n",
    "\n",
    "anovas = anovas.sort_values(by='np2', ascending=False, ignore_index=True)\n",
    "anovas"
   ]
  },
  {
   "cell_type": "code",
   "execution_count": 13,
   "metadata": {},
   "outputs": [
    {
     "data": {
      "image/png": "[encoded data removed]",
      "text/plain": [
       "<Figure size 640x480 with 1 Axes>"
      ]
     },
     "metadata": {},
     "output_type": "display_data"
    }
   ],
   "source": [
    "# plt.figure(figsize=(10, 7))\n",
    "\n",
    "\n",
    "sns.barplot(data=anovas, x='Source', y='np2')\n",
    "plt.xticks(rotation=90)\n",
    "plt.axvline(9.5, color=\"Red\", linestyle=\":\")\n",
    "plt.annotate(\"Cutoff\", xy=(8.7, 0.2), rotation=90, color=\"Red\")\n",
    "plt.xlabel(\"Categorical features\")\n",
    "plt.ylabel(\"Predictive power (np2)\")\n",
    "plt.title(\"Predictive power of categorical variables\")\n",
    "plt.tight_layout()\n",
    "plt.savefig(\"../reports/figures/Cat_Var_Predictive_Power\")\n",
    "plt.show()"
   ]
  },
  {
   "cell_type": "markdown",
   "metadata": {},
   "source": [
    "Let's arbitrarily select the 10 most influential variables (by np2), as they all also have significant p values."
   ]
  },
  {
   "cell_type": "code",
   "execution_count": 14,
   "metadata": {},
   "outputs": [
    {
     "name": "stdout",
     "output_type": "stream",
     "text": [
      "Stored 'usable_cats' (list)\n"
     ]
    }
   ],
   "source": [
    "usable_cats = list(anovas.loc[:9, 'Source'])\n",
    "\n",
    "%store usable_cats"
   ]
  },
  {
   "cell_type": "markdown",
   "metadata": {},
   "source": [
    "Now we're ready to one-hot!"
   ]
  },
  {
   "cell_type": "code",
   "execution_count": 15,
   "metadata": {},
   "outputs": [],
   "source": [
    "for col in usable_cats :\n",
    "    oh = pd.get_dummies(total_set[col], prefix=col).astype(int)\n",
    "    total_set = total_set.join(oh, on=None)\n",
    "\n",
    "total_set = total_set.drop(cat_vars, axis=1)"
   ]
  },
  {
   "cell_type": "markdown",
   "metadata": {},
   "source": [
    "And now let's fix the Exterior column pairs (since we've dropped the Condition 1&2 columns)."
   ]
  },
  {
   "cell_type": "code",
   "execution_count": 16,
   "metadata": {},
   "outputs": [],
   "source": [
    "# First let's get all our relevant columns.\n",
    "# We only need the second of each pair, since we can use that to derive the first of each pair.\n",
    "exterior2_cols = []\n",
    "\n",
    "for col in total_set.columns :\n",
    "    if \"Exterior2\" in col :\n",
    "        exterior2_cols.append(col)\n"
   ]
  },
  {
   "cell_type": "code",
   "execution_count": 17,
   "metadata": {},
   "outputs": [],
   "source": [
    "# Now let's find all the 1s in the second column and copy them to the first of the pairs, then drop the second of the pairs.\n",
    "# It's kind of annoying, but we can manually change the 2 to a 1 in the col name string.\n",
    "\n",
    "# And the same for Exterior:\n",
    "for index, row in total_set.iterrows() :\n",
    "    for col in exterior2_cols :\n",
    "        if total_set.loc[index, col] == 1 :\n",
    "            new_col = col[:8]+'1st'+col[11:]\n",
    "            total_set.loc[index, new_col] = 1\n",
    "\n",
    "# And presto.\n",
    "total_set.drop(exterior2_cols, axis=1, inplace=True)"
   ]
  },
  {
   "cell_type": "markdown",
   "metadata": {},
   "source": [
    "I just noticed that there are discrepancies in one of the value names:\n",
    "\n",
    "Exterior1st_WdShing\n",
    "\n",
    "vs\n",
    "\n",
    "Exterior1st_Wd Shng \n",
    "\n",
    "Let's go through a similar process as before to move all the values from the second version into the first version, then remove the second version's column.\n"
   ]
  },
  {
   "cell_type": "code",
   "execution_count": 18,
   "metadata": {},
   "outputs": [],
   "source": [
    "for index, row in total_set.iterrows() :\n",
    "    if total_set.loc[index, 'Exterior1st_Wd Shng'] == 1 :\n",
    "        total_set.loc[index, 'Exterior1st_WdShing'] = 1\n",
    "\n",
    "total_set = total_set.drop('Exterior1st_Wd Shng', axis=1)"
   ]
  },
  {
   "cell_type": "markdown",
   "metadata": {},
   "source": [
    "I just noted that one of the values in the BldgType column is out of step with the documentation.\n",
    "\n",
    "'twnhs' isn't in the documentation, and should apparently be either 'TwhsE' or 'TwnhsI', but we have no way of seeing which.\n",
    "\n",
    "Let's see if it even matters..."
   ]
  },
  {
   "cell_type": "code",
   "execution_count": 19,
   "metadata": {},
   "outputs": [
    {
     "data": {
      "image/png": "[encoded data removed]",
      "text/plain": [
       "<Figure size 640x480 with 1 Axes>"
      ]
     },
     "metadata": {},
     "output_type": "display_data"
    }
   ],
   "source": [
    "small_df = train_set[(train_set['BldgType']=='TwnhsE') | (train_set['BldgType']=='Twnhs')]\n",
    "\n",
    "sns.swarmplot(x='BldgType', y='SalePrice', data=small_df, palette='colorblind')\n",
    "plt.axhline(train_set['SalePrice'].mean(), linestyle='--')\n",
    "plt.axhline(train_set['SalePrice'].median())\n",
    "plt.show()\n"
   ]
  },
  {
   "cell_type": "markdown",
   "metadata": {},
   "source": [
    "Kinda seems like it does..."
   ]
  },
  {
   "cell_type": "code",
   "execution_count": 20,
   "metadata": {},
   "outputs": [],
   "source": [
    "from scipy.stats import ks_2samp"
   ]
  },
  {
   "cell_type": "code",
   "execution_count": 21,
   "metadata": {},
   "outputs": [
    {
     "name": "stdout",
     "output_type": "stream",
     "text": [
      "P-value between TwnhsE and Twnhs sale price distributions: 0.000346\n"
     ]
    }
   ],
   "source": [
    "TwnhsE = train_set[train_set['BldgType']=='TwnhsE']['SalePrice']\n",
    "Twnhs = train_set[train_set['BldgType']=='Twnhs']['SalePrice']\n",
    "stat, p_val = ks_2samp(TwnhsE, Twnhs)\n",
    "print(\"P-value between TwnhsE and Twnhs sale price distributions: \"+str(round(p_val, 6)))"
   ]
  },
  {
   "cell_type": "markdown",
   "metadata": {},
   "source": [
    "Yeah, probably does. Let's make the BOLD assumption that Twnhs is supposed to be TwnhsI, and convert all future Twnhs values to TwnhsI, in keeping with the documentation."
   ]
  },
  {
   "cell_type": "code",
   "execution_count": 22,
   "metadata": {},
   "outputs": [],
   "source": [
    "def townhouse(df) :\n",
    "    df.replace({'Twnhs':\"TwnhsI\"}, inplace=True)\n",
    "    return df"
   ]
  },
  {
   "cell_type": "code",
   "execution_count": 23,
   "metadata": {},
   "outputs": [
    {
     "data": {
      "text/plain": [
       "1Fam      1220\n",
       "TwnhsE     114\n",
       "Duplex      52\n",
       "TwnhsI      43\n",
       "2fmCon      31\n",
       "Name: BldgType, dtype: int64"
      ]
     },
     "execution_count": 23,
     "metadata": {},
     "output_type": "execute_result"
    }
   ],
   "source": [
    "train_set = townhouse(train_set)\n",
    "test_set = townhouse(test_set)\n",
    "train_set['BldgType'].value_counts()"
   ]
  },
  {
   "cell_type": "markdown",
   "metadata": {},
   "source": [
    "And let's backfill that for our already one-hotted df."
   ]
  },
  {
   "cell_type": "code",
   "execution_count": 24,
   "metadata": {},
   "outputs": [],
   "source": [
    "total_set.rename(columns={\"BldgType_Twnhs\":\"BldgType_TwnhsI\"}, inplace=True)"
   ]
  },
  {
   "cell_type": "markdown",
   "metadata": {},
   "source": [
    "Step 2: Preparing the Numeric Columns\n",
    "--\n",
    "\n",
    "Let's make sure we don't have any nulls left over from last time."
   ]
  },
  {
   "cell_type": "code",
   "execution_count": 25,
   "metadata": {},
   "outputs": [
    {
     "data": {
      "text/html": [
       "<div>\n",
       "<style scoped>\n",
       "    .dataframe tbody tr th:only-of-type {\n",
       "        vertical-align: middle;\n",
       "    }\n",
       "\n",
       "    .dataframe tbody tr th {\n",
       "        vertical-align: top;\n",
       "    }\n",
       "\n",
       "    .dataframe thead th {\n",
       "        text-align: right;\n",
       "    }\n",
       "</style>\n",
       "<table border=\"1\" class=\"dataframe\">\n",
       "  <thead>\n",
       "    <tr style=\"text-align: right;\">\n",
       "      <th></th>\n",
       "      <th>MSSubClass</th>\n",
       "      <th>LotFrontage</th>\n",
       "      <th>LotArea</th>\n",
       "      <th>LotShape</th>\n",
       "      <th>OverallQual</th>\n",
       "      <th>OverallCond</th>\n",
       "      <th>YearBuilt</th>\n",
       "      <th>YearRemodAdd</th>\n",
       "      <th>MasVnrArea</th>\n",
       "      <th>ExterQual</th>\n",
       "      <th>...</th>\n",
       "      <th>OpenPorchSF</th>\n",
       "      <th>EnclosedPorch</th>\n",
       "      <th>3SsnPorch</th>\n",
       "      <th>ScreenPorch</th>\n",
       "      <th>PoolArea</th>\n",
       "      <th>PoolQC</th>\n",
       "      <th>MiscVal</th>\n",
       "      <th>MoSold</th>\n",
       "      <th>YrSold</th>\n",
       "      <th>set</th>\n",
       "    </tr>\n",
       "  </thead>\n",
       "  <tbody>\n",
       "    <tr>\n",
       "      <th>0</th>\n",
       "      <td>60</td>\n",
       "      <td>65.0</td>\n",
       "      <td>8450</td>\n",
       "      <td>4</td>\n",
       "      <td>7</td>\n",
       "      <td>5</td>\n",
       "      <td>2003</td>\n",
       "      <td>2003</td>\n",
       "      <td>196.0</td>\n",
       "      <td>4</td>\n",
       "      <td>...</td>\n",
       "      <td>61</td>\n",
       "      <td>0</td>\n",
       "      <td>0</td>\n",
       "      <td>0</td>\n",
       "      <td>0</td>\n",
       "      <td>NaN</td>\n",
       "      <td>0</td>\n",
       "      <td>2</td>\n",
       "      <td>2008</td>\n",
       "      <td>train</td>\n",
       "    </tr>\n",
       "    <tr>\n",
       "      <th>1</th>\n",
       "      <td>20</td>\n",
       "      <td>80.0</td>\n",
       "      <td>9600</td>\n",
       "      <td>4</td>\n",
       "      <td>6</td>\n",
       "      <td>8</td>\n",
       "      <td>1976</td>\n",
       "      <td>1976</td>\n",
       "      <td>0.0</td>\n",
       "      <td>3</td>\n",
       "      <td>...</td>\n",
       "      <td>0</td>\n",
       "      <td>0</td>\n",
       "      <td>0</td>\n",
       "      <td>0</td>\n",
       "      <td>0</td>\n",
       "      <td>NaN</td>\n",
       "      <td>0</td>\n",
       "      <td>5</td>\n",
       "      <td>2007</td>\n",
       "      <td>train</td>\n",
       "    </tr>\n",
       "    <tr>\n",
       "      <th>2</th>\n",
       "      <td>60</td>\n",
       "      <td>68.0</td>\n",
       "      <td>11250</td>\n",
       "      <td>3</td>\n",
       "      <td>7</td>\n",
       "      <td>5</td>\n",
       "      <td>2001</td>\n",
       "      <td>2002</td>\n",
       "      <td>162.0</td>\n",
       "      <td>4</td>\n",
       "      <td>...</td>\n",
       "      <td>42</td>\n",
       "      <td>0</td>\n",
       "      <td>0</td>\n",
       "      <td>0</td>\n",
       "      <td>0</td>\n",
       "      <td>NaN</td>\n",
       "      <td>0</td>\n",
       "      <td>9</td>\n",
       "      <td>2008</td>\n",
       "      <td>train</td>\n",
       "    </tr>\n",
       "    <tr>\n",
       "      <th>3</th>\n",
       "      <td>70</td>\n",
       "      <td>60.0</td>\n",
       "      <td>9550</td>\n",
       "      <td>3</td>\n",
       "      <td>7</td>\n",
       "      <td>5</td>\n",
       "      <td>1915</td>\n",
       "      <td>1970</td>\n",
       "      <td>0.0</td>\n",
       "      <td>3</td>\n",
       "      <td>...</td>\n",
       "      <td>35</td>\n",
       "      <td>272</td>\n",
       "      <td>0</td>\n",
       "      <td>0</td>\n",
       "      <td>0</td>\n",
       "      <td>NaN</td>\n",
       "      <td>0</td>\n",
       "      <td>2</td>\n",
       "      <td>2006</td>\n",
       "      <td>train</td>\n",
       "    </tr>\n",
       "    <tr>\n",
       "      <th>4</th>\n",
       "      <td>60</td>\n",
       "      <td>84.0</td>\n",
       "      <td>14260</td>\n",
       "      <td>3</td>\n",
       "      <td>8</td>\n",
       "      <td>5</td>\n",
       "      <td>2000</td>\n",
       "      <td>2000</td>\n",
       "      <td>350.0</td>\n",
       "      <td>4</td>\n",
       "      <td>...</td>\n",
       "      <td>84</td>\n",
       "      <td>0</td>\n",
       "      <td>0</td>\n",
       "      <td>0</td>\n",
       "      <td>0</td>\n",
       "      <td>NaN</td>\n",
       "      <td>0</td>\n",
       "      <td>12</td>\n",
       "      <td>2008</td>\n",
       "      <td>train</td>\n",
       "    </tr>\n",
       "    <tr>\n",
       "      <th>...</th>\n",
       "      <td>...</td>\n",
       "      <td>...</td>\n",
       "      <td>...</td>\n",
       "      <td>...</td>\n",
       "      <td>...</td>\n",
       "      <td>...</td>\n",
       "      <td>...</td>\n",
       "      <td>...</td>\n",
       "      <td>...</td>\n",
       "      <td>...</td>\n",
       "      <td>...</td>\n",
       "      <td>...</td>\n",
       "      <td>...</td>\n",
       "      <td>...</td>\n",
       "      <td>...</td>\n",
       "      <td>...</td>\n",
       "      <td>...</td>\n",
       "      <td>...</td>\n",
       "      <td>...</td>\n",
       "      <td>...</td>\n",
       "      <td>...</td>\n",
       "    </tr>\n",
       "    <tr>\n",
       "      <th>2914</th>\n",
       "      <td>160</td>\n",
       "      <td>21.0</td>\n",
       "      <td>1936</td>\n",
       "      <td>4</td>\n",
       "      <td>4</td>\n",
       "      <td>7</td>\n",
       "      <td>1970</td>\n",
       "      <td>1970</td>\n",
       "      <td>0.0</td>\n",
       "      <td>3</td>\n",
       "      <td>...</td>\n",
       "      <td>0</td>\n",
       "      <td>0</td>\n",
       "      <td>0</td>\n",
       "      <td>0</td>\n",
       "      <td>0</td>\n",
       "      <td>NaN</td>\n",
       "      <td>0</td>\n",
       "      <td>6</td>\n",
       "      <td>2006</td>\n",
       "      <td>test</td>\n",
       "    </tr>\n",
       "    <tr>\n",
       "      <th>2915</th>\n",
       "      <td>160</td>\n",
       "      <td>21.0</td>\n",
       "      <td>1894</td>\n",
       "      <td>4</td>\n",
       "      <td>4</td>\n",
       "      <td>5</td>\n",
       "      <td>1970</td>\n",
       "      <td>1970</td>\n",
       "      <td>0.0</td>\n",
       "      <td>3</td>\n",
       "      <td>...</td>\n",
       "      <td>24</td>\n",
       "      <td>0</td>\n",
       "      <td>0</td>\n",
       "      <td>0</td>\n",
       "      <td>0</td>\n",
       "      <td>NaN</td>\n",
       "      <td>0</td>\n",
       "      <td>4</td>\n",
       "      <td>2006</td>\n",
       "      <td>test</td>\n",
       "    </tr>\n",
       "    <tr>\n",
       "      <th>2916</th>\n",
       "      <td>20</td>\n",
       "      <td>160.0</td>\n",
       "      <td>20000</td>\n",
       "      <td>4</td>\n",
       "      <td>5</td>\n",
       "      <td>7</td>\n",
       "      <td>1960</td>\n",
       "      <td>1996</td>\n",
       "      <td>0.0</td>\n",
       "      <td>3</td>\n",
       "      <td>...</td>\n",
       "      <td>0</td>\n",
       "      <td>0</td>\n",
       "      <td>0</td>\n",
       "      <td>0</td>\n",
       "      <td>0</td>\n",
       "      <td>NaN</td>\n",
       "      <td>0</td>\n",
       "      <td>9</td>\n",
       "      <td>2006</td>\n",
       "      <td>test</td>\n",
       "    </tr>\n",
       "    <tr>\n",
       "      <th>2917</th>\n",
       "      <td>85</td>\n",
       "      <td>62.0</td>\n",
       "      <td>10441</td>\n",
       "      <td>4</td>\n",
       "      <td>5</td>\n",
       "      <td>5</td>\n",
       "      <td>1992</td>\n",
       "      <td>1992</td>\n",
       "      <td>0.0</td>\n",
       "      <td>3</td>\n",
       "      <td>...</td>\n",
       "      <td>32</td>\n",
       "      <td>0</td>\n",
       "      <td>0</td>\n",
       "      <td>0</td>\n",
       "      <td>0</td>\n",
       "      <td>NaN</td>\n",
       "      <td>700</td>\n",
       "      <td>7</td>\n",
       "      <td>2006</td>\n",
       "      <td>test</td>\n",
       "    </tr>\n",
       "    <tr>\n",
       "      <th>2918</th>\n",
       "      <td>60</td>\n",
       "      <td>74.0</td>\n",
       "      <td>9627</td>\n",
       "      <td>4</td>\n",
       "      <td>7</td>\n",
       "      <td>5</td>\n",
       "      <td>1993</td>\n",
       "      <td>1994</td>\n",
       "      <td>94.0</td>\n",
       "      <td>3</td>\n",
       "      <td>...</td>\n",
       "      <td>48</td>\n",
       "      <td>0</td>\n",
       "      <td>0</td>\n",
       "      <td>0</td>\n",
       "      <td>0</td>\n",
       "      <td>NaN</td>\n",
       "      <td>0</td>\n",
       "      <td>11</td>\n",
       "      <td>2006</td>\n",
       "      <td>test</td>\n",
       "    </tr>\n",
       "  </tbody>\n",
       "</table>\n",
       "<p>2919 rows × 51 columns</p>\n",
       "</div>"
      ],
      "text/plain": [
       "      MSSubClass  LotFrontage  LotArea  LotShape  OverallQual  OverallCond  \\\n",
       "0             60         65.0     8450         4            7            5   \n",
       "1             20         80.0     9600         4            6            8   \n",
       "2             60         68.0    11250         3            7            5   \n",
       "3             70         60.0     9550         3            7            5   \n",
       "4             60         84.0    14260         3            8            5   \n",
       "...          ...          ...      ...       ...          ...          ...   \n",
       "2914         160         21.0     1936         4            4            7   \n",
       "2915         160         21.0     1894         4            4            5   \n",
       "2916          20        160.0    20000         4            5            7   \n",
       "2917          85         62.0    10441         4            5            5   \n",
       "2918          60         74.0     9627         4            7            5   \n",
       "\n",
       "      YearBuilt  YearRemodAdd  MasVnrArea  ExterQual  ...  OpenPorchSF  \\\n",
       "0          2003          2003       196.0          4  ...           61   \n",
       "1          1976          1976         0.0          3  ...            0   \n",
       "2          2001          2002       162.0          4  ...           42   \n",
       "3          1915          1970         0.0          3  ...           35   \n",
       "4          2000          2000       350.0          4  ...           84   \n",
       "...         ...           ...         ...        ...  ...          ...   \n",
       "2914       1970          1970         0.0          3  ...            0   \n",
       "2915       1970          1970         0.0          3  ...           24   \n",
       "2916       1960          1996         0.0          3  ...            0   \n",
       "2917       1992          1992         0.0          3  ...           32   \n",
       "2918       1993          1994        94.0          3  ...           48   \n",
       "\n",
       "      EnclosedPorch  3SsnPorch  ScreenPorch  PoolArea  PoolQC  MiscVal  \\\n",
       "0                 0          0            0         0     NaN        0   \n",
       "1                 0          0            0         0     NaN        0   \n",
       "2                 0          0            0         0     NaN        0   \n",
       "3               272          0            0         0     NaN        0   \n",
       "4                 0          0            0         0     NaN        0   \n",
       "...             ...        ...          ...       ...     ...      ...   \n",
       "2914              0          0            0         0     NaN        0   \n",
       "2915              0          0            0         0     NaN        0   \n",
       "2916              0          0            0         0     NaN        0   \n",
       "2917              0          0            0         0     NaN      700   \n",
       "2918              0          0            0         0     NaN        0   \n",
       "\n",
       "      MoSold  YrSold    set  \n",
       "0          2    2008  train  \n",
       "1          5    2007  train  \n",
       "2          9    2008  train  \n",
       "3          2    2006  train  \n",
       "4         12    2008  train  \n",
       "...      ...     ...    ...  \n",
       "2914       6    2006   test  \n",
       "2915       4    2006   test  \n",
       "2916       9    2006   test  \n",
       "2917       7    2006   test  \n",
       "2918      11    2006   test  \n",
       "\n",
       "[2919 rows x 51 columns]"
      ]
     },
     "execution_count": 25,
     "metadata": {},
     "output_type": "execute_result"
    }
   ],
   "source": [
    "n_cols = [name for name in total_set.columns if \"_\" not in name]\n",
    "n_cols.remove('SalePrice')\n",
    "\n",
    "n_df = total_set[n_cols]\n",
    "n_df"
   ]
  },
  {
   "cell_type": "code",
   "execution_count": 26,
   "metadata": {},
   "outputs": [
    {
     "data": {
      "text/plain": [
       "MSSubClass          0\n",
       "LotFrontage         0\n",
       "LotArea             0\n",
       "LotShape            0\n",
       "OverallQual         0\n",
       "OverallCond         0\n",
       "YearBuilt           0\n",
       "YearRemodAdd        0\n",
       "MasVnrArea         23\n",
       "ExterQual           0\n",
       "ExterCond           0\n",
       "BsmtQual           81\n",
       "BsmtCond           82\n",
       "BsmtExposure       82\n",
       "BsmtFinType1       79\n",
       "BsmtFinSF1          1\n",
       "BsmtFinType2       80\n",
       "BsmtFinSF2          1\n",
       "BsmtUnfSF           1\n",
       "TotalBsmtSF         1\n",
       "HeatingQC           0\n",
       "CentralAir          0\n",
       "2ndFlrSF            0\n",
       "LowQualFinSF        0\n",
       "GrLivArea           0\n",
       "BsmtFullBath        2\n",
       "BsmtHalfBath        2\n",
       "FullBath            0\n",
       "HalfBath            0\n",
       "BedroomAbvGr        0\n",
       "KitchenAbvGr        0\n",
       "KitchenQual         1\n",
       "Functional          0\n",
       "Fireplaces          0\n",
       "FireplaceQu      1420\n",
       "GarageFinish      159\n",
       "GarageArea          1\n",
       "GarageQual        159\n",
       "GarageCond        159\n",
       "PavedDrive          0\n",
       "WoodDeckSF          0\n",
       "OpenPorchSF         0\n",
       "EnclosedPorch       0\n",
       "3SsnPorch           0\n",
       "ScreenPorch         0\n",
       "PoolArea            0\n",
       "PoolQC           2909\n",
       "MiscVal             0\n",
       "MoSold              0\n",
       "YrSold              0\n",
       "set                 0\n",
       "dtype: int64"
      ]
     },
     "execution_count": 26,
     "metadata": {},
     "output_type": "execute_result"
    }
   ],
   "source": [
    "n_df.isnull().sum()"
   ]
  },
  {
   "cell_type": "markdown",
   "metadata": {},
   "source": [
    "I guess we have to go through and define imputation methods for each of them now.\n",
    "\n",
    "I've checked the documentation & all value counts, but am only leaving one example in the notebook."
   ]
  },
  {
   "cell_type": "code",
   "execution_count": 27,
   "metadata": {},
   "outputs": [
    {
     "name": "stdout",
     "output_type": "stream",
     "text": [
      "4.0    3\n",
      "5.0    2\n",
      "2.0    2\n",
      "Name: PoolQC, dtype: int64\n"
     ]
    },
    {
     "data": {
      "image/png": "[encoded data removed]",
      "text/plain": [
       "<Figure size 640x480 with 1 Axes>"
      ]
     },
     "metadata": {},
     "output_type": "display_data"
    }
   ],
   "source": [
    "x = 'PoolQC'\n",
    "print(n_df[n_df['set'] == 'train'][x].value_counts())\n",
    "n_df[n_df['set'] == 'train'][x].hist()\n",
    "plt.show()"
   ]
  },
  {
   "cell_type": "markdown",
   "metadata": {},
   "source": [
    "The following are my decisions RE how to impute the values for each column."
   ]
  },
  {
   "cell_type": "code",
   "execution_count": 28,
   "metadata": {},
   "outputs": [],
   "source": [
    "median = ['LotArea', 'OverallQual', 'GrLivArea', 'MSSubClass']\n",
    "mode = ['LotFrontage', 'LotShape', 'OverallCond', 'YearBuilt', 'YearRemodAdd', 'MasVnrArea', \\\n",
    "        'ExterQual', 'ExterCond', 'HeatingQC', 'CentralAir', 'FullBath', 'BedroomAbvGr', \\\n",
    "        'KitchenAbvGr', 'KitchenQual', 'Functional', 'GarageFinish', 'PavedDrive', ]\n",
    "zero = ['BsmtQual', 'BsmtCond', 'BsmtExposure', 'BsmtFinType1', 'BsmtFinType2', 'BsmtFinSF1', \\\n",
    "        'BsmtFinSF2', 'BsmtUnfSF', 'TotalBsmtSF', '2ndFlrSF', 'LowQualFinSF', 'BsmtFullBath', \\\n",
    "        'BsmtHalfBath', 'HalfBath', 'Fireplaces', 'FireplaceQu', 'GarageArea', 'GarageQual', \\\n",
    "        'GarageCond', 'WoodDeckSF', 'OpenPorchSF', 'EnclosedPorch', '3SsnPorch', 'ScreenPorch', \\\n",
    "        'PoolArea', 'PoolQC']"
   ]
  },
  {
   "cell_type": "markdown",
   "metadata": {},
   "source": [
    "Now let's IMPUUUUTE"
   ]
  },
  {
   "cell_type": "code",
   "execution_count": 29,
   "metadata": {},
   "outputs": [],
   "source": [
    "for col in median :\n",
    "    med = total_set[total_set['set'] == 'train'][col].median()\n",
    "    total_set[col].fillna(med, inplace=True)\n",
    "for col in mode :\n",
    "    mod = total_set[total_set['set'] == 'train'][col].mode().iloc[0]\n",
    "    total_set[col].fillna(mod, inplace=True)\n",
    "for col in zero :\n",
    "    total_set[col].fillna(0, inplace=True)"
   ]
  },
  {
   "cell_type": "markdown",
   "metadata": {},
   "source": [
    "Check for any remaining nulls..."
   ]
  },
  {
   "cell_type": "code",
   "execution_count": 30,
   "metadata": {},
   "outputs": [
    {
     "name": "stdout",
     "output_type": "stream",
     "text": [
      "SalePrice 1459\n",
      "Exterior1st_CmentBd 2793\n",
      "Exterior1st_Brk Cmn 2897\n"
     ]
    }
   ],
   "source": [
    "for col in total_set.columns :\n",
    "    nulls = total_set[col].isnull().sum()\n",
    "    if nulls > 0 :\n",
    "        print(col, nulls)"
   ]
  },
  {
   "cell_type": "markdown",
   "metadata": {},
   "source": [
    "Really no idea how those two one-hot cols ended up with nulls, but fortunately the only prescription is more cowbell."
   ]
  },
  {
   "cell_type": "code",
   "execution_count": 31,
   "metadata": {},
   "outputs": [
    {
     "name": "stdout",
     "output_type": "stream",
     "text": [
      "1.0    126\n",
      "Name: Exterior1st_CmentBd, dtype: int64\n",
      "1.0    22\n",
      "Name: Exterior1st_Brk Cmn, dtype: int64\n"
     ]
    }
   ],
   "source": [
    "print(total_set['Exterior1st_CmentBd'].value_counts())\n",
    "print(total_set['Exterior1st_Brk Cmn'].value_counts())"
   ]
  },
  {
   "cell_type": "code",
   "execution_count": 32,
   "metadata": {},
   "outputs": [],
   "source": [
    "total_set['Exterior1st_CmentBd'].fillna(0.0, inplace=True)\n",
    "total_set['Exterior1st_Brk Cmn'].fillna(0.0, inplace=True)"
   ]
  },
  {
   "cell_type": "markdown",
   "metadata": {},
   "source": [
    "NOW we're cooking with grease.\n",
    "\n",
    "One more thing to do before scaling: prune some outliers.\n",
    "\n",
    "I tooled around with this in conjunction with the modeling notebook, and the \n",
    "figure I arrived at was 3.5 standard deviations was a decent cutoff for outliers."
   ]
  },
  {
   "cell_type": "code",
   "execution_count": 33,
   "metadata": {},
   "outputs": [
    {
     "name": "stdout",
     "output_type": "stream",
     "text": [
      "\n",
      "LotArea\n",
      "Mean: 10516.828082191782, STD: 9981.264932379147\n",
      "Upper: 45451.255345518795\n",
      "lower: -24417.599181135236\n",
      "53: LotArea: 50271\n",
      "249: LotArea: 159000\n",
      "313: LotArea: 215245\n",
      "335: LotArea: 164660\n",
      "384: LotArea: 53107\n",
      "451: LotArea: 70761\n",
      "457: LotArea: 53227\n",
      "661: LotArea: 46589\n",
      "706: LotArea: 115149\n",
      "769: LotArea: 53504\n",
      "848: LotArea: 45600\n",
      "1298: LotArea: 63887\n",
      "1396: LotArea: 57200\n",
      "\n",
      "OverallQual\n",
      "Mean: 6.093296475466483, STD: 1.3791584861370516\n",
      "Upper: 10.920351176946163\n",
      "lower: 1.2662417739868017\n",
      "375: OverallQual: 1\n",
      "533: OverallQual: 1\n",
      "\n",
      "MasVnrArea\n",
      "Mean: 252.22013651877134, STD: 203.72820255650518\n",
      "Upper: 965.2688454665395\n",
      "lower: -460.8285724289967\n",
      "58: MasVnrArea: 1031.0\n",
      "70: MasVnrArea: 1115.0\n",
      "115: MasVnrArea: 1129.0\n",
      "297: MasVnrArea: 1600.0\n",
      "691: MasVnrArea: 1170.0\n",
      "808: MasVnrArea: 1047.0\n",
      "981: MasVnrArea: 975.0\n",
      "1169: MasVnrArea: 1378.0\n",
      "\n",
      "ExterQual\n",
      "Mean: 3.393180236604036, STD: 0.567733340981048\n",
      "Upper: 5.380246930037704\n",
      "lower: 1.406113543170368\n",
      "\n",
      "BsmtQual\n",
      "Mean: 3.5738758029978586, STD: 0.6774974192832827\n",
      "Upper: 5.9451167704893475\n",
      "lower: 1.2026348355063692\n",
      "\n",
      "BsmtExposure\n",
      "Mean: 1.65, STD: 1.0266290076609763\n",
      "Upper: 5.243201526813417\n",
      "lower: -1.943201526813417\n",
      "\n",
      "BsmtFinType1\n",
      "Mean: 3.6202712348322628, STD: 2.0577352837057816\n",
      "Upper: 10.822344727802498\n",
      "lower: -3.581802258137973\n",
      "\n",
      "BsmtFinSF1\n",
      "Mean: 639.7358684480987, STD: 374.8002061979692\n",
      "Upper: 1951.536590140991\n",
      "lower: -672.0648532447935\n",
      "523: BsmtFinSF1: 2260.0\n",
      "898: BsmtFinSF1: 2188.0\n",
      "1182: BsmtFinSF1: 2096.0\n",
      "\n",
      "BsmtFinSF2\n",
      "Mean: 409.58641975308643, STD: 285.25709543788963\n",
      "Upper: 1407.9862537857002\n",
      "lower: -588.8134142795273\n",
      "322: BsmtFinSF2: 1474.0\n",
      "\n",
      "BsmtUnfSF\n",
      "Mean: 620.3371298405467, STD: 426.9847686277393\n",
      "Upper: 2114.783820037634\n",
      "lower: -874.1095603565408\n",
      "224: BsmtUnfSF: 2336.0\n",
      "278: BsmtUnfSF: 2121.0\n",
      "477: BsmtUnfSF: 2153.0\n",
      "\n",
      "TotalBsmtSF\n",
      "Mean: 1069.6470588235295, STD: 372.5476890058373\n",
      "Upper: 2373.56397034396\n",
      "lower: -234.26985269690113\n",
      "332: TotalBsmtSF: 3206.0\n",
      "440: TotalBsmtSF: 3094.0\n",
      "496: TotalBsmtSF: 3200.0\n",
      "1044: TotalBsmtSF: 2524.0\n",
      "1373: TotalBsmtSF: 2633.0\n",
      "\n",
      "HeatingQC\n",
      "Mean: 4.138947368421053, STD: 0.9600475545091464\n",
      "Upper: 7.499113809203065\n",
      "lower: 0.7787809276390405\n",
      "\n",
      "2ndFlrSF\n",
      "Mean: 793.0537459283388, STD: 257.3659559451929\n",
      "Upper: 1693.834591736514\n",
      "lower: -107.72709987983637\n",
      "304: 2ndFlrSF: 1818\n",
      "\n",
      "LowQualFinSF\n",
      "Mean: 328.1923076923077, STD: 167.18612842715612\n",
      "Upper: 913.3437571873542\n",
      "lower: -256.95914180273877\n",
      "\n",
      "GrLivArea\n",
      "Mean: 1491.3033707865168, STD: 479.8703582714702\n",
      "Upper: 3170.8496247366625\n",
      "lower: -188.2428831636289\n",
      "118: GrLivArea: 3222\n",
      "185: GrLivArea: 3608\n",
      "608: GrLivArea: 3194\n",
      "635: GrLivArea: 3395\n",
      "1268: GrLivArea: 3447\n",
      "1353: GrLivArea: 3238\n",
      "\n",
      "FullBath\n",
      "Mean: 1.557760453579022, STD: 0.527299101627161\n",
      "Upper: 3.4033073092740853\n",
      "lower: -0.28778640211604145\n",
      "\n",
      "BedroomAbvGr\n",
      "Mean: 2.8662420382165603, STD: 0.7784817363928739\n",
      "Upper: 5.590928115591619\n",
      "lower: 0.1415559608415018\n",
      "144: BedroomAbvGr: 6\n",
      "291: BedroomAbvGr: 6\n",
      "330: BedroomAbvGr: 6\n",
      "570: BedroomAbvGr: 6\n",
      "843: BedroomAbvGr: 6\n",
      "897: BedroomAbvGr: 6\n",
      "1350: BedroomAbvGr: 6\n",
      "\n",
      "KitchenQual\n",
      "Mean: 3.501771793054571, STD: 0.6516457999510722\n",
      "Upper: 5.782532092883324\n",
      "lower: 1.2210114932258183\n",
      "\n",
      "GarageFinish\n",
      "Mean: 1.7618710134656272, STD: 0.8060008361594098\n",
      "Upper: 4.582873940023561\n",
      "lower: -1.0591319130923071\n",
      "\n",
      "GarageArea\n",
      "Mean: 494.9692883895131, STD: 182.02896482044048\n",
      "Upper: 1132.0706652610547\n",
      "lower: -142.13208848202856\n",
      "178: GarageArea: 1166.0\n",
      "581: GarageArea: 1390.0\n",
      "664: GarageArea: 1134.0\n",
      "825: GarageArea: 1220.0\n",
      "1061: GarageArea: 1248.0\n",
      "1190: GarageArea: 1356.0\n",
      "\n",
      "WoodDeckSF\n",
      "Mean: 190.74024024024024, STD: 105.87407800460717\n",
      "Upper: 561.2995132563653\n",
      "lower: -179.81903277588484\n",
      "64: WoodDeckSF: 576\n",
      "169: WoodDeckSF: 574\n",
      "1068: WoodDeckSF: 728\n",
      "1210: WoodDeckSF: 635\n",
      "1313: WoodDeckSF: 668\n",
      "1423: WoodDeckSF: 586\n",
      "1459: WoodDeckSF: 736\n",
      "\n",
      "OpenPorchSF\n",
      "Mean: 83.7782152230971, STD: 67.8004678501558\n",
      "Upper: 321.0798526986424\n",
      "lower: -153.5234222524482\n",
      "495: OpenPorchSF: 523\n",
      "583: OpenPorchSF: 502\n",
      "735: OpenPorchSF: 341\n",
      "854: OpenPorchSF: 418\n",
      "875: OpenPorchSF: 364\n",
      "1328: OpenPorchSF: 547\n",
      "\n",
      "EnclosedPorch\n",
      "Mean: 154.7058823529412, STD: 75.90408625400252\n",
      "Upper: 420.37018424195\n",
      "lower: -110.95841953606762\n",
      "197: EnclosedPorch: 552\n",
      "\n",
      "3SsnPorch\n",
      "Mean: 207.41666666666666, STD: 101.82504888145229\n",
      "Upper: 563.8043377517497\n",
      "lower: -148.97100441841636\n",
      "\n",
      "ScreenPorch\n",
      "Mean: 184.1851851851852, STD: 71.32892718411243\n",
      "Upper: 433.83643032957866\n",
      "lower: -65.46605995920831\n",
      "1386: ScreenPorch: 440\n",
      "\n",
      "PoolArea\n",
      "Mean: 612.0, STD: 50.91168824543142\n",
      "Upper: 790.1909088590099\n",
      "lower: 433.80909114099006\n",
      "\n",
      "PoolQC\n",
      "Mean: 3.0, STD: 1.4142135623730951\n",
      "Upper: 7.949747468305833\n",
      "lower: -1.9497474683058327\n",
      "\n",
      "MiscVal\n",
      "Mean: 1264.8695652173913, STD: 2502.201009855085\n",
      "Upper: 10022.57309971019\n",
      "lower: -7492.833969275406\n",
      "346: MiscVal: 15500\n",
      "\n",
      "MoSold\n",
      "Mean: 6.336213102951763, STD: 2.699662226833657\n",
      "Upper: 15.785030896869564\n",
      "lower: -3.1126046909660374\n",
      "\n",
      "YrSold\n",
      "Mean: 2007.8236141108712, STD: 1.3301495704621813\n",
      "Upper: 2012.4791376074888\n",
      "lower: 2003.1680906142535\n",
      "\n",
      "Total Removed Rows: 71\n"
     ]
    }
   ],
   "source": [
    "# Let's deal with outliers before scaling.\n",
    "\n",
    "numerics_to_screen = n_cols.copy()\n",
    "\n",
    "not_relevant = ['Functional', 'KitchenAbvGr', 'PavedDrive', 'FireplaceQu', 'BsmtHalfBath', \\\n",
    "                'CentralAir', 'YearBuilt', 'YearRemodAdd', 'OverallCond', 'MSSubClass', 'set', \\\n",
    "                    'LotFrontage', 'GarageQual', 'GarageCond', 'Fireplaces', 'HalfBath', \\\n",
    "                        'BsmtFullBath', 'BsmtFinType2', 'BsmtCond', 'ExterCond', 'LotShape']\n",
    "\n",
    "for irrelevance in not_relevant :\n",
    "    numerics_to_screen.remove(irrelevance)\n",
    "\n",
    "count = 0\n",
    "\n",
    "for col in numerics_to_screen :\n",
    "    \n",
    "    nonzero_std = total_set[(total_set['set']=='train') & (total_set[col]!=0)][col].std()\n",
    "    nonzero_mean = total_set[(total_set['set']=='train') & (total_set[col]!=0)][col].mean()\n",
    "    upper_bound = nonzero_mean + 3.5*nonzero_std\n",
    "    lower_bound = nonzero_mean - 3.5*nonzero_std\n",
    "    print(f'\\n{col}\\nMean: {nonzero_mean}, STD: {nonzero_std}\\nUpper: {upper_bound}\\nlower: {lower_bound}')\n",
    "\n",
    "    for index, row in total_set[total_set['set']=='train'].iterrows() :\n",
    "        if (row[col] > upper_bound or row[col] < lower_bound) and row[col]!=0 :\n",
    "            print(f'{index}: {col}: {total_set.loc[index, col]}')\n",
    "            total_set.drop(index, axis=0, inplace=True)\n",
    "            count+=1\n",
    "\n",
    "print(f'\\nTotal Removed Rows: {count}')"
   ]
  },
  {
   "cell_type": "markdown",
   "metadata": {},
   "source": [
    "And now, to scale."
   ]
  },
  {
   "cell_type": "code",
   "execution_count": 34,
   "metadata": {},
   "outputs": [],
   "source": [
    "scaler = StandardScaler()\n",
    "\n",
    "numerics = n_cols.copy()\n",
    "\n",
    "numerics.pop(-1)\n",
    "\n",
    "for col in numerics :\n",
    "    # Only fit the scaler to the training set.\n",
    "    scaler.fit(total_set[total_set['set']=='train'][[col]])\n",
    "    # Use the fit scaler to transform both sets.\n",
    "    total_set[col] = scaler.transform(total_set[[col]])"
   ]
  },
  {
   "cell_type": "markdown",
   "metadata": {},
   "source": [
    "Step 3: Train Test Split\n",
    "--"
   ]
  },
  {
   "cell_type": "code",
   "execution_count": 35,
   "metadata": {},
   "outputs": [],
   "source": [
    "train_set = total_set[total_set['set']=='train']\n",
    "\n",
    "train_set.drop(columns=['set'], inplace=True)\n",
    "\n",
    "X = train_set.drop(columns=['SalePrice'])\n",
    "y = train_set['SalePrice']"
   ]
  },
  {
   "cell_type": "code",
   "execution_count": 36,
   "metadata": {},
   "outputs": [],
   "source": [
    "X_train, X_test, y_train, y_test = train_test_split(X, y, test_size=0.2, random_state=42)"
   ]
  },
  {
   "cell_type": "markdown",
   "metadata": {},
   "source": [
    "Step 4: Save and Quit\n",
    "--"
   ]
  },
  {
   "cell_type": "code",
   "execution_count": 37,
   "metadata": {},
   "outputs": [],
   "source": [
    "total_set.to_json('../data/Step 3 - Total Set.json', orient='records')\n",
    "X.to_json('../data/Step 3 - X.json', orient='records')\n",
    "y.to_json('../data/Step 3 - y.json', orient='records')\n",
    "X_train.to_json('../data/Step3 - X_train.json', orient='records')\n",
    "X_test.to_json('../data/Step3 - X_test.json', orient='records')\n",
    "y_train.to_json('../data/Step3 - y_train.json', orient='records')\n",
    "y_test.to_json('../data/Step3 - y_test.json', orient='records')"
   ]
  }
 ],
 "metadata": {
  "kernelspec": {
   "display_name": "base",
   "language": "python",
   "name": "python3"
  },
  "language_info": {
   "codemirror_mode": {
    "name": "ipython",
    "version": 3
   },
   "file_extension": ".py",
   "mimetype": "text/x-python",
   "name": "python",
   "nbconvert_exporter": "python",
   "pygments_lexer": "ipython3",
   "version": "3.10.13"
  }
 },
 "nbformat": 4,
 "nbformat_minor": 2
}
