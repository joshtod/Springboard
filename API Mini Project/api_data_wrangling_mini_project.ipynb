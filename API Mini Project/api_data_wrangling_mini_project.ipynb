{
 "cells": [
  {
   "cell_type": "markdown",
   "metadata": {},
   "source": [
    "This exercise will require you to pull some data from https://data.nasdaq.com/ (formerly Quandl API)."
   ]
  },
  {
   "cell_type": "markdown",
   "metadata": {},
   "source": [
    "As a first step, you will need to register a free account on the https://data.nasdaq.com/ website."
   ]
  },
  {
   "cell_type": "markdown",
   "metadata": {},
   "source": [
    "After you register, you will be provided with a unique API key, that you should store:\n",
    "\n",
    "*Note*: Use a `.env` file and put your key in there and `python-dotenv` to access it in this notebook. \n",
    "\n",
    "The code below uses a key that was used when generating this project but has since been deleted. Never submit your keys to source control. There is a `.env-example` file in this repository to illusrtate what you need. Copy that to a file called `.env` and use your own api key in that `.env` file. Make sure you also have a `.gitignore` file with a line for `.env` added to it. \n",
    "\n",
    "The standard Python gitignore is [here](https://github.com/github/gitignore/blob/master/Python.gitignore) you can just copy that. "
   ]
  },
  {
   "cell_type": "code",
   "execution_count": 45,
   "metadata": {},
   "outputs": [],
   "source": [
    "# get api key from your .env file\n",
    "import os\n",
    "from dotenv import load_dotenv\n",
    "\n",
    "load_dotenv()\n",
    "API_KEY = os.getenv('NASDAQ_API_KEY')\n",
    "\n",
    "# This step has been commented out to protect my privacy.\n",
    "# print(API_KEY)"
   ]
  },
  {
   "cell_type": "markdown",
   "metadata": {},
   "source": [
    "Nasdaq Data has a large number of data sources, but, unfortunately, most of them require a Premium subscription. Still, there are also a good number of free datasets."
   ]
  },
  {
   "cell_type": "markdown",
   "metadata": {},
   "source": [
    "For this mini project, we will focus on equities data from the Frankfurt Stock Exhange (FSE), which is available for free. We'll try and analyze the stock prices of a company called Carl Zeiss Meditec, which manufactures tools for eye examinations, as well as medical lasers for laser eye surgery: https://www.zeiss.com/meditec/int/home.html. The company is listed under the stock ticker AFX_X."
   ]
  },
  {
   "cell_type": "markdown",
   "metadata": {},
   "source": [
    "You can find the detailed Nasdaq Data API instructions here: https://docs.data.nasdaq.com/docs/in-depth-usage"
   ]
  },
  {
   "cell_type": "markdown",
   "metadata": {},
   "source": [
    "While there is a dedicated Python package for connecting to the Nasdaq API, we would prefer that you use the *requests* package, which can be easily downloaded using *pip* or *conda*. You can find the documentation for the package here: http://docs.python-requests.org/en/master/ "
   ]
  },
  {
   "cell_type": "markdown",
   "metadata": {},
   "source": [
    "Finally, apart from the *requests* package, you are encouraged to not use any third party Python packages, such as *pandas*, and instead focus on what's available in the Python Standard Library (the *collections* module might come in handy: https://pymotw.com/3/collections/).\n",
    "Also, since you won't have access to DataFrames, you are encouraged to us Python's native data structures - preferably dictionaries, though some questions can also be answered using lists.\n",
    "You can read more on these data structures here: https://docs.python.org/3/tutorial/datastructures.html"
   ]
  },
  {
   "cell_type": "markdown",
   "metadata": {},
   "source": [
    "Keep in mind that the JSON responses you will be getting from the API map almost one-to-one to Python's dictionaries. Unfortunately, they can be very nested, so make sure you read up on indexing dictionaries in the documentation provided above."
   ]
  },
  {
   "cell_type": "code",
   "execution_count": 46,
   "metadata": {},
   "outputs": [],
   "source": [
    "# First, import the relevant modules\n",
    "import requests\n",
    "import collections\n",
    "import json"
   ]
  },
  {
   "cell_type": "markdown",
   "metadata": {},
   "source": [
    "Note: API's can change a bit with each version, for this exercise it is reccomended to use the nasdaq api at `https://data.nasdaq.com/api/v3/`. This is the same api as what used to be quandl so `https://www.quandl.com/api/v3/` should work too.\n",
    "\n",
    "Hint: We are looking for the `AFX_X` data on the `datasets/FSE/` dataset."
   ]
  },
  {
   "cell_type": "code",
   "execution_count": 47,
   "metadata": {},
   "outputs": [],
   "source": [
    "# Now, call the Nasdaq API and pull out a small sample of the data (only one day) to get a glimpse\n",
    "# into the JSON structure that will be returned\n",
    "url = \"https://data.nasdaq.com/api/v3/datasets/FSE/AFX_X/data.json\"\n",
    "params = dict(start_date='2014-04-29', end_date='2014-04-30', api_key=API_KEY)\n",
    "res = requests.get(url, params)\n",
    "my_json = res.json()"
   ]
  },
  {
   "cell_type": "code",
   "execution_count": 48,
   "metadata": {},
   "outputs": [
    {
     "name": "stdout",
     "output_type": "stream",
     "text": [
      "{\n",
      " \"dataset_data\": {\n",
      "  \"limit\": null,\n",
      "  \"transform\": null,\n",
      "  \"column_index\": null,\n",
      "  \"column_names\": [\n",
      "   \"Date\",\n",
      "   \"Open\",\n",
      "   \"High\",\n",
      "   \"Low\",\n",
      "   \"Close\",\n",
      "   \"Change\",\n",
      "   \"Traded Volume\",\n",
      "   \"Turnover\",\n",
      "   \"Last Price of the Day\",\n",
      "   \"Daily Traded Units\",\n",
      "   \"Daily Turnover\"\n",
      "  ],\n",
      "  \"start_date\": \"2014-04-29\",\n",
      "  \"end_date\": \"2014-04-30\",\n",
      "  \"frequency\": \"daily\",\n",
      "  \"data\": [\n",
      "   [\n",
      "    \"2014-04-30\",\n",
      "    21.9,\n",
      "    22.04,\n",
      "    21.84,\n",
      "    21.93,\n",
      "    null,\n",
      "    34827.0,\n",
      "    765135.0,\n",
      "    null,\n",
      "    null,\n",
      "    null\n",
      "   ],\n",
      "   [\n",
      "    \"2014-04-29\",\n",
      "    21.94,\n",
      "    22.29,\n",
      "    21.94,\n",
      "    22.13,\n",
      "    null,\n",
      "    41050.0,\n",
      "    909259.0,\n",
      "    null,\n",
      "    null,\n",
      "    null\n",
      "   ]\n",
      "  ],\n",
      "  \"collapse\": null,\n",
      "  \"order\": null\n",
      " }\n",
      "}\n"
     ]
    }
   ],
   "source": [
    "# Inspect the JSON structure of the object you created, and take note of how nested it is,\n",
    "# as well as the overall structure\n",
    "print(json.dumps(my_json, indent=1))"
   ]
  },
  {
   "cell_type": "markdown",
   "metadata": {},
   "source": [
    "These are your tasks for this mini project:\n",
    "\n",
    "1. Collect data from the Franfurt Stock Exchange, for the ticker AFX_X, for the whole year 2017 (keep in mind that the date format is YYYY-MM-DD).\n",
    "2. Convert the returned JSON object into a Python dictionary.\n",
    "3. Calculate what the highest and lowest opening prices were for the stock in this period.\n",
    "4. What was the largest change in any one day (based on High and Low price)?\n",
    "5. What was the largest change between any two days (based on Closing Price)?\n",
    "6. What was the average daily trading volume during this year?\n",
    "7. (Optional) What was the median trading volume during this year. (Note: you may need to implement your own function for calculating the median.)"
   ]
  },
  {
   "cell_type": "code",
   "execution_count": 49,
   "metadata": {},
   "outputs": [],
   "source": [
    "# 1 & 2. In this cell, we will collect the data and make it a dictionary.\n",
    "\n",
    "# Specity our desired dates.\n",
    "our_start_date = '2017-01-01'\n",
    "our_end_date = '2017-12-31'\n",
    "\n",
    "# Package them, along with our API key, as parameters to use in the API request.\n",
    "params = dict(start_date=our_start_date, end_date=our_end_date, api_key=API_KEY)\n",
    "\n",
    "# Make the API request with the URL we saved above and our current parameters.\n",
    "res = requests.get(url, params)\n",
    "\n",
    "# Get the JSON we need.\n",
    "my_json = res.json()\n",
    "\n",
    "# Dictify it.\n",
    "my_dict = dict(my_json)"
   ]
  },
  {
   "cell_type": "code",
   "execution_count": 50,
   "metadata": {},
   "outputs": [
    {
     "name": "stdout",
     "output_type": "stream",
     "text": [
      "The highest opening price in 2017 was 53.11\n",
      "The lowest opening price in 2017 was 34.0\n"
     ]
    }
   ],
   "source": [
    "# 3. In this cell, we find the highest and lowest opening prices of 2017.\n",
    "\n",
    "# Make blank lists to store all opening prices in chron order.\n",
    "opening_prices = []\n",
    "\n",
    "# Iterate through the object and store the values in the list.\n",
    "# To prevent missing values, and also to preserve the order & \n",
    "# length of the list, we'll impute the 'None' values by replacing\n",
    "# them with the next valid day's opening price.\n",
    "# The \"opening price\" is in index position 1 of the dict value's list.\n",
    "for i in my_dict['dataset_data']['data'] :\n",
    "    if i[1] :\n",
    "        opening_prices.append(i[1])\n",
    "    else :\n",
    "        opening_prices.append(opening_prices[-1])\n",
    "\n",
    "# Find the max and min.\n",
    "highest_opening_price = max(opening_prices)\n",
    "lowest_opening_price = min(opening_prices)\n",
    "\n",
    "print(\"The highest opening price in 2017 was \"+str(highest_opening_price))\n",
    "print(\"The lowest opening price in 2017 was \"+str(lowest_opening_price))"
   ]
  },
  {
   "cell_type": "code",
   "execution_count": 51,
   "metadata": {},
   "outputs": [
    {
     "name": "stdout",
     "output_type": "stream",
     "text": [
      "The highest single-day change in 2017 was 2.81\n"
     ]
    }
   ],
   "source": [
    "# 4. In this cell, we find the largest single day change in 2017.\n",
    "\n",
    "# We must compare the High values to the Low values, so let's make\n",
    "# lists for them.\n",
    "high_values = []\n",
    "low_values = []\n",
    "\n",
    "# Iterate over the object to input the values.\n",
    "# The daily high is in index position 2.\n",
    "# The daily low is in index position 3.\n",
    "# Since we haven't been asked to say which day the value occurred,\n",
    "# we can impute using the same method as above (replacing None values\n",
    "# with the previous non-None day's values).\n",
    "for i in my_dict['dataset_data']['data'] :\n",
    "    if i[2] :\n",
    "        high_values.append(i[2])\n",
    "    else :\n",
    "        high_values.append(high_values[-1])\n",
    "    if i[3] :\n",
    "        low_values.append(i[3])\n",
    "    else:\n",
    "        low_values.append(low_values[-1])\n",
    "\n",
    "# Find the difference between each day in order, storing them in a list.\n",
    "# Since we can't use numpy, we'll have to iterate again.\n",
    "differences = []\n",
    "for h, l in zip(high_values, low_values) :\n",
    "    difference = h - l\n",
    "    differences.append(difference)\n",
    "\n",
    "# To find the highest change, we'll make a list of the absolute values\n",
    "# of the differences and use that list to find the location of the\n",
    "# biggest difference in the +- list, then print that value as the answer.\n",
    "abs_differences = []\n",
    "for i in differences :\n",
    "    abs_differences.append(abs(i))\n",
    "\n",
    "# Find the index of the biggest value.\n",
    "biggest_change_index = abs_differences.index(max(abs_differences))\n",
    "\n",
    "# Store the corresponding value in a variable.\n",
    "biggest_change = differences[biggest_change_index]\n",
    "\n",
    "# Round to 2 decimal places, like the original data.\n",
    "biggest_change_rounded = round(biggest_change, 2)\n",
    "\n",
    "print(\"The highest single-day change in 2017 was \"+str(biggest_change_rounded))"
   ]
  },
  {
   "cell_type": "code",
   "execution_count": 52,
   "metadata": {},
   "outputs": [
    {
     "name": "stdout",
     "output_type": "stream",
     "text": [
      "The largest change between any two days in 2017 was 15.96\n"
     ]
    }
   ],
   "source": [
    "# 5. In this cell, we'll find the largest change between any two days as\n",
    "# calculated by the difference of the closing prices.\n",
    "\n",
    "# Let's make a list to store those prices.\n",
    "closing_prices = []\n",
    "\n",
    "# Now, get the values.\n",
    "# Looping and inputing as before.\n",
    "# The closing prices are at index position 4.\n",
    "for i in my_dict['dataset_data']['data'] :\n",
    "    if i[4] :\n",
    "        closing_prices.append(i[4])\n",
    "    else :\n",
    "        closing_prices.append(closing_prices[-1])\n",
    "\n",
    "# Now we'll make a new list of the differences between consecutive values.\n",
    "closing_differences = []\n",
    "for i in range(len(closing_prices)) :\n",
    "    if i < len(closing_prices) :\n",
    "        closing_differences.append(closing_prices[i] - closing_prices[i-1])\n",
    "\n",
    "# Again with the absolute values...\n",
    "abs_closing_differences = []\n",
    "for i in closing_differences :\n",
    "    abs_closing_differences.append(abs(i))\n",
    "\n",
    "biggest_value_index = abs_closing_differences.index(max(abs_closing_differences))\n",
    "\n",
    "biggest_value = closing_differences[biggest_value_index]\n",
    "\n",
    "biggest_value_rounded = round(biggest_value, 2)\n",
    "\n",
    "print(\"The largest change between any two days in 2017 was \"+str(biggest_value_rounded))"
   ]
  },
  {
   "cell_type": "code",
   "execution_count": 53,
   "metadata": {},
   "outputs": [
    {
     "name": "stdout",
     "output_type": "stream",
     "text": [
      "The average daily trading volume in 2017 was 89124.34\n"
     ]
    }
   ],
   "source": [
    "# 6. In this cell, we will calculate the average daily trading volume for the year.\n",
    "trading_volumes = []\n",
    "\n",
    "# Get 'em.\n",
    "# This time we won't impute the missing values. We'll just drop them.\n",
    "# This will prevent skewing the mean, and order/length could not conceivably\n",
    "# matter for any future uses of these lists.\n",
    "# Trading volumes are in index position 6.\n",
    "for i in my_dict['dataset_data']['data'] :\n",
    "    if i[4] :\n",
    "        trading_volumes.append(i[6])\n",
    "\n",
    "# Now we just average them and round for readability.\n",
    "trading_volume_avg = sum(trading_volumes) / len(trading_volumes)\n",
    "trading_volume_avg_rounded = round(trading_volume_avg, 2)\n",
    "\n",
    "print('The average daily trading volume in 2017 was '+str(trading_volume_avg_rounded))"
   ]
  },
  {
   "cell_type": "code",
   "execution_count": 54,
   "metadata": {},
   "outputs": [
    {
     "name": "stdout",
     "output_type": "stream",
     "text": [
      "The median daily trading volume in 2017 was 76286.0\n"
     ]
    }
   ],
   "source": [
    "# 7. In this cell, we will find the median daily trading volume.\n",
    "\n",
    "# We'll just order the list we created in the previous cell,\n",
    "# then either choose the middle value or average the two middle\n",
    "# values.\n",
    "\n",
    "trading_volumes_sorted = sorted(trading_volumes)\n",
    "length = len(trading_volumes_sorted)\n",
    "\n",
    "# Determing if the number of values is even or odd, then calculate\n",
    "# the median accordingly.\n",
    "if length % 2 == 0 :\n",
    "    upper_index = int((length / 2) + 0.5)\n",
    "    lower_index = int((length / 2) - 0.5)\n",
    "    median_value = (trading_volumes_sorted[upper_index] - trading_volumes_sorted[lower_index]) / 2\n",
    "else :\n",
    "    median = trading_volumes_sorted[int(length/2)]\n",
    "\n",
    "print(\"The median daily trading volume in 2017 was \"+str(median))"
   ]
  }
 ],
 "metadata": {
  "interpreter": {
   "hash": "7635eb1b9d0fe97add78a7368b6b431c09bb8ad5c42e437d64abdd99821c31ae"
  },
  "kernelspec": {
   "display_name": "Python 3.8.1 64-bit ('dsc_v5_solutions-7Q1D_Dt-': venv)",
   "name": "python3"
  },
  "language_info": {
   "codemirror_mode": {
    "name": "ipython",
    "version": 3
   },
   "file_extension": ".py",
   "mimetype": "text/x-python",
   "name": "python",
   "nbconvert_exporter": "python",
   "pygments_lexer": "ipython3",
   "version": "3.10.9"
  }
 },
 "nbformat": 4,
 "nbformat_minor": 4
}
