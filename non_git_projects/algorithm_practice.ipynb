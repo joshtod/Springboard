{
 "cells": [
  {
   "cell_type": "code",
   "execution_count": 1,
   "metadata": {},
   "outputs": [],
   "source": [
    "import numpy as np"
   ]
  },
  {
   "cell_type": "markdown",
   "metadata": {},
   "source": [
    "## Sorts"
   ]
  },
  {
   "cell_type": "markdown",
   "metadata": {},
   "source": [
    "Selection sort  \n",
    "Theta(n^2)"
   ]
  },
  {
   "cell_type": "code",
   "execution_count": null,
   "metadata": {},
   "outputs": [],
   "source": []
  },
  {
   "cell_type": "markdown",
   "metadata": {},
   "source": [
    "Insertion sort  \n",
    "Theta(n^2)  \n",
    "Omega(n)"
   ]
  },
  {
   "cell_type": "code",
   "execution_count": null,
   "metadata": {},
   "outputs": [],
   "source": []
  },
  {
   "cell_type": "markdown",
   "metadata": {},
   "source": [
    "Merge sort  \n",
    "Theta(n log(n))"
   ]
  },
  {
   "cell_type": "code",
   "execution_count": 1,
   "metadata": {},
   "outputs": [
    {
     "name": "stdout",
     "output_type": "stream",
     "text": [
      "Original array: [12, 11, 13, 5, 6, 7]\n",
      "Sorted array: [5, 6, 7, 11, 12, 13]\n"
     ]
    }
   ],
   "source": [
    "def merge_sort(arr):\n",
    "    if len(arr) > 1:\n",
    "        mid = len(arr) // 2  # Find the middle of the array\n",
    "        left = arr[:mid]  # Divide the array into two halves\n",
    "        right = arr[mid:]\n",
    "\n",
    "        merge_sort(left)  # Recursively sort the left half\n",
    "        merge_sort(right)  # Recursively sort the right half\n",
    "\n",
    "        # Merge the sorted halves\n",
    "        i = j = k = 0\n",
    "        while i < len(left) and j < len(right):\n",
    "            if left[i] < right[j]:\n",
    "                arr[k] = left[i]\n",
    "                i += 1\n",
    "            else:\n",
    "                arr[k] = right[j]\n",
    "                j += 1\n",
    "            k += 1\n",
    "\n",
    "        # Check for any remaining elements in the left half\n",
    "        while i < len(left):\n",
    "            arr[k] = left[i]\n",
    "            i += 1\n",
    "            k += 1\n",
    "\n",
    "        # Check for any remaining elements in the right half\n",
    "        while j < len(right):\n",
    "            arr[k] = right[j]\n",
    "            j += 1\n",
    "            k += 1\n",
    "\n",
    "# Example usage:\n",
    "arr = [12, 11, 13, 5, 6, 7]\n",
    "print(\"Original array:\", arr)\n",
    "merge_sort(arr)\n",
    "print(\"Sorted array:\", arr)\n"
   ]
  },
  {
   "cell_type": "markdown",
   "metadata": {},
   "source": [
    "Quicksort  \n",
    "O(n^2), theta(n log(n))"
   ]
  },
  {
   "cell_type": "code",
   "execution_count": null,
   "metadata": {},
   "outputs": [
    {
     "ename": "",
     "evalue": "",
     "output_type": "error",
     "traceback": [
      "\u001b[1;31mThe Kernel crashed while executing code in the current cell or a previous cell. \n",
      "\u001b[1;31mPlease review the code in the cell(s) to identify a possible cause of the failure. \n",
      "\u001b[1;31mClick <a href='https://aka.ms/vscodeJupyterKernelCrash'>here</a> for more info. \n",
      "\u001b[1;31mView Jupyter <a href='command:jupyter.viewOutput'>log</a> for further details."
     ]
    }
   ],
   "source": [
    "def quicksorter(arr) :\n",
    "    print(\"Starting one\")\n",
    "    if len(arr) < 2 :\n",
    "        return arr\n",
    "    else :\n",
    "        pivot = arr[0]\n",
    "        lessthan = [x for x in arr[1:] if x <= pivot]\n",
    "        morethan = [x for x in arr[1:] if x > pivot]\n",
    "        return quicksorter(lessthan) + [pivot] + quicksorter(morethan)"
   ]
  },
  {
   "cell_type": "markdown",
   "metadata": {},
   "source": [
    "# Recursion"
   ]
  },
  {
   "cell_type": "markdown",
   "metadata": {},
   "source": [
    "Factorial"
   ]
  },
  {
   "cell_type": "code",
   "execution_count": 4,
   "metadata": {},
   "outputs": [
    {
     "data": {
      "text/plain": [
       "120"
      ]
     },
     "execution_count": 4,
     "metadata": {},
     "output_type": "execute_result"
    }
   ],
   "source": [
    "def factorial(n) :\n",
    "    if n == 1 or n==0 :\n",
    "        return 1\n",
    "    else :\n",
    "        return n*factorial(n-1)\n",
    "\n",
    "factorial(5)"
   ]
  },
  {
   "cell_type": "code",
   "execution_count": 47,
   "metadata": {},
   "outputs": [
    {
     "data": {
      "text/plain": [
       "93326215443944152681699238856266700490715968264381621468592963895217599993229915608941463976156518286253697920827223758251185210916864000000000000000000000000"
      ]
     },
     "execution_count": 47,
     "metadata": {},
     "output_type": "execute_result"
    }
   ],
   "source": [
    "# Memoized version\n",
    "\n",
    "def memo_fac(n) :\n",
    "\n",
    "    global memo\n",
    "    if \"memo\" not in globals() :\n",
    "        memo = {}\n",
    "    \n",
    "    if n in memo.keys() :\n",
    "        return memo[n]\n",
    "\n",
    "    if n == 1 or n==0 :\n",
    "        return 1\n",
    "    else :\n",
    "        memo[n] = n * memo_fac(n-1)\n",
    "        return memo[n]\n",
    "\n",
    "memo_fac(100)"
   ]
  },
  {
   "cell_type": "markdown",
   "metadata": {},
   "source": [
    "Palindrome"
   ]
  },
  {
   "cell_type": "code",
   "execution_count": 19,
   "metadata": {},
   "outputs": [
    {
     "data": {
      "text/plain": [
       "True"
      ]
     },
     "execution_count": 19,
     "metadata": {},
     "output_type": "execute_result"
    }
   ],
   "source": [
    "def palindrome(string) :\n",
    "    if type(string) != str :\n",
    "        return print(\"Argument must be str.\")\n",
    "    if len(string) == 1 :\n",
    "        return True\n",
    "    if (len(string)==2) and (string[0]==string[-1]) :\n",
    "        return True\n",
    "    if string[0] == string[-1] :\n",
    "        return palindrome(string[1:-1])\n",
    "    else :\n",
    "        return False\n",
    "    return True\n",
    "\n",
    "palindrome(\"ooooooooooo\")"
   ]
  },
  {
   "cell_type": "markdown",
   "metadata": {},
   "source": [
    "Powers"
   ]
  },
  {
   "cell_type": "code",
   "execution_count": 22,
   "metadata": {},
   "outputs": [
    {
     "data": {
      "text/plain": [
       "1000"
      ]
     },
     "execution_count": 22,
     "metadata": {},
     "output_type": "execute_result"
    }
   ],
   "source": [
    "def powers(x, y) :\n",
    "    if y == 0 :\n",
    "        return 1\n",
    "    else :\n",
    "        return x * powers(x, y-1)\n",
    "\n",
    "powers(10, 3)"
   ]
  },
  {
   "cell_type": "markdown",
   "metadata": {},
   "source": [
    "## Towers of Hanoi"
   ]
  },
  {
   "cell_type": "code",
   "execution_count": 3,
   "metadata": {},
   "outputs": [
    {
     "name": "stdout",
     "output_type": "stream",
     "text": [
      "Move disk 1 from A to C\n",
      "Move disk 2 from A to B\n",
      "Move disk 1 from C to B\n",
      "Move disk 3 from A to C\n",
      "Move disk 1 from B to A\n",
      "Move disk 2 from B to C\n",
      "Move disk 1 from A to C\n",
      "Move disk 4 from A to B\n",
      "Move disk 1 from C to B\n",
      "Move disk 2 from C to A\n",
      "Move disk 1 from B to A\n",
      "Move disk 3 from C to B\n",
      "Move disk 1 from A to C\n",
      "Move disk 2 from A to B\n",
      "Move disk 1 from C to B\n",
      "Move disk 5 from A to C\n",
      "Move disk 1 from B to A\n",
      "Move disk 2 from B to C\n",
      "Move disk 1 from A to C\n",
      "Move disk 3 from B to A\n",
      "Move disk 1 from C to B\n",
      "Move disk 2 from C to A\n",
      "Move disk 1 from B to A\n",
      "Move disk 4 from B to C\n",
      "Move disk 1 from A to C\n",
      "Move disk 2 from A to B\n",
      "Move disk 1 from C to B\n",
      "Move disk 3 from A to C\n",
      "Move disk 1 from B to A\n",
      "Move disk 2 from B to C\n",
      "Move disk 1 from A to C\n"
     ]
    }
   ],
   "source": [
    "def towers_of_hanoi(disks, source, target, auxiliary):\n",
    "    if disks == 1:\n",
    "        print(f\"Move disk 1 from {source} to {target}\")\n",
    "        return\n",
    "    towers_of_hanoi(disks-1, source, auxiliary, target)\n",
    "    print(f\"Move disk {disks} from {source} to {target}\")\n",
    "    towers_of_hanoi(disks-1, auxiliary, target, source)\n",
    "\n",
    "# Because we know what the last move must be\n",
    "towers_of_hanoi(5, 'A', 'C', 'B')"
   ]
  },
  {
   "cell_type": "markdown",
   "metadata": {},
   "source": [
    "## Graphs"
   ]
  },
  {
   "cell_type": "markdown",
   "metadata": {},
   "source": [
    "Directed/undirected, acyclic, weighted  \n",
    "  \n",
    "V = vertices  \n",
    "E = edges  \n",
    "  \n",
    "Vertices numbered from 0  \n",
    "\"Edge list\" as list of tuples (vertex indices)  \n",
    "\n",
    "Asymptotic notation as THETA(V)  \n",
    "\n",
    "Adjacency matrix: |V| x |V| matrix, with vals as edge weights (or 0-1)  \n",
    "\n",
    "Adjacency lists: like a dict, key=V, val=list of E partners"
   ]
  },
  {
   "cell_type": "code",
   "execution_count": null,
   "metadata": {},
   "outputs": [],
   "source": [
    "# Take an edge list and create an adjacency matrix"
   ]
  },
  {
   "cell_type": "code",
   "execution_count": 1,
   "metadata": {},
   "outputs": [],
   "source": [
    "# Take an edge list and create adjacency lists"
   ]
  },
  {
   "cell_type": "markdown",
   "metadata": {},
   "source": [
    "## Breadth-First Search"
   ]
  },
  {
   "cell_type": "markdown",
   "metadata": {},
   "source": [
    "Assigns two numbers to each vertex:  \n",
    "1. The shortest distance from an origin point\n",
    "2. The index of the vertex preceding it along that shortest distance  \n",
    "\n",
    "Use a QUEUE. First in, first out!"
   ]
  },
  {
   "cell_type": "code",
   "execution_count": 3,
   "metadata": {},
   "outputs": [
    {
     "name": "stdout",
     "output_type": "stream",
     "text": [
      "A\n",
      "B\n",
      "C\n",
      "D\n",
      "E\n",
      "F\n",
      "{'A': ('A', 0), 'B': ('A', 1), 'C': ('A', 1), 'D': ('B', 2), 'E': ('B', 2), 'F': ('E', 3)}\n"
     ]
    }
   ],
   "source": [
    "import queue\n",
    "\n",
    "def bfs(graph, start):\n",
    "    bfs_dict = {}\n",
    "    visited = set()  # Set to keep track of visited nodes\n",
    "    q = queue.Queue()  # Queue for BFS traversal\n",
    "    q.put(start)  # Enqueue the start node\n",
    "    bfs_dict[start] = (start, 0)\n",
    "\n",
    "    while not q.empty():\n",
    "        node = q.get()  # Dequeue a node from the queue\n",
    "        if node not in visited:\n",
    "            visited.add(node)  # Mark the node as visited\n",
    "            # Enqueue all adjacent nodes that have not been visited\n",
    "            for neighbor in graph[node]:\n",
    "                if neighbor not in visited:\n",
    "                    q.put(neighbor)\n",
    "                    bfs_dict[neighbor] = (node, bfs_dict[node][1]+1)\n",
    "    \n",
    "    print(bfs_dict)\n",
    "\n",
    "# Example graph represented as an adjacency list\n",
    "graph = {\n",
    "    'A': ['B', 'C'],\n",
    "    'B': ['D', 'E'],\n",
    "    'C': ['F'],\n",
    "    'D': [],\n",
    "    'E': ['F'],\n",
    "    'F': []\n",
    "}\n",
    "\n",
    "# Perform BFS starting from node 'A'\n",
    "bfs(graph, 'A')"
   ]
  },
  {
   "cell_type": "markdown",
   "metadata": {},
   "source": [
    "## Implementing Stacks"
   ]
  },
  {
   "cell_type": "code",
   "execution_count": 5,
   "metadata": {},
   "outputs": [],
   "source": [
    "class Stack:\n",
    "    \"\"\"Stack implementation as a list\"\"\"\n",
    "\n",
    "    def __init__(self):\n",
    "        \"\"\"Create new stack\"\"\"\n",
    "        self._items = []\n",
    "\n",
    "    def is_empty(self):\n",
    "        \"\"\"Check if the stack is empty\"\"\"\n",
    "        return not bool(self._items)\n",
    "\n",
    "    def push(self, item):\n",
    "        \"\"\"Add an item to the stack\"\"\"\n",
    "        self._items.append(item)\n",
    "\n",
    "    def pop(self):\n",
    "        \"\"\"Remove an item from the stack\"\"\"\n",
    "        return self._items.pop()\n",
    "\n",
    "    def peek(self):\n",
    "        \"\"\"Get the value of the top item in the stack\"\"\"\n",
    "        return self._items[-1]\n",
    "\n",
    "    def size(self):\n",
    "        \"\"\"Get the number of items in the stack\"\"\"\n",
    "        return len(self._items)\n",
    "\n",
    "st = Stack()\n",
    "st.push(4)\n",
    "st._items"
   ]
  },
  {
   "cell_type": "code",
   "execution_count": 22,
   "metadata": {},
   "outputs": [
    {
     "data": {
      "text/plain": [
       "'Unclosed parenthesis at: [2, 3, 4, 5, 6, 7]'"
      ]
     },
     "execution_count": 22,
     "metadata": {},
     "output_type": "execute_result"
    }
   ],
   "source": [
    "# Stacky parenthesis counter\n",
    "\n",
    "def validate(stir) :\n",
    "    openers = []\n",
    "    finder = 0\n",
    "    for c in stir :\n",
    "        if c == \"(\" :\n",
    "            openers.append(finder)\n",
    "        if c == \")\" :\n",
    "            try :\n",
    "                openers.pop()\n",
    "            except :\n",
    "                return f\"Extra closer at: {finder}\"\n",
    "        finder += 1\n",
    "    if len(openers) != 0 :\n",
    "        return f\"Unclosed parenthesis at: {openers}\"\n",
    "    return \"Okey dokey\"\n",
    "\n",
    "validate(\"Hi((((((() haha\")"
   ]
  },
  {
   "cell_type": "code",
   "execution_count": 33,
   "metadata": {},
   "outputs": [
    {
     "data": {
      "text/plain": [
       "'10'"
      ]
     },
     "execution_count": 33,
     "metadata": {},
     "output_type": "execute_result"
    }
   ],
   "source": [
    "def basifier(num, base) :\n",
    "    binny = \"\"\n",
    "    while num > 0 :\n",
    "        rem = num % base\n",
    "        binny = str(rem) + binny\n",
    "        num = num // base\n",
    "    return binny\n",
    "\n",
    "basifier(26, 26)"
   ]
  }
 ],
 "metadata": {
  "kernelspec": {
   "display_name": "base",
   "language": "python",
   "name": "python3"
  },
  "language_info": {
   "codemirror_mode": {
    "name": "ipython",
    "version": 3
   },
   "file_extension": ".py",
   "mimetype": "text/x-python",
   "name": "python",
   "nbconvert_exporter": "python",
   "pygments_lexer": "ipython3",
   "version": "3.10.13"
  }
 },
 "nbformat": 4,
 "nbformat_minor": 2
}
