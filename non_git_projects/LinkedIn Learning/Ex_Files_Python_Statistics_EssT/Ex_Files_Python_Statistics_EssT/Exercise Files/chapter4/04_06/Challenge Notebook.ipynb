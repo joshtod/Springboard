{
 "cells": [
  {
   "cell_type": "code",
   "execution_count": 2,
   "metadata": {},
   "outputs": [],
   "source": [
    "import math\n",
    "import io\n",
    "\n",
    "import numpy as np\n",
    "import pandas as pd\n",
    "\n",
    "import matplotlib\n",
    "import matplotlib.pyplot as plt\n",
    "\n",
    "%matplotlib inline\n",
    "\n",
    "import scipy.stats\n",
    "import scipy.optimize\n",
    "import scipy.spatial"
   ]
  },
  {
   "cell_type": "code",
   "execution_count": 22,
   "metadata": {},
   "outputs": [
    {
     "data": {
      "text/html": [
       "<div>\n",
       "<style scoped>\n",
       "    .dataframe tbody tr th:only-of-type {\n",
       "        vertical-align: middle;\n",
       "    }\n",
       "\n",
       "    .dataframe tbody tr th {\n",
       "        vertical-align: top;\n",
       "    }\n",
       "\n",
       "    .dataframe thead th {\n",
       "        text-align: right;\n",
       "    }\n",
       "</style>\n",
       "<table border=\"1\" class=\"dataframe\">\n",
       "  <thead>\n",
       "    <tr style=\"text-align: right;\">\n",
       "      <th></th>\n",
       "      <th>grade</th>\n",
       "    </tr>\n",
       "  </thead>\n",
       "  <tbody>\n",
       "    <tr>\n",
       "      <th>0</th>\n",
       "      <td>3.648651</td>\n",
       "    </tr>\n",
       "    <tr>\n",
       "      <th>1</th>\n",
       "      <td>5.959915</td>\n",
       "    </tr>\n",
       "    <tr>\n",
       "      <th>2</th>\n",
       "      <td>7.387370</td>\n",
       "    </tr>\n",
       "    <tr>\n",
       "      <th>3</th>\n",
       "      <td>4.047515</td>\n",
       "    </tr>\n",
       "    <tr>\n",
       "      <th>4</th>\n",
       "      <td>2.846912</td>\n",
       "    </tr>\n",
       "    <tr>\n",
       "      <th>...</th>\n",
       "      <td>...</td>\n",
       "    </tr>\n",
       "    <tr>\n",
       "      <th>95</th>\n",
       "      <td>3.940691</td>\n",
       "    </tr>\n",
       "    <tr>\n",
       "      <th>96</th>\n",
       "      <td>9.120705</td>\n",
       "    </tr>\n",
       "    <tr>\n",
       "      <th>97</th>\n",
       "      <td>7.842357</td>\n",
       "    </tr>\n",
       "    <tr>\n",
       "      <th>98</th>\n",
       "      <td>3.920676</td>\n",
       "    </tr>\n",
       "    <tr>\n",
       "      <th>99</th>\n",
       "      <td>5.485459</td>\n",
       "    </tr>\n",
       "  </tbody>\n",
       "</table>\n",
       "<p>100 rows × 1 columns</p>\n",
       "</div>"
      ],
      "text/plain": [
       "       grade\n",
       "0   3.648651\n",
       "1   5.959915\n",
       "2   7.387370\n",
       "3   4.047515\n",
       "4   2.846912\n",
       "..       ...\n",
       "95  3.940691\n",
       "96  9.120705\n",
       "97  7.842357\n",
       "98  3.920676\n",
       "99  5.485459\n",
       "\n",
       "[100 rows x 1 columns]"
      ]
     },
     "execution_count": 22,
     "metadata": {},
     "output_type": "execute_result"
    }
   ],
   "source": [
    "observed_data = pd.read_csv('grades.csv')\n",
    "observed_data"
   ]
  },
  {
   "cell_type": "code",
   "execution_count": 53,
   "metadata": {},
   "outputs": [
    {
     "data": {
      "text/plain": [
       "0.57"
      ]
     },
     "execution_count": 53,
     "metadata": {},
     "output_type": "execute_result"
    }
   ],
   "source": [
    "pass_fail_series = pd.DataFrame({'pass_or_fail': np.where(observed_data.grade >= 5, 'pass', 'fail')}) \n",
    "observed_result_proportion = pass_fail_series.value_counts(normalize=True)\n",
    "observed_pass_proportion = observed_result_proportion[0]\n",
    "observed_pass_proportion"
   ]
  },
  {
   "cell_type": "code",
   "execution_count": 105,
   "metadata": {},
   "outputs": [],
   "source": [
    "def new_pass_proportion(test_pass_proportion, n=1000) :\n",
    "    return pd.DataFrame({'pass_or_fail': np.where(np.random.rand(n) < test_pass_proportion, 'pass', 'fail')})"
   ]
  },
  {
   "cell_type": "code",
   "execution_count": 106,
   "metadata": {},
   "outputs": [
    {
     "data": {
      "text/html": [
       "<div>\n",
       "<style scoped>\n",
       "    .dataframe tbody tr th:only-of-type {\n",
       "        vertical-align: middle;\n",
       "    }\n",
       "\n",
       "    .dataframe tbody tr th {\n",
       "        vertical-align: top;\n",
       "    }\n",
       "\n",
       "    .dataframe thead th {\n",
       "        text-align: right;\n",
       "    }\n",
       "</style>\n",
       "<table border=\"1\" class=\"dataframe\">\n",
       "  <thead>\n",
       "    <tr style=\"text-align: right;\">\n",
       "      <th></th>\n",
       "      <th>pass_or_fail</th>\n",
       "    </tr>\n",
       "  </thead>\n",
       "  <tbody>\n",
       "    <tr>\n",
       "      <th>0</th>\n",
       "      <td>pass</td>\n",
       "    </tr>\n",
       "    <tr>\n",
       "      <th>1</th>\n",
       "      <td>fail</td>\n",
       "    </tr>\n",
       "    <tr>\n",
       "      <th>2</th>\n",
       "      <td>pass</td>\n",
       "    </tr>\n",
       "    <tr>\n",
       "      <th>3</th>\n",
       "      <td>pass</td>\n",
       "    </tr>\n",
       "    <tr>\n",
       "      <th>4</th>\n",
       "      <td>pass</td>\n",
       "    </tr>\n",
       "    <tr>\n",
       "      <th>...</th>\n",
       "      <td>...</td>\n",
       "    </tr>\n",
       "    <tr>\n",
       "      <th>995</th>\n",
       "      <td>pass</td>\n",
       "    </tr>\n",
       "    <tr>\n",
       "      <th>996</th>\n",
       "      <td>pass</td>\n",
       "    </tr>\n",
       "    <tr>\n",
       "      <th>997</th>\n",
       "      <td>pass</td>\n",
       "    </tr>\n",
       "    <tr>\n",
       "      <th>998</th>\n",
       "      <td>fail</td>\n",
       "    </tr>\n",
       "    <tr>\n",
       "      <th>999</th>\n",
       "      <td>fail</td>\n",
       "    </tr>\n",
       "  </tbody>\n",
       "</table>\n",
       "<p>1000 rows × 1 columns</p>\n",
       "</div>"
      ],
      "text/plain": [
       "    pass_or_fail\n",
       "0           pass\n",
       "1           fail\n",
       "2           pass\n",
       "3           pass\n",
       "4           pass\n",
       "..           ...\n",
       "995         pass\n",
       "996         pass\n",
       "997         pass\n",
       "998         fail\n",
       "999         fail\n",
       "\n",
       "[1000 rows x 1 columns]"
      ]
     },
     "execution_count": 106,
     "metadata": {},
     "output_type": "execute_result"
    }
   ],
   "source": [
    "new_pass_proportion(observed_pass_proportion)"
   ]
  },
  {
   "cell_type": "code",
   "execution_count": 138,
   "metadata": {},
   "outputs": [],
   "source": [
    "def get_a_distribution(test_pass_proportion, sampling_times=5000, sample_size=10000) :\n",
    "    return pd.DataFrame([new_pass_proportion(test_pass_proportion).pass_or_fail.value_counts(normalize=True) for i in range(sampling_times)])"
   ]
  },
  {
   "cell_type": "code",
   "execution_count": 108,
   "metadata": {},
   "outputs": [
    {
     "data": {
      "text/plain": [
       "<Axes: >"
      ]
     },
     "execution_count": 108,
     "metadata": {},
     "output_type": "execute_result"
    },
    {
     "data": {
      "image/png": "[encoded data removed]",
      "text/plain": [
       "<Figure size 640x480 with 1 Axes>"
      ]
     },
     "metadata": {},
     "output_type": "display_data"
    }
   ],
   "source": [
    "get_a_distribution(observed_pass_proportion)['pass'].hist()"
   ]
  },
  {
   "cell_type": "code",
   "execution_count": 109,
   "metadata": {},
   "outputs": [
    {
     "name": "stdout",
     "output_type": "stream",
     "text": [
      "0.601\n",
      "0.54\n"
     ]
    }
   ],
   "source": [
    "print(get_a_distribution(observed_pass_proportion)['pass'].quantile(0.975))\n",
    "print(get_a_distribution(observed_pass_proportion)['pass'].quantile(0.025))"
   ]
  },
  {
   "cell_type": "code",
   "execution_count": 139,
   "metadata": {},
   "outputs": [],
   "source": [
    "def find_confidence_interval(target) :\n",
    "\n",
    "    difference = 0\n",
    "    upper_quantile_result = target + 1\n",
    "    while upper_quantile_result > target :\n",
    "        previous_test_value = target - difference\n",
    "        difference = difference + 0.001\n",
    "        current_test_value = target - difference\n",
    "        upper_quantile_result = get_a_distribution(current_test_value).quantile(0.975)[0]\n",
    "        print(\"Seeking lower: \"+str(round(target-difference, 3))+\": \"+str(round(upper_quantile_result, 3))+\" / \"+str(target))\n",
    "    lower_bound = (previous_test_value + current_test_value) / 2\n",
    "\n",
    "    difference = 0\n",
    "    lower_quantile_result = target - 1\n",
    "    while lower_quantile_result < target :\n",
    "        previous_test_value = target + difference\n",
    "        difference = difference + 0.001\n",
    "        current_test_value = target + difference\n",
    "        lower_quantile_result = get_a_distribution(current_test_value).quantile(0.025)[0]\n",
    "        print(\"Seeking upper: \"+str(round(target+difference, 3))+\": \"+str(round(lower_quantile_result, 3))+\" / \"+str(target))\n",
    "    upper_bound = (previous_test_value + current_test_value) / 2\n",
    "\n",
    "    return (lower_bound, upper_bound)\n"
   ]
  },
  {
   "cell_type": "code",
   "execution_count": 145,
   "metadata": {},
   "outputs": [
    {
     "name": "stdout",
     "output_type": "stream",
     "text": [
      "Seeking lower: 0.569: 0.6 / 0.57\n",
      "Seeking lower: 0.568: 0.597 / 0.57\n",
      "Seeking lower: 0.567: 0.597 / 0.57\n",
      "Seeking lower: 0.566: 0.598 / 0.57\n",
      "Seeking lower: 0.565: 0.595 / 0.57\n",
      "Seeking lower: 0.564: 0.596 / 0.57\n",
      "Seeking lower: 0.563: 0.593 / 0.57\n",
      "Seeking lower: 0.562: 0.592 / 0.57\n",
      "Seeking lower: 0.561: 0.592 / 0.57\n",
      "Seeking lower: 0.56: 0.59 / 0.57\n",
      "Seeking lower: 0.559: 0.591 / 0.57\n",
      "Seeking lower: 0.558: 0.589 / 0.57\n",
      "Seeking lower: 0.557: 0.587 / 0.57\n",
      "Seeking lower: 0.556: 0.586 / 0.57\n",
      "Seeking lower: 0.555: 0.586 / 0.57\n",
      "Seeking lower: 0.554: 0.585 / 0.57\n",
      "Seeking lower: 0.553: 0.584 / 0.57\n",
      "Seeking lower: 0.552: 0.582 / 0.57\n",
      "Seeking lower: 0.551: 0.581 / 0.57\n",
      "Seeking lower: 0.55: 0.581 / 0.57\n",
      "Seeking lower: 0.549: 0.58 / 0.57\n",
      "Seeking lower: 0.548: 0.578 / 0.57\n",
      "Seeking lower: 0.547: 0.578 / 0.57\n",
      "Seeking lower: 0.546: 0.575 / 0.57\n",
      "Seeking lower: 0.545: 0.575 / 0.57\n",
      "Seeking lower: 0.544: 0.575 / 0.57\n",
      "Seeking lower: 0.543: 0.574 / 0.57\n",
      "Seeking lower: 0.542: 0.573 / 0.57\n",
      "Seeking lower: 0.541: 0.573 / 0.57\n",
      "Seeking lower: 0.54: 0.571 / 0.57\n",
      "Seeking lower: 0.539: 0.569 / 0.57\n",
      "Seeking upper: 0.571: 0.539 / 0.57\n",
      "Seeking upper: 0.572: 0.542 / 0.57\n",
      "Seeking upper: 0.573: 0.543 / 0.57\n",
      "Seeking upper: 0.574: 0.544 / 0.57\n",
      "Seeking upper: 0.575: 0.544 / 0.57\n",
      "Seeking upper: 0.576: 0.545 / 0.57\n",
      "Seeking upper: 0.577: 0.547 / 0.57\n",
      "Seeking upper: 0.578: 0.548 / 0.57\n",
      "Seeking upper: 0.579: 0.549 / 0.57\n",
      "Seeking upper: 0.58: 0.549 / 0.57\n",
      "Seeking upper: 0.581: 0.55 / 0.57\n",
      "Seeking upper: 0.582: 0.551 / 0.57\n",
      "Seeking upper: 0.583: 0.553 / 0.57\n",
      "Seeking upper: 0.584: 0.554 / 0.57\n",
      "Seeking upper: 0.585: 0.554 / 0.57\n",
      "Seeking upper: 0.586: 0.555 / 0.57\n",
      "Seeking upper: 0.587: 0.556 / 0.57\n",
      "Seeking upper: 0.588: 0.558 / 0.57\n",
      "Seeking upper: 0.589: 0.559 / 0.57\n",
      "Seeking upper: 0.59: 0.559 / 0.57\n",
      "Seeking upper: 0.591: 0.561 / 0.57\n",
      "Seeking upper: 0.592: 0.562 / 0.57\n",
      "Seeking upper: 0.593: 0.563 / 0.57\n",
      "Seeking upper: 0.594: 0.564 / 0.57\n",
      "Seeking upper: 0.595: 0.565 / 0.57\n",
      "Seeking upper: 0.596: 0.566 / 0.57\n",
      "Seeking upper: 0.597: 0.566 / 0.57\n",
      "Seeking upper: 0.598: 0.568 / 0.57\n",
      "Seeking upper: 0.599: 0.568 / 0.57\n",
      "Seeking upper: 0.6: 0.569 / 0.57\n",
      "Seeking upper: 0.601: 0.571 / 0.57\n"
     ]
    }
   ],
   "source": [
    "final_result = find_confidence_interval(observed_pass_proportion)"
   ]
  },
  {
   "cell_type": "code",
   "execution_count": 141,
   "metadata": {},
   "outputs": [],
   "source": [
    "testing_frame = get_a_distribution(observed_pass_proportion)"
   ]
  },
  {
   "cell_type": "code",
   "execution_count": 143,
   "metadata": {},
   "outputs": [
    {
     "data": {
      "text/plain": [
       "0.6"
      ]
     },
     "execution_count": 143,
     "metadata": {},
     "output_type": "execute_result"
    }
   ],
   "source": [
    "testing_frame['pass'].quantile(0.975)"
   ]
  },
  {
   "cell_type": "code",
   "execution_count": 144,
   "metadata": {},
   "outputs": [
    {
     "data": {
      "text/plain": [
       "0.539"
      ]
     },
     "execution_count": 144,
     "metadata": {},
     "output_type": "execute_result"
    }
   ],
   "source": [
    "testing_frame['pass'].quantile(0.025)"
   ]
  },
  {
   "cell_type": "code",
   "execution_count": 151,
   "metadata": {},
   "outputs": [],
   "source": [
    "def find_confidence_interval_beta(target) :\n",
    "    \n",
    "    list_of_dicts = []\n",
    "    results_dict = {}\n",
    "\n",
    "    for i in range(10) :\n",
    "        testing_frame = get_a_distribution(target)\n",
    "        results_dict['upper_bound'] = testing_frame['pass'].quantile(0.975)\n",
    "        results_dict['lower_bound'] = testing_frame['pass'].quantile(0.025)\n",
    "        list_of_dicts.append(results_dict)\n",
    "\n",
    "    results_frame = pd.DataFrame(list_of_dicts)\n",
    "\n",
    "    upper_bound = results_frame['upper_bound'].mean()\n",
    "    lower_bound = results_frame['lower_bound'].mean()\n",
    "\n",
    "    return lower_bound, upper_bound\n"
   ]
  },
  {
   "cell_type": "code",
   "execution_count": 152,
   "metadata": {},
   "outputs": [
    {
     "data": {
      "text/plain": [
       "(0.5389999999999999, 0.601)"
      ]
     },
     "execution_count": 152,
     "metadata": {},
     "output_type": "execute_result"
    }
   ],
   "source": [
    "find_confidence_interval_beta(observed_pass_proportion)"
   ]
  }
 ],
 "metadata": {
  "kernelspec": {
   "display_name": "base",
   "language": "python",
   "name": "python3"
  },
  "language_info": {
   "codemirror_mode": {
    "name": "ipython",
    "version": 3
   },
   "file_extension": ".py",
   "mimetype": "text/x-python",
   "name": "python",
   "nbconvert_exporter": "python",
   "pygments_lexer": "ipython3",
   "version": "3.10.9"
  },
  "orig_nbformat": 4
 },
 "nbformat": 4,
 "nbformat_minor": 2
}
