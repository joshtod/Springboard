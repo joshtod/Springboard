{
 "cells": [
  {
   "cell_type": "markdown",
   "metadata": {},
   "source": [
    "Takes the parquets created by the 10 different review-getter/scrapers and combines them into a single parquet."
   ]
  },
  {
   "cell_type": "code",
   "execution_count": 1,
   "metadata": {},
   "outputs": [],
   "source": [
    "import pickle"
   ]
  },
  {
   "cell_type": "code",
   "execution_count": 2,
   "metadata": {},
   "outputs": [],
   "source": [
    "# Load the extant unified table.\n",
    "\n",
    "with open('../data/raw/recently_played.pkl', 'rb+') as file :\n",
    "    total_set = pickle.load(file)\n",
    "\n",
    "# Load, concatenate, and release the partial sets\n",
    "for i in range(10) :\n",
    "    with open(f'../data/raw/recently_played_{i}.pkl', 'rb+') as file :\n",
    "        this_set = pickle.load(file)\n",
    "    total_set.update(this_set)"
   ]
  },
  {
   "cell_type": "code",
   "execution_count": 3,
   "metadata": {},
   "outputs": [
    {
     "data": {
      "text/plain": [
       "4181503"
      ]
     },
     "execution_count": 3,
     "metadata": {},
     "output_type": "execute_result"
    }
   ],
   "source": [
    "# EDA doublechecks\n",
    "\n",
    "len(total_set)"
   ]
  },
  {
   "cell_type": "code",
   "execution_count": 9,
   "metadata": {},
   "outputs": [
    {
     "name": "stdout",
     "output_type": "stream",
     "text": [
      "Len total: 4181501\n",
      "Len dupes: 0\n"
     ]
    }
   ],
   "source": [
    "# Look for duplicates\n",
    "\n",
    "combos = set()\n",
    "dupes = set()\n",
    "for tup in total_set :\n",
    "    user, app_id, _, _ = tup\n",
    "    combo = (user, app_id)\n",
    "    if combo in combos :\n",
    "        dupes.add(tup)\n",
    "    else :\n",
    "        combos.add(combo)\n",
    "\n",
    "print(f'Len total: {len(combos)}')\n",
    "print(f'Len dupes: {len(dupes)}')"
   ]
  },
  {
   "cell_type": "code",
   "execution_count": 10,
   "metadata": {},
   "outputs": [],
   "source": [
    "# Write\n",
    "with open('../data/raw/recently_played.pkl', 'wb+') as file :\n",
    "    pickle.dump(total_set, file)"
   ]
  }
 ],
 "metadata": {
  "kernelspec": {
   "display_name": "base",
   "language": "python",
   "name": "python3"
  },
  "language_info": {
   "codemirror_mode": {
    "name": "ipython",
    "version": 3
   },
   "file_extension": ".py",
   "mimetype": "text/x-python",
   "name": "python",
   "nbconvert_exporter": "python",
   "pygments_lexer": "ipython3",
   "version": "3.10.13"
  }
 },
 "nbformat": 4,
 "nbformat_minor": 2
}
