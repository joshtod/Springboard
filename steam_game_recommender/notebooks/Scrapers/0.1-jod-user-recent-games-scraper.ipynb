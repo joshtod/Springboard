{
 "cells": [
  {
   "cell_type": "code",
   "execution_count": 1,
   "metadata": {},
   "outputs": [],
   "source": [
    "# Basic DS stuff\n",
    "import numpy as np\n",
    "import pandas as pd\n",
    "import json\n",
    "\n",
    "# Web scraping\n",
    "import requests\n",
    "from bs4 import BeautifulSoup\n",
    "from urllib.request import urlopen\n",
    "import asyncio\n",
    "\n",
    "# For labeling records, tracking files, and formatting\n",
    "from datetime import datetime\n",
    "import time\n",
    "\n",
    "# For Rick\n",
    "import pickle"
   ]
  },
  {
   "cell_type": "code",
   "execution_count": 2,
   "metadata": {},
   "outputs": [],
   "source": [
    "# NOTE: Use this cell to reset the scraper, making it forget all records.\n",
    "\n",
    "# game_mapped_users = set([0])\n",
    "# with open('../data/raw/game_mapped_users.pkl', 'rb+') as file :\n",
    "#     pickle.dump(game_mapped_users, file)\n",
    "\n",
    "# with open('../data/raw/recently_played.pkl', 'wb+') as file :\n",
    "#     pickle.dump(set([0]), file)"
   ]
  },
  {
   "cell_type": "code",
   "execution_count": 3,
   "metadata": {},
   "outputs": [],
   "source": [
    "# Load data\n",
    "\n",
    "with open('../data/raw/all_users', 'rb+') as file :\n",
    "    all_users = set(pickle.load(file))\n",
    "\n",
    "with open('../data/raw/game_mapped_users.pkl', 'rb+') as file :\n",
    "    game_mapped_users = pickle.load(file)\n",
    "    \n",
    "# with open('../data/raw/skipped_game_map_users', 'rb+') as file :\n",
    "#     skipped_users = pickle.load(file)"
   ]
  },
  {
   "cell_type": "code",
   "execution_count": 4,
   "metadata": {},
   "outputs": [],
   "source": [
    "# Create vars\n",
    "\n",
    "holding_set = set()\n",
    "\n",
    "unmapped_users = list(all_users-game_mapped_users)\n",
    "\n",
    "key = '83A112A706DF72CB0920A20F28F04252'\n",
    "\n",
    "interval = 10\n",
    "\n",
    "base_url = 'http://api.steampowered.com/IPlayerService/GetRecentlyPlayedGames/v0001/?key={}&steamid={}&format=json'"
   ]
  },
  {
   "cell_type": "markdown",
   "metadata": {},
   "source": [
    "-------------\n",
    "### This is the API version"
   ]
  },
  {
   "cell_type": "code",
   "execution_count": 5,
   "metadata": {},
   "outputs": [],
   "source": [
    "# TODO: Later learned that asyncio does not function as intended in Jupyter notebooks.\n",
    "# This section should be rewritten.\n",
    "\n",
    "async def get_games(user, url) :\n",
    "    return (user, urlopen(url))"
   ]
  },
  {
   "cell_type": "code",
   "execution_count": null,
   "metadata": {},
   "outputs": [],
   "source": [
    "to_scrape = len(unmapped_users)\n",
    "\n",
    "for i in range(0, to_scrape, interval) :\n",
    "    try :\n",
    "        iter_max = min(i+interval, to_scrape)\n",
    "        users = [unmapped_users[i] for i in range(i, iter_max)]\n",
    "        tasks = [get_games(user, base_url.format(key, user)) for user in users]\n",
    "        responses = await asyncio.gather(*tasks)\n",
    "        for response in responses :\n",
    "            user = response[0]\n",
    "            jason = json.load(response[1])\n",
    "            games_list = jason['response']\n",
    "            if len(games_list) > 0 :\n",
    "                if games_list['total_count'] > 0 :\n",
    "                    for game in games_list['games'] :\n",
    "                        appid = game['appid']\n",
    "                        playtime_2weeks = game['playtime_2weeks']\n",
    "                        playtime_forever = game['playtime_forever']\n",
    "                        holding_set.add((user, appid, playtime_2weeks, playtime_forever))\n",
    "            game_mapped_users.add(user)\n",
    "    except Exception as e:\n",
    "        print(e)\n",
    "        print(datetime.now())\n",
    "        print('Trying again in 1 minute...')\n",
    "        time.sleep(60)\n",
    "\n",
    "    if i % 200 == 0 :\n",
    "        with open('../data/raw/recently_played.pkl', 'rb+') as file :\n",
    "            total_set = pickle.load(file)\n",
    "        total_set.update(holding_set)\n",
    "        with open('../data/raw/recently_played.pkl', 'wb+') as file :\n",
    "            pickle.dump(total_set, file)\n",
    "        with open('../data/raw/game_mapped_users.pkl', 'wb+') as file :\n",
    "            pickle.dump(game_mapped_users, file)\n",
    "        print(f'Added: {len(holding_set)}')\n",
    "        print(f\"Saved so far: {len(total_set)}\")\n",
    "        holding_set = set()\n",
    "        print(datetime.now())\n",
    "        print('')\n"
   ]
  },
  {
   "cell_type": "code",
   "execution_count": null,
   "metadata": {},
   "outputs": [],
   "source": [
    "# This works but is deprecated. Saved as a potential reference.\n",
    "\n",
    "# counter = 0\n",
    "# game_counts = set()\n",
    "\n",
    "# for i in range(100) :\n",
    "\n",
    "#     user = all_users[i]\n",
    "\n",
    "#     url = f'http://api.steampowered.com/IPlayerService/GetRecentlyPlayedGames/v0001/?key={key}&steamid={user}&format=json'\n",
    "#     with urlopen(url) as response :\n",
    "#         jason = json.load(response)\n",
    "#     games_list = jason['response']\n",
    "#     if len(games_list) > 0 :\n",
    "#         if games_list['total_count'] > 0 :\n",
    "#             print(jason)\n",
    "#             print('\\n')\n",
    "#             counter +=1\n",
    "#             game_counts.add(len(games_list))\n",
    "\n",
    "# print(f'{counter} users had recently played games. Of them:')\n",
    "# print(f'Avg games played: {sum(game_counts)/len(game_counts)}')\n",
    "# print(f'Most games played: {max(game_counts)}')"
   ]
  }
 ],
 "metadata": {
  "kernelspec": {
   "display_name": "base",
   "language": "python",
   "name": "python3"
  },
  "language_info": {
   "codemirror_mode": {
    "name": "ipython",
    "version": 3
   },
   "file_extension": ".py",
   "mimetype": "text/x-python",
   "name": "python",
   "nbconvert_exporter": "python",
   "pygments_lexer": "ipython3",
   "version": "3.10.13"
  }
 },
 "nbformat": 4,
 "nbformat_minor": 2
}
