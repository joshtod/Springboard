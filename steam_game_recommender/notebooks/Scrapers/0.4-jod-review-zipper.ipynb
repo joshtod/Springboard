{
 "cells": [
  {
   "cell_type": "markdown",
   "metadata": {},
   "source": [
    "Takes the parquets created by the 10 different review-getter/scrapers and combines them into a single parquet."
   ]
  },
  {
   "cell_type": "code",
   "execution_count": 1,
   "metadata": {},
   "outputs": [],
   "source": [
    "import pyarrow as pa\n",
    "import pyarrow.parquet as pq"
   ]
  },
  {
   "cell_type": "code",
   "execution_count": 2,
   "metadata": {},
   "outputs": [],
   "source": [
    "# Load the extant unified table.\n",
    "extant_table = pq.read_table('../data/raw/review_table_combined.parquet')\n",
    "\n",
    "# Load, concatenate, and release the partial tables\n",
    "for i in range(10) :\n",
    "    this_table = pq.read_table(f'../data/raw/review_table_{i}_x.parquet')\n",
    "    extant_table = pa.concat_tables([extant_table, this_table])\n",
    "    this_table = None\n",
    "\n",
    "# Write then release the new unified table\n",
    "pq.write_table(extant_table, '../data/raw/review_table_combined_2.parquet')\n",
    "extant_table = None"
   ]
  },
  {
   "cell_type": "code",
   "execution_count": 3,
   "metadata": {},
   "outputs": [
    {
     "name": "stdout",
     "output_type": "stream",
     "text": [
      "<class 'pandas.core.frame.DataFrame'>\n",
      "RangeIndex: 6756141 entries, 0 to 6756140\n",
      "Data columns (total 10 columns):\n",
      " #   Column           Dtype  \n",
      "---  ------           -----  \n",
      " 0   user             object \n",
      " 1   app_id           int64  \n",
      " 2   positive         int64  \n",
      " 3   total_playtime   float64\n",
      " 4   review_playtime  float64\n",
      " 5   text             object \n",
      " 6   helpful_count    int64  \n",
      " 7   review_date      object \n",
      " 8   edit_date        object \n",
      " 9   date_scraped     object \n",
      "dtypes: float64(2), int64(3), object(5)\n",
      "memory usage: 515.5+ MB\n"
     ]
    }
   ],
   "source": [
    "extant_table = pq.read_table('../data/raw/review_table_combined_2.parquet')\n",
    "df = extant_table.to_pandas()\n",
    "df.info()"
   ]
  }
 ],
 "metadata": {
  "kernelspec": {
   "display_name": "base",
   "language": "python",
   "name": "python3"
  },
  "language_info": {
   "codemirror_mode": {
    "name": "ipython",
    "version": 3
   },
   "file_extension": ".py",
   "mimetype": "text/x-python",
   "name": "python",
   "nbconvert_exporter": "python",
   "pygments_lexer": "ipython3",
   "version": "3.10.13"
  }
 },
 "nbformat": 4,
 "nbformat_minor": 2
}
